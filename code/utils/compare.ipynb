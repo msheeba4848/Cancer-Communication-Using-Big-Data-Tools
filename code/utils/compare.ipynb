{
 "cells": [
  {
   "cell_type": "code",
   "execution_count": 1,
   "id": "44aa31fe-a5f7-42bb-9172-298aa2489912",
   "metadata": {},
   "outputs": [],
   "source": [
    "from pathlib import Path"
   ]
  },
  {
   "cell_type": "code",
   "execution_count": 2,
   "id": "78054ef3-366c-4b52-8d11-936027234f5d",
   "metadata": {},
   "outputs": [],
   "source": [
    "BUCKET: str = \"bigdatateaching\"\n",
    "OLD_DIR: str = \"reddit\"\n",
    "NEW_DIR: str = \"reddit-project\""
   ]
  },
  {
   "cell_type": "code",
   "execution_count": 3,
   "id": "1df73e74-13e3-4b0d-8946-a1b0749f79e4",
   "metadata": {},
   "outputs": [],
   "source": [
    "!aws s3 ls s3://{BUCKET}/{OLD_DIR}/ --recursive > {OLD_DIR}"
   ]
  },
  {
   "cell_type": "code",
   "execution_count": 4,
   "id": "1f0181da-5af4-4593-9ca5-91928df8256e",
   "metadata": {},
   "outputs": [
    {
     "name": "stdout",
     "output_type": "stream",
     "text": [
      "2024-08-11 23:51:50  102408315 reddit/parquet/comments/yyyy=2023/mm=06/comments_RC_2023-06.zst_1.parquet\n",
      "2024-08-11 23:51:58  102955903 reddit/parquet/comments/yyyy=2023/mm=06/comments_RC_2023-06.zst_10.parquet\n",
      "2024-08-11 23:51:42  104833981 reddit/parquet/comments/yyyy=2023/mm=06/comments_RC_2023-06.zst_100.parquet\n",
      "2024-08-11 23:52:01  107551504 reddit/parquet/comments/yyyy=2023/mm=06/comments_RC_2023-06.zst_101.parquet\n",
      "2024-08-11 23:51:37  106506156 reddit/parquet/comments/yyyy=2023/mm=06/comments_RC_2023-06.zst_102.parquet\n",
      "2024-08-11 23:51:22  104921613 reddit/parquet/comments/yyyy=2023/mm=06/comments_RC_2023-06.zst_103.parquet\n",
      "2024-08-11 23:51:16  102952905 reddit/parquet/comments/yyyy=2023/mm=06/comments_RC_2023-06.zst_104.parquet\n",
      "2024-08-11 23:51:53   99885643 reddit/parquet/comments/yyyy=2023/mm=06/comments_RC_2023-06.zst_105.parquet\n",
      "2024-08-11 23:51:45  102357527 reddit/parquet/comments/yyyy=2023/mm=06/comments_RC_2023-06.zst_106.parquet\n",
      "2024-08-11 23:51:56  105036597 reddit/parquet/comments/yyyy=2023/mm=06/comments_RC_2023-06.zst_107.parquet\n"
     ]
    }
   ],
   "source": [
    "!head {OLD_DIR}"
   ]
  },
  {
   "cell_type": "code",
   "execution_count": 5,
   "id": "c984032f-3959-4dbd-8b8f-f2d773987a1a",
   "metadata": {},
   "outputs": [],
   "source": [
    "!aws s3 ls s3://{BUCKET}/{NEW_DIR}/ --recursive > {NEW_DIR}"
   ]
  },
  {
   "cell_type": "code",
   "execution_count": 6,
   "id": "4b33bfcb-0802-401a-9990-6f368f8af169",
   "metadata": {},
   "outputs": [
    {
     "name": "stdout",
     "output_type": "stream",
     "text": [
      "2024-10-06 04:10:53  102408315 reddit-project/reddit/parquet/comments/yyyy=2023/mm=06/comments_RC_2023-06.zst_1.parquet\n",
      "2024-10-06 04:11:02  102955903 reddit-project/reddit/parquet/comments/yyyy=2023/mm=06/comments_RC_2023-06.zst_10.parquet\n",
      "2024-10-06 04:11:11  104833981 reddit-project/reddit/parquet/comments/yyyy=2023/mm=06/comments_RC_2023-06.zst_100.parquet\n",
      "2024-10-06 04:11:20  107551504 reddit-project/reddit/parquet/comments/yyyy=2023/mm=06/comments_RC_2023-06.zst_101.parquet\n",
      "2024-10-06 04:11:29  106506156 reddit-project/reddit/parquet/comments/yyyy=2023/mm=06/comments_RC_2023-06.zst_102.parquet\n",
      "2024-10-06 04:11:38  104921613 reddit-project/reddit/parquet/comments/yyyy=2023/mm=06/comments_RC_2023-06.zst_103.parquet\n",
      "2024-10-06 04:11:47  102952905 reddit-project/reddit/parquet/comments/yyyy=2023/mm=06/comments_RC_2023-06.zst_104.parquet\n",
      "2024-10-06 15:02:07   99885643 reddit-project/reddit/parquet/comments/yyyy=2023/mm=06/comments_RC_2023-06.zst_105.parquet\n",
      "2024-10-06 04:11:55  102357527 reddit-project/reddit/parquet/comments/yyyy=2023/mm=06/comments_RC_2023-06.zst_106.parquet\n",
      "2024-10-06 04:12:04  105036597 reddit-project/reddit/parquet/comments/yyyy=2023/mm=06/comments_RC_2023-06.zst_107.parquet\n"
     ]
    }
   ],
   "source": [
    "!head {NEW_DIR}"
   ]
  },
  {
   "cell_type": "code",
   "execution_count": 7,
   "id": "1f5f4d78-bc34-47d1-80d0-fbeb2e95f252",
   "metadata": {},
   "outputs": [
    {
     "data": {
      "text/plain": [
       "'parquet/comments/yyyy=2023/mm=06/comments_RC_2023-06.zst_1.parquet'"
      ]
     },
     "execution_count": 7,
     "metadata": {},
     "output_type": "execute_result"
    }
   ],
   "source": [
    "x = \"reddit-project/reddit/parquet/comments/yyyy=2023/mm=06/comments_RC_2023-06.zst_1.parquet\"\n",
    "\"/\".join(x.split(\"/\")[2:])"
   ]
  },
  {
   "cell_type": "code",
   "execution_count": 8,
   "id": "e7a2578b-d8c0-4070-aa47-ef9def8d8b68",
   "metadata": {},
   "outputs": [],
   "source": [
    "def handle_file(fname, replace_tld):\n",
    "    print(f\"handle_file, {fname}\")\n",
    "    # read contents\n",
    "    lines = Path(fname).read_text().split(\"\\n\")\n",
    "    \n",
    "    # we have lines now, we only want lines containing the word reddit\n",
    "    \"\"\"\n",
    "    2024-08-11 23:51:50  102408315 reddit/parquet/comments/yyyy=2023/mm=06/comments_RC_2023-06.zst_1.parquet\n",
    "    2024-08-11 23:51:58  102955903 reddit/parquet/comments/yyyy=2023/mm=06/comments_RC_2023-06.zst_10.parquet\n",
    "    \"\"\"\n",
    "    lines = [l for l in lines if 'reddit' in l]\n",
    "\n",
    "    # we only want the filename portion of the line\n",
    "    lines = [l.split()[3] for l in lines]\n",
    "\n",
    "    # we only want the part to start from the parquet/ portion\n",
    "    # because that is the file name that we can compare (the root dir name is reddit and reddit-parquet so we know those are different anyway)\n",
    "    if replace_tld:\n",
    "        lines = [l.replace(fname + \"/\", \"\") for l in lines]\n",
    "    print(f\"{fname}, lines={lines[:5]}\")\n",
    "    print(f\"{fname} has {len(lines)} lines\")\n",
    "    return lines"
   ]
  },
  {
   "cell_type": "code",
   "execution_count": 9,
   "id": "d19666bf-3ebf-4539-b741-a09ca28e96ad",
   "metadata": {},
   "outputs": [
    {
     "name": "stdout",
     "output_type": "stream",
     "text": [
      "handle_file, reddit\n",
      "reddit, lines=['reddit/parquet/comments/yyyy=2023/mm=06/comments_RC_2023-06.zst_1.parquet', 'reddit/parquet/comments/yyyy=2023/mm=06/comments_RC_2023-06.zst_10.parquet', 'reddit/parquet/comments/yyyy=2023/mm=06/comments_RC_2023-06.zst_100.parquet', 'reddit/parquet/comments/yyyy=2023/mm=06/comments_RC_2023-06.zst_101.parquet', 'reddit/parquet/comments/yyyy=2023/mm=06/comments_RC_2023-06.zst_102.parquet']\n",
      "reddit has 4276 lines\n",
      "handle_file, reddit-project\n",
      "reddit-project, lines=['reddit/parquet/comments/yyyy=2023/mm=06/comments_RC_2023-06.zst_1.parquet', 'reddit/parquet/comments/yyyy=2023/mm=06/comments_RC_2023-06.zst_10.parquet', 'reddit/parquet/comments/yyyy=2023/mm=06/comments_RC_2023-06.zst_100.parquet', 'reddit/parquet/comments/yyyy=2023/mm=06/comments_RC_2023-06.zst_101.parquet', 'reddit/parquet/comments/yyyy=2023/mm=06/comments_RC_2023-06.zst_102.parquet']\n",
      "reddit-project has 4255 lines\n"
     ]
    }
   ],
   "source": [
    "old = handle_file(OLD_DIR, False)\n",
    "new = handle_file(NEW_DIR, True)"
   ]
  },
  {
   "cell_type": "code",
   "execution_count": 10,
   "id": "989e7f97-7ec0-4cec-a303-f731c678440b",
   "metadata": {},
   "outputs": [
    {
     "name": "stdout",
     "output_type": "stream",
     "text": [
      "there are 21 lines that are in old but not in new\n"
     ]
    }
   ],
   "source": [
    "missing_lines = [l for l in old if l not in new]\n",
    "print(f\"there are {len(missing_lines)} lines that are in old but not in new\")"
   ]
  },
  {
   "cell_type": "code",
   "execution_count": 11,
   "id": "718afe98-0f6b-434a-a612-e446fb5a53ea",
   "metadata": {},
   "outputs": [
    {
     "name": "stdout",
     "output_type": "stream",
     "text": [
      "['reddit/parquet/comments/yyyy=2023/mm=07/comments_RC_2023-07.zst_74.parquet', 'reddit/parquet/comments/yyyy=2023/mm=07/comments_RC_2023-07.zst_75.parquet', 'reddit/parquet/comments/yyyy=2023/mm=11/comments_RC_2023-11.zst_163.parquet', 'reddit/parquet/comments/yyyy=2023/mm=11/comments_RC_2023-11.zst_222.parquet', 'reddit/parquet/comments/yyyy=2023/mm=11/comments_RC_2023-11.zst_223.parquet']\n"
     ]
    }
   ],
   "source": [
    "print(missing_lines[:5])"
   ]
  },
  {
   "cell_type": "code",
   "execution_count": 12,
   "id": "981460d6-3347-4601-b30b-ba9ac08a769e",
   "metadata": {},
   "outputs": [
    {
     "data": {
      "text/plain": [
       "1580"
      ]
     },
     "execution_count": 12,
     "metadata": {},
     "output_type": "execute_result"
    }
   ],
   "source": [
    "Path(\"missing_files.txt\").write_text(\"\\n\".join(missing_lines))"
   ]
  },
  {
   "cell_type": "code",
   "execution_count": null,
   "id": "cad23022-6048-4461-bef5-31b3c46d19f6",
   "metadata": {},
   "outputs": [],
   "source": []
  }
 ],
 "metadata": {
  "kernelspec": {
   "display_name": "Python 3 (ipykernel)",
   "language": "python",
   "name": "python3"
  },
  "language_info": {
   "codemirror_mode": {
    "name": "ipython",
    "version": 3
   },
   "file_extension": ".py",
   "mimetype": "text/x-python",
   "name": "python",
   "nbconvert_exporter": "python",
   "pygments_lexer": "ipython3",
   "version": "3.11.9"
  }
 },
 "nbformat": 4,
 "nbformat_minor": 5
}
