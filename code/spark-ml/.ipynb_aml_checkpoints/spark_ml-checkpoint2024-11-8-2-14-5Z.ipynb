{
  "cells": [
    {
      "cell_type": "code",
      "source": [
        "from pyspark.sql import SparkSession\n",
        "\n",
        "# Start Spark session\n",
        "spark = SparkSession.builder.appName(\"NaiveBayes_Example\").getOrCreate()\n",
        "\n",
        "workspace_default_storage_account = \"projectgstoragedfb938a3e\"\n",
        "workspace_default_container = \"azureml-blobstore-becc8696-e562-432e-af12-8a5e3e1f9b0f\"\n",
        "workspace_wasbs_base_url = f\"wasbs://{workspace_default_container}@{workspace_default_storage_account}.blob.core.windows.net/\"\n",
        "\n",
        "output_path = f\"{workspace_wasbs_base_url}nlp_sentiment_sample_submissions.parquet\"\n",
        "# Read the Parquet file back into a dataframe\n",
        "df_read_back = spark.read.parquet(output_path)\n",
        "\n",
        "# Show first 5 rows\n",
        "#df_read_back.show(5)\n",
        "#df_read_back.printSchema()\n",
        "\n",
        "from pyspark.sql import functions as F\n",
        "df_flat = df_read_back.withColumn(\"sentiment_result\", F.explode(F.col(\"sentiment\"))) \\\n",
        "            .select(\"text\", \"sentiment_result.result\")\n",
        "\n",
        "# Show the results\n",
        "#df_flat.show(truncate=False)\n",
        "\n",
        "# Create a 100% predictable dataset\n",
        "df = spark.createDataFrame([\n",
        "    (\"I feel great\", \"pos\", \"cancer\"),\n",
        "    (\"This is amazing\", \"pos\", \"non-cancer\"),\n",
        "    (\"Not good at all\", \"neg\", \"cancer\"),\n",
        "    (\"Terrible experience\", \"neg\", \"non-cancer\")\n",
        "], [\"text\", \"sentiment\", \"cancer\"])\n",
        "\n",
        "print(df.show())\n",
        "\n",
        "df = df_flat\n",
        "df = df.withColumnRenamed(\"result\", \"sentiment\")\n",
        "df.show()\n",
        "\n"
      ],
      "outputs": [
        {
          "output_type": "display_data",
          "data": {
            "application/vnd.livy.statement-meta+json": {
              "spark_pool": "ba5e360d-f184-47a0-9859-76b5031b79e3",
              "statement_id": 15,
              "statement_ids": [
                15
              ],
              "state": "finished",
              "livy_statement_state": "available",
              "spark_jobs": {
                "numbers": {
                  "SUCCEEDED": 5,
                  "UNKNOWN": 0,
                  "RUNNING": 0,
                  "FAILED": 0
                },
                "jobs": [
                  {
                    "displayName": "showString at <unknown>:0",
                    "dataWritten": 0,
                    "dataRead": 93215,
                    "rowCount": 5,
                    "usageDescription": "",
                    "jobId": 56,
                    "name": "showString at <unknown>:0",
                    "description": "Job group for statement 15:\nfrom pyspark.sql import SparkSession\n\n# Start Spark session\nspark = SparkSession.builder.appName(\"NaiveBayes_Example\").getOrCreate()\n\nworkspace_default_storage_account = \"projectgstoragedfb938a3e\"\nworkspace_default_container = \"azureml-blobstore-becc8696-e562-432e-af12-8a5e3e1f9b0f\"\nworkspace_wasbs_base_url = f\"wasbs://{workspace_default_container}@{workspace_default_storage_account}.blob.core.windows.net/\"\n\noutput_path = f\"{workspace_wasbs_base_url}nlp_sentiment_sample_submissions.parquet\"\n# Read the Parquet file back into a dataframe\ndf_read_back = spark.read.parquet(output_path)\n\n# Show first 5 rows\n#df_read_back.show(5)\n#df_read_back.printSchema()\n\nfrom pyspark.sql import functions as F\ndf_flat = df_read_back.withColumn(\"sentiment_result\", F.explode(F.col(\"sentiment\")))             .select(\"text\", \"sentiment_result.result\")\n\n# Show the results\n#df_flat.show(truncate=False)\n\n# Create a 100% predictable dataset\ndf = spark.createDataFrame([\n    (\"I feel great\", \"pos\", \"cancer\"),\n    (\"This is amazing\", \"po...",
                    "submissionTime": "2024-12-08T02:13:15.218GMT",
                    "completionTime": "2024-12-08T02:13:15.497GMT",
                    "stageIds": [
                      68
                    ],
                    "jobGroup": "15",
                    "status": "SUCCEEDED",
                    "numTasks": 1,
                    "numActiveTasks": 0,
                    "numCompletedTasks": 1,
                    "numSkippedTasks": 0,
                    "numFailedTasks": 0,
                    "numKilledTasks": 0,
                    "numCompletedIndices": 1,
                    "numActiveStages": 0,
                    "numCompletedStages": 1,
                    "numSkippedStages": 0,
                    "numFailedStages": 0,
                    "killedTasksSummary": {}
                  },
                  {
                    "displayName": "showString at <unknown>:0",
                    "dataWritten": 0,
                    "dataRead": 0,
                    "rowCount": 0,
                    "usageDescription": "",
                    "jobId": 55,
                    "name": "showString at <unknown>:0",
                    "description": "Job group for statement 15:\nfrom pyspark.sql import SparkSession\n\n# Start Spark session\nspark = SparkSession.builder.appName(\"NaiveBayes_Example\").getOrCreate()\n\nworkspace_default_storage_account = \"projectgstoragedfb938a3e\"\nworkspace_default_container = \"azureml-blobstore-becc8696-e562-432e-af12-8a5e3e1f9b0f\"\nworkspace_wasbs_base_url = f\"wasbs://{workspace_default_container}@{workspace_default_storage_account}.blob.core.windows.net/\"\n\noutput_path = f\"{workspace_wasbs_base_url}nlp_sentiment_sample_submissions.parquet\"\n# Read the Parquet file back into a dataframe\ndf_read_back = spark.read.parquet(output_path)\n\n# Show first 5 rows\n#df_read_back.show(5)\n#df_read_back.printSchema()\n\nfrom pyspark.sql import functions as F\ndf_flat = df_read_back.withColumn(\"sentiment_result\", F.explode(F.col(\"sentiment\")))             .select(\"text\", \"sentiment_result.result\")\n\n# Show the results\n#df_flat.show(truncate=False)\n\n# Create a 100% predictable dataset\ndf = spark.createDataFrame([\n    (\"I feel great\", \"pos\", \"cancer\"),\n    (\"This is amazing\", \"po...",
                    "submissionTime": "2024-12-08T02:13:14.886GMT",
                    "completionTime": "2024-12-08T02:13:15.094GMT",
                    "stageIds": [
                      67
                    ],
                    "jobGroup": "15",
                    "status": "SUCCEEDED",
                    "numTasks": 3,
                    "numActiveTasks": 0,
                    "numCompletedTasks": 3,
                    "numSkippedTasks": 0,
                    "numFailedTasks": 0,
                    "numKilledTasks": 0,
                    "numCompletedIndices": 3,
                    "numActiveStages": 0,
                    "numCompletedStages": 1,
                    "numSkippedStages": 0,
                    "numFailedStages": 0,
                    "killedTasksSummary": {}
                  },
                  {
                    "displayName": "showString at <unknown>:0",
                    "dataWritten": 0,
                    "dataRead": 0,
                    "rowCount": 0,
                    "usageDescription": "",
                    "jobId": 54,
                    "name": "showString at <unknown>:0",
                    "description": "Job group for statement 15:\nfrom pyspark.sql import SparkSession\n\n# Start Spark session\nspark = SparkSession.builder.appName(\"NaiveBayes_Example\").getOrCreate()\n\nworkspace_default_storage_account = \"projectgstoragedfb938a3e\"\nworkspace_default_container = \"azureml-blobstore-becc8696-e562-432e-af12-8a5e3e1f9b0f\"\nworkspace_wasbs_base_url = f\"wasbs://{workspace_default_container}@{workspace_default_storage_account}.blob.core.windows.net/\"\n\noutput_path = f\"{workspace_wasbs_base_url}nlp_sentiment_sample_submissions.parquet\"\n# Read the Parquet file back into a dataframe\ndf_read_back = spark.read.parquet(output_path)\n\n# Show first 5 rows\n#df_read_back.show(5)\n#df_read_back.printSchema()\n\nfrom pyspark.sql import functions as F\ndf_flat = df_read_back.withColumn(\"sentiment_result\", F.explode(F.col(\"sentiment\")))             .select(\"text\", \"sentiment_result.result\")\n\n# Show the results\n#df_flat.show(truncate=False)\n\n# Create a 100% predictable dataset\ndf = spark.createDataFrame([\n    (\"I feel great\", \"pos\", \"cancer\"),\n    (\"This is amazing\", \"po...",
                    "submissionTime": "2024-12-08T02:13:14.625GMT",
                    "completionTime": "2024-12-08T02:13:14.876GMT",
                    "stageIds": [
                      66
                    ],
                    "jobGroup": "15",
                    "status": "SUCCEEDED",
                    "numTasks": 4,
                    "numActiveTasks": 0,
                    "numCompletedTasks": 4,
                    "numSkippedTasks": 0,
                    "numFailedTasks": 0,
                    "numKilledTasks": 0,
                    "numCompletedIndices": 4,
                    "numActiveStages": 0,
                    "numCompletedStages": 1,
                    "numSkippedStages": 0,
                    "numFailedStages": 0,
                    "killedTasksSummary": {}
                  },
                  {
                    "displayName": "showString at <unknown>:0",
                    "dataWritten": 0,
                    "dataRead": 0,
                    "rowCount": 0,
                    "usageDescription": "",
                    "jobId": 53,
                    "name": "showString at <unknown>:0",
                    "description": "Job group for statement 15:\nfrom pyspark.sql import SparkSession\n\n# Start Spark session\nspark = SparkSession.builder.appName(\"NaiveBayes_Example\").getOrCreate()\n\nworkspace_default_storage_account = \"projectgstoragedfb938a3e\"\nworkspace_default_container = \"azureml-blobstore-becc8696-e562-432e-af12-8a5e3e1f9b0f\"\nworkspace_wasbs_base_url = f\"wasbs://{workspace_default_container}@{workspace_default_storage_account}.blob.core.windows.net/\"\n\noutput_path = f\"{workspace_wasbs_base_url}nlp_sentiment_sample_submissions.parquet\"\n# Read the Parquet file back into a dataframe\ndf_read_back = spark.read.parquet(output_path)\n\n# Show first 5 rows\n#df_read_back.show(5)\n#df_read_back.printSchema()\n\nfrom pyspark.sql import functions as F\ndf_flat = df_read_back.withColumn(\"sentiment_result\", F.explode(F.col(\"sentiment\")))             .select(\"text\", \"sentiment_result.result\")\n\n# Show the results\n#df_flat.show(truncate=False)\n\n# Create a 100% predictable dataset\ndf = spark.createDataFrame([\n    (\"I feel great\", \"pos\", \"cancer\"),\n    (\"This is amazing\", \"po...",
                    "submissionTime": "2024-12-08T02:13:14.453GMT",
                    "completionTime": "2024-12-08T02:13:14.617GMT",
                    "stageIds": [
                      65
                    ],
                    "jobGroup": "15",
                    "status": "SUCCEEDED",
                    "numTasks": 1,
                    "numActiveTasks": 0,
                    "numCompletedTasks": 1,
                    "numSkippedTasks": 0,
                    "numFailedTasks": 0,
                    "numKilledTasks": 0,
                    "numCompletedIndices": 1,
                    "numActiveStages": 0,
                    "numCompletedStages": 1,
                    "numSkippedStages": 0,
                    "numFailedStages": 0,
                    "killedTasksSummary": {}
                  },
                  {
                    "displayName": "parquet at NativeMethodAccessorImpl.java:0",
                    "dataWritten": 0,
                    "dataRead": 0,
                    "rowCount": 0,
                    "usageDescription": "",
                    "jobId": 52,
                    "name": "parquet at NativeMethodAccessorImpl.java:0",
                    "description": "Job group for statement 15:\nfrom pyspark.sql import SparkSession\n\n# Start Spark session\nspark = SparkSession.builder.appName(\"NaiveBayes_Example\").getOrCreate()\n\nworkspace_default_storage_account = \"projectgstoragedfb938a3e\"\nworkspace_default_container = \"azureml-blobstore-becc8696-e562-432e-af12-8a5e3e1f9b0f\"\nworkspace_wasbs_base_url = f\"wasbs://{workspace_default_container}@{workspace_default_storage_account}.blob.core.windows.net/\"\n\noutput_path = f\"{workspace_wasbs_base_url}nlp_sentiment_sample_submissions.parquet\"\n# Read the Parquet file back into a dataframe\ndf_read_back = spark.read.parquet(output_path)\n\n# Show first 5 rows\n#df_read_back.show(5)\n#df_read_back.printSchema()\n\nfrom pyspark.sql import functions as F\ndf_flat = df_read_back.withColumn(\"sentiment_result\", F.explode(F.col(\"sentiment\")))             .select(\"text\", \"sentiment_result.result\")\n\n# Show the results\n#df_flat.show(truncate=False)\n\n# Create a 100% predictable dataset\ndf = spark.createDataFrame([\n    (\"I feel great\", \"pos\", \"cancer\"),\n    (\"This is amazing\", \"po...",
                    "submissionTime": "2024-12-08T02:13:14.184GMT",
                    "completionTime": "2024-12-08T02:13:14.318GMT",
                    "stageIds": [
                      64
                    ],
                    "jobGroup": "15",
                    "status": "SUCCEEDED",
                    "numTasks": 1,
                    "numActiveTasks": 0,
                    "numCompletedTasks": 1,
                    "numSkippedTasks": 0,
                    "numFailedTasks": 0,
                    "numKilledTasks": 0,
                    "numCompletedIndices": 1,
                    "numActiveStages": 0,
                    "numCompletedStages": 1,
                    "numSkippedStages": 0,
                    "numFailedStages": 0,
                    "killedTasksSummary": {}
                  }
                ],
                "limit": 20,
                "rule": "ALL_DESC"
              },
              "session_id": "36",
              "normalized_state": "finished",
              "queued_time": "2024-12-08T02:13:13.8568673Z",
              "session_start_time": null,
              "execution_start_time": "2024-12-08T02:13:13.9665931Z",
              "execution_finish_time": "2024-12-08T02:13:16.4457898Z",
              "parent_msg_id": "2fac3aaf-8faa-41bb-946a-242c2acaf688"
            },
            "text/plain": "StatementMeta(ba5e360d-f184-47a0-9859-76b5031b79e3, 36, 15, Finished, Available, Finished)"
          },
          "metadata": {}
        },
        {
          "output_type": "stream",
          "name": "stdout",
          "text": "+-------------------+---------+----------+\n|               text|sentiment|    cancer|\n+-------------------+---------+----------+\n|       I feel great|      pos|    cancer|\n|    This is amazing|      pos|non-cancer|\n|    Not good at all|      neg|    cancer|\n|Terrible experience|      neg|non-cancer|\n+-------------------+---------+----------+\n\nNone\n+--------------------+---------+\n|                text|sentiment|\n+--------------------+---------+\n|Hi, I hope this i...| negative|\n|Hi, I hope this i...| positive|\n|Hi, I hope this i...| negative|\n|Hi, I hope this i...| negative|\n|Hi, I hope this i...| positive|\n|Hi, I hope this i...| positive|\n|Hi, I hope this i...| positive|\n|Hi, I hope this i...| negative|\n|Hi, I hope this i...| positive|\n|Hi, I hope this i...| negative|\n|Hi, I hope this i...| negative|\n|Hi, I hope this i...| positive|\n|33 male, i have d...| negative|\n|33 male, i have d...| positive|\n|33 male, i have d...| negative|\n|33 male, i have d...| negative|\n|           [removed]|       na|\n|           [removed]|       na|\n|83F, Cancer dx (u...| negative|\n|83F, Cancer dx (u...| negative|\n+--------------------+---------+\nonly showing top 20 rows\n\n"
        }
      ],
      "execution_count": 10,
      "metadata": {
        "gather": {
          "logged": 1733623996531
        }
      }
    },
    {
      "cell_type": "code",
      "source": [
        "from pyspark.ml.feature import Tokenizer, StopWordsRemover, CountVectorizer, IDF, StringIndexer\n",
        "from pyspark.ml.classification import NaiveBayes\n",
        "from pyspark.ml.evaluation import MulticlassClassificationEvaluator\n",
        "from pyspark.ml import Pipeline\n",
        "\n",
        "# Tokenizer and stop words removal\n",
        "tokenizer = Tokenizer(inputCol=\"text\", outputCol=\"tokens\")\n",
        "stopwords_remover = StopWordsRemover(inputCol=\"tokens\", outputCol=\"filtered_tokens\")\n",
        "\n",
        "# Vectorization and TF-IDF\n",
        "count_vectorizer = CountVectorizer(inputCol=\"filtered_tokens\", outputCol=\"raw_features\")\n",
        "idf = IDF(inputCol=\"raw_features\", outputCol=\"features\")\n",
        "\n",
        "# Label encoding\n",
        "indexer = StringIndexer(inputCol=\"sentiment\", outputCol=\"label\")\n",
        "\n",
        "# Build pipeline\n",
        "pipeline = Pipeline(stages=[tokenizer, stopwords_remover, count_vectorizer, idf, indexer])\n",
        "\n",
        "# Fit and transform\n",
        "processed_df = pipeline.fit(df).transform(df)\n",
        "\n",
        "# Split the data (use all data for training for simplicity)\n",
        "train_data, test_data = processed_df.randomSplit([0.8, 0.2], seed=42)\n",
        "\n",
        "# Train Naive Bayes model\n",
        "nb = NaiveBayes(featuresCol=\"features\", labelCol=\"label\", modelType=\"multinomial\")\n",
        "nb_model = nb.fit(train_data)\n",
        "\n",
        "# Predict\n",
        "predictions = nb_model.transform(test_data)\n",
        "\n",
        "# Evaluate\n",
        "evaluator = MulticlassClassificationEvaluator(labelCol=\"label\", predictionCol=\"prediction\", metricName=\"accuracy\")\n",
        "accuracy = evaluator.evaluate(predictions)\n",
        "\n",
        "print(f\"Test Accuracy: {accuracy:.2f}\")"
      ],
      "outputs": [
        {
          "output_type": "display_data",
          "data": {
            "application/vnd.livy.statement-meta+json": {
              "spark_pool": "ba5e360d-f184-47a0-9859-76b5031b79e3",
              "statement_id": 16,
              "statement_ids": [
                16
              ],
              "state": "finished",
              "livy_statement_state": "available",
              "spark_jobs": {
                "numbers": {
                  "SUCCEEDED": 8,
                  "UNKNOWN": 0,
                  "RUNNING": 0,
                  "FAILED": 0
                },
                "jobs": [
                  {
                    "displayName": "collectAsMap at MulticlassMetrics.scala:61",
                    "dataWritten": 145,
                    "dataRead": 93360,
                    "rowCount": 116,
                    "usageDescription": "",
                    "jobId": 64,
                    "name": "collectAsMap at MulticlassMetrics.scala:61",
                    "description": "Job group for statement 16:\n\n\nfrom pyspark.ml.feature import Tokenizer, StopWordsRemover, CountVectorizer, IDF, StringIndexer\nfrom pyspark.ml.classification import NaiveBayes\nfrom pyspark.ml.evaluation import MulticlassClassificationEvaluator\nfrom pyspark.ml import Pipeline\n\n# Tokenizer and stop words removal\ntokenizer = Tokenizer(inputCol=\"text\", outputCol=\"tokens\")\nstopwords_remover = StopWordsRemover(inputCol=\"tokens\", outputCol=\"filtered_tokens\")\n\n# Vectorization and TF-IDF\ncount_vectorizer = CountVectorizer(inputCol=\"filtered_tokens\", outputCol=\"raw_features\")\nidf = IDF(inputCol=\"raw_features\", outputCol=\"features\")\n\n# Label encoding\nindexer = StringIndexer(inputCol=\"sentiment\", outputCol=\"label\")\n\n# Build pipeline\npipeline = Pipeline(stages=[tokenizer, stopwords_remover, count_vectorizer, idf, indexer])\n\n# Fit and transform\nprocessed_df = pipeline.fit(df).transform(df)\n\n# Split the data (use all data for training for simplicity)\ntrain_data, test_data = processed_df.randomSplit([0.8, 0.2], seed=42)\n\n# Train Naive Bayes model\nnb = N...",
                    "submissionTime": "2024-12-08T02:13:30.072GMT",
                    "completionTime": "2024-12-08T02:13:31.020GMT",
                    "stageIds": [
                      81,
                      80
                    ],
                    "jobGroup": "16",
                    "status": "SUCCEEDED",
                    "numTasks": 2,
                    "numActiveTasks": 0,
                    "numCompletedTasks": 2,
                    "numSkippedTasks": 0,
                    "numFailedTasks": 0,
                    "numKilledTasks": 0,
                    "numCompletedIndices": 2,
                    "numActiveStages": 0,
                    "numCompletedStages": 2,
                    "numSkippedStages": 0,
                    "numFailedStages": 0,
                    "killedTasksSummary": {}
                  },
                  {
                    "displayName": "collect at NaiveBayes.scala:194",
                    "dataWritten": 0,
                    "dataRead": 22317,
                    "rowCount": 3,
                    "usageDescription": "",
                    "jobId": 63,
                    "name": "collect at NaiveBayes.scala:194",
                    "description": "Job group for statement 16:\n\n\nfrom pyspark.ml.feature import Tokenizer, StopWordsRemover, CountVectorizer, IDF, StringIndexer\nfrom pyspark.ml.classification import NaiveBayes\nfrom pyspark.ml.evaluation import MulticlassClassificationEvaluator\nfrom pyspark.ml import Pipeline\n\n# Tokenizer and stop words removal\ntokenizer = Tokenizer(inputCol=\"text\", outputCol=\"tokens\")\nstopwords_remover = StopWordsRemover(inputCol=\"tokens\", outputCol=\"filtered_tokens\")\n\n# Vectorization and TF-IDF\ncount_vectorizer = CountVectorizer(inputCol=\"filtered_tokens\", outputCol=\"raw_features\")\nidf = IDF(inputCol=\"raw_features\", outputCol=\"features\")\n\n# Label encoding\nindexer = StringIndexer(inputCol=\"sentiment\", outputCol=\"label\")\n\n# Build pipeline\npipeline = Pipeline(stages=[tokenizer, stopwords_remover, count_vectorizer, idf, indexer])\n\n# Fit and transform\nprocessed_df = pipeline.fit(df).transform(df)\n\n# Split the data (use all data for training for simplicity)\ntrain_data, test_data = processed_df.randomSplit([0.8, 0.2], seed=42)\n\n# Train Naive Bayes model\nnb = N...",
                    "submissionTime": "2024-12-08T02:13:29.602GMT",
                    "completionTime": "2024-12-08T02:13:29.667GMT",
                    "stageIds": [
                      78,
                      79
                    ],
                    "jobGroup": "16",
                    "status": "SUCCEEDED",
                    "numTasks": 2,
                    "numActiveTasks": 0,
                    "numCompletedTasks": 1,
                    "numSkippedTasks": 1,
                    "numFailedTasks": 0,
                    "numKilledTasks": 0,
                    "numCompletedIndices": 1,
                    "numActiveStages": 0,
                    "numCompletedStages": 1,
                    "numSkippedStages": 1,
                    "numFailedStages": 0,
                    "killedTasksSummary": {}
                  },
                  {
                    "displayName": "collect at NaiveBayes.scala:194",
                    "dataWritten": 22317,
                    "dataRead": 93215,
                    "rowCount": 103,
                    "usageDescription": "",
                    "jobId": 62,
                    "name": "collect at NaiveBayes.scala:194",
                    "description": "Job group for statement 16:\n\n\nfrom pyspark.ml.feature import Tokenizer, StopWordsRemover, CountVectorizer, IDF, StringIndexer\nfrom pyspark.ml.classification import NaiveBayes\nfrom pyspark.ml.evaluation import MulticlassClassificationEvaluator\nfrom pyspark.ml import Pipeline\n\n# Tokenizer and stop words removal\ntokenizer = Tokenizer(inputCol=\"text\", outputCol=\"tokens\")\nstopwords_remover = StopWordsRemover(inputCol=\"tokens\", outputCol=\"filtered_tokens\")\n\n# Vectorization and TF-IDF\ncount_vectorizer = CountVectorizer(inputCol=\"filtered_tokens\", outputCol=\"raw_features\")\nidf = IDF(inputCol=\"raw_features\", outputCol=\"features\")\n\n# Label encoding\nindexer = StringIndexer(inputCol=\"sentiment\", outputCol=\"label\")\n\n# Build pipeline\npipeline = Pipeline(stages=[tokenizer, stopwords_remover, count_vectorizer, idf, indexer])\n\n# Fit and transform\nprocessed_df = pipeline.fit(df).transform(df)\n\n# Split the data (use all data for training for simplicity)\ntrain_data, test_data = processed_df.randomSplit([0.8, 0.2], seed=42)\n\n# Train Naive Bayes model\nnb = N...",
                    "submissionTime": "2024-12-08T02:13:27.970GMT",
                    "completionTime": "2024-12-08T02:13:29.489GMT",
                    "stageIds": [
                      77
                    ],
                    "jobGroup": "16",
                    "status": "SUCCEEDED",
                    "numTasks": 1,
                    "numActiveTasks": 0,
                    "numCompletedTasks": 1,
                    "numSkippedTasks": 0,
                    "numFailedTasks": 0,
                    "numKilledTasks": 0,
                    "numCompletedIndices": 1,
                    "numActiveStages": 0,
                    "numCompletedStages": 1,
                    "numSkippedStages": 0,
                    "numFailedStages": 0,
                    "killedTasksSummary": {}
                  },
                  {
                    "displayName": "collect at StringIndexer.scala:204",
                    "dataWritten": 0,
                    "dataRead": 335,
                    "rowCount": 1,
                    "usageDescription": "",
                    "jobId": 61,
                    "name": "collect at StringIndexer.scala:204",
                    "description": "Job group for statement 16:\n\n\nfrom pyspark.ml.feature import Tokenizer, StopWordsRemover, CountVectorizer, IDF, StringIndexer\nfrom pyspark.ml.classification import NaiveBayes\nfrom pyspark.ml.evaluation import MulticlassClassificationEvaluator\nfrom pyspark.ml import Pipeline\n\n# Tokenizer and stop words removal\ntokenizer = Tokenizer(inputCol=\"text\", outputCol=\"tokens\")\nstopwords_remover = StopWordsRemover(inputCol=\"tokens\", outputCol=\"filtered_tokens\")\n\n# Vectorization and TF-IDF\ncount_vectorizer = CountVectorizer(inputCol=\"filtered_tokens\", outputCol=\"raw_features\")\nidf = IDF(inputCol=\"raw_features\", outputCol=\"features\")\n\n# Label encoding\nindexer = StringIndexer(inputCol=\"sentiment\", outputCol=\"label\")\n\n# Build pipeline\npipeline = Pipeline(stages=[tokenizer, stopwords_remover, count_vectorizer, idf, indexer])\n\n# Fit and transform\nprocessed_df = pipeline.fit(df).transform(df)\n\n# Split the data (use all data for training for simplicity)\ntrain_data, test_data = processed_df.randomSplit([0.8, 0.2], seed=42)\n\n# Train Naive Bayes model\nnb = N...",
                    "submissionTime": "2024-12-08T02:13:26.944GMT",
                    "completionTime": "2024-12-08T02:13:27.076GMT",
                    "stageIds": [
                      75,
                      76
                    ],
                    "jobGroup": "16",
                    "status": "SUCCEEDED",
                    "numTasks": 2,
                    "numActiveTasks": 0,
                    "numCompletedTasks": 1,
                    "numSkippedTasks": 1,
                    "numFailedTasks": 0,
                    "numKilledTasks": 0,
                    "numCompletedIndices": 1,
                    "numActiveStages": 0,
                    "numCompletedStages": 1,
                    "numSkippedStages": 1,
                    "numFailedStages": 0,
                    "killedTasksSummary": {}
                  },
                  {
                    "displayName": "collect at StringIndexer.scala:204",
                    "dataWritten": 335,
                    "dataRead": 27679,
                    "rowCount": 101,
                    "usageDescription": "",
                    "jobId": 60,
                    "name": "collect at StringIndexer.scala:204",
                    "description": "Job group for statement 16:\n\n\nfrom pyspark.ml.feature import Tokenizer, StopWordsRemover, CountVectorizer, IDF, StringIndexer\nfrom pyspark.ml.classification import NaiveBayes\nfrom pyspark.ml.evaluation import MulticlassClassificationEvaluator\nfrom pyspark.ml import Pipeline\n\n# Tokenizer and stop words removal\ntokenizer = Tokenizer(inputCol=\"text\", outputCol=\"tokens\")\nstopwords_remover = StopWordsRemover(inputCol=\"tokens\", outputCol=\"filtered_tokens\")\n\n# Vectorization and TF-IDF\ncount_vectorizer = CountVectorizer(inputCol=\"filtered_tokens\", outputCol=\"raw_features\")\nidf = IDF(inputCol=\"raw_features\", outputCol=\"features\")\n\n# Label encoding\nindexer = StringIndexer(inputCol=\"sentiment\", outputCol=\"label\")\n\n# Build pipeline\npipeline = Pipeline(stages=[tokenizer, stopwords_remover, count_vectorizer, idf, indexer])\n\n# Fit and transform\nprocessed_df = pipeline.fit(df).transform(df)\n\n# Split the data (use all data for training for simplicity)\ntrain_data, test_data = processed_df.randomSplit([0.8, 0.2], seed=42)\n\n# Train Naive Bayes model\nnb = N...",
                    "submissionTime": "2024-12-08T02:13:26.334GMT",
                    "completionTime": "2024-12-08T02:13:26.899GMT",
                    "stageIds": [
                      74
                    ],
                    "jobGroup": "16",
                    "status": "SUCCEEDED",
                    "numTasks": 1,
                    "numActiveTasks": 0,
                    "numCompletedTasks": 1,
                    "numSkippedTasks": 0,
                    "numFailedTasks": 0,
                    "numKilledTasks": 0,
                    "numCompletedIndices": 1,
                    "numActiveStages": 0,
                    "numCompletedStages": 1,
                    "numSkippedStages": 0,
                    "numFailedStages": 0,
                    "killedTasksSummary": {}
                  },
                  {
                    "displayName": "treeAggregate at IDF.scala:55",
                    "dataWritten": 0,
                    "dataRead": 99109,
                    "rowCount": 100,
                    "usageDescription": "",
                    "jobId": 59,
                    "name": "treeAggregate at IDF.scala:55",
                    "description": "Job group for statement 16:\n\n\nfrom pyspark.ml.feature import Tokenizer, StopWordsRemover, CountVectorizer, IDF, StringIndexer\nfrom pyspark.ml.classification import NaiveBayes\nfrom pyspark.ml.evaluation import MulticlassClassificationEvaluator\nfrom pyspark.ml import Pipeline\n\n# Tokenizer and stop words removal\ntokenizer = Tokenizer(inputCol=\"text\", outputCol=\"tokens\")\nstopwords_remover = StopWordsRemover(inputCol=\"tokens\", outputCol=\"filtered_tokens\")\n\n# Vectorization and TF-IDF\ncount_vectorizer = CountVectorizer(inputCol=\"filtered_tokens\", outputCol=\"raw_features\")\nidf = IDF(inputCol=\"raw_features\", outputCol=\"features\")\n\n# Label encoding\nindexer = StringIndexer(inputCol=\"sentiment\", outputCol=\"label\")\n\n# Build pipeline\npipeline = Pipeline(stages=[tokenizer, stopwords_remover, count_vectorizer, idf, indexer])\n\n# Fit and transform\nprocessed_df = pipeline.fit(df).transform(df)\n\n# Split the data (use all data for training for simplicity)\ntrain_data, test_data = processed_df.randomSplit([0.8, 0.2], seed=42)\n\n# Train Naive Bayes model\nnb = N...",
                    "submissionTime": "2024-12-08T02:13:25.262GMT",
                    "completionTime": "2024-12-08T02:13:26.085GMT",
                    "stageIds": [
                      73
                    ],
                    "jobGroup": "16",
                    "status": "SUCCEEDED",
                    "numTasks": 1,
                    "numActiveTasks": 0,
                    "numCompletedTasks": 1,
                    "numSkippedTasks": 0,
                    "numFailedTasks": 0,
                    "numKilledTasks": 0,
                    "numCompletedIndices": 1,
                    "numActiveStages": 0,
                    "numCompletedStages": 1,
                    "numSkippedStages": 0,
                    "numFailedStages": 0,
                    "killedTasksSummary": {}
                  },
                  {
                    "displayName": "top at CountVectorizer.scala:236",
                    "dataWritten": 0,
                    "dataRead": 266712,
                    "rowCount": 3028,
                    "usageDescription": "",
                    "jobId": 58,
                    "name": "top at CountVectorizer.scala:236",
                    "description": "Job group for statement 16:\n\n\nfrom pyspark.ml.feature import Tokenizer, StopWordsRemover, CountVectorizer, IDF, StringIndexer\nfrom pyspark.ml.classification import NaiveBayes\nfrom pyspark.ml.evaluation import MulticlassClassificationEvaluator\nfrom pyspark.ml import Pipeline\n\n# Tokenizer and stop words removal\ntokenizer = Tokenizer(inputCol=\"text\", outputCol=\"tokens\")\nstopwords_remover = StopWordsRemover(inputCol=\"tokens\", outputCol=\"filtered_tokens\")\n\n# Vectorization and TF-IDF\ncount_vectorizer = CountVectorizer(inputCol=\"filtered_tokens\", outputCol=\"raw_features\")\nidf = IDF(inputCol=\"raw_features\", outputCol=\"features\")\n\n# Label encoding\nindexer = StringIndexer(inputCol=\"sentiment\", outputCol=\"label\")\n\n# Build pipeline\npipeline = Pipeline(stages=[tokenizer, stopwords_remover, count_vectorizer, idf, indexer])\n\n# Fit and transform\nprocessed_df = pipeline.fit(df).transform(df)\n\n# Split the data (use all data for training for simplicity)\ntrain_data, test_data = processed_df.randomSplit([0.8, 0.2], seed=42)\n\n# Train Naive Bayes model\nnb = N...",
                    "submissionTime": "2024-12-08T02:13:24.757GMT",
                    "completionTime": "2024-12-08T02:13:24.830GMT",
                    "stageIds": [
                      71,
                      72
                    ],
                    "jobGroup": "16",
                    "status": "SUCCEEDED",
                    "numTasks": 2,
                    "numActiveTasks": 0,
                    "numCompletedTasks": 1,
                    "numSkippedTasks": 1,
                    "numFailedTasks": 0,
                    "numKilledTasks": 0,
                    "numCompletedIndices": 1,
                    "numActiveStages": 0,
                    "numCompletedStages": 1,
                    "numSkippedStages": 1,
                    "numFailedStages": 0,
                    "killedTasksSummary": {}
                  },
                  {
                    "displayName": "count at CountVectorizer.scala:233",
                    "dataWritten": 30255,
                    "dataRead": 129364,
                    "rowCount": 6156,
                    "usageDescription": "",
                    "jobId": 57,
                    "name": "count at CountVectorizer.scala:233",
                    "description": "Job group for statement 16:\n\n\nfrom pyspark.ml.feature import Tokenizer, StopWordsRemover, CountVectorizer, IDF, StringIndexer\nfrom pyspark.ml.classification import NaiveBayes\nfrom pyspark.ml.evaluation import MulticlassClassificationEvaluator\nfrom pyspark.ml import Pipeline\n\n# Tokenizer and stop words removal\ntokenizer = Tokenizer(inputCol=\"text\", outputCol=\"tokens\")\nstopwords_remover = StopWordsRemover(inputCol=\"tokens\", outputCol=\"filtered_tokens\")\n\n# Vectorization and TF-IDF\ncount_vectorizer = CountVectorizer(inputCol=\"filtered_tokens\", outputCol=\"raw_features\")\nidf = IDF(inputCol=\"raw_features\", outputCol=\"features\")\n\n# Label encoding\nindexer = StringIndexer(inputCol=\"sentiment\", outputCol=\"label\")\n\n# Build pipeline\npipeline = Pipeline(stages=[tokenizer, stopwords_remover, count_vectorizer, idf, indexer])\n\n# Fit and transform\nprocessed_df = pipeline.fit(df).transform(df)\n\n# Split the data (use all data for training for simplicity)\ntrain_data, test_data = processed_df.randomSplit([0.8, 0.2], seed=42)\n\n# Train Naive Bayes model\nnb = N...",
                    "submissionTime": "2024-12-08T02:13:23.219GMT",
                    "completionTime": "2024-12-08T02:13:24.742GMT",
                    "stageIds": [
                      70,
                      69
                    ],
                    "jobGroup": "16",
                    "status": "SUCCEEDED",
                    "numTasks": 2,
                    "numActiveTasks": 0,
                    "numCompletedTasks": 2,
                    "numSkippedTasks": 0,
                    "numFailedTasks": 0,
                    "numKilledTasks": 0,
                    "numCompletedIndices": 2,
                    "numActiveStages": 0,
                    "numCompletedStages": 2,
                    "numSkippedStages": 0,
                    "numFailedStages": 0,
                    "killedTasksSummary": {}
                  }
                ],
                "limit": 20,
                "rule": "ALL_DESC"
              },
              "session_id": "36",
              "normalized_state": "finished",
              "queued_time": "2024-12-08T02:13:22.7296446Z",
              "session_start_time": null,
              "execution_start_time": "2024-12-08T02:13:22.8631478Z",
              "execution_finish_time": "2024-12-08T02:13:31.5960307Z",
              "parent_msg_id": "3ab0ffa5-8c5a-42a2-b3d7-8af950c64e4c"
            },
            "text/plain": "StatementMeta(ba5e360d-f184-47a0-9859-76b5031b79e3, 36, 16, Finished, Available, Finished)"
          },
          "metadata": {}
        },
        {
          "output_type": "stream",
          "name": "stdout",
          "text": "Test Accuracy: 0.31\n"
        }
      ],
      "execution_count": 11,
      "metadata": {
        "jupyter": {
          "source_hidden": false,
          "outputs_hidden": false
        },
        "nteract": {
          "transient": {
            "deleting": false
          }
        },
        "gather": {
          "logged": 1733624011750
        }
      }
    }
  ],
  "metadata": {
    "kernelspec": {
      "name": "synapse_pyspark",
      "language": "Python",
      "display_name": "Synapse PySpark"
    },
    "language_info": {
      "name": "python",
      "version": "3.8.0",
      "mimetype": "text/x-python",
      "file_extension": ".py",
      "pygments_lexer": "ipython",
      "codemirror_mode": "ipython",
      "nbconvert_exporter": "python"
    },
    "microsoft": {
      "ms_spell_check": {
        "ms_spell_check_language": "en"
      },
      "host": {
        "AzureML": {
          "notebookHasBeenCompleted": true
        }
      }
    },
    "kernel_info": {
      "name": "synapse_pyspark"
    },
    "nteract": {
      "version": "nteract-front-end@1.0.0"
    }
  },
  "nbformat": 4,
  "nbformat_minor": 2
}