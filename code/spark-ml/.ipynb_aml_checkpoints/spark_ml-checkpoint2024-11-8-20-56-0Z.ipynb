{
  "cells": [
    {
      "cell_type": "code",
      "source": [
        "from pyspark.sql import SparkSession\n",
        "\n",
        "# Start Spark session\n",
        "spark = SparkSession.builder.appName(\"NaiveBayes_Example\").getOrCreate()\n",
        "\n",
        "workspace_default_storage_account = \"projectgstoragedfb938a3e\"\n",
        "workspace_default_container = \"azureml-blobstore-becc8696-e562-432e-af12-8a5e3e1f9b0f\"\n",
        "workspace_wasbs_base_url = f\"wasbs://{workspace_default_container}@{workspace_default_storage_account}.blob.core.windows.net/\"\n"
      ],
      "outputs": [
        {
          "output_type": "display_data",
          "data": {
            "application/vnd.livy.statement-meta+json": {
              "spark_pool": "ba5e360d-f184-47a0-9859-76b5031b79e3",
              "statement_id": 6,
              "statement_ids": [
                6
              ],
              "state": "finished",
              "livy_statement_state": "available",
              "spark_jobs": {
                "numbers": {
                  "FAILED": 0,
                  "RUNNING": 0,
                  "UNKNOWN": 0,
                  "SUCCEEDED": 1
                },
                "jobs": [
                  {
                    "displayName": "parquet at NativeMethodAccessorImpl.java:0",
                    "dataWritten": 0,
                    "dataRead": 0,
                    "rowCount": 0,
                    "usageDescription": "",
                    "jobId": 0,
                    "name": "parquet at NativeMethodAccessorImpl.java:0",
                    "description": "Job group for statement 6:\nfrom pyspark.sql import SparkSession\n\n# Start Spark session\nspark = SparkSession.builder.appName(\"NaiveBayes_Example\").getOrCreate()\n\nworkspace_default_storage_account = \"projectgstoragedfb938a3e\"\nworkspace_default_container = \"azureml-blobstore-becc8696-e562-432e-af12-8a5e3e1f9b0f\"\nworkspace_wasbs_base_url = f\"wasbs://{workspace_default_container}@{workspace_default_storage_account}.blob.core.windows.net/\"\n\noutput_path = f\"{workspace_wasbs_base_url}nlp_sentiment_sample_submissions.parquet\"\n# Read the Parquet file back into a dataframe\ndf_read_back = spark.read.parquet(output_path)",
                    "submissionTime": "2024-12-08T20:45:53.295GMT",
                    "completionTime": "2024-12-08T20:47:16.149GMT",
                    "stageIds": [
                      0
                    ],
                    "jobGroup": "6",
                    "status": "SUCCEEDED",
                    "numTasks": 1,
                    "numActiveTasks": 0,
                    "numCompletedTasks": 1,
                    "numSkippedTasks": 0,
                    "numFailedTasks": 0,
                    "numKilledTasks": 0,
                    "numCompletedIndices": 1,
                    "numActiveStages": 0,
                    "numCompletedStages": 1,
                    "numSkippedStages": 0,
                    "numFailedStages": 0,
                    "killedTasksSummary": {}
                  }
                ],
                "limit": 20,
                "rule": "ALL_DESC"
              },
              "session_id": "44",
              "normalized_state": "finished",
              "queued_time": "2024-12-08T20:44:23.4254609Z",
              "session_start_time": "2024-12-08T20:44:23.5027814Z",
              "execution_start_time": "2024-12-08T20:45:52.3609094Z",
              "execution_finish_time": "2024-12-08T20:47:20.0662398Z",
              "parent_msg_id": "d98e2046-0caf-4987-8fba-474c110a0324"
            },
            "text/plain": "StatementMeta(ba5e360d-f184-47a0-9859-76b5031b79e3, 44, 6, Finished, Available, Finished)"
          },
          "metadata": {}
        }
      ],
      "execution_count": 1,
      "metadata": {
        "jupyter": {
          "source_hidden": false,
          "outputs_hidden": false
        },
        "nteract": {
          "transient": {
            "deleting": false
          }
        },
        "gather": {
          "logged": 1733690840162
        }
      }
    },
    {
      "cell_type": "code",
      "source": [
        "from pyspark.sql.functions import lit\n",
        "\n",
        "cancer_path = f\"{workspace_wasbs_base_url}cancer_subreddit_sentiment.parquet\"\n",
        "cancer_df = spark.read.parquet(cancer_path)\n",
        "\n",
        "not_cancer_path = f\"{workspace_wasbs_base_url}not_cancer_subreddit_sentiment.parquet\"\n",
        "not_cancer = spark.read.parquet(not_cancer_path)\n",
        "\n",
        "cancer_df = cancer_df.withColumn(\"source\", lit(\"cancer\"))\n",
        "\n",
        "not_cancer = not_cancer.withColumn(\"source\", lit(\"non_cancer\"))\n",
        "\n",
        "combined_df = cancer_df.union(not_cancer)\n",
        "combined_df = combined_df.select('text', 'source')\n",
        "\n",
        "combined_df.show()\n",
        "\n"
      ],
      "outputs": [
        {
          "output_type": "display_data",
          "data": {
            "application/vnd.livy.statement-meta+json": {
              "spark_pool": "ba5e360d-f184-47a0-9859-76b5031b79e3",
              "statement_id": 9,
              "statement_ids": [
                9
              ],
              "state": "finished",
              "livy_statement_state": "available",
              "spark_jobs": {
                "numbers": {
                  "FAILED": 0,
                  "RUNNING": 0,
                  "UNKNOWN": 0,
                  "SUCCEEDED": 4
                },
                "jobs": [
                  {
                    "displayName": "showString at NativeMethodAccessorImpl.java:0",
                    "dataWritten": 0,
                    "dataRead": 2954586,
                    "rowCount": 8192,
                    "usageDescription": "",
                    "jobId": 9,
                    "name": "showString at NativeMethodAccessorImpl.java:0",
                    "description": "Job group for statement 9:\nfrom pyspark.sql.functions import lit\n\ncancer_path = f\"{workspace_wasbs_base_url}cancer_subreddit_sentiment.parquet\"\ncancer_df = spark.read.parquet(cancer_path)\n\nnot_cancer_path = f\"{workspace_wasbs_base_url}not_cancer_subreddit_sentiment.parquet\"\nnot_cancer = spark.read.parquet(not_cancer_path)\n\ncancer_df = cancer_df.withColumn(\"source\", lit(\"cancer\"))\n\nnot_cancer = not_cancer.withColumn(\"source\", lit(\"non_cancer\"))\n\ncombined_df = cancer_df.union(not_cancer)\ncombined_df = combined_df.select('text', 'source')\n\ncombined_df.show()\n\n",
                    "submissionTime": "2024-12-08T20:54:58.750GMT",
                    "completionTime": "2024-12-08T20:54:59.214GMT",
                    "stageIds": [
                      9
                    ],
                    "jobGroup": "9",
                    "status": "SUCCEEDED",
                    "numTasks": 4,
                    "numActiveTasks": 0,
                    "numCompletedTasks": 4,
                    "numSkippedTasks": 0,
                    "numFailedTasks": 0,
                    "numKilledTasks": 0,
                    "numCompletedIndices": 4,
                    "numActiveStages": 0,
                    "numCompletedStages": 1,
                    "numSkippedStages": 0,
                    "numFailedStages": 0,
                    "killedTasksSummary": {}
                  },
                  {
                    "displayName": "showString at NativeMethodAccessorImpl.java:0",
                    "dataWritten": 0,
                    "dataRead": 11254,
                    "rowCount": 0,
                    "usageDescription": "",
                    "jobId": 8,
                    "name": "showString at NativeMethodAccessorImpl.java:0",
                    "description": "Job group for statement 9:\nfrom pyspark.sql.functions import lit\n\ncancer_path = f\"{workspace_wasbs_base_url}cancer_subreddit_sentiment.parquet\"\ncancer_df = spark.read.parquet(cancer_path)\n\nnot_cancer_path = f\"{workspace_wasbs_base_url}not_cancer_subreddit_sentiment.parquet\"\nnot_cancer = spark.read.parquet(not_cancer_path)\n\ncancer_df = cancer_df.withColumn(\"source\", lit(\"cancer\"))\n\nnot_cancer = not_cancer.withColumn(\"source\", lit(\"non_cancer\"))\n\ncombined_df = cancer_df.union(not_cancer)\ncombined_df = combined_df.select('text', 'source')\n\ncombined_df.show()\n\n",
                    "submissionTime": "2024-12-08T20:54:58.408GMT",
                    "completionTime": "2024-12-08T20:54:58.725GMT",
                    "stageIds": [
                      8
                    ],
                    "jobGroup": "9",
                    "status": "SUCCEEDED",
                    "numTasks": 1,
                    "numActiveTasks": 0,
                    "numCompletedTasks": 1,
                    "numSkippedTasks": 0,
                    "numFailedTasks": 0,
                    "numKilledTasks": 0,
                    "numCompletedIndices": 1,
                    "numActiveStages": 0,
                    "numCompletedStages": 1,
                    "numSkippedStages": 0,
                    "numFailedStages": 0,
                    "killedTasksSummary": {}
                  },
                  {
                    "displayName": "parquet at NativeMethodAccessorImpl.java:0",
                    "dataWritten": 0,
                    "dataRead": 0,
                    "rowCount": 0,
                    "usageDescription": "",
                    "jobId": 7,
                    "name": "parquet at NativeMethodAccessorImpl.java:0",
                    "description": "Job group for statement 9:\nfrom pyspark.sql.functions import lit\n\ncancer_path = f\"{workspace_wasbs_base_url}cancer_subreddit_sentiment.parquet\"\ncancer_df = spark.read.parquet(cancer_path)\n\nnot_cancer_path = f\"{workspace_wasbs_base_url}not_cancer_subreddit_sentiment.parquet\"\nnot_cancer = spark.read.parquet(not_cancer_path)\n\ncancer_df = cancer_df.withColumn(\"source\", lit(\"cancer\"))\n\nnot_cancer = not_cancer.withColumn(\"source\", lit(\"non_cancer\"))\n\ncombined_df = cancer_df.union(not_cancer)\ncombined_df = combined_df.select('text', 'source')\n\ncombined_df.show()\n\n",
                    "submissionTime": "2024-12-08T20:54:57.862GMT",
                    "completionTime": "2024-12-08T20:54:58.023GMT",
                    "stageIds": [
                      7
                    ],
                    "jobGroup": "9",
                    "status": "SUCCEEDED",
                    "numTasks": 1,
                    "numActiveTasks": 0,
                    "numCompletedTasks": 1,
                    "numSkippedTasks": 0,
                    "numFailedTasks": 0,
                    "numKilledTasks": 0,
                    "numCompletedIndices": 1,
                    "numActiveStages": 0,
                    "numCompletedStages": 1,
                    "numSkippedStages": 0,
                    "numFailedStages": 0,
                    "killedTasksSummary": {}
                  },
                  {
                    "displayName": "parquet at NativeMethodAccessorImpl.java:0",
                    "dataWritten": 0,
                    "dataRead": 0,
                    "rowCount": 0,
                    "usageDescription": "",
                    "jobId": 6,
                    "name": "parquet at NativeMethodAccessorImpl.java:0",
                    "description": "Job group for statement 9:\nfrom pyspark.sql.functions import lit\n\ncancer_path = f\"{workspace_wasbs_base_url}cancer_subreddit_sentiment.parquet\"\ncancer_df = spark.read.parquet(cancer_path)\n\nnot_cancer_path = f\"{workspace_wasbs_base_url}not_cancer_subreddit_sentiment.parquet\"\nnot_cancer = spark.read.parquet(not_cancer_path)\n\ncancer_df = cancer_df.withColumn(\"source\", lit(\"cancer\"))\n\nnot_cancer = not_cancer.withColumn(\"source\", lit(\"non_cancer\"))\n\ncombined_df = cancer_df.union(not_cancer)\ncombined_df = combined_df.select('text', 'source')\n\ncombined_df.show()\n\n",
                    "submissionTime": "2024-12-08T20:54:57.465GMT",
                    "completionTime": "2024-12-08T20:54:57.644GMT",
                    "stageIds": [
                      6
                    ],
                    "jobGroup": "9",
                    "status": "SUCCEEDED",
                    "numTasks": 1,
                    "numActiveTasks": 0,
                    "numCompletedTasks": 1,
                    "numSkippedTasks": 0,
                    "numFailedTasks": 0,
                    "numKilledTasks": 0,
                    "numCompletedIndices": 1,
                    "numActiveStages": 0,
                    "numCompletedStages": 1,
                    "numSkippedStages": 0,
                    "numFailedStages": 0,
                    "killedTasksSummary": {}
                  }
                ],
                "limit": 20,
                "rule": "ALL_DESC"
              },
              "session_id": "44",
              "normalized_state": "finished",
              "queued_time": "2024-12-08T20:54:57.1225205Z",
              "session_start_time": null,
              "execution_start_time": "2024-12-08T20:54:57.2466301Z",
              "execution_finish_time": "2024-12-08T20:54:59.7074395Z",
              "parent_msg_id": "5314ba4f-ead6-421e-80da-c9f1532a0a8d"
            },
            "text/plain": "StatementMeta(ba5e360d-f184-47a0-9859-76b5031b79e3, 44, 9, Finished, Available, Finished)"
          },
          "metadata": {}
        },
        {
          "output_type": "stream",
          "name": "stdout",
          "text": "+--------------------+------+\n|                text|source|\n+--------------------+------+\n|Check out Northsi...|cancer|\n|I had something s...|cancer|\n|That's an insulti...|cancer|\n|Yeah sorry, it wa...|cancer|\n|I see my colorect...|cancer|\n|The couple of ran...|cancer|\n|I’ve encountered ...|cancer|\n|I 100% agree with...|cancer|\n|You should not ha...|cancer|\n|**Your post has b...|cancer|\n|Completely agree ...|cancer|\n|Butt's have oil s...|cancer|\n|I just found I ha...|cancer|\n|in the mid 2000s ...|cancer|\n|If you know all y...|cancer|\n|Ultimately, us nu...|cancer|\n|I had one the siz...|cancer|\n|yeah I see that n...|cancer|\n|This has been a r...|cancer|\n|Day to day is dif...|cancer|\n+--------------------+------+\nonly showing top 20 rows\n\n"
        }
      ],
      "execution_count": 4,
      "metadata": {
        "gather": {
          "logged": 1733691299788
        }
      }
    },
    {
      "cell_type": "code",
      "source": [
        "from pyspark.ml.feature import Tokenizer, StopWordsRemover, CountVectorizer, IDF, StringIndexer\n",
        "from pyspark.ml.classification import NaiveBayes, LogisticRegression\n",
        "from pyspark.ml.evaluation import MulticlassClassificationEvaluator\n",
        "from pyspark.ml import Pipeline\n",
        "\n",
        "# Tokenizer and stop words removal\n",
        "tokenizer = Tokenizer(inputCol=\"text\", outputCol=\"tokens\")\n",
        "stopwords_remover = StopWordsRemover(inputCol=\"tokens\", outputCol=\"filtered_tokens\")\n",
        "\n",
        "# Vectorization and TF-IDF\n",
        "count_vectorizer = CountVectorizer(inputCol=\"filtered_tokens\", outputCol=\"raw_features\")\n",
        "idf = IDF(inputCol=\"raw_features\", outputCol=\"features\")\n",
        "\n",
        "# Label encoding\n",
        "indexer = StringIndexer(inputCol=\"source\", outputCol=\"label\")\n",
        "\n",
        "# Build pipeline\n",
        "pipeline = Pipeline(stages=[tokenizer, stopwords_remover, count_vectorizer, idf, indexer])\n",
        "\n",
        "# Fit and transform\n",
        "processed_df = pipeline.fit(combined_df).transform(combined_df)\n",
        "\n",
        "# Build pipeline\n",
        "pipeline = Pipeline(stages=[tokenizer, stopwords_remover, count_vectorizer, idf, indexer])\n",
        "\n",
        "# Fit and transform\n",
        "processed_df = pipeline.fit(combined_df).transform(combined_df)\n",
        "\n",
        "# Split the data 80-20\n",
        "train_data, test_data = processed_df.randomSplit([0.8, 0.2], seed=42)\n",
        "\n",
        "# Train Naive Bayes model\n",
        "nb = NaiveBayes(featuresCol=\"features\", labelCol=\"label\", modelType=\"multinomial\")\n",
        "nb_model = nb.fit(train_data)\n",
        "\n",
        "# Predict\n",
        "predictions = nb_model.transform(test_data)\n",
        "\n",
        "# Evaluate\n",
        "evaluator = MulticlassClassificationEvaluator(labelCol=\"label\", predictionCol=\"prediction\", metricName=\"accuracy\")\n",
        "accuracy = evaluator.evaluate(predictions)\n",
        "\n",
        "print(f\"Test Accuracy: {accuracy:.2f}\")\n",
        "\n",
        "evaluator = MulticlassClassificationEvaluator()\n",
        "accuracy = evaluator.evaluate(predictions)\n",
        "\n",
        "print(f\"Test Accuracy: {accuracy:.2f}\")\n"
      ],
      "outputs": [
        {
          "output_type": "display_data",
          "data": {
            "application/vnd.livy.statement-meta+json": {
              "spark_pool": "ba5e360d-f184-47a0-9859-76b5031b79e3",
              "statement_id": 10,
              "statement_ids": [
                10
              ],
              "state": "submitted",
              "livy_statement_state": "running",
              "spark_jobs": {
                "numbers": {
                  "FAILED": 0,
                  "RUNNING": 0,
                  "UNKNOWN": 0,
                  "SUCCEEDED": 0
                },
                "jobs": [],
                "limit": 20,
                "rule": "ALL_DESC"
              },
              "session_id": "44",
              "normalized_state": "running",
              "queued_time": "2024-12-08T20:55:57.116095Z",
              "session_start_time": null,
              "execution_start_time": "2024-12-08T20:55:57.2433789Z",
              "execution_finish_time": null,
              "parent_msg_id": "6b11eecb-e692-43fc-b0cf-aadc24bf05fb"
            },
            "text/plain": "StatementMeta(ba5e360d-f184-47a0-9859-76b5031b79e3, 44, 10, Submitted, Running, Running)"
          },
          "metadata": {}
        }
      ],
      "execution_count": 5,
      "metadata": {
        "jupyter": {
          "source_hidden": false,
          "outputs_hidden": false
        },
        "nteract": {
          "transient": {
            "deleting": false
          }
        },
        "gather": {
          "logged": 1733628636719
        }
      }
    },
    {
      "cell_type": "code",
      "source": [
        "# Weighted Precision (Multiclass)\n",
        "evaluator_precision = MulticlassClassificationEvaluator(labelCol=\"label\", predictionCol=\"prediction\", metricName=\"weightedPrecision\")\n",
        "precision = evaluator_precision.evaluate(predictions)\n",
        "print(f\"Test Precision: {precision:.2f}\")\n",
        "\n",
        "# Weighted Recall (Multiclass)\n",
        "evaluator_recall = MulticlassClassificationEvaluator(labelCol=\"label\", predictionCol=\"prediction\", metricName=\"weightedRecall\")\n",
        "recall = evaluator_recall.evaluate(predictions)\n",
        "print(f\"Test Recall: {recall:.2f}\")\n",
        "\n",
        "# F1-Score (Multiclass)\n",
        "evaluator_f1 = MulticlassClassificationEvaluator(labelCol=\"label\", predictionCol=\"prediction\", metricName=\"f1\")\n",
        "f1_score = evaluator_f1.evaluate(predictions)\n",
        "print(f\"Test F1-Score: {f1_score:.2f}\")\n",
        "\n",
        "# AUC-ROC (For Binary Classification, works for binary classification)\n",
        "evaluator_auc = BinaryClassificationEvaluator(labelCol=\"label\", rawPredictionCol=\"prediction\", metricName=\"areaUnderROC\")\n",
        "auc_roc = evaluator_auc.evaluate(predictions)\n",
        "print(f\"Test AUC-ROC: {auc_roc:.2f}\")"
      ],
      "outputs": [
        {
          "output_type": "display_data",
          "data": {
            "application/vnd.livy.statement-meta+json": {
              "spark_pool": "ba5e360d-f184-47a0-9859-76b5031b79e3",
              "statement_id": 15,
              "statement_ids": [
                15
              ],
              "state": "finished",
              "livy_statement_state": "available",
              "spark_jobs": {
                "numbers": {
                  "SUCCEEDED": 6,
                  "UNKNOWN": 0,
                  "RUNNING": 0,
                  "FAILED": 0
                },
                "jobs": [
                  {
                    "displayName": "collect at AreaUnderCurve.scala:44",
                    "dataWritten": 0,
                    "dataRead": 168,
                    "rowCount": 3,
                    "usageDescription": "",
                    "jobId": 184,
                    "name": "collect at AreaUnderCurve.scala:44",
                    "description": "Job group for statement 15:\n# Weighted Precision (Multiclass)\nevaluator_precision = MulticlassClassificationEvaluator(labelCol=\"label\", predictionCol=\"prediction\", metricName=\"weightedPrecision\")\nprecision = evaluator_precision.evaluate(predictions)\nprint(f\"Test Precision: {precision:.2f}\")\n\n# Weighted Recall (Multiclass)\nevaluator_recall = MulticlassClassificationEvaluator(labelCol=\"label\", predictionCol=\"prediction\", metricName=\"weightedRecall\")\nrecall = evaluator_recall.evaluate(predictions)\nprint(f\"Test Recall: {recall:.2f}\")\n\n# F1-Score (Multiclass)\nevaluator_f1 = MulticlassClassificationEvaluator(labelCol=\"label\", predictionCol=\"prediction\", metricName=\"f1\")\nf1_score = evaluator_f1.evaluate(predictions)\nprint(f\"Test F1-Score: {f1_score:.2f}\")\n\n# AUC-ROC (For Binary Classification, works for binary classification)\nevaluator_auc = BinaryClassificationEvaluator(labelCol=\"label\", rawPredictionCol=\"prediction\", metricName=\"areaUnderROC\")\nauc_roc = evaluator_auc.evaluate(predictions)\nprint(f\"Test AUC-ROC: {auc_roc:.2f}\")",
                    "submissionTime": "2024-12-08T03:33:54.466GMT",
                    "completionTime": "2024-12-08T03:33:54.517GMT",
                    "stageIds": [
                      233,
                      234,
                      232
                    ],
                    "jobGroup": "15",
                    "status": "SUCCEEDED",
                    "numTasks": 3,
                    "numActiveTasks": 0,
                    "numCompletedTasks": 1,
                    "numSkippedTasks": 2,
                    "numFailedTasks": 0,
                    "numKilledTasks": 0,
                    "numCompletedIndices": 1,
                    "numActiveStages": 0,
                    "numCompletedStages": 1,
                    "numSkippedStages": 2,
                    "numFailedStages": 0,
                    "killedTasksSummary": {}
                  },
                  {
                    "displayName": "collect at BinaryClassificationMetrics.scala:237",
                    "dataWritten": 0,
                    "dataRead": 168,
                    "rowCount": 3,
                    "usageDescription": "",
                    "jobId": 183,
                    "name": "collect at BinaryClassificationMetrics.scala:237",
                    "description": "Job group for statement 15:\n# Weighted Precision (Multiclass)\nevaluator_precision = MulticlassClassificationEvaluator(labelCol=\"label\", predictionCol=\"prediction\", metricName=\"weightedPrecision\")\nprecision = evaluator_precision.evaluate(predictions)\nprint(f\"Test Precision: {precision:.2f}\")\n\n# Weighted Recall (Multiclass)\nevaluator_recall = MulticlassClassificationEvaluator(labelCol=\"label\", predictionCol=\"prediction\", metricName=\"weightedRecall\")\nrecall = evaluator_recall.evaluate(predictions)\nprint(f\"Test Recall: {recall:.2f}\")\n\n# F1-Score (Multiclass)\nevaluator_f1 = MulticlassClassificationEvaluator(labelCol=\"label\", predictionCol=\"prediction\", metricName=\"f1\")\nf1_score = evaluator_f1.evaluate(predictions)\nprint(f\"Test F1-Score: {f1_score:.2f}\")\n\n# AUC-ROC (For Binary Classification, works for binary classification)\nevaluator_auc = BinaryClassificationEvaluator(labelCol=\"label\", rawPredictionCol=\"prediction\", metricName=\"areaUnderROC\")\nauc_roc = evaluator_auc.evaluate(predictions)\nprint(f\"Test AUC-ROC: {auc_roc:.2f}\")",
                    "submissionTime": "2024-12-08T03:33:54.398GMT",
                    "completionTime": "2024-12-08T03:33:54.436GMT",
                    "stageIds": [
                      230,
                      231,
                      229
                    ],
                    "jobGroup": "15",
                    "status": "SUCCEEDED",
                    "numTasks": 3,
                    "numActiveTasks": 0,
                    "numCompletedTasks": 1,
                    "numSkippedTasks": 2,
                    "numFailedTasks": 0,
                    "numKilledTasks": 0,
                    "numCompletedIndices": 1,
                    "numActiveStages": 0,
                    "numCompletedStages": 1,
                    "numSkippedStages": 2,
                    "numFailedStages": 0,
                    "killedTasksSummary": {}
                  },
                  {
                    "displayName": "count at BinaryClassificationMetrics.scala:197",
                    "dataWritten": 326,
                    "dataRead": 93541,
                    "rowCount": 112,
                    "usageDescription": "",
                    "jobId": 182,
                    "name": "count at BinaryClassificationMetrics.scala:197",
                    "description": "Job group for statement 15:\n# Weighted Precision (Multiclass)\nevaluator_precision = MulticlassClassificationEvaluator(labelCol=\"label\", predictionCol=\"prediction\", metricName=\"weightedPrecision\")\nprecision = evaluator_precision.evaluate(predictions)\nprint(f\"Test Precision: {precision:.2f}\")\n\n# Weighted Recall (Multiclass)\nevaluator_recall = MulticlassClassificationEvaluator(labelCol=\"label\", predictionCol=\"prediction\", metricName=\"weightedRecall\")\nrecall = evaluator_recall.evaluate(predictions)\nprint(f\"Test Recall: {recall:.2f}\")\n\n# F1-Score (Multiclass)\nevaluator_f1 = MulticlassClassificationEvaluator(labelCol=\"label\", predictionCol=\"prediction\", metricName=\"f1\")\nf1_score = evaluator_f1.evaluate(predictions)\nprint(f\"Test F1-Score: {f1_score:.2f}\")\n\n# AUC-ROC (For Binary Classification, works for binary classification)\nevaluator_auc = BinaryClassificationEvaluator(labelCol=\"label\", rawPredictionCol=\"prediction\", metricName=\"areaUnderROC\")\nauc_roc = evaluator_auc.evaluate(predictions)\nprint(f\"Test AUC-ROC: {auc_roc:.2f}\")",
                    "submissionTime": "2024-12-08T03:33:53.733GMT",
                    "completionTime": "2024-12-08T03:33:54.373GMT",
                    "stageIds": [
                      227,
                      228,
                      226
                    ],
                    "jobGroup": "15",
                    "status": "SUCCEEDED",
                    "numTasks": 3,
                    "numActiveTasks": 0,
                    "numCompletedTasks": 3,
                    "numSkippedTasks": 0,
                    "numFailedTasks": 0,
                    "numKilledTasks": 0,
                    "numCompletedIndices": 3,
                    "numActiveStages": 0,
                    "numCompletedStages": 3,
                    "numSkippedStages": 0,
                    "numFailedStages": 0,
                    "killedTasksSummary": {}
                  },
                  {
                    "displayName": "collectAsMap at MulticlassMetrics.scala:61",
                    "dataWritten": 145,
                    "dataRead": 93360,
                    "rowCount": 116,
                    "usageDescription": "",
                    "jobId": 181,
                    "name": "collectAsMap at MulticlassMetrics.scala:61",
                    "description": "Job group for statement 15:\n# Weighted Precision (Multiclass)\nevaluator_precision = MulticlassClassificationEvaluator(labelCol=\"label\", predictionCol=\"prediction\", metricName=\"weightedPrecision\")\nprecision = evaluator_precision.evaluate(predictions)\nprint(f\"Test Precision: {precision:.2f}\")\n\n# Weighted Recall (Multiclass)\nevaluator_recall = MulticlassClassificationEvaluator(labelCol=\"label\", predictionCol=\"prediction\", metricName=\"weightedRecall\")\nrecall = evaluator_recall.evaluate(predictions)\nprint(f\"Test Recall: {recall:.2f}\")\n\n# F1-Score (Multiclass)\nevaluator_f1 = MulticlassClassificationEvaluator(labelCol=\"label\", predictionCol=\"prediction\", metricName=\"f1\")\nf1_score = evaluator_f1.evaluate(predictions)\nprint(f\"Test F1-Score: {f1_score:.2f}\")\n\n# AUC-ROC (For Binary Classification, works for binary classification)\nevaluator_auc = BinaryClassificationEvaluator(labelCol=\"label\", rawPredictionCol=\"prediction\", metricName=\"areaUnderROC\")\nauc_roc = evaluator_auc.evaluate(predictions)\nprint(f\"Test AUC-ROC: {auc_roc:.2f}\")",
                    "submissionTime": "2024-12-08T03:33:52.948GMT",
                    "completionTime": "2024-12-08T03:33:53.397GMT",
                    "stageIds": [
                      224,
                      225
                    ],
                    "jobGroup": "15",
                    "status": "SUCCEEDED",
                    "numTasks": 2,
                    "numActiveTasks": 0,
                    "numCompletedTasks": 2,
                    "numSkippedTasks": 0,
                    "numFailedTasks": 0,
                    "numKilledTasks": 0,
                    "numCompletedIndices": 2,
                    "numActiveStages": 0,
                    "numCompletedStages": 2,
                    "numSkippedStages": 0,
                    "numFailedStages": 0,
                    "killedTasksSummary": {}
                  },
                  {
                    "displayName": "collectAsMap at MulticlassMetrics.scala:61",
                    "dataWritten": 145,
                    "dataRead": 93360,
                    "rowCount": 116,
                    "usageDescription": "",
                    "jobId": 180,
                    "name": "collectAsMap at MulticlassMetrics.scala:61",
                    "description": "Job group for statement 15:\n# Weighted Precision (Multiclass)\nevaluator_precision = MulticlassClassificationEvaluator(labelCol=\"label\", predictionCol=\"prediction\", metricName=\"weightedPrecision\")\nprecision = evaluator_precision.evaluate(predictions)\nprint(f\"Test Precision: {precision:.2f}\")\n\n# Weighted Recall (Multiclass)\nevaluator_recall = MulticlassClassificationEvaluator(labelCol=\"label\", predictionCol=\"prediction\", metricName=\"weightedRecall\")\nrecall = evaluator_recall.evaluate(predictions)\nprint(f\"Test Recall: {recall:.2f}\")\n\n# F1-Score (Multiclass)\nevaluator_f1 = MulticlassClassificationEvaluator(labelCol=\"label\", predictionCol=\"prediction\", metricName=\"f1\")\nf1_score = evaluator_f1.evaluate(predictions)\nprint(f\"Test F1-Score: {f1_score:.2f}\")\n\n# AUC-ROC (For Binary Classification, works for binary classification)\nevaluator_auc = BinaryClassificationEvaluator(labelCol=\"label\", rawPredictionCol=\"prediction\", metricName=\"areaUnderROC\")\nauc_roc = evaluator_auc.evaluate(predictions)\nprint(f\"Test AUC-ROC: {auc_roc:.2f}\")",
                    "submissionTime": "2024-12-08T03:33:52.338GMT",
                    "completionTime": "2024-12-08T03:33:52.813GMT",
                    "stageIds": [
                      222,
                      223
                    ],
                    "jobGroup": "15",
                    "status": "SUCCEEDED",
                    "numTasks": 2,
                    "numActiveTasks": 0,
                    "numCompletedTasks": 2,
                    "numSkippedTasks": 0,
                    "numFailedTasks": 0,
                    "numKilledTasks": 0,
                    "numCompletedIndices": 2,
                    "numActiveStages": 0,
                    "numCompletedStages": 2,
                    "numSkippedStages": 0,
                    "numFailedStages": 0,
                    "killedTasksSummary": {}
                  },
                  {
                    "displayName": "collectAsMap at MulticlassMetrics.scala:61",
                    "dataWritten": 145,
                    "dataRead": 93360,
                    "rowCount": 116,
                    "usageDescription": "",
                    "jobId": 179,
                    "name": "collectAsMap at MulticlassMetrics.scala:61",
                    "description": "Job group for statement 15:\n# Weighted Precision (Multiclass)\nevaluator_precision = MulticlassClassificationEvaluator(labelCol=\"label\", predictionCol=\"prediction\", metricName=\"weightedPrecision\")\nprecision = evaluator_precision.evaluate(predictions)\nprint(f\"Test Precision: {precision:.2f}\")\n\n# Weighted Recall (Multiclass)\nevaluator_recall = MulticlassClassificationEvaluator(labelCol=\"label\", predictionCol=\"prediction\", metricName=\"weightedRecall\")\nrecall = evaluator_recall.evaluate(predictions)\nprint(f\"Test Recall: {recall:.2f}\")\n\n# F1-Score (Multiclass)\nevaluator_f1 = MulticlassClassificationEvaluator(labelCol=\"label\", predictionCol=\"prediction\", metricName=\"f1\")\nf1_score = evaluator_f1.evaluate(predictions)\nprint(f\"Test F1-Score: {f1_score:.2f}\")\n\n# AUC-ROC (For Binary Classification, works for binary classification)\nevaluator_auc = BinaryClassificationEvaluator(labelCol=\"label\", rawPredictionCol=\"prediction\", metricName=\"areaUnderROC\")\nauc_roc = evaluator_auc.evaluate(predictions)\nprint(f\"Test AUC-ROC: {auc_roc:.2f}\")",
                    "submissionTime": "2024-12-08T03:33:51.718GMT",
                    "completionTime": "2024-12-08T03:33:52.179GMT",
                    "stageIds": [
                      220,
                      221
                    ],
                    "jobGroup": "15",
                    "status": "SUCCEEDED",
                    "numTasks": 2,
                    "numActiveTasks": 0,
                    "numCompletedTasks": 2,
                    "numSkippedTasks": 0,
                    "numFailedTasks": 0,
                    "numKilledTasks": 0,
                    "numCompletedIndices": 2,
                    "numActiveStages": 0,
                    "numCompletedStages": 2,
                    "numSkippedStages": 0,
                    "numFailedStages": 0,
                    "killedTasksSummary": {}
                  }
                ],
                "limit": 20,
                "rule": "ALL_DESC"
              },
              "session_id": "37",
              "normalized_state": "finished",
              "queued_time": "2024-12-08T03:33:51.4348784Z",
              "session_start_time": null,
              "execution_start_time": "2024-12-08T03:33:51.5572278Z",
              "execution_finish_time": "2024-12-08T03:33:55.2524647Z",
              "parent_msg_id": "e46e84d4-b0c0-46a8-9d7f-ca6b9fcd0a34"
            },
            "text/plain": "StatementMeta(ba5e360d-f184-47a0-9859-76b5031b79e3, 37, 15, Finished, Available, Finished)"
          },
          "metadata": {}
        },
        {
          "output_type": "stream",
          "name": "stdout",
          "text": "Test Precision: 0.55\nTest Recall: 0.31\nTest F1-Score: 0.39\nTest AUC-ROC: 0.47\n"
        }
      ],
      "execution_count": 10,
      "metadata": {
        "jupyter": {
          "source_hidden": false,
          "outputs_hidden": false
        },
        "nteract": {
          "transient": {
            "deleting": false
          }
        },
        "gather": {
          "logged": 1733628835376
        }
      }
    },
    {
      "cell_type": "code",
      "source": [
        "\n",
        "\n",
        "# Split the data 80-20\n",
        "train_data, test_data = processed_df.randomSplit([0.8, 0.2], seed=42)\n",
        "\n",
        "# Train Logistic Regression model\n",
        "lr = LogisticRegression(featuresCol=\"features\", labelCol=\"label\")\n",
        "lr_model = lr.fit(train_data)\n",
        "\n",
        "# Predict\n",
        "predictions = lr_model.transform(test_data)\n",
        "\n",
        "# Evaluate\n",
        "evaluator = MulticlassClassificationEvaluator(labelCol=\"label\", predictionCol=\"prediction\", metricName=\"accuracy\")\n",
        "accuracy = evaluator.evaluate(predictions)\n",
        "\n",
        "print(f\"Test Accuracy: {accuracy:.2f}\")\n",
        "\n",
        "from pyspark.ml.evaluation import MulticlassClassificationEvaluator, BinaryClassificationEvaluator\n",
        "from pyspark.mllib.evaluation import MulticlassMetrics\n",
        "from pyspark.sql.functions import col\n",
        "\n",
        "# Accuracy\n",
        "evaluator_accuracy = MulticlassClassificationEvaluator(labelCol=\"label\", predictionCol=\"prediction\", metricName=\"accuracy\")\n",
        "accuracy = evaluator_accuracy.evaluate(predictions)\n",
        "print(f\"Test Accuracy: {accuracy:.2f}\")\n",
        "\n",
        "# Precision\n",
        "evaluator_precision = MulticlassClassificationEvaluator(labelCol=\"label\", predictionCol=\"prediction\", metricName=\"precision\")\n",
        "precision = evaluator_precision.evaluate(predictions)\n",
        "print(f\"Test Precision: {precision:.2f}\")\n",
        "\n",
        "# Recall\n",
        "evaluator_recall = MulticlassClassificationEvaluator(labelCol=\"label\", predictionCol=\"prediction\", metricName=\"recall\")\n",
        "recall = evaluator_recall.evaluate(predictions)\n",
        "print(f\"Test Recall: {recall:.2f}\")\n",
        "\n",
        "# F1-Score\n",
        "evaluator_f1 = MulticlassClassificationEvaluator(labelCol=\"label\", predictionCol=\"prediction\", metricName=\"f1\")\n",
        "f1_score = evaluator_f1.evaluate(predictions)\n",
        "print(f\"Test F1-Score: {f1_score:.2f}\")\n",
        "\n",
        "# AUC-ROC (for binary classification)\n",
        "evaluator_auc = BinaryClassificationEvaluator(labelCol=\"label\", rawPredictionCol=\"prediction\", metricName=\"areaUnderROC\")\n",
        "auc_roc = evaluator_auc.evaluate(predictions)\n",
        "print(f\"Test AUC-ROC: {auc_roc:.2f}\")\n",
        "\n",
        "# Confusion Matrix\n",
        "prediction_and_labels = predictions.select(\"prediction\", \"label\").rdd\n",
        "metrics = MulticlassMetrics(prediction_and_labels)\n",
        "print(\"Confusion Matrix:\")\n",
        "print(metrics.confusionMatrix().toArray())\n",
        "\n"
      ],
      "outputs": [
        {
          "output_type": "display_data",
          "data": {
            "application/vnd.livy.statement-meta+json": {
              "spark_pool": "ba5e360d-f184-47a0-9859-76b5031b79e3",
              "statement_id": 8,
              "statement_ids": [
                8
              ],
              "state": "finished",
              "livy_statement_state": "available",
              "spark_jobs": {
                "numbers": {
                  "SUCCEEDED": 114,
                  "UNKNOWN": 0,
                  "RUNNING": 0,
                  "FAILED": 0
                },
                "jobs": [
                  {
                    "displayName": "collectAsMap at MulticlassMetrics.scala:61",
                    "dataWritten": 123,
                    "dataRead": 93338,
                    "rowCount": 112,
                    "usageDescription": "",
                    "jobId": 123,
                    "name": "collectAsMap at MulticlassMetrics.scala:61",
                    "description": "Job group for statement 8:\n\n\n# Split the data 80-20\ntrain_data, test_data = processed_df.randomSplit([0.8, 0.2], seed=42)\n\n# Train Logistic Regression model\nlr = LogisticRegression(featuresCol=\"features\", labelCol=\"label\")\nlr_model = lr.fit(train_data)\n\n# Predict\npredictions = lr_model.transform(test_data)\n\n# Evaluate\nevaluator = MulticlassClassificationEvaluator(labelCol=\"label\", predictionCol=\"prediction\", metricName=\"accuracy\")\naccuracy = evaluator.evaluate(predictions)\n\nprint(f\"Test Accuracy: {accuracy:.2f}\")\n",
                    "submissionTime": "2024-12-08T03:25:00.334GMT",
                    "completionTime": "2024-12-08T03:25:00.964GMT",
                    "stageIds": [
                      129,
                      128
                    ],
                    "jobGroup": "8",
                    "status": "SUCCEEDED",
                    "numTasks": 2,
                    "numActiveTasks": 0,
                    "numCompletedTasks": 2,
                    "numSkippedTasks": 0,
                    "numFailedTasks": 0,
                    "numKilledTasks": 0,
                    "numCompletedIndices": 2,
                    "numActiveStages": 0,
                    "numCompletedStages": 2,
                    "numSkippedStages": 0,
                    "numFailedStages": 0,
                    "killedTasksSummary": {}
                  },
                  {
                    "displayName": "treeAggregate at RDDLossFunction.scala:61",
                    "dataWritten": 0,
                    "dataRead": 962312,
                    "rowCount": 1,
                    "usageDescription": "",
                    "jobId": 122,
                    "name": "treeAggregate at RDDLossFunction.scala:61",
                    "description": "Job group for statement 8:\n\n\n# Split the data 80-20\ntrain_data, test_data = processed_df.randomSplit([0.8, 0.2], seed=42)\n\n# Train Logistic Regression model\nlr = LogisticRegression(featuresCol=\"features\", labelCol=\"label\")\nlr_model = lr.fit(train_data)\n\n# Predict\npredictions = lr_model.transform(test_data)\n\n# Evaluate\nevaluator = MulticlassClassificationEvaluator(labelCol=\"label\", predictionCol=\"prediction\", metricName=\"accuracy\")\naccuracy = evaluator.evaluate(predictions)\n\nprint(f\"Test Accuracy: {accuracy:.2f}\")\n",
                    "submissionTime": "2024-12-08T03:24:59.356GMT",
                    "completionTime": "2024-12-08T03:24:59.398GMT",
                    "stageIds": [
                      127
                    ],
                    "jobGroup": "8",
                    "status": "SUCCEEDED",
                    "numTasks": 1,
                    "numActiveTasks": 0,
                    "numCompletedTasks": 1,
                    "numSkippedTasks": 0,
                    "numFailedTasks": 0,
                    "numKilledTasks": 0,
                    "numCompletedIndices": 1,
                    "numActiveStages": 0,
                    "numCompletedStages": 1,
                    "numSkippedStages": 0,
                    "numFailedStages": 0,
                    "killedTasksSummary": {}
                  },
                  {
                    "displayName": "treeAggregate at RDDLossFunction.scala:61",
                    "dataWritten": 0,
                    "dataRead": 962312,
                    "rowCount": 1,
                    "usageDescription": "",
                    "jobId": 121,
                    "name": "treeAggregate at RDDLossFunction.scala:61",
                    "description": "Job group for statement 8:\n\n\n# Split the data 80-20\ntrain_data, test_data = processed_df.randomSplit([0.8, 0.2], seed=42)\n\n# Train Logistic Regression model\nlr = LogisticRegression(featuresCol=\"features\", labelCol=\"label\")\nlr_model = lr.fit(train_data)\n\n# Predict\npredictions = lr_model.transform(test_data)\n\n# Evaluate\nevaluator = MulticlassClassificationEvaluator(labelCol=\"label\", predictionCol=\"prediction\", metricName=\"accuracy\")\naccuracy = evaluator.evaluate(predictions)\n\nprint(f\"Test Accuracy: {accuracy:.2f}\")\n",
                    "submissionTime": "2024-12-08T03:24:59.298GMT",
                    "completionTime": "2024-12-08T03:24:59.334GMT",
                    "stageIds": [
                      126
                    ],
                    "jobGroup": "8",
                    "status": "SUCCEEDED",
                    "numTasks": 1,
                    "numActiveTasks": 0,
                    "numCompletedTasks": 1,
                    "numSkippedTasks": 0,
                    "numFailedTasks": 0,
                    "numKilledTasks": 0,
                    "numCompletedIndices": 1,
                    "numActiveStages": 0,
                    "numCompletedStages": 1,
                    "numSkippedStages": 0,
                    "numFailedStages": 0,
                    "killedTasksSummary": {}
                  },
                  {
                    "displayName": "treeAggregate at RDDLossFunction.scala:61",
                    "dataWritten": 0,
                    "dataRead": 962312,
                    "rowCount": 1,
                    "usageDescription": "",
                    "jobId": 120,
                    "name": "treeAggregate at RDDLossFunction.scala:61",
                    "description": "Job group for statement 8:\n\n\n# Split the data 80-20\ntrain_data, test_data = processed_df.randomSplit([0.8, 0.2], seed=42)\n\n# Train Logistic Regression model\nlr = LogisticRegression(featuresCol=\"features\", labelCol=\"label\")\nlr_model = lr.fit(train_data)\n\n# Predict\npredictions = lr_model.transform(test_data)\n\n# Evaluate\nevaluator = MulticlassClassificationEvaluator(labelCol=\"label\", predictionCol=\"prediction\", metricName=\"accuracy\")\naccuracy = evaluator.evaluate(predictions)\n\nprint(f\"Test Accuracy: {accuracy:.2f}\")\n",
                    "submissionTime": "2024-12-08T03:24:59.240GMT",
                    "completionTime": "2024-12-08T03:24:59.278GMT",
                    "stageIds": [
                      125
                    ],
                    "jobGroup": "8",
                    "status": "SUCCEEDED",
                    "numTasks": 1,
                    "numActiveTasks": 0,
                    "numCompletedTasks": 1,
                    "numSkippedTasks": 0,
                    "numFailedTasks": 0,
                    "numKilledTasks": 0,
                    "numCompletedIndices": 1,
                    "numActiveStages": 0,
                    "numCompletedStages": 1,
                    "numSkippedStages": 0,
                    "numFailedStages": 0,
                    "killedTasksSummary": {}
                  },
                  {
                    "displayName": "treeAggregate at RDDLossFunction.scala:61",
                    "dataWritten": 0,
                    "dataRead": 962312,
                    "rowCount": 1,
                    "usageDescription": "",
                    "jobId": 119,
                    "name": "treeAggregate at RDDLossFunction.scala:61",
                    "description": "Job group for statement 8:\n\n\n# Split the data 80-20\ntrain_data, test_data = processed_df.randomSplit([0.8, 0.2], seed=42)\n\n# Train Logistic Regression model\nlr = LogisticRegression(featuresCol=\"features\", labelCol=\"label\")\nlr_model = lr.fit(train_data)\n\n# Predict\npredictions = lr_model.transform(test_data)\n\n# Evaluate\nevaluator = MulticlassClassificationEvaluator(labelCol=\"label\", predictionCol=\"prediction\", metricName=\"accuracy\")\naccuracy = evaluator.evaluate(predictions)\n\nprint(f\"Test Accuracy: {accuracy:.2f}\")\n",
                    "submissionTime": "2024-12-08T03:24:59.153GMT",
                    "completionTime": "2024-12-08T03:24:59.214GMT",
                    "stageIds": [
                      124
                    ],
                    "jobGroup": "8",
                    "status": "SUCCEEDED",
                    "numTasks": 1,
                    "numActiveTasks": 0,
                    "numCompletedTasks": 1,
                    "numSkippedTasks": 0,
                    "numFailedTasks": 0,
                    "numKilledTasks": 0,
                    "numCompletedIndices": 1,
                    "numActiveStages": 0,
                    "numCompletedStages": 1,
                    "numSkippedStages": 0,
                    "numFailedStages": 0,
                    "killedTasksSummary": {}
                  },
                  {
                    "displayName": "treeAggregate at RDDLossFunction.scala:61",
                    "dataWritten": 0,
                    "dataRead": 962312,
                    "rowCount": 1,
                    "usageDescription": "",
                    "jobId": 118,
                    "name": "treeAggregate at RDDLossFunction.scala:61",
                    "description": "Job group for statement 8:\n\n\n# Split the data 80-20\ntrain_data, test_data = processed_df.randomSplit([0.8, 0.2], seed=42)\n\n# Train Logistic Regression model\nlr = LogisticRegression(featuresCol=\"features\", labelCol=\"label\")\nlr_model = lr.fit(train_data)\n\n# Predict\npredictions = lr_model.transform(test_data)\n\n# Evaluate\nevaluator = MulticlassClassificationEvaluator(labelCol=\"label\", predictionCol=\"prediction\", metricName=\"accuracy\")\naccuracy = evaluator.evaluate(predictions)\n\nprint(f\"Test Accuracy: {accuracy:.2f}\")\n",
                    "submissionTime": "2024-12-08T03:24:58.962GMT",
                    "completionTime": "2024-12-08T03:24:59.020GMT",
                    "stageIds": [
                      123
                    ],
                    "jobGroup": "8",
                    "status": "SUCCEEDED",
                    "numTasks": 1,
                    "numActiveTasks": 0,
                    "numCompletedTasks": 1,
                    "numSkippedTasks": 0,
                    "numFailedTasks": 0,
                    "numKilledTasks": 0,
                    "numCompletedIndices": 1,
                    "numActiveStages": 0,
                    "numCompletedStages": 1,
                    "numSkippedStages": 0,
                    "numFailedStages": 0,
                    "killedTasksSummary": {}
                  },
                  {
                    "displayName": "treeAggregate at RDDLossFunction.scala:61",
                    "dataWritten": 0,
                    "dataRead": 962312,
                    "rowCount": 1,
                    "usageDescription": "",
                    "jobId": 117,
                    "name": "treeAggregate at RDDLossFunction.scala:61",
                    "description": "Job group for statement 8:\n\n\n# Split the data 80-20\ntrain_data, test_data = processed_df.randomSplit([0.8, 0.2], seed=42)\n\n# Train Logistic Regression model\nlr = LogisticRegression(featuresCol=\"features\", labelCol=\"label\")\nlr_model = lr.fit(train_data)\n\n# Predict\npredictions = lr_model.transform(test_data)\n\n# Evaluate\nevaluator = MulticlassClassificationEvaluator(labelCol=\"label\", predictionCol=\"prediction\", metricName=\"accuracy\")\naccuracy = evaluator.evaluate(predictions)\n\nprint(f\"Test Accuracy: {accuracy:.2f}\")\n",
                    "submissionTime": "2024-12-08T03:24:58.840GMT",
                    "completionTime": "2024-12-08T03:24:58.890GMT",
                    "stageIds": [
                      122
                    ],
                    "jobGroup": "8",
                    "status": "SUCCEEDED",
                    "numTasks": 1,
                    "numActiveTasks": 0,
                    "numCompletedTasks": 1,
                    "numSkippedTasks": 0,
                    "numFailedTasks": 0,
                    "numKilledTasks": 0,
                    "numCompletedIndices": 1,
                    "numActiveStages": 0,
                    "numCompletedStages": 1,
                    "numSkippedStages": 0,
                    "numFailedStages": 0,
                    "killedTasksSummary": {}
                  },
                  {
                    "displayName": "treeAggregate at RDDLossFunction.scala:61",
                    "dataWritten": 0,
                    "dataRead": 962312,
                    "rowCount": 1,
                    "usageDescription": "",
                    "jobId": 116,
                    "name": "treeAggregate at RDDLossFunction.scala:61",
                    "description": "Job group for statement 8:\n\n\n# Split the data 80-20\ntrain_data, test_data = processed_df.randomSplit([0.8, 0.2], seed=42)\n\n# Train Logistic Regression model\nlr = LogisticRegression(featuresCol=\"features\", labelCol=\"label\")\nlr_model = lr.fit(train_data)\n\n# Predict\npredictions = lr_model.transform(test_data)\n\n# Evaluate\nevaluator = MulticlassClassificationEvaluator(labelCol=\"label\", predictionCol=\"prediction\", metricName=\"accuracy\")\naccuracy = evaluator.evaluate(predictions)\n\nprint(f\"Test Accuracy: {accuracy:.2f}\")\n",
                    "submissionTime": "2024-12-08T03:24:58.772GMT",
                    "completionTime": "2024-12-08T03:24:58.820GMT",
                    "stageIds": [
                      121
                    ],
                    "jobGroup": "8",
                    "status": "SUCCEEDED",
                    "numTasks": 1,
                    "numActiveTasks": 0,
                    "numCompletedTasks": 1,
                    "numSkippedTasks": 0,
                    "numFailedTasks": 0,
                    "numKilledTasks": 0,
                    "numCompletedIndices": 1,
                    "numActiveStages": 0,
                    "numCompletedStages": 1,
                    "numSkippedStages": 0,
                    "numFailedStages": 0,
                    "killedTasksSummary": {}
                  },
                  {
                    "displayName": "treeAggregate at RDDLossFunction.scala:61",
                    "dataWritten": 0,
                    "dataRead": 962312,
                    "rowCount": 1,
                    "usageDescription": "",
                    "jobId": 115,
                    "name": "treeAggregate at RDDLossFunction.scala:61",
                    "description": "Job group for statement 8:\n\n\n# Split the data 80-20\ntrain_data, test_data = processed_df.randomSplit([0.8, 0.2], seed=42)\n\n# Train Logistic Regression model\nlr = LogisticRegression(featuresCol=\"features\", labelCol=\"label\")\nlr_model = lr.fit(train_data)\n\n# Predict\npredictions = lr_model.transform(test_data)\n\n# Evaluate\nevaluator = MulticlassClassificationEvaluator(labelCol=\"label\", predictionCol=\"prediction\", metricName=\"accuracy\")\naccuracy = evaluator.evaluate(predictions)\n\nprint(f\"Test Accuracy: {accuracy:.2f}\")\n",
                    "submissionTime": "2024-12-08T03:24:58.718GMT",
                    "completionTime": "2024-12-08T03:24:58.756GMT",
                    "stageIds": [
                      120
                    ],
                    "jobGroup": "8",
                    "status": "SUCCEEDED",
                    "numTasks": 1,
                    "numActiveTasks": 0,
                    "numCompletedTasks": 1,
                    "numSkippedTasks": 0,
                    "numFailedTasks": 0,
                    "numKilledTasks": 0,
                    "numCompletedIndices": 1,
                    "numActiveStages": 0,
                    "numCompletedStages": 1,
                    "numSkippedStages": 0,
                    "numFailedStages": 0,
                    "killedTasksSummary": {}
                  },
                  {
                    "displayName": "treeAggregate at RDDLossFunction.scala:61",
                    "dataWritten": 0,
                    "dataRead": 962312,
                    "rowCount": 1,
                    "usageDescription": "",
                    "jobId": 114,
                    "name": "treeAggregate at RDDLossFunction.scala:61",
                    "description": "Job group for statement 8:\n\n\n# Split the data 80-20\ntrain_data, test_data = processed_df.randomSplit([0.8, 0.2], seed=42)\n\n# Train Logistic Regression model\nlr = LogisticRegression(featuresCol=\"features\", labelCol=\"label\")\nlr_model = lr.fit(train_data)\n\n# Predict\npredictions = lr_model.transform(test_data)\n\n# Evaluate\nevaluator = MulticlassClassificationEvaluator(labelCol=\"label\", predictionCol=\"prediction\", metricName=\"accuracy\")\naccuracy = evaluator.evaluate(predictions)\n\nprint(f\"Test Accuracy: {accuracy:.2f}\")\n",
                    "submissionTime": "2024-12-08T03:24:58.655GMT",
                    "completionTime": "2024-12-08T03:24:58.699GMT",
                    "stageIds": [
                      119
                    ],
                    "jobGroup": "8",
                    "status": "SUCCEEDED",
                    "numTasks": 1,
                    "numActiveTasks": 0,
                    "numCompletedTasks": 1,
                    "numSkippedTasks": 0,
                    "numFailedTasks": 0,
                    "numKilledTasks": 0,
                    "numCompletedIndices": 1,
                    "numActiveStages": 0,
                    "numCompletedStages": 1,
                    "numSkippedStages": 0,
                    "numFailedStages": 0,
                    "killedTasksSummary": {}
                  },
                  {
                    "displayName": "treeAggregate at RDDLossFunction.scala:61",
                    "dataWritten": 0,
                    "dataRead": 962312,
                    "rowCount": 1,
                    "usageDescription": "",
                    "jobId": 113,
                    "name": "treeAggregate at RDDLossFunction.scala:61",
                    "description": "Job group for statement 8:\n\n\n# Split the data 80-20\ntrain_data, test_data = processed_df.randomSplit([0.8, 0.2], seed=42)\n\n# Train Logistic Regression model\nlr = LogisticRegression(featuresCol=\"features\", labelCol=\"label\")\nlr_model = lr.fit(train_data)\n\n# Predict\npredictions = lr_model.transform(test_data)\n\n# Evaluate\nevaluator = MulticlassClassificationEvaluator(labelCol=\"label\", predictionCol=\"prediction\", metricName=\"accuracy\")\naccuracy = evaluator.evaluate(predictions)\n\nprint(f\"Test Accuracy: {accuracy:.2f}\")\n",
                    "submissionTime": "2024-12-08T03:24:58.600GMT",
                    "completionTime": "2024-12-08T03:24:58.636GMT",
                    "stageIds": [
                      118
                    ],
                    "jobGroup": "8",
                    "status": "SUCCEEDED",
                    "numTasks": 1,
                    "numActiveTasks": 0,
                    "numCompletedTasks": 1,
                    "numSkippedTasks": 0,
                    "numFailedTasks": 0,
                    "numKilledTasks": 0,
                    "numCompletedIndices": 1,
                    "numActiveStages": 0,
                    "numCompletedStages": 1,
                    "numSkippedStages": 0,
                    "numFailedStages": 0,
                    "killedTasksSummary": {}
                  },
                  {
                    "displayName": "treeAggregate at RDDLossFunction.scala:61",
                    "dataWritten": 0,
                    "dataRead": 962312,
                    "rowCount": 1,
                    "usageDescription": "",
                    "jobId": 112,
                    "name": "treeAggregate at RDDLossFunction.scala:61",
                    "description": "Job group for statement 8:\n\n\n# Split the data 80-20\ntrain_data, test_data = processed_df.randomSplit([0.8, 0.2], seed=42)\n\n# Train Logistic Regression model\nlr = LogisticRegression(featuresCol=\"features\", labelCol=\"label\")\nlr_model = lr.fit(train_data)\n\n# Predict\npredictions = lr_model.transform(test_data)\n\n# Evaluate\nevaluator = MulticlassClassificationEvaluator(labelCol=\"label\", predictionCol=\"prediction\", metricName=\"accuracy\")\naccuracy = evaluator.evaluate(predictions)\n\nprint(f\"Test Accuracy: {accuracy:.2f}\")\n",
                    "submissionTime": "2024-12-08T03:24:58.537GMT",
                    "completionTime": "2024-12-08T03:24:58.575GMT",
                    "stageIds": [
                      117
                    ],
                    "jobGroup": "8",
                    "status": "SUCCEEDED",
                    "numTasks": 1,
                    "numActiveTasks": 0,
                    "numCompletedTasks": 1,
                    "numSkippedTasks": 0,
                    "numFailedTasks": 0,
                    "numKilledTasks": 0,
                    "numCompletedIndices": 1,
                    "numActiveStages": 0,
                    "numCompletedStages": 1,
                    "numSkippedStages": 0,
                    "numFailedStages": 0,
                    "killedTasksSummary": {}
                  },
                  {
                    "displayName": "treeAggregate at RDDLossFunction.scala:61",
                    "dataWritten": 0,
                    "dataRead": 962312,
                    "rowCount": 1,
                    "usageDescription": "",
                    "jobId": 111,
                    "name": "treeAggregate at RDDLossFunction.scala:61",
                    "description": "Job group for statement 8:\n\n\n# Split the data 80-20\ntrain_data, test_data = processed_df.randomSplit([0.8, 0.2], seed=42)\n\n# Train Logistic Regression model\nlr = LogisticRegression(featuresCol=\"features\", labelCol=\"label\")\nlr_model = lr.fit(train_data)\n\n# Predict\npredictions = lr_model.transform(test_data)\n\n# Evaluate\nevaluator = MulticlassClassificationEvaluator(labelCol=\"label\", predictionCol=\"prediction\", metricName=\"accuracy\")\naccuracy = evaluator.evaluate(predictions)\n\nprint(f\"Test Accuracy: {accuracy:.2f}\")\n",
                    "submissionTime": "2024-12-08T03:24:58.467GMT",
                    "completionTime": "2024-12-08T03:24:58.506GMT",
                    "stageIds": [
                      116
                    ],
                    "jobGroup": "8",
                    "status": "SUCCEEDED",
                    "numTasks": 1,
                    "numActiveTasks": 0,
                    "numCompletedTasks": 1,
                    "numSkippedTasks": 0,
                    "numFailedTasks": 0,
                    "numKilledTasks": 0,
                    "numCompletedIndices": 1,
                    "numActiveStages": 0,
                    "numCompletedStages": 1,
                    "numSkippedStages": 0,
                    "numFailedStages": 0,
                    "killedTasksSummary": {}
                  },
                  {
                    "displayName": "treeAggregate at RDDLossFunction.scala:61",
                    "dataWritten": 0,
                    "dataRead": 962312,
                    "rowCount": 1,
                    "usageDescription": "",
                    "jobId": 110,
                    "name": "treeAggregate at RDDLossFunction.scala:61",
                    "description": "Job group for statement 8:\n\n\n# Split the data 80-20\ntrain_data, test_data = processed_df.randomSplit([0.8, 0.2], seed=42)\n\n# Train Logistic Regression model\nlr = LogisticRegression(featuresCol=\"features\", labelCol=\"label\")\nlr_model = lr.fit(train_data)\n\n# Predict\npredictions = lr_model.transform(test_data)\n\n# Evaluate\nevaluator = MulticlassClassificationEvaluator(labelCol=\"label\", predictionCol=\"prediction\", metricName=\"accuracy\")\naccuracy = evaluator.evaluate(predictions)\n\nprint(f\"Test Accuracy: {accuracy:.2f}\")\n",
                    "submissionTime": "2024-12-08T03:24:58.403GMT",
                    "completionTime": "2024-12-08T03:24:58.447GMT",
                    "stageIds": [
                      115
                    ],
                    "jobGroup": "8",
                    "status": "SUCCEEDED",
                    "numTasks": 1,
                    "numActiveTasks": 0,
                    "numCompletedTasks": 1,
                    "numSkippedTasks": 0,
                    "numFailedTasks": 0,
                    "numKilledTasks": 0,
                    "numCompletedIndices": 1,
                    "numActiveStages": 0,
                    "numCompletedStages": 1,
                    "numSkippedStages": 0,
                    "numFailedStages": 0,
                    "killedTasksSummary": {}
                  },
                  {
                    "displayName": "treeAggregate at RDDLossFunction.scala:61",
                    "dataWritten": 0,
                    "dataRead": 962312,
                    "rowCount": 1,
                    "usageDescription": "",
                    "jobId": 109,
                    "name": "treeAggregate at RDDLossFunction.scala:61",
                    "description": "Job group for statement 8:\n\n\n# Split the data 80-20\ntrain_data, test_data = processed_df.randomSplit([0.8, 0.2], seed=42)\n\n# Train Logistic Regression model\nlr = LogisticRegression(featuresCol=\"features\", labelCol=\"label\")\nlr_model = lr.fit(train_data)\n\n# Predict\npredictions = lr_model.transform(test_data)\n\n# Evaluate\nevaluator = MulticlassClassificationEvaluator(labelCol=\"label\", predictionCol=\"prediction\", metricName=\"accuracy\")\naccuracy = evaluator.evaluate(predictions)\n\nprint(f\"Test Accuracy: {accuracy:.2f}\")\n",
                    "submissionTime": "2024-12-08T03:24:58.182GMT",
                    "completionTime": "2024-12-08T03:24:58.314GMT",
                    "stageIds": [
                      114
                    ],
                    "jobGroup": "8",
                    "status": "SUCCEEDED",
                    "numTasks": 1,
                    "numActiveTasks": 0,
                    "numCompletedTasks": 1,
                    "numSkippedTasks": 0,
                    "numFailedTasks": 0,
                    "numKilledTasks": 0,
                    "numCompletedIndices": 1,
                    "numActiveStages": 0,
                    "numCompletedStages": 1,
                    "numSkippedStages": 0,
                    "numFailedStages": 0,
                    "killedTasksSummary": {}
                  },
                  {
                    "displayName": "treeAggregate at RDDLossFunction.scala:61",
                    "dataWritten": 0,
                    "dataRead": 962312,
                    "rowCount": 1,
                    "usageDescription": "",
                    "jobId": 108,
                    "name": "treeAggregate at RDDLossFunction.scala:61",
                    "description": "Job group for statement 8:\n\n\n# Split the data 80-20\ntrain_data, test_data = processed_df.randomSplit([0.8, 0.2], seed=42)\n\n# Train Logistic Regression model\nlr = LogisticRegression(featuresCol=\"features\", labelCol=\"label\")\nlr_model = lr.fit(train_data)\n\n# Predict\npredictions = lr_model.transform(test_data)\n\n# Evaluate\nevaluator = MulticlassClassificationEvaluator(labelCol=\"label\", predictionCol=\"prediction\", metricName=\"accuracy\")\naccuracy = evaluator.evaluate(predictions)\n\nprint(f\"Test Accuracy: {accuracy:.2f}\")\n",
                    "submissionTime": "2024-12-08T03:24:58.117GMT",
                    "completionTime": "2024-12-08T03:24:58.156GMT",
                    "stageIds": [
                      113
                    ],
                    "jobGroup": "8",
                    "status": "SUCCEEDED",
                    "numTasks": 1,
                    "numActiveTasks": 0,
                    "numCompletedTasks": 1,
                    "numSkippedTasks": 0,
                    "numFailedTasks": 0,
                    "numKilledTasks": 0,
                    "numCompletedIndices": 1,
                    "numActiveStages": 0,
                    "numCompletedStages": 1,
                    "numSkippedStages": 0,
                    "numFailedStages": 0,
                    "killedTasksSummary": {}
                  },
                  {
                    "displayName": "treeAggregate at RDDLossFunction.scala:61",
                    "dataWritten": 0,
                    "dataRead": 962312,
                    "rowCount": 1,
                    "usageDescription": "",
                    "jobId": 107,
                    "name": "treeAggregate at RDDLossFunction.scala:61",
                    "description": "Job group for statement 8:\n\n\n# Split the data 80-20\ntrain_data, test_data = processed_df.randomSplit([0.8, 0.2], seed=42)\n\n# Train Logistic Regression model\nlr = LogisticRegression(featuresCol=\"features\", labelCol=\"label\")\nlr_model = lr.fit(train_data)\n\n# Predict\npredictions = lr_model.transform(test_data)\n\n# Evaluate\nevaluator = MulticlassClassificationEvaluator(labelCol=\"label\", predictionCol=\"prediction\", metricName=\"accuracy\")\naccuracy = evaluator.evaluate(predictions)\n\nprint(f\"Test Accuracy: {accuracy:.2f}\")\n",
                    "submissionTime": "2024-12-08T03:24:58.021GMT",
                    "completionTime": "2024-12-08T03:24:58.095GMT",
                    "stageIds": [
                      112
                    ],
                    "jobGroup": "8",
                    "status": "SUCCEEDED",
                    "numTasks": 1,
                    "numActiveTasks": 0,
                    "numCompletedTasks": 1,
                    "numSkippedTasks": 0,
                    "numFailedTasks": 0,
                    "numKilledTasks": 0,
                    "numCompletedIndices": 1,
                    "numActiveStages": 0,
                    "numCompletedStages": 1,
                    "numSkippedStages": 0,
                    "numFailedStages": 0,
                    "killedTasksSummary": {}
                  },
                  {
                    "displayName": "treeAggregate at RDDLossFunction.scala:61",
                    "dataWritten": 0,
                    "dataRead": 962312,
                    "rowCount": 1,
                    "usageDescription": "",
                    "jobId": 106,
                    "name": "treeAggregate at RDDLossFunction.scala:61",
                    "description": "Job group for statement 8:\n\n\n# Split the data 80-20\ntrain_data, test_data = processed_df.randomSplit([0.8, 0.2], seed=42)\n\n# Train Logistic Regression model\nlr = LogisticRegression(featuresCol=\"features\", labelCol=\"label\")\nlr_model = lr.fit(train_data)\n\n# Predict\npredictions = lr_model.transform(test_data)\n\n# Evaluate\nevaluator = MulticlassClassificationEvaluator(labelCol=\"label\", predictionCol=\"prediction\", metricName=\"accuracy\")\naccuracy = evaluator.evaluate(predictions)\n\nprint(f\"Test Accuracy: {accuracy:.2f}\")\n",
                    "submissionTime": "2024-12-08T03:24:57.958GMT",
                    "completionTime": "2024-12-08T03:24:57.997GMT",
                    "stageIds": [
                      111
                    ],
                    "jobGroup": "8",
                    "status": "SUCCEEDED",
                    "numTasks": 1,
                    "numActiveTasks": 0,
                    "numCompletedTasks": 1,
                    "numSkippedTasks": 0,
                    "numFailedTasks": 0,
                    "numKilledTasks": 0,
                    "numCompletedIndices": 1,
                    "numActiveStages": 0,
                    "numCompletedStages": 1,
                    "numSkippedStages": 0,
                    "numFailedStages": 0,
                    "killedTasksSummary": {}
                  },
                  {
                    "displayName": "treeAggregate at RDDLossFunction.scala:61",
                    "dataWritten": 0,
                    "dataRead": 962312,
                    "rowCount": 1,
                    "usageDescription": "",
                    "jobId": 105,
                    "name": "treeAggregate at RDDLossFunction.scala:61",
                    "description": "Job group for statement 8:\n\n\n# Split the data 80-20\ntrain_data, test_data = processed_df.randomSplit([0.8, 0.2], seed=42)\n\n# Train Logistic Regression model\nlr = LogisticRegression(featuresCol=\"features\", labelCol=\"label\")\nlr_model = lr.fit(train_data)\n\n# Predict\npredictions = lr_model.transform(test_data)\n\n# Evaluate\nevaluator = MulticlassClassificationEvaluator(labelCol=\"label\", predictionCol=\"prediction\", metricName=\"accuracy\")\naccuracy = evaluator.evaluate(predictions)\n\nprint(f\"Test Accuracy: {accuracy:.2f}\")\n",
                    "submissionTime": "2024-12-08T03:24:57.893GMT",
                    "completionTime": "2024-12-08T03:24:57.940GMT",
                    "stageIds": [
                      110
                    ],
                    "jobGroup": "8",
                    "status": "SUCCEEDED",
                    "numTasks": 1,
                    "numActiveTasks": 0,
                    "numCompletedTasks": 1,
                    "numSkippedTasks": 0,
                    "numFailedTasks": 0,
                    "numKilledTasks": 0,
                    "numCompletedIndices": 1,
                    "numActiveStages": 0,
                    "numCompletedStages": 1,
                    "numSkippedStages": 0,
                    "numFailedStages": 0,
                    "killedTasksSummary": {}
                  },
                  {
                    "displayName": "treeAggregate at RDDLossFunction.scala:61",
                    "dataWritten": 0,
                    "dataRead": 962312,
                    "rowCount": 1,
                    "usageDescription": "",
                    "jobId": 104,
                    "name": "treeAggregate at RDDLossFunction.scala:61",
                    "description": "Job group for statement 8:\n\n\n# Split the data 80-20\ntrain_data, test_data = processed_df.randomSplit([0.8, 0.2], seed=42)\n\n# Train Logistic Regression model\nlr = LogisticRegression(featuresCol=\"features\", labelCol=\"label\")\nlr_model = lr.fit(train_data)\n\n# Predict\npredictions = lr_model.transform(test_data)\n\n# Evaluate\nevaluator = MulticlassClassificationEvaluator(labelCol=\"label\", predictionCol=\"prediction\", metricName=\"accuracy\")\naccuracy = evaluator.evaluate(predictions)\n\nprint(f\"Test Accuracy: {accuracy:.2f}\")\n",
                    "submissionTime": "2024-12-08T03:24:57.831GMT",
                    "completionTime": "2024-12-08T03:24:57.873GMT",
                    "stageIds": [
                      109
                    ],
                    "jobGroup": "8",
                    "status": "SUCCEEDED",
                    "numTasks": 1,
                    "numActiveTasks": 0,
                    "numCompletedTasks": 1,
                    "numSkippedTasks": 0,
                    "numFailedTasks": 0,
                    "numKilledTasks": 0,
                    "numCompletedIndices": 1,
                    "numActiveStages": 0,
                    "numCompletedStages": 1,
                    "numSkippedStages": 0,
                    "numFailedStages": 0,
                    "killedTasksSummary": {}
                  }
                ],
                "limit": 20,
                "rule": "ALL_DESC"
              },
              "session_id": "37",
              "normalized_state": "finished",
              "queued_time": "2024-12-08T03:24:45.9780009Z",
              "session_start_time": null,
              "execution_start_time": "2024-12-08T03:24:46.1014602Z",
              "execution_finish_time": "2024-12-08T03:25:03.114834Z",
              "parent_msg_id": "f1a249aa-1e1c-4b98-b184-3d09ee95d01e"
            },
            "text/plain": "StatementMeta(ba5e360d-f184-47a0-9859-76b5031b79e3, 37, 8, Finished, Available, Finished)"
          },
          "metadata": {}
        },
        {
          "output_type": "stream",
          "name": "stdout",
          "text": "Test Accuracy: 0.58\n"
        }
      ],
      "execution_count": 3,
      "metadata": {
        "jupyter": {
          "source_hidden": false,
          "outputs_hidden": false
        },
        "nteract": {
          "transient": {
            "deleting": false
          }
        },
        "gather": {
          "logged": 1733628303268
        }
      }
    },
    {
      "cell_type": "code",
      "source": [
        "# Weighted Precision (Multiclass)\n",
        "evaluator_precision = MulticlassClassificationEvaluator(labelCol=\"label\", predictionCol=\"prediction\", metricName=\"weightedPrecision\")\n",
        "precision = evaluator_precision.evaluate(predictions)\n",
        "print(f\"Test Precision: {precision:.2f}\")\n",
        "\n",
        "# Weighted Recall (Multiclass)\n",
        "evaluator_recall = MulticlassClassificationEvaluator(labelCol=\"label\", predictionCol=\"prediction\", metricName=\"weightedRecall\")\n",
        "recall = evaluator_recall.evaluate(predictions)\n",
        "print(f\"Test Recall: {recall:.2f}\")\n",
        "\n",
        "# F1-Score (Multiclass)\n",
        "evaluator_f1 = MulticlassClassificationEvaluator(labelCol=\"label\", predictionCol=\"prediction\", metricName=\"f1\")\n",
        "f1_score = evaluator_f1.evaluate(predictions)\n",
        "print(f\"Test F1-Score: {f1_score:.2f}\")\n",
        "\n",
        "# AUC-ROC (For Binary Classification, works for binary classification)\n",
        "evaluator_auc = BinaryClassificationEvaluator(labelCol=\"label\", rawPredictionCol=\"prediction\", metricName=\"areaUnderROC\")\n",
        "auc_roc = evaluator_auc.evaluate(predictions)\n",
        "print(f\"Test AUC-ROC: {auc_roc:.2f}\")"
      ],
      "outputs": [],
      "execution_count": null,
      "metadata": {
        "jupyter": {
          "source_hidden": false,
          "outputs_hidden": false
        },
        "nteract": {
          "transient": {
            "deleting": false
          }
        }
      }
    }
  ],
  "metadata": {
    "kernelspec": {
      "name": "synapse_pyspark",
      "language": "Python",
      "display_name": "Synapse PySpark"
    },
    "language_info": {
      "name": "python",
      "version": "3.8.0",
      "mimetype": "text/x-python",
      "file_extension": ".py",
      "pygments_lexer": "ipython",
      "codemirror_mode": "ipython",
      "nbconvert_exporter": "python"
    },
    "microsoft": {
      "ms_spell_check": {
        "ms_spell_check_language": "en"
      },
      "host": {
        "AzureML": {
          "notebookHasBeenCompleted": true
        }
      }
    },
    "kernel_info": {
      "name": "synapse_pyspark"
    },
    "nteract": {
      "version": "nteract-front-end@1.0.0"
    }
  },
  "nbformat": 4,
  "nbformat_minor": 2
}