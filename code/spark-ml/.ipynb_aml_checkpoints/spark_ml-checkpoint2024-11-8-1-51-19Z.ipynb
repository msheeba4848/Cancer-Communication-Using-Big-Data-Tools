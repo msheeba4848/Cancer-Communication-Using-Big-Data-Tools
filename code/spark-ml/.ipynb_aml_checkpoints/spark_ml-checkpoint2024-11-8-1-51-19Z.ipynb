{
  "cells": [
    {
      "cell_type": "code",
      "source": [
        "from pyspark.sql import SparkSession\n",
        "\n",
        "# Start Spark session\n",
        "spark = SparkSession.builder.appName(\"NaiveBayes_Example\").getOrCreate()\n",
        "\n",
        "# Create a 100% predictable dataset\n",
        "df = spark.createDataFrame([\n",
        "    (\"I feel great\", \"pos\", \"cancer\"),\n",
        "    (\"This is amazing\", \"pos\", \"non-cancer\"),\n",
        "    (\"Not good at all\", \"neg\", \"cancer\"),\n",
        "    (\"Terrible experience\", \"neg\", \"non-cancer\")\n",
        "], [\"text\", \"sentiment\", \"cancer\"])\n",
        "\n",
        "df.show()\n",
        "\n",
        "\n",
        "from pyspark.ml.feature import Tokenizer, StopWordsRemover, CountVectorizer, IDF, StringIndexer\n",
        "from pyspark.ml.classification import NaiveBayes\n",
        "from pyspark.ml.evaluation import MulticlassClassificationEvaluator\n",
        "from pyspark.ml import Pipeline\n",
        "\n",
        "# Tokenizer and stop words removal\n",
        "tokenizer = Tokenizer(inputCol=\"text\", outputCol=\"tokens\")\n",
        "stopwords_remover = StopWordsRemover(inputCol=\"tokens\", outputCol=\"filtered_tokens\")\n",
        "\n",
        "# Vectorization and TF-IDF\n",
        "count_vectorizer = CountVectorizer(inputCol=\"filtered_tokens\", outputCol=\"raw_features\")\n",
        "idf = IDF(inputCol=\"raw_features\", outputCol=\"features\")\n",
        "\n",
        "# Label encoding\n",
        "indexer = StringIndexer(inputCol=\"sentiment\", outputCol=\"label\")\n",
        "\n",
        "# Build pipeline\n",
        "pipeline = Pipeline(stages=[tokenizer, stopwords_remover, count_vectorizer, idf, indexer])\n",
        "\n",
        "# Fit and transform\n",
        "processed_df = pipeline.fit(df).transform(df)\n",
        "\n",
        "# Split the data (use all data for training for simplicity)\n",
        "train_data, test_data = processed_df.randomSplit([0.8, 0.2], seed=42)\n",
        "\n",
        "# Train Naive Bayes model\n",
        "nb = NaiveBayes(featuresCol=\"features\", labelCol=\"label\", modelType=\"multinomial\")\n",
        "nb_model = nb.fit(train_data)\n",
        "\n",
        "# Predict\n",
        "predictions = nb_model.transform(test_data)\n",
        "\n",
        "# Evaluate\n",
        "evaluator = MulticlassClassificationEvaluator(labelCol=\"label\", predictionCol=\"prediction\", metricName=\"accuracy\")\n",
        "accuracy = evaluator.evaluate(predictions)\n",
        "\n",
        "print(f\"Test Accuracy: {accuracy:.2f}\")\n"
      ],
      "outputs": [
        {
          "output_type": "display_data",
          "data": {
            "application/vnd.livy.statement-meta+json": {
              "spark_pool": "ba5e360d-f184-47a0-9859-76b5031b79e3",
              "statement_id": 7,
              "statement_ids": [
                7
              ],
              "state": "finished",
              "livy_statement_state": "available",
              "spark_jobs": {
                "numbers": {
                  "SUCCEEDED": 11,
                  "UNKNOWN": 0,
                  "RUNNING": 0,
                  "FAILED": 0
                },
                "jobs": [
                  {
                    "displayName": "collectAsMap at MulticlassMetrics.scala:61",
                    "dataWritten": 63,
                    "dataRead": 63,
                    "rowCount": 2,
                    "usageDescription": "",
                    "jobId": 18,
                    "name": "collectAsMap at MulticlassMetrics.scala:61",
                    "description": "Job group for statement 7:\nfrom pyspark.sql import SparkSession\n\n# Start Spark session\nspark = SparkSession.builder.appName(\"NaiveBayes_Example\").getOrCreate()\n\n# Create a 100% predictable dataset\ndf = spark.createDataFrame([\n    (\"I feel great\", \"pos\", \"cancer\"),\n    (\"This is amazing\", \"pos\", \"non-cancer\"),\n    (\"Not good at all\", \"neg\", \"cancer\"),\n    (\"Terrible experience\", \"neg\", \"non-cancer\")\n], [\"text\", \"sentiment\", \"cancer\"])\n\ndf.show()\n\n\nfrom pyspark.ml.feature import Tokenizer, StopWordsRemover, CountVectorizer, IDF, StringIndexer\nfrom pyspark.ml.classification import NaiveBayes\nfrom pyspark.ml.evaluation import MulticlassClassificationEvaluator\nfrom pyspark.ml import Pipeline\n\n# Tokenizer and stop words removal\ntokenizer = Tokenizer(inputCol=\"text\", outputCol=\"tokens\")\nstopwords_remover = StopWordsRemover(inputCol=\"tokens\", outputCol=\"filtered_tokens\")\n\n# Vectorization and TF-IDF\ncount_vectorizer = CountVectorizer(inputCol=\"filtered_tokens\", outputCol=\"raw_features\")\nidf = IDF(inputCol=\"raw_features\", outputCol=\"features\")\n\n...",
                    "submissionTime": "2024-12-08T01:51:08.695GMT",
                    "completionTime": "2024-12-08T01:51:09.277GMT",
                    "stageIds": [
                      30,
                      29
                    ],
                    "jobGroup": "7",
                    "status": "SUCCEEDED",
                    "numTasks": 16,
                    "numActiveTasks": 0,
                    "numCompletedTasks": 16,
                    "numSkippedTasks": 0,
                    "numFailedTasks": 0,
                    "numKilledTasks": 0,
                    "numCompletedIndices": 16,
                    "numActiveStages": 0,
                    "numCompletedStages": 2,
                    "numSkippedStages": 0,
                    "numFailedStages": 0,
                    "killedTasksSummary": {}
                  },
                  {
                    "displayName": "collect at NaiveBayes.scala:194",
                    "dataWritten": 0,
                    "dataRead": 1924,
                    "rowCount": 3,
                    "usageDescription": "",
                    "jobId": 17,
                    "name": "collect at NaiveBayes.scala:194",
                    "description": "Job group for statement 7:\nfrom pyspark.sql import SparkSession\n\n# Start Spark session\nspark = SparkSession.builder.appName(\"NaiveBayes_Example\").getOrCreate()\n\n# Create a 100% predictable dataset\ndf = spark.createDataFrame([\n    (\"I feel great\", \"pos\", \"cancer\"),\n    (\"This is amazing\", \"pos\", \"non-cancer\"),\n    (\"Not good at all\", \"neg\", \"cancer\"),\n    (\"Terrible experience\", \"neg\", \"non-cancer\")\n], [\"text\", \"sentiment\", \"cancer\"])\n\ndf.show()\n\n\nfrom pyspark.ml.feature import Tokenizer, StopWordsRemover, CountVectorizer, IDF, StringIndexer\nfrom pyspark.ml.classification import NaiveBayes\nfrom pyspark.ml.evaluation import MulticlassClassificationEvaluator\nfrom pyspark.ml import Pipeline\n\n# Tokenizer and stop words removal\ntokenizer = Tokenizer(inputCol=\"text\", outputCol=\"tokens\")\nstopwords_remover = StopWordsRemover(inputCol=\"tokens\", outputCol=\"filtered_tokens\")\n\n# Vectorization and TF-IDF\ncount_vectorizer = CountVectorizer(inputCol=\"filtered_tokens\", outputCol=\"raw_features\")\nidf = IDF(inputCol=\"raw_features\", outputCol=\"features\")\n\n...",
                    "submissionTime": "2024-12-08T01:51:08.228GMT",
                    "completionTime": "2024-12-08T01:51:08.440GMT",
                    "stageIds": [
                      27,
                      28
                    ],
                    "jobGroup": "7",
                    "status": "SUCCEEDED",
                    "numTasks": 9,
                    "numActiveTasks": 0,
                    "numCompletedTasks": 1,
                    "numSkippedTasks": 8,
                    "numFailedTasks": 0,
                    "numKilledTasks": 0,
                    "numCompletedIndices": 1,
                    "numActiveStages": 0,
                    "numCompletedStages": 1,
                    "numSkippedStages": 1,
                    "numFailedStages": 0,
                    "killedTasksSummary": {}
                  },
                  {
                    "displayName": "collect at NaiveBayes.scala:194",
                    "dataWritten": 1924,
                    "dataRead": 0,
                    "rowCount": 3,
                    "usageDescription": "",
                    "jobId": 16,
                    "name": "collect at NaiveBayes.scala:194",
                    "description": "Job group for statement 7:\nfrom pyspark.sql import SparkSession\n\n# Start Spark session\nspark = SparkSession.builder.appName(\"NaiveBayes_Example\").getOrCreate()\n\n# Create a 100% predictable dataset\ndf = spark.createDataFrame([\n    (\"I feel great\", \"pos\", \"cancer\"),\n    (\"This is amazing\", \"pos\", \"non-cancer\"),\n    (\"Not good at all\", \"neg\", \"cancer\"),\n    (\"Terrible experience\", \"neg\", \"non-cancer\")\n], [\"text\", \"sentiment\", \"cancer\"])\n\ndf.show()\n\n\nfrom pyspark.ml.feature import Tokenizer, StopWordsRemover, CountVectorizer, IDF, StringIndexer\nfrom pyspark.ml.classification import NaiveBayes\nfrom pyspark.ml.evaluation import MulticlassClassificationEvaluator\nfrom pyspark.ml import Pipeline\n\n# Tokenizer and stop words removal\ntokenizer = Tokenizer(inputCol=\"text\", outputCol=\"tokens\")\nstopwords_remover = StopWordsRemover(inputCol=\"tokens\", outputCol=\"filtered_tokens\")\n\n# Vectorization and TF-IDF\ncount_vectorizer = CountVectorizer(inputCol=\"filtered_tokens\", outputCol=\"raw_features\")\nidf = IDF(inputCol=\"raw_features\", outputCol=\"features\")\n\n...",
                    "submissionTime": "2024-12-08T01:51:07.315GMT",
                    "completionTime": "2024-12-08T01:51:08.157GMT",
                    "stageIds": [
                      26
                    ],
                    "jobGroup": "7",
                    "status": "SUCCEEDED",
                    "numTasks": 8,
                    "numActiveTasks": 0,
                    "numCompletedTasks": 8,
                    "numSkippedTasks": 0,
                    "numFailedTasks": 0,
                    "numKilledTasks": 0,
                    "numCompletedIndices": 8,
                    "numActiveStages": 0,
                    "numCompletedStages": 1,
                    "numSkippedStages": 0,
                    "numFailedStages": 0,
                    "killedTasksSummary": {}
                  },
                  {
                    "displayName": "collect at StringIndexer.scala:204",
                    "dataWritten": 0,
                    "dataRead": 2364,
                    "rowCount": 8,
                    "usageDescription": "",
                    "jobId": 15,
                    "name": "collect at StringIndexer.scala:204",
                    "description": "Job group for statement 7:\nfrom pyspark.sql import SparkSession\n\n# Start Spark session\nspark = SparkSession.builder.appName(\"NaiveBayes_Example\").getOrCreate()\n\n# Create a 100% predictable dataset\ndf = spark.createDataFrame([\n    (\"I feel great\", \"pos\", \"cancer\"),\n    (\"This is amazing\", \"pos\", \"non-cancer\"),\n    (\"Not good at all\", \"neg\", \"cancer\"),\n    (\"Terrible experience\", \"neg\", \"non-cancer\")\n], [\"text\", \"sentiment\", \"cancer\"])\n\ndf.show()\n\n\nfrom pyspark.ml.feature import Tokenizer, StopWordsRemover, CountVectorizer, IDF, StringIndexer\nfrom pyspark.ml.classification import NaiveBayes\nfrom pyspark.ml.evaluation import MulticlassClassificationEvaluator\nfrom pyspark.ml import Pipeline\n\n# Tokenizer and stop words removal\ntokenizer = Tokenizer(inputCol=\"text\", outputCol=\"tokens\")\nstopwords_remover = StopWordsRemover(inputCol=\"tokens\", outputCol=\"filtered_tokens\")\n\n# Vectorization and TF-IDF\ncount_vectorizer = CountVectorizer(inputCol=\"filtered_tokens\", outputCol=\"raw_features\")\nidf = IDF(inputCol=\"raw_features\", outputCol=\"features\")\n\n...",
                    "submissionTime": "2024-12-08T01:51:06.471GMT",
                    "completionTime": "2024-12-08T01:51:06.678GMT",
                    "stageIds": [
                      24,
                      25
                    ],
                    "jobGroup": "7",
                    "status": "SUCCEEDED",
                    "numTasks": 9,
                    "numActiveTasks": 0,
                    "numCompletedTasks": 1,
                    "numSkippedTasks": 8,
                    "numFailedTasks": 0,
                    "numKilledTasks": 0,
                    "numCompletedIndices": 1,
                    "numActiveStages": 0,
                    "numCompletedStages": 1,
                    "numSkippedStages": 1,
                    "numFailedStages": 0,
                    "killedTasksSummary": {}
                  },
                  {
                    "displayName": "collect at StringIndexer.scala:204",
                    "dataWritten": 2364,
                    "dataRead": 0,
                    "rowCount": 8,
                    "usageDescription": "",
                    "jobId": 14,
                    "name": "collect at StringIndexer.scala:204",
                    "description": "Job group for statement 7:\nfrom pyspark.sql import SparkSession\n\n# Start Spark session\nspark = SparkSession.builder.appName(\"NaiveBayes_Example\").getOrCreate()\n\n# Create a 100% predictable dataset\ndf = spark.createDataFrame([\n    (\"I feel great\", \"pos\", \"cancer\"),\n    (\"This is amazing\", \"pos\", \"non-cancer\"),\n    (\"Not good at all\", \"neg\", \"cancer\"),\n    (\"Terrible experience\", \"neg\", \"non-cancer\")\n], [\"text\", \"sentiment\", \"cancer\"])\n\ndf.show()\n\n\nfrom pyspark.ml.feature import Tokenizer, StopWordsRemover, CountVectorizer, IDF, StringIndexer\nfrom pyspark.ml.classification import NaiveBayes\nfrom pyspark.ml.evaluation import MulticlassClassificationEvaluator\nfrom pyspark.ml import Pipeline\n\n# Tokenizer and stop words removal\ntokenizer = Tokenizer(inputCol=\"text\", outputCol=\"tokens\")\nstopwords_remover = StopWordsRemover(inputCol=\"tokens\", outputCol=\"filtered_tokens\")\n\n# Vectorization and TF-IDF\ncount_vectorizer = CountVectorizer(inputCol=\"filtered_tokens\", outputCol=\"raw_features\")\nidf = IDF(inputCol=\"raw_features\", outputCol=\"features\")\n\n...",
                    "submissionTime": "2024-12-08T01:51:06.014GMT",
                    "completionTime": "2024-12-08T01:51:06.431GMT",
                    "stageIds": [
                      23
                    ],
                    "jobGroup": "7",
                    "status": "SUCCEEDED",
                    "numTasks": 8,
                    "numActiveTasks": 0,
                    "numCompletedTasks": 8,
                    "numSkippedTasks": 0,
                    "numFailedTasks": 0,
                    "numKilledTasks": 0,
                    "numCompletedIndices": 8,
                    "numActiveStages": 0,
                    "numCompletedStages": 1,
                    "numSkippedStages": 0,
                    "numFailedStages": 0,
                    "killedTasksSummary": {}
                  },
                  {
                    "displayName": "treeAggregate at IDF.scala:55",
                    "dataWritten": 1084,
                    "dataRead": 1084,
                    "rowCount": 16,
                    "usageDescription": "",
                    "jobId": 13,
                    "name": "treeAggregate at IDF.scala:55",
                    "description": "Job group for statement 7:\nfrom pyspark.sql import SparkSession\n\n# Start Spark session\nspark = SparkSession.builder.appName(\"NaiveBayes_Example\").getOrCreate()\n\n# Create a 100% predictable dataset\ndf = spark.createDataFrame([\n    (\"I feel great\", \"pos\", \"cancer\"),\n    (\"This is amazing\", \"pos\", \"non-cancer\"),\n    (\"Not good at all\", \"neg\", \"cancer\"),\n    (\"Terrible experience\", \"neg\", \"non-cancer\")\n], [\"text\", \"sentiment\", \"cancer\"])\n\ndf.show()\n\n\nfrom pyspark.ml.feature import Tokenizer, StopWordsRemover, CountVectorizer, IDF, StringIndexer\nfrom pyspark.ml.classification import NaiveBayes\nfrom pyspark.ml.evaluation import MulticlassClassificationEvaluator\nfrom pyspark.ml import Pipeline\n\n# Tokenizer and stop words removal\ntokenizer = Tokenizer(inputCol=\"text\", outputCol=\"tokens\")\nstopwords_remover = StopWordsRemover(inputCol=\"tokens\", outputCol=\"filtered_tokens\")\n\n# Vectorization and TF-IDF\ncount_vectorizer = CountVectorizer(inputCol=\"filtered_tokens\", outputCol=\"raw_features\")\nidf = IDF(inputCol=\"raw_features\", outputCol=\"features\")\n\n...",
                    "submissionTime": "2024-12-08T01:51:02.844GMT",
                    "completionTime": "2024-12-08T01:51:05.787GMT",
                    "stageIds": [
                      21,
                      22
                    ],
                    "jobGroup": "7",
                    "status": "SUCCEEDED",
                    "numTasks": 10,
                    "numActiveTasks": 0,
                    "numCompletedTasks": 10,
                    "numSkippedTasks": 0,
                    "numFailedTasks": 0,
                    "numKilledTasks": 0,
                    "numCompletedIndices": 10,
                    "numActiveStages": 0,
                    "numCompletedStages": 2,
                    "numSkippedStages": 0,
                    "numFailedStages": 0,
                    "killedTasksSummary": {}
                  },
                  {
                    "displayName": "top at CountVectorizer.scala:236",
                    "dataWritten": 0,
                    "dataRead": 736,
                    "rowCount": 6,
                    "usageDescription": "",
                    "jobId": 12,
                    "name": "top at CountVectorizer.scala:236",
                    "description": "Job group for statement 7:\nfrom pyspark.sql import SparkSession\n\n# Start Spark session\nspark = SparkSession.builder.appName(\"NaiveBayes_Example\").getOrCreate()\n\n# Create a 100% predictable dataset\ndf = spark.createDataFrame([\n    (\"I feel great\", \"pos\", \"cancer\"),\n    (\"This is amazing\", \"pos\", \"non-cancer\"),\n    (\"Not good at all\", \"neg\", \"cancer\"),\n    (\"Terrible experience\", \"neg\", \"non-cancer\")\n], [\"text\", \"sentiment\", \"cancer\"])\n\ndf.show()\n\n\nfrom pyspark.ml.feature import Tokenizer, StopWordsRemover, CountVectorizer, IDF, StringIndexer\nfrom pyspark.ml.classification import NaiveBayes\nfrom pyspark.ml.evaluation import MulticlassClassificationEvaluator\nfrom pyspark.ml import Pipeline\n\n# Tokenizer and stop words removal\ntokenizer = Tokenizer(inputCol=\"text\", outputCol=\"tokens\")\nstopwords_remover = StopWordsRemover(inputCol=\"tokens\", outputCol=\"filtered_tokens\")\n\n# Vectorization and TF-IDF\ncount_vectorizer = CountVectorizer(inputCol=\"filtered_tokens\", outputCol=\"raw_features\")\nidf = IDF(inputCol=\"raw_features\", outputCol=\"features\")\n\n...",
                    "submissionTime": "2024-12-08T01:51:02.591GMT",
                    "completionTime": "2024-12-08T01:51:02.639GMT",
                    "stageIds": [
                      19,
                      20
                    ],
                    "jobGroup": "7",
                    "status": "SUCCEEDED",
                    "numTasks": 16,
                    "numActiveTasks": 0,
                    "numCompletedTasks": 8,
                    "numSkippedTasks": 8,
                    "numFailedTasks": 0,
                    "numKilledTasks": 0,
                    "numCompletedIndices": 8,
                    "numActiveStages": 0,
                    "numCompletedStages": 1,
                    "numSkippedStages": 1,
                    "numFailedStages": 0,
                    "killedTasksSummary": {}
                  },
                  {
                    "displayName": "count at CountVectorizer.scala:233",
                    "dataWritten": 386,
                    "dataRead": 386,
                    "rowCount": 12,
                    "usageDescription": "",
                    "jobId": 11,
                    "name": "count at CountVectorizer.scala:233",
                    "description": "Job group for statement 7:\nfrom pyspark.sql import SparkSession\n\n# Start Spark session\nspark = SparkSession.builder.appName(\"NaiveBayes_Example\").getOrCreate()\n\n# Create a 100% predictable dataset\ndf = spark.createDataFrame([\n    (\"I feel great\", \"pos\", \"cancer\"),\n    (\"This is amazing\", \"pos\", \"non-cancer\"),\n    (\"Not good at all\", \"neg\", \"cancer\"),\n    (\"Terrible experience\", \"neg\", \"non-cancer\")\n], [\"text\", \"sentiment\", \"cancer\"])\n\ndf.show()\n\n\nfrom pyspark.ml.feature import Tokenizer, StopWordsRemover, CountVectorizer, IDF, StringIndexer\nfrom pyspark.ml.classification import NaiveBayes\nfrom pyspark.ml.evaluation import MulticlassClassificationEvaluator\nfrom pyspark.ml import Pipeline\n\n# Tokenizer and stop words removal\ntokenizer = Tokenizer(inputCol=\"text\", outputCol=\"tokens\")\nstopwords_remover = StopWordsRemover(inputCol=\"tokens\", outputCol=\"filtered_tokens\")\n\n# Vectorization and TF-IDF\ncount_vectorizer = CountVectorizer(inputCol=\"filtered_tokens\", outputCol=\"raw_features\")\nidf = IDF(inputCol=\"raw_features\", outputCol=\"features\")\n\n...",
                    "submissionTime": "2024-12-08T01:51:01.782GMT",
                    "completionTime": "2024-12-08T01:51:02.559GMT",
                    "stageIds": [
                      17,
                      18
                    ],
                    "jobGroup": "7",
                    "status": "SUCCEEDED",
                    "numTasks": 16,
                    "numActiveTasks": 0,
                    "numCompletedTasks": 16,
                    "numSkippedTasks": 0,
                    "numFailedTasks": 0,
                    "numKilledTasks": 0,
                    "numCompletedIndices": 16,
                    "numActiveStages": 0,
                    "numCompletedStages": 2,
                    "numSkippedStages": 0,
                    "numFailedStages": 0,
                    "killedTasksSummary": {}
                  },
                  {
                    "displayName": "showString at NativeMethodAccessorImpl.java:0",
                    "dataWritten": 0,
                    "dataRead": 0,
                    "rowCount": 0,
                    "usageDescription": "",
                    "jobId": 10,
                    "name": "showString at NativeMethodAccessorImpl.java:0",
                    "description": "Job group for statement 7:\nfrom pyspark.sql import SparkSession\n\n# Start Spark session\nspark = SparkSession.builder.appName(\"NaiveBayes_Example\").getOrCreate()\n\n# Create a 100% predictable dataset\ndf = spark.createDataFrame([\n    (\"I feel great\", \"pos\", \"cancer\"),\n    (\"This is amazing\", \"pos\", \"non-cancer\"),\n    (\"Not good at all\", \"neg\", \"cancer\"),\n    (\"Terrible experience\", \"neg\", \"non-cancer\")\n], [\"text\", \"sentiment\", \"cancer\"])\n\ndf.show()\n\n\nfrom pyspark.ml.feature import Tokenizer, StopWordsRemover, CountVectorizer, IDF, StringIndexer\nfrom pyspark.ml.classification import NaiveBayes\nfrom pyspark.ml.evaluation import MulticlassClassificationEvaluator\nfrom pyspark.ml import Pipeline\n\n# Tokenizer and stop words removal\ntokenizer = Tokenizer(inputCol=\"text\", outputCol=\"tokens\")\nstopwords_remover = StopWordsRemover(inputCol=\"tokens\", outputCol=\"filtered_tokens\")\n\n# Vectorization and TF-IDF\ncount_vectorizer = CountVectorizer(inputCol=\"filtered_tokens\", outputCol=\"raw_features\")\nidf = IDF(inputCol=\"raw_features\", outputCol=\"features\")\n\n...",
                    "submissionTime": "2024-12-08T01:51:01.210GMT",
                    "completionTime": "2024-12-08T01:51:01.434GMT",
                    "stageIds": [
                      16
                    ],
                    "jobGroup": "7",
                    "status": "SUCCEEDED",
                    "numTasks": 3,
                    "numActiveTasks": 0,
                    "numCompletedTasks": 3,
                    "numSkippedTasks": 0,
                    "numFailedTasks": 0,
                    "numKilledTasks": 0,
                    "numCompletedIndices": 3,
                    "numActiveStages": 0,
                    "numCompletedStages": 1,
                    "numSkippedStages": 0,
                    "numFailedStages": 0,
                    "killedTasksSummary": {}
                  },
                  {
                    "displayName": "showString at NativeMethodAccessorImpl.java:0",
                    "dataWritten": 0,
                    "dataRead": 0,
                    "rowCount": 0,
                    "usageDescription": "",
                    "jobId": 9,
                    "name": "showString at NativeMethodAccessorImpl.java:0",
                    "description": "Job group for statement 7:\nfrom pyspark.sql import SparkSession\n\n# Start Spark session\nspark = SparkSession.builder.appName(\"NaiveBayes_Example\").getOrCreate()\n\n# Create a 100% predictable dataset\ndf = spark.createDataFrame([\n    (\"I feel great\", \"pos\", \"cancer\"),\n    (\"This is amazing\", \"pos\", \"non-cancer\"),\n    (\"Not good at all\", \"neg\", \"cancer\"),\n    (\"Terrible experience\", \"neg\", \"non-cancer\")\n], [\"text\", \"sentiment\", \"cancer\"])\n\ndf.show()\n\n\nfrom pyspark.ml.feature import Tokenizer, StopWordsRemover, CountVectorizer, IDF, StringIndexer\nfrom pyspark.ml.classification import NaiveBayes\nfrom pyspark.ml.evaluation import MulticlassClassificationEvaluator\nfrom pyspark.ml import Pipeline\n\n# Tokenizer and stop words removal\ntokenizer = Tokenizer(inputCol=\"text\", outputCol=\"tokens\")\nstopwords_remover = StopWordsRemover(inputCol=\"tokens\", outputCol=\"filtered_tokens\")\n\n# Vectorization and TF-IDF\ncount_vectorizer = CountVectorizer(inputCol=\"filtered_tokens\", outputCol=\"raw_features\")\nidf = IDF(inputCol=\"raw_features\", outputCol=\"features\")\n\n...",
                    "submissionTime": "2024-12-08T01:51:00.949GMT",
                    "completionTime": "2024-12-08T01:51:01.192GMT",
                    "stageIds": [
                      15
                    ],
                    "jobGroup": "7",
                    "status": "SUCCEEDED",
                    "numTasks": 4,
                    "numActiveTasks": 0,
                    "numCompletedTasks": 4,
                    "numSkippedTasks": 0,
                    "numFailedTasks": 0,
                    "numKilledTasks": 0,
                    "numCompletedIndices": 4,
                    "numActiveStages": 0,
                    "numCompletedStages": 1,
                    "numSkippedStages": 0,
                    "numFailedStages": 0,
                    "killedTasksSummary": {}
                  },
                  {
                    "displayName": "showString at NativeMethodAccessorImpl.java:0",
                    "dataWritten": 0,
                    "dataRead": 0,
                    "rowCount": 0,
                    "usageDescription": "",
                    "jobId": 8,
                    "name": "showString at NativeMethodAccessorImpl.java:0",
                    "description": "Job group for statement 7:\nfrom pyspark.sql import SparkSession\n\n# Start Spark session\nspark = SparkSession.builder.appName(\"NaiveBayes_Example\").getOrCreate()\n\n# Create a 100% predictable dataset\ndf = spark.createDataFrame([\n    (\"I feel great\", \"pos\", \"cancer\"),\n    (\"This is amazing\", \"pos\", \"non-cancer\"),\n    (\"Not good at all\", \"neg\", \"cancer\"),\n    (\"Terrible experience\", \"neg\", \"non-cancer\")\n], [\"text\", \"sentiment\", \"cancer\"])\n\ndf.show()\n\n\nfrom pyspark.ml.feature import Tokenizer, StopWordsRemover, CountVectorizer, IDF, StringIndexer\nfrom pyspark.ml.classification import NaiveBayes\nfrom pyspark.ml.evaluation import MulticlassClassificationEvaluator\nfrom pyspark.ml import Pipeline\n\n# Tokenizer and stop words removal\ntokenizer = Tokenizer(inputCol=\"text\", outputCol=\"tokens\")\nstopwords_remover = StopWordsRemover(inputCol=\"tokens\", outputCol=\"filtered_tokens\")\n\n# Vectorization and TF-IDF\ncount_vectorizer = CountVectorizer(inputCol=\"filtered_tokens\", outputCol=\"raw_features\")\nidf = IDF(inputCol=\"raw_features\", outputCol=\"features\")\n\n...",
                    "submissionTime": "2024-12-08T01:51:00.705GMT",
                    "completionTime": "2024-12-08T01:51:00.924GMT",
                    "stageIds": [
                      14
                    ],
                    "jobGroup": "7",
                    "status": "SUCCEEDED",
                    "numTasks": 1,
                    "numActiveTasks": 0,
                    "numCompletedTasks": 1,
                    "numSkippedTasks": 0,
                    "numFailedTasks": 0,
                    "numKilledTasks": 0,
                    "numCompletedIndices": 1,
                    "numActiveStages": 0,
                    "numCompletedStages": 1,
                    "numSkippedStages": 0,
                    "numFailedStages": 0,
                    "killedTasksSummary": {}
                  }
                ],
                "limit": 20,
                "rule": "ALL_DESC"
              },
              "session_id": "36",
              "normalized_state": "finished",
              "queued_time": "2024-12-08T01:51:00.3370839Z",
              "session_start_time": null,
              "execution_start_time": "2024-12-08T01:51:00.5262981Z",
              "execution_finish_time": "2024-12-08T01:51:10.7121782Z",
              "parent_msg_id": "6f61ae7f-e239-4dea-9f55-2150afc2ed7c"
            },
            "text/plain": "StatementMeta(ba5e360d-f184-47a0-9859-76b5031b79e3, 36, 7, Finished, Available, Finished)"
          },
          "metadata": {}
        },
        {
          "output_type": "stream",
          "name": "stdout",
          "text": "+-------------------+---------+----------+\n|               text|sentiment|    cancer|\n+-------------------+---------+----------+\n|       I feel great|      pos|    cancer|\n|    This is amazing|      pos|non-cancer|\n|    Not good at all|      neg|    cancer|\n|Terrible experience|      neg|non-cancer|\n+-------------------+---------+----------+\n\nTest Accuracy: 1.00\n"
        }
      ],
      "execution_count": 2,
      "metadata": {
        "gather": {
          "logged": 1733622670844
        }
      }
    }
  ],
  "metadata": {
    "kernelspec": {
      "name": "synapse_pyspark",
      "language": "Python",
      "display_name": "Synapse PySpark"
    },
    "language_info": {
      "name": "python",
      "version": "3.8.0",
      "mimetype": "text/x-python",
      "file_extension": ".py",
      "pygments_lexer": "ipython",
      "codemirror_mode": "ipython",
      "nbconvert_exporter": "python"
    },
    "microsoft": {
      "ms_spell_check": {
        "ms_spell_check_language": "en"
      },
      "host": {
        "AzureML": {
          "notebookHasBeenCompleted": true
        }
      }
    },
    "kernel_info": {
      "name": "synapse_pyspark"
    },
    "nteract": {
      "version": "nteract-front-end@1.0.0"
    }
  },
  "nbformat": 4,
  "nbformat_minor": 2
}