{
  "cells": [
    {
      "cell_type": "markdown",
      "source": [
        "# Review the Results of the NLP Pretrained Model\n",
        "\n",
        "This model is very basic, but this folder shows you how to create an NLP pipeline with a pretrained model.\n",
        "\n",
        "The .py file saved the results to a parquet that is stored in our container. We are reading it back here to review."
      ],
      "metadata": {
        "nteract": {
          "transient": {
            "deleting": false
          }
        }
      }
    },
    {
      "cell_type": "code",
      "source": [
        "spark"
      ],
      "outputs": [
        {
          "output_type": "display_data",
          "data": {
            "application/vnd.livy.statement-meta+json": {
              "spark_pool": "ba5e360d-f184-47a0-9859-76b5031b79e3",
              "statement_id": 6,
              "statement_ids": [
                6
              ],
              "state": "finished",
              "livy_statement_state": "available",
              "spark_jobs": {
                "numbers": {
                  "FAILED": 0,
                  "RUNNING": 0,
                  "UNKNOWN": 0,
                  "SUCCEEDED": 0
                },
                "jobs": [],
                "limit": 20,
                "rule": "ALL_DESC"
              },
              "session_id": "48",
              "normalized_state": "finished",
              "queued_time": "2024-12-08T22:30:23.2603914Z",
              "session_start_time": "2024-12-08T22:30:23.3611987Z",
              "execution_start_time": "2024-12-08T22:31:24.7891829Z",
              "execution_finish_time": "2024-12-08T22:31:25.1570354Z",
              "parent_msg_id": "dd260da5-32ba-4106-839e-7428052b3fb1"
            },
            "text/plain": "StatementMeta(ba5e360d-f184-47a0-9859-76b5031b79e3, 48, 6, Finished, Available, Finished)"
          },
          "metadata": {}
        },
        {
          "output_type": "execute_result",
          "execution_count": 11,
          "data": {
            "text/plain": "<pyspark.sql.session.SparkSession at 0x7f3f722e7670>",
            "text/html": "\n            <div>\n                <p><b>SparkSession - hive</b></p>\n                \n        <div>\n            <p><b>SparkContext</b></p>\n\n            <p><a href=\"http://vm-97d89382:42773\">Spark UI</a></p>\n\n            <dl>\n              <dt>Version</dt>\n                <dd><code>v3.3.1.5.2.20240522.3</code></dd>\n              <dt>Master</dt>\n                <dd><code>yarn</code></dd>\n              <dt>AppName</dt>\n                <dd><code>Azure ML Experiment</code></dd>\n            </dl>\n        </div>\n        \n            </div>\n        "
          },
          "metadata": {}
        }
      ],
      "execution_count": 1,
      "metadata": {
        "gather": {
          "logged": 1733697085363
        }
      }
    },
    {
      "cell_type": "code",
      "source": [
        "from pyspark.sql.functions import col, udf, size\n",
        "from pyspark.sql.types import FloatType"
      ],
      "outputs": [
        {
          "output_type": "display_data",
          "data": {
            "application/vnd.livy.statement-meta+json": {
              "spark_pool": "ba5e360d-f184-47a0-9859-76b5031b79e3",
              "statement_id": 7,
              "statement_ids": [
                7
              ],
              "state": "finished",
              "livy_statement_state": "available",
              "spark_jobs": {
                "numbers": {
                  "FAILED": 0,
                  "RUNNING": 0,
                  "UNKNOWN": 0,
                  "SUCCEEDED": 0
                },
                "jobs": [],
                "limit": 20,
                "rule": "ALL_DESC"
              },
              "session_id": "48",
              "normalized_state": "finished",
              "queued_time": "2024-12-08T22:32:15.8166753Z",
              "session_start_time": null,
              "execution_start_time": "2024-12-08T22:32:15.9399056Z",
              "execution_finish_time": "2024-12-08T22:32:17.1782518Z",
              "parent_msg_id": "c86b13b0-6d88-4559-bb29-ffdab1017c53"
            },
            "text/plain": "StatementMeta(ba5e360d-f184-47a0-9859-76b5031b79e3, 48, 7, Finished, Available, Finished)"
          },
          "metadata": {}
        }
      ],
      "execution_count": 2,
      "metadata": {
        "jupyter": {
          "source_hidden": false,
          "outputs_hidden": false
        },
        "nteract": {
          "transient": {
            "deleting": false
          }
        },
        "gather": {
          "logged": 1733697137366
        }
      }
    },
    {
      "cell_type": "code",
      "source": [
        "workspace_default_storage_account = \"projectgstoragedfb938a3e\"\n",
        "workspace_default_container = \"azureml-blobstore-becc8696-e562-432e-af12-8a5e3e1f9b0f\"\n",
        "workspace_wasbs_base_url = f\"wasbs://{workspace_default_container}@{workspace_default_storage_account}.blob.core.windows.net/\"\n",
        "\n",
        "# the parquet path again\n",
        "nlp_sample_test_path = f\"{workspace_wasbs_base_url}nlp_result_sample_submissions.parquet\"\n",
        "\n",
        "# Read the Parquet file back into a dataframe\n",
        "nlp_sample_test = spark.read.parquet(nlp_sample_test_path)\n",
        "\n",
        "# Show first 5 rows\n",
        "nlp_sample_test.show(5)"
      ],
      "outputs": [
        {
          "output_type": "display_data",
          "data": {
            "application/vnd.livy.statement-meta+json": {
              "spark_pool": "ba5e360d-f184-47a0-9859-76b5031b79e3",
              "statement_id": 8,
              "statement_ids": [
                8
              ],
              "state": "finished",
              "livy_statement_state": "available",
              "spark_jobs": {
                "numbers": {
                  "FAILED": 0,
                  "RUNNING": 0,
                  "UNKNOWN": 0,
                  "SUCCEEDED": 2
                },
                "jobs": [
                  {
                    "displayName": "showString at NativeMethodAccessorImpl.java:0",
                    "dataWritten": 0,
                    "dataRead": 736376,
                    "rowCount": 6,
                    "usageDescription": "",
                    "jobId": 1,
                    "name": "showString at NativeMethodAccessorImpl.java:0",
                    "description": "Job group for statement 8:\nworkspace_default_storage_account = \"projectgstoragedfb938a3e\"\nworkspace_default_container = \"azureml-blobstore-becc8696-e562-432e-af12-8a5e3e1f9b0f\"\nworkspace_wasbs_base_url = f\"wasbs://{workspace_default_container}@{workspace_default_storage_account}.blob.core.windows.net/\"\n\n# the parquet path again\nnlp_sample_test_path = f\"{workspace_wasbs_base_url}nlp_result_sample_submissions.parquet\"\n\n# Read the Parquet file back into a dataframe\nnlp_sample_test = spark.read.parquet(nlp_sample_test_path)\n\n# Show first 5 rows\nnlp_sample_test.show(5)",
                    "submissionTime": "2024-12-08T22:32:32.301GMT",
                    "completionTime": "2024-12-08T22:32:37.324GMT",
                    "stageIds": [
                      1
                    ],
                    "jobGroup": "8",
                    "status": "SUCCEEDED",
                    "numTasks": 1,
                    "numActiveTasks": 0,
                    "numCompletedTasks": 1,
                    "numSkippedTasks": 0,
                    "numFailedTasks": 0,
                    "numKilledTasks": 0,
                    "numCompletedIndices": 1,
                    "numActiveStages": 0,
                    "numCompletedStages": 1,
                    "numSkippedStages": 0,
                    "numFailedStages": 0,
                    "killedTasksSummary": {}
                  },
                  {
                    "displayName": "parquet at NativeMethodAccessorImpl.java:0",
                    "dataWritten": 0,
                    "dataRead": 0,
                    "rowCount": 0,
                    "usageDescription": "",
                    "jobId": 0,
                    "name": "parquet at NativeMethodAccessorImpl.java:0",
                    "description": "Job group for statement 8:\nworkspace_default_storage_account = \"projectgstoragedfb938a3e\"\nworkspace_default_container = \"azureml-blobstore-becc8696-e562-432e-af12-8a5e3e1f9b0f\"\nworkspace_wasbs_base_url = f\"wasbs://{workspace_default_container}@{workspace_default_storage_account}.blob.core.windows.net/\"\n\n# the parquet path again\nnlp_sample_test_path = f\"{workspace_wasbs_base_url}nlp_result_sample_submissions.parquet\"\n\n# Read the Parquet file back into a dataframe\nnlp_sample_test = spark.read.parquet(nlp_sample_test_path)\n\n# Show first 5 rows\nnlp_sample_test.show(5)",
                    "submissionTime": "2024-12-08T22:32:25.716GMT",
                    "completionTime": "2024-12-08T22:32:29.554GMT",
                    "stageIds": [
                      0
                    ],
                    "jobGroup": "8",
                    "status": "SUCCEEDED",
                    "numTasks": 1,
                    "numActiveTasks": 0,
                    "numCompletedTasks": 1,
                    "numSkippedTasks": 0,
                    "numFailedTasks": 0,
                    "numKilledTasks": 0,
                    "numCompletedIndices": 1,
                    "numActiveStages": 0,
                    "numCompletedStages": 1,
                    "numSkippedStages": 0,
                    "numFailedStages": 0,
                    "killedTasksSummary": {}
                  }
                ],
                "limit": 20,
                "rule": "ALL_DESC"
              },
              "session_id": "48",
              "normalized_state": "finished",
              "queued_time": "2024-12-08T22:32:24.7413948Z",
              "session_start_time": null,
              "execution_start_time": "2024-12-08T22:32:24.8525375Z",
              "execution_finish_time": "2024-12-08T22:32:40.2068391Z",
              "parent_msg_id": "b8741022-168f-4b1b-adff-089f6d5ae63a"
            },
            "text/plain": "StatementMeta(ba5e360d-f184-47a0-9859-76b5031b79e3, 48, 8, Finished, Available, Finished)"
          },
          "metadata": {}
        },
        {
          "output_type": "stream",
          "name": "stdout",
          "text": "+--------------------+--------------------+--------------------+--------------------+--------------------+--------------------+--------------------+--------------------+\n|                text|            document|            sentence|               token|               spell|              lemmas|               stems|                 pos|\n+--------------------+--------------------+--------------------+--------------------+--------------------+--------------------+--------------------+--------------------+\n|Hi, I hope this i...|[{document, 0, 85...|[{document, 0, 23...|[{token, 0, 1, Hi...|[{token, 0, 1, Hi...|[{token, 0, 1, Hi...|[{token, 0, 1, hi...|[{pos, 0, 1, NNP,...|\n|33 male, i have d...|[{document, 0, 27...|[{document, 0, 68...|[{token, 0, 1, 33...|[{token, 0, 1, 33...|[{token, 0, 1, 33...|[{token, 0, 1, 33...|[{pos, 0, 1, CD, ...|\n|           [removed]|[{document, 0, 8,...|[{document, 0, 8,...|[{token, 0, 8, [r...|[{token, 0, 8, [r...|[{token, 0, 8, [r...|[{token, 0, 8, [r...|[{pos, 0, 8, NN, ...|\n|           [removed]|[{document, 0, 8,...|[{document, 0, 8,...|[{token, 0, 8, [r...|[{token, 0, 8, [r...|[{token, 0, 8, [r...|[{token, 0, 8, [r...|[{pos, 0, 8, NN, ...|\n|83F, Cancer dx (u...|[{document, 0, 27...|[{document, 0, 16...|[{token, 0, 2, 83...|[{token, 0, 2, 83...|[{token, 0, 2, 83...|[{token, 0, 2, 83...|[{pos, 0, 2, CD, ...|\n+--------------------+--------------------+--------------------+--------------------+--------------------+--------------------+--------------------+--------------------+\nonly showing top 5 rows\n\n"
        }
      ],
      "execution_count": 3,
      "metadata": {
        "jupyter": {
          "source_hidden": false,
          "outputs_hidden": false
        },
        "nteract": {
          "transient": {
            "deleting": false
          }
        },
        "gather": {
          "logged": 1733697160328
        }
      }
    },
    {
      "cell_type": "code",
      "source": [
        "cancer_path = f\"{workspace_wasbs_base_url}cancer_subreddit_sentiment.parquet\"\n",
        "# Read the Parquet file back into a dataframe\n",
        "cancer_df = spark.read.parquet(cancer_path)\n",
        "\n",
        "# Show first 5 rows\n",
        "cancer_df.show(5)\n",
        "cancer_df.printSchema()"
      ],
      "outputs": [
        {
          "output_type": "display_data",
          "data": {
            "application/vnd.livy.statement-meta+json": {
              "spark_pool": "ba5e360d-f184-47a0-9859-76b5031b79e3",
              "statement_id": 9,
              "statement_ids": [
                9
              ],
              "state": "finished",
              "livy_statement_state": "available",
              "spark_jobs": {
                "numbers": {
                  "FAILED": 0,
                  "RUNNING": 0,
                  "UNKNOWN": 0,
                  "SUCCEEDED": 3
                },
                "jobs": [
                  {
                    "displayName": "showString at NativeMethodAccessorImpl.java:0",
                    "dataWritten": 0,
                    "dataRead": 12356799,
                    "rowCount": 6,
                    "usageDescription": "",
                    "jobId": 4,
                    "name": "showString at NativeMethodAccessorImpl.java:0",
                    "description": "Job group for statement 9:\ncancer_path = f\"{workspace_wasbs_base_url}cancer_subreddit_sentiment.parquet\"\n# Read the Parquet file back into a dataframe\ncancer_df = spark.read.parquet(cancer_path)\n\n# Show first 5 rows\ncancer_df.show(5)\ncancer_df.printSchema()",
                    "submissionTime": "2024-12-08T22:32:42.590GMT",
                    "completionTime": "2024-12-08T22:32:43.826GMT",
                    "stageIds": [
                      4
                    ],
                    "jobGroup": "9",
                    "status": "SUCCEEDED",
                    "numTasks": 2,
                    "numActiveTasks": 0,
                    "numCompletedTasks": 2,
                    "numSkippedTasks": 0,
                    "numFailedTasks": 0,
                    "numKilledTasks": 0,
                    "numCompletedIndices": 2,
                    "numActiveStages": 0,
                    "numCompletedStages": 1,
                    "numSkippedStages": 0,
                    "numFailedStages": 0,
                    "killedTasksSummary": {}
                  },
                  {
                    "displayName": "showString at NativeMethodAccessorImpl.java:0",
                    "dataWritten": 0,
                    "dataRead": 22508,
                    "rowCount": 0,
                    "usageDescription": "",
                    "jobId": 3,
                    "name": "showString at NativeMethodAccessorImpl.java:0",
                    "description": "Job group for statement 9:\ncancer_path = f\"{workspace_wasbs_base_url}cancer_subreddit_sentiment.parquet\"\n# Read the Parquet file back into a dataframe\ncancer_df = spark.read.parquet(cancer_path)\n\n# Show first 5 rows\ncancer_df.show(5)\ncancer_df.printSchema()",
                    "submissionTime": "2024-12-08T22:32:41.226GMT",
                    "completionTime": "2024-12-08T22:32:42.577GMT",
                    "stageIds": [
                      3
                    ],
                    "jobGroup": "9",
                    "status": "SUCCEEDED",
                    "numTasks": 1,
                    "numActiveTasks": 0,
                    "numCompletedTasks": 1,
                    "numSkippedTasks": 0,
                    "numFailedTasks": 0,
                    "numKilledTasks": 0,
                    "numCompletedIndices": 1,
                    "numActiveStages": 0,
                    "numCompletedStages": 1,
                    "numSkippedStages": 0,
                    "numFailedStages": 0,
                    "killedTasksSummary": {}
                  },
                  {
                    "displayName": "parquet at NativeMethodAccessorImpl.java:0",
                    "dataWritten": 0,
                    "dataRead": 0,
                    "rowCount": 0,
                    "usageDescription": "",
                    "jobId": 2,
                    "name": "parquet at NativeMethodAccessorImpl.java:0",
                    "description": "Job group for statement 9:\ncancer_path = f\"{workspace_wasbs_base_url}cancer_subreddit_sentiment.parquet\"\n# Read the Parquet file back into a dataframe\ncancer_df = spark.read.parquet(cancer_path)\n\n# Show first 5 rows\ncancer_df.show(5)\ncancer_df.printSchema()",
                    "submissionTime": "2024-12-08T22:32:40.556GMT",
                    "completionTime": "2024-12-08T22:32:40.810GMT",
                    "stageIds": [
                      2
                    ],
                    "jobGroup": "9",
                    "status": "SUCCEEDED",
                    "numTasks": 1,
                    "numActiveTasks": 0,
                    "numCompletedTasks": 1,
                    "numSkippedTasks": 0,
                    "numFailedTasks": 0,
                    "numKilledTasks": 0,
                    "numCompletedIndices": 1,
                    "numActiveStages": 0,
                    "numCompletedStages": 1,
                    "numSkippedStages": 0,
                    "numFailedStages": 0,
                    "killedTasksSummary": {}
                  }
                ],
                "limit": 20,
                "rule": "ALL_DESC"
              },
              "session_id": "48",
              "normalized_state": "finished",
              "queued_time": "2024-12-08T22:32:24.7866655Z",
              "session_start_time": null,
              "execution_start_time": "2024-12-08T22:32:40.34Z",
              "execution_finish_time": "2024-12-08T22:32:45.1249935Z",
              "parent_msg_id": "f93b6ccc-8735-451c-863e-c18e04cdd0a1"
            },
            "text/plain": "StatementMeta(ba5e360d-f184-47a0-9859-76b5031b79e3, 48, 9, Finished, Available, Finished)"
          },
          "metadata": {}
        },
        {
          "output_type": "stream",
          "name": "stdout",
          "text": "+--------------------+--------------------+--------------------+--------------------+--------------------+--------------------+\n|                text|            document|            sentence|               token|             checked|           sentiment|\n+--------------------+--------------------+--------------------+--------------------+--------------------+--------------------+\n|Check out Northsi...|[{document, 0, 26...|[{document, 0, 85...|[{token, 0, 4, Ch...|[{token, 0, 4, Ch...|[{sentiment, 0, 8...|\n|I had something s...|[{document, 0, 22...|[{document, 0, 67...|[{token, 0, 0, I,...|[{token, 0, 0, I,...|[{sentiment, 0, 6...|\n|That's an insulti...|[{document, 0, 22...|[{document, 0, 40...|[{token, 0, 5, Th...|[{token, 0, 5, th...|[{sentiment, 0, 4...|\n|Yeah sorry, it wa...|[{document, 0, 84...|[{document, 0, 29...|[{token, 0, 3, Ye...|[{token, 0, 3, Ye...|[{sentiment, 0, 2...|\n|I see my colorect...|[{document, 0, 65...|[{document, 0, 31...|[{token, 0, 0, I,...|[{token, 0, 0, I,...|[{sentiment, 0, 3...|\n+--------------------+--------------------+--------------------+--------------------+--------------------+--------------------+\nonly showing top 5 rows\n\nroot\n |-- text: string (nullable = true)\n |-- document: array (nullable = true)\n |    |-- element: struct (containsNull = true)\n |    |    |-- annotatorType: string (nullable = true)\n |    |    |-- begin: integer (nullable = true)\n |    |    |-- end: integer (nullable = true)\n |    |    |-- result: string (nullable = true)\n |    |    |-- metadata: map (nullable = true)\n |    |    |    |-- key: string\n |    |    |    |-- value: string (valueContainsNull = true)\n |    |    |-- embeddings: array (nullable = true)\n |    |    |    |-- element: float (containsNull = true)\n |-- sentence: array (nullable = true)\n |    |-- element: struct (containsNull = true)\n |    |    |-- annotatorType: string (nullable = true)\n |    |    |-- begin: integer (nullable = true)\n |    |    |-- end: integer (nullable = true)\n |    |    |-- result: string (nullable = true)\n |    |    |-- metadata: map (nullable = true)\n |    |    |    |-- key: string\n |    |    |    |-- value: string (valueContainsNull = true)\n |    |    |-- embeddings: array (nullable = true)\n |    |    |    |-- element: float (containsNull = true)\n |-- token: array (nullable = true)\n |    |-- element: struct (containsNull = true)\n |    |    |-- annotatorType: string (nullable = true)\n |    |    |-- begin: integer (nullable = true)\n |    |    |-- end: integer (nullable = true)\n |    |    |-- result: string (nullable = true)\n |    |    |-- metadata: map (nullable = true)\n |    |    |    |-- key: string\n |    |    |    |-- value: string (valueContainsNull = true)\n |    |    |-- embeddings: array (nullable = true)\n |    |    |    |-- element: float (containsNull = true)\n |-- checked: array (nullable = true)\n |    |-- element: struct (containsNull = true)\n |    |    |-- annotatorType: string (nullable = true)\n |    |    |-- begin: integer (nullable = true)\n |    |    |-- end: integer (nullable = true)\n |    |    |-- result: string (nullable = true)\n |    |    |-- metadata: map (nullable = true)\n |    |    |    |-- key: string\n |    |    |    |-- value: string (valueContainsNull = true)\n |    |    |-- embeddings: array (nullable = true)\n |    |    |    |-- element: float (containsNull = true)\n |-- sentiment: array (nullable = true)\n |    |-- element: struct (containsNull = true)\n |    |    |-- annotatorType: string (nullable = true)\n |    |    |-- begin: integer (nullable = true)\n |    |    |-- end: integer (nullable = true)\n |    |    |-- result: string (nullable = true)\n |    |    |-- metadata: map (nullable = true)\n |    |    |    |-- key: string\n |    |    |    |-- value: string (valueContainsNull = true)\n |    |    |-- embeddings: array (nullable = true)\n |    |    |    |-- element: float (containsNull = true)\n\n"
        }
      ],
      "execution_count": 4,
      "metadata": {
        "jupyter": {
          "source_hidden": false,
          "outputs_hidden": false
        },
        "nteract": {
          "transient": {
            "deleting": false
          }
        },
        "gather": {
          "logged": 1733697165314
        }
      }
    },
    {
      "cell_type": "code",
      "source": [
        "from pyspark.sql import functions as F\n",
        "df_flat = cancer_df.withColumn(\"sentiment_result\", F.explode(F.col(\"sentiment\"))) \\\n",
        "            .select(\"text\", \"sentiment_result.result\")\n",
        "\n",
        "# Show the results\n",
        "df_flat.show(truncate=False)"
      ],
      "outputs": [
        {
          "output_type": "display_data",
          "data": {
            "application/vnd.livy.statement-meta+json": {
              "spark_pool": "ba5e360d-f184-47a0-9859-76b5031b79e3",
              "statement_id": 10,
              "statement_ids": [
                10
              ],
              "state": "finished",
              "livy_statement_state": "available",
              "spark_jobs": {
                "numbers": {
                  "FAILED": 0,
                  "RUNNING": 0,
                  "UNKNOWN": 0,
                  "SUCCEEDED": 2
                },
                "jobs": [
                  {
                    "displayName": "showString at NativeMethodAccessorImpl.java:0",
                    "dataWritten": 0,
                    "dataRead": 1731073,
                    "rowCount": 1,
                    "usageDescription": "",
                    "jobId": 6,
                    "name": "showString at NativeMethodAccessorImpl.java:0",
                    "description": "Job group for statement 10:\nfrom pyspark.sql import functions as F\ndf_flat = cancer_df.withColumn(\"sentiment_result\", F.explode(F.col(\"sentiment\")))             .select(\"text\", \"sentiment_result.result\")\n\n# Show the results\ndf_flat.show(truncate=False)",
                    "submissionTime": "2024-12-08T22:32:46.039GMT",
                    "completionTime": "2024-12-08T22:32:46.330GMT",
                    "stageIds": [
                      6
                    ],
                    "jobGroup": "10",
                    "status": "SUCCEEDED",
                    "numTasks": 2,
                    "numActiveTasks": 0,
                    "numCompletedTasks": 2,
                    "numSkippedTasks": 0,
                    "numFailedTasks": 0,
                    "numKilledTasks": 0,
                    "numCompletedIndices": 2,
                    "numActiveStages": 0,
                    "numCompletedStages": 1,
                    "numSkippedStages": 0,
                    "numFailedStages": 0,
                    "killedTasksSummary": {}
                  },
                  {
                    "displayName": "showString at NativeMethodAccessorImpl.java:0",
                    "dataWritten": 0,
                    "dataRead": 11254,
                    "rowCount": 0,
                    "usageDescription": "",
                    "jobId": 5,
                    "name": "showString at NativeMethodAccessorImpl.java:0",
                    "description": "Job group for statement 10:\nfrom pyspark.sql import functions as F\ndf_flat = cancer_df.withColumn(\"sentiment_result\", F.explode(F.col(\"sentiment\")))             .select(\"text\", \"sentiment_result.result\")\n\n# Show the results\ndf_flat.show(truncate=False)",
                    "submissionTime": "2024-12-08T22:32:45.744GMT",
                    "completionTime": "2024-12-08T22:32:46.014GMT",
                    "stageIds": [
                      5
                    ],
                    "jobGroup": "10",
                    "status": "SUCCEEDED",
                    "numTasks": 1,
                    "numActiveTasks": 0,
                    "numCompletedTasks": 1,
                    "numSkippedTasks": 0,
                    "numFailedTasks": 0,
                    "numKilledTasks": 0,
                    "numCompletedIndices": 1,
                    "numActiveStages": 0,
                    "numCompletedStages": 1,
                    "numSkippedStages": 0,
                    "numFailedStages": 0,
                    "killedTasksSummary": {}
                  }
                ],
                "limit": 20,
                "rule": "ALL_DESC"
              },
              "session_id": "48",
              "normalized_state": "finished",
              "queued_time": "2024-12-08T22:32:24.8592051Z",
              "session_start_time": null,
              "execution_start_time": "2024-12-08T22:32:45.2747295Z",
              "execution_finish_time": "2024-12-08T22:32:46.8094584Z",
              "parent_msg_id": "e9d0c65b-29ad-4578-bd14-073b5d31a1a8"
            },
            "text/plain": "StatementMeta(ba5e360d-f184-47a0-9859-76b5031b79e3, 48, 10, Finished, Available, Finished)"
          },
          "metadata": {}
        },
        {
          "output_type": "stream",
          "name": "stdout",
          "text": "+--------------------------------------------------------------------------------------------------------------------------------------------------------------------------------------------------------------------------------------------------------------------------------------------------------------------------------------------------------------------------------------------------------------------------------------------------------------------------------------------------------------------------------------------------------------------------------------------------------------------------------------------------------------------------------------------------------------------------------------------------------------------------------------------------------------------------------------------------------------------------------------------------------------------------------------------------------------------------------------------------------------------------------------------------------------------------------------------------------------------------------------------------------------------------------------------------------------------------------------------------------------------------------------------------------------------------------------------------------------------------------------------------------------------------------------------------------------------------------------------------------------------------------------------------------------------------------------------------------------------------------------------------------------------------------------------------------------------------------------------------------------------------------------------------------------------------------------------------------------------------------------------------------------------------------------------------------------------------------------------------------------------------------------------------------------------------------------------------------------------------------------------------------------------------------------------------------------------------------------------------------------------------------------------------------------------------------------------------------------------------------------------------------------------------------------------------------------------------------------------------------------------------------------------------------------------------------------------------------------------------------------------------------------------------------------------------------------------------------------------------------------------------------------------+--------+\n|text                                                                                                                                                                                                                                                                                                                                                                                                                                                                                                                                                                                                                                                                                                                                                                                                                                                                                                                                                                                                                                                                                                                                                                                                                                                                                                                                                                                                                                                                                                                                                                                                                                                                                                                                                                                                                                                                                                                                                                                                                                                                                                                                                                                                                                                                                                                                                                                                                                                                                                                                                                                                                                                                                                                                                                                        |result  |\n+--------------------------------------------------------------------------------------------------------------------------------------------------------------------------------------------------------------------------------------------------------------------------------------------------------------------------------------------------------------------------------------------------------------------------------------------------------------------------------------------------------------------------------------------------------------------------------------------------------------------------------------------------------------------------------------------------------------------------------------------------------------------------------------------------------------------------------------------------------------------------------------------------------------------------------------------------------------------------------------------------------------------------------------------------------------------------------------------------------------------------------------------------------------------------------------------------------------------------------------------------------------------------------------------------------------------------------------------------------------------------------------------------------------------------------------------------------------------------------------------------------------------------------------------------------------------------------------------------------------------------------------------------------------------------------------------------------------------------------------------------------------------------------------------------------------------------------------------------------------------------------------------------------------------------------------------------------------------------------------------------------------------------------------------------------------------------------------------------------------------------------------------------------------------------------------------------------------------------------------------------------------------------------------------------------------------------------------------------------------------------------------------------------------------------------------------------------------------------------------------------------------------------------------------------------------------------------------------------------------------------------------------------------------------------------------------------------------------------------------------------------------------------------------------+--------+\n|Check out Northside Hospital -Atlanta, Piedmont Atlanta and Emory University Hospital. All good quality and Northside is always awarded \"best places to work\" nationally. I have some friends that joined their Choice+ program in the past year which is basically an internal agency cont act and can get pretty lucrative and you're a hospital employee so get healthcare and are eligible for their pension. Heard the charting and audits of charting suck though. Mid to upper $30's- high $40's I believe is average. Their Choice+ can be up in the $60-70s if in the right specialty \\n\\nPiedmont Atlanta just opened up a new CVICU and has recently expanded it's transplant services. I know over the winter they had sign on bonuses still to get the new units up and running.\\n\\nEmory has always been known for good neurology/neurosurgery services. Otherwise specialties are at least average if not better than. \\n\\nGrady for trauma and I heard they are paying around $50/hr in some unit,  but that's hearsay and haven't confirmed. I used to work there and it's exciting and great experience but hard work. They used to not pay so well but apparently are paying better now at least. \\n\\nWellstar Kennestone or Gwinnett are decent places. Northeast GA if you want to be a little further north of the city.\\n\\nI'm at a nonprofit private hospital that I'd rather name privately but if you're interested would be happy to share via DM. We have set schedules. No weekend commitment or you work weekends but not both typically unless desired that way. If you're not weekends the only weekends you'll ever work is potentially during 3 weeks of holiday schedule. I'm part time float now here and choose to work a weekend day for childcare reasons and get paid $56.49/hr, and $61.49 on my weekend day. Get an annual bonus and 50% 403b matching with no % salary cap. Only capped by IRS contribution limits. Just came off a PRN internal contract in the ICU where I was making $75.50/hr for weekend dayshift. \\n\\nI'm north of ATL in a good area. Typically north of I-20 is better than south. In the city I can't speak to, never lived in the city but it's mixed. Some great, some horrible. Outside the city look at Marietta, Kennesaw, Vinings, Alpharetta, Canton, Roswell, Woodstock, and Duluth. Going west of the city outside the perimeter turns very country very quickly. Land and farm, but worse schools. Going east has some bad areas and gets more rural but has some good spots too\\n\\nI grew up south of ATL. It's generally pretty country further out and population growth is still booming. Some bad spots too though and closer to the city are some dangerous areas littered with crime and gang activity.|negative|\n|Check out Northside Hospital -Atlanta, Piedmont Atlanta and Emory University Hospital. All good quality and Northside is always awarded \"best places to work\" nationally. I have some friends that joined their Choice+ program in the past year which is basically an internal agency cont act and can get pretty lucrative and you're a hospital employee so get healthcare and are eligible for their pension. Heard the charting and audits of charting suck though. Mid to upper $30's- high $40's I believe is average. Their Choice+ can be up in the $60-70s if in the right specialty \\n\\nPiedmont Atlanta just opened up a new CVICU and has recently expanded it's transplant services. I know over the winter they had sign on bonuses still to get the new units up and running.\\n\\nEmory has always been known for good neurology/neurosurgery services. Otherwise specialties are at least average if not better than. \\n\\nGrady for trauma and I heard they are paying around $50/hr in some unit,  but that's hearsay and haven't confirmed. I used to work there and it's exciting and great experience but hard work. They used to not pay so well but apparently are paying better now at least. \\n\\nWellstar Kennestone or Gwinnett are decent places. Northeast GA if you want to be a little further north of the city.\\n\\nI'm at a nonprofit private hospital that I'd rather name privately but if you're interested would be happy to share via DM. We have set schedules. No weekend commitment or you work weekends but not both typically unless desired that way. If you're not weekends the only weekends you'll ever work is potentially during 3 weeks of holiday schedule. I'm part time float now here and choose to work a weekend day for childcare reasons and get paid $56.49/hr, and $61.49 on my weekend day. Get an annual bonus and 50% 403b matching with no % salary cap. Only capped by IRS contribution limits. Just came off a PRN internal contract in the ICU where I was making $75.50/hr for weekend dayshift. \\n\\nI'm north of ATL in a good area. Typically north of I-20 is better than south. In the city I can't speak to, never lived in the city but it's mixed. Some great, some horrible. Outside the city look at Marietta, Kennesaw, Vinings, Alpharetta, Canton, Roswell, Woodstock, and Duluth. Going west of the city outside the perimeter turns very country very quickly. Land and farm, but worse schools. Going east has some bad areas and gets more rural but has some good spots too\\n\\nI grew up south of ATL. It's generally pretty country further out and population growth is still booming. Some bad spots too though and closer to the city are some dangerous areas littered with crime and gang activity.|negative|\n|Check out Northside Hospital -Atlanta, Piedmont Atlanta and Emory University Hospital. All good quality and Northside is always awarded \"best places to work\" nationally. I have some friends that joined their Choice+ program in the past year which is basically an internal agency cont act and can get pretty lucrative and you're a hospital employee so get healthcare and are eligible for their pension. Heard the charting and audits of charting suck though. Mid to upper $30's- high $40's I believe is average. Their Choice+ can be up in the $60-70s if in the right specialty \\n\\nPiedmont Atlanta just opened up a new CVICU and has recently expanded it's transplant services. I know over the winter they had sign on bonuses still to get the new units up and running.\\n\\nEmory has always been known for good neurology/neurosurgery services. Otherwise specialties are at least average if not better than. \\n\\nGrady for trauma and I heard they are paying around $50/hr in some unit,  but that's hearsay and haven't confirmed. I used to work there and it's exciting and great experience but hard work. They used to not pay so well but apparently are paying better now at least. \\n\\nWellstar Kennestone or Gwinnett are decent places. Northeast GA if you want to be a little further north of the city.\\n\\nI'm at a nonprofit private hospital that I'd rather name privately but if you're interested would be happy to share via DM. We have set schedules. No weekend commitment or you work weekends but not both typically unless desired that way. If you're not weekends the only weekends you'll ever work is potentially during 3 weeks of holiday schedule. I'm part time float now here and choose to work a weekend day for childcare reasons and get paid $56.49/hr, and $61.49 on my weekend day. Get an annual bonus and 50% 403b matching with no % salary cap. Only capped by IRS contribution limits. Just came off a PRN internal contract in the ICU where I was making $75.50/hr for weekend dayshift. \\n\\nI'm north of ATL in a good area. Typically north of I-20 is better than south. In the city I can't speak to, never lived in the city but it's mixed. Some great, some horrible. Outside the city look at Marietta, Kennesaw, Vinings, Alpharetta, Canton, Roswell, Woodstock, and Duluth. Going west of the city outside the perimeter turns very country very quickly. Land and farm, but worse schools. Going east has some bad areas and gets more rural but has some good spots too\\n\\nI grew up south of ATL. It's generally pretty country further out and population growth is still booming. Some bad spots too though and closer to the city are some dangerous areas littered with crime and gang activity.|positive|\n|Check out Northside Hospital -Atlanta, Piedmont Atlanta and Emory University Hospital. All good quality and Northside is always awarded \"best places to work\" nationally. I have some friends that joined their Choice+ program in the past year which is basically an internal agency cont act and can get pretty lucrative and you're a hospital employee so get healthcare and are eligible for their pension. Heard the charting and audits of charting suck though. Mid to upper $30's- high $40's I believe is average. Their Choice+ can be up in the $60-70s if in the right specialty \\n\\nPiedmont Atlanta just opened up a new CVICU and has recently expanded it's transplant services. I know over the winter they had sign on bonuses still to get the new units up and running.\\n\\nEmory has always been known for good neurology/neurosurgery services. Otherwise specialties are at least average if not better than. \\n\\nGrady for trauma and I heard they are paying around $50/hr in some unit,  but that's hearsay and haven't confirmed. I used to work there and it's exciting and great experience but hard work. They used to not pay so well but apparently are paying better now at least. \\n\\nWellstar Kennestone or Gwinnett are decent places. Northeast GA if you want to be a little further north of the city.\\n\\nI'm at a nonprofit private hospital that I'd rather name privately but if you're interested would be happy to share via DM. We have set schedules. No weekend commitment or you work weekends but not both typically unless desired that way. If you're not weekends the only weekends you'll ever work is potentially during 3 weeks of holiday schedule. I'm part time float now here and choose to work a weekend day for childcare reasons and get paid $56.49/hr, and $61.49 on my weekend day. Get an annual bonus and 50% 403b matching with no % salary cap. Only capped by IRS contribution limits. Just came off a PRN internal contract in the ICU where I was making $75.50/hr for weekend dayshift. \\n\\nI'm north of ATL in a good area. Typically north of I-20 is better than south. In the city I can't speak to, never lived in the city but it's mixed. Some great, some horrible. Outside the city look at Marietta, Kennesaw, Vinings, Alpharetta, Canton, Roswell, Woodstock, and Duluth. Going west of the city outside the perimeter turns very country very quickly. Land and farm, but worse schools. Going east has some bad areas and gets more rural but has some good spots too\\n\\nI grew up south of ATL. It's generally pretty country further out and population growth is still booming. Some bad spots too though and closer to the city are some dangerous areas littered with crime and gang activity.|negative|\n|Check out Northside Hospital -Atlanta, Piedmont Atlanta and Emory University Hospital. All good quality and Northside is always awarded \"best places to work\" nationally. I have some friends that joined their Choice+ program in the past year which is basically an internal agency cont act and can get pretty lucrative and you're a hospital employee so get healthcare and are eligible for their pension. Heard the charting and audits of charting suck though. Mid to upper $30's- high $40's I believe is average. Their Choice+ can be up in the $60-70s if in the right specialty \\n\\nPiedmont Atlanta just opened up a new CVICU and has recently expanded it's transplant services. I know over the winter they had sign on bonuses still to get the new units up and running.\\n\\nEmory has always been known for good neurology/neurosurgery services. Otherwise specialties are at least average if not better than. \\n\\nGrady for trauma and I heard they are paying around $50/hr in some unit,  but that's hearsay and haven't confirmed. I used to work there and it's exciting and great experience but hard work. They used to not pay so well but apparently are paying better now at least. \\n\\nWellstar Kennestone or Gwinnett are decent places. Northeast GA if you want to be a little further north of the city.\\n\\nI'm at a nonprofit private hospital that I'd rather name privately but if you're interested would be happy to share via DM. We have set schedules. No weekend commitment or you work weekends but not both typically unless desired that way. If you're not weekends the only weekends you'll ever work is potentially during 3 weeks of holiday schedule. I'm part time float now here and choose to work a weekend day for childcare reasons and get paid $56.49/hr, and $61.49 on my weekend day. Get an annual bonus and 50% 403b matching with no % salary cap. Only capped by IRS contribution limits. Just came off a PRN internal contract in the ICU where I was making $75.50/hr for weekend dayshift. \\n\\nI'm north of ATL in a good area. Typically north of I-20 is better than south. In the city I can't speak to, never lived in the city but it's mixed. Some great, some horrible. Outside the city look at Marietta, Kennesaw, Vinings, Alpharetta, Canton, Roswell, Woodstock, and Duluth. Going west of the city outside the perimeter turns very country very quickly. Land and farm, but worse schools. Going east has some bad areas and gets more rural but has some good spots too\\n\\nI grew up south of ATL. It's generally pretty country further out and population growth is still booming. Some bad spots too though and closer to the city are some dangerous areas littered with crime and gang activity.|positive|\n|Check out Northside Hospital -Atlanta, Piedmont Atlanta and Emory University Hospital. All good quality and Northside is always awarded \"best places to work\" nationally. I have some friends that joined their Choice+ program in the past year which is basically an internal agency cont act and can get pretty lucrative and you're a hospital employee so get healthcare and are eligible for their pension. Heard the charting and audits of charting suck though. Mid to upper $30's- high $40's I believe is average. Their Choice+ can be up in the $60-70s if in the right specialty \\n\\nPiedmont Atlanta just opened up a new CVICU and has recently expanded it's transplant services. I know over the winter they had sign on bonuses still to get the new units up and running.\\n\\nEmory has always been known for good neurology/neurosurgery services. Otherwise specialties are at least average if not better than. \\n\\nGrady for trauma and I heard they are paying around $50/hr in some unit,  but that's hearsay and haven't confirmed. I used to work there and it's exciting and great experience but hard work. They used to not pay so well but apparently are paying better now at least. \\n\\nWellstar Kennestone or Gwinnett are decent places. Northeast GA if you want to be a little further north of the city.\\n\\nI'm at a nonprofit private hospital that I'd rather name privately but if you're interested would be happy to share via DM. We have set schedules. No weekend commitment or you work weekends but not both typically unless desired that way. If you're not weekends the only weekends you'll ever work is potentially during 3 weeks of holiday schedule. I'm part time float now here and choose to work a weekend day for childcare reasons and get paid $56.49/hr, and $61.49 on my weekend day. Get an annual bonus and 50% 403b matching with no % salary cap. Only capped by IRS contribution limits. Just came off a PRN internal contract in the ICU where I was making $75.50/hr for weekend dayshift. \\n\\nI'm north of ATL in a good area. Typically north of I-20 is better than south. In the city I can't speak to, never lived in the city but it's mixed. Some great, some horrible. Outside the city look at Marietta, Kennesaw, Vinings, Alpharetta, Canton, Roswell, Woodstock, and Duluth. Going west of the city outside the perimeter turns very country very quickly. Land and farm, but worse schools. Going east has some bad areas and gets more rural but has some good spots too\\n\\nI grew up south of ATL. It's generally pretty country further out and population growth is still booming. Some bad spots too though and closer to the city are some dangerous areas littered with crime and gang activity.|negative|\n|Check out Northside Hospital -Atlanta, Piedmont Atlanta and Emory University Hospital. All good quality and Northside is always awarded \"best places to work\" nationally. I have some friends that joined their Choice+ program in the past year which is basically an internal agency cont act and can get pretty lucrative and you're a hospital employee so get healthcare and are eligible for their pension. Heard the charting and audits of charting suck though. Mid to upper $30's- high $40's I believe is average. Their Choice+ can be up in the $60-70s if in the right specialty \\n\\nPiedmont Atlanta just opened up a new CVICU and has recently expanded it's transplant services. I know over the winter they had sign on bonuses still to get the new units up and running.\\n\\nEmory has always been known for good neurology/neurosurgery services. Otherwise specialties are at least average if not better than. \\n\\nGrady for trauma and I heard they are paying around $50/hr in some unit,  but that's hearsay and haven't confirmed. I used to work there and it's exciting and great experience but hard work. They used to not pay so well but apparently are paying better now at least. \\n\\nWellstar Kennestone or Gwinnett are decent places. Northeast GA if you want to be a little further north of the city.\\n\\nI'm at a nonprofit private hospital that I'd rather name privately but if you're interested would be happy to share via DM. We have set schedules. No weekend commitment or you work weekends but not both typically unless desired that way. If you're not weekends the only weekends you'll ever work is potentially during 3 weeks of holiday schedule. I'm part time float now here and choose to work a weekend day for childcare reasons and get paid $56.49/hr, and $61.49 on my weekend day. Get an annual bonus and 50% 403b matching with no % salary cap. Only capped by IRS contribution limits. Just came off a PRN internal contract in the ICU where I was making $75.50/hr for weekend dayshift. \\n\\nI'm north of ATL in a good area. Typically north of I-20 is better than south. In the city I can't speak to, never lived in the city but it's mixed. Some great, some horrible. Outside the city look at Marietta, Kennesaw, Vinings, Alpharetta, Canton, Roswell, Woodstock, and Duluth. Going west of the city outside the perimeter turns very country very quickly. Land and farm, but worse schools. Going east has some bad areas and gets more rural but has some good spots too\\n\\nI grew up south of ATL. It's generally pretty country further out and population growth is still booming. Some bad spots too though and closer to the city are some dangerous areas littered with crime and gang activity.|negative|\n|Check out Northside Hospital -Atlanta, Piedmont Atlanta and Emory University Hospital. All good quality and Northside is always awarded \"best places to work\" nationally. I have some friends that joined their Choice+ program in the past year which is basically an internal agency cont act and can get pretty lucrative and you're a hospital employee so get healthcare and are eligible for their pension. Heard the charting and audits of charting suck though. Mid to upper $30's- high $40's I believe is average. Their Choice+ can be up in the $60-70s if in the right specialty \\n\\nPiedmont Atlanta just opened up a new CVICU and has recently expanded it's transplant services. I know over the winter they had sign on bonuses still to get the new units up and running.\\n\\nEmory has always been known for good neurology/neurosurgery services. Otherwise specialties are at least average if not better than. \\n\\nGrady for trauma and I heard they are paying around $50/hr in some unit,  but that's hearsay and haven't confirmed. I used to work there and it's exciting and great experience but hard work. They used to not pay so well but apparently are paying better now at least. \\n\\nWellstar Kennestone or Gwinnett are decent places. Northeast GA if you want to be a little further north of the city.\\n\\nI'm at a nonprofit private hospital that I'd rather name privately but if you're interested would be happy to share via DM. We have set schedules. No weekend commitment or you work weekends but not both typically unless desired that way. If you're not weekends the only weekends you'll ever work is potentially during 3 weeks of holiday schedule. I'm part time float now here and choose to work a weekend day for childcare reasons and get paid $56.49/hr, and $61.49 on my weekend day. Get an annual bonus and 50% 403b matching with no % salary cap. Only capped by IRS contribution limits. Just came off a PRN internal contract in the ICU where I was making $75.50/hr for weekend dayshift. \\n\\nI'm north of ATL in a good area. Typically north of I-20 is better than south. In the city I can't speak to, never lived in the city but it's mixed. Some great, some horrible. Outside the city look at Marietta, Kennesaw, Vinings, Alpharetta, Canton, Roswell, Woodstock, and Duluth. Going west of the city outside the perimeter turns very country very quickly. Land and farm, but worse schools. Going east has some bad areas and gets more rural but has some good spots too\\n\\nI grew up south of ATL. It's generally pretty country further out and population growth is still booming. Some bad spots too though and closer to the city are some dangerous areas littered with crime and gang activity.|negative|\n|Check out Northside Hospital -Atlanta, Piedmont Atlanta and Emory University Hospital. All good quality and Northside is always awarded \"best places to work\" nationally. I have some friends that joined their Choice+ program in the past year which is basically an internal agency cont act and can get pretty lucrative and you're a hospital employee so get healthcare and are eligible for their pension. Heard the charting and audits of charting suck though. Mid to upper $30's- high $40's I believe is average. Their Choice+ can be up in the $60-70s if in the right specialty \\n\\nPiedmont Atlanta just opened up a new CVICU and has recently expanded it's transplant services. I know over the winter they had sign on bonuses still to get the new units up and running.\\n\\nEmory has always been known for good neurology/neurosurgery services. Otherwise specialties are at least average if not better than. \\n\\nGrady for trauma and I heard they are paying around $50/hr in some unit,  but that's hearsay and haven't confirmed. I used to work there and it's exciting and great experience but hard work. They used to not pay so well but apparently are paying better now at least. \\n\\nWellstar Kennestone or Gwinnett are decent places. Northeast GA if you want to be a little further north of the city.\\n\\nI'm at a nonprofit private hospital that I'd rather name privately but if you're interested would be happy to share via DM. We have set schedules. No weekend commitment or you work weekends but not both typically unless desired that way. If you're not weekends the only weekends you'll ever work is potentially during 3 weeks of holiday schedule. I'm part time float now here and choose to work a weekend day for childcare reasons and get paid $56.49/hr, and $61.49 on my weekend day. Get an annual bonus and 50% 403b matching with no % salary cap. Only capped by IRS contribution limits. Just came off a PRN internal contract in the ICU where I was making $75.50/hr for weekend dayshift. \\n\\nI'm north of ATL in a good area. Typically north of I-20 is better than south. In the city I can't speak to, never lived in the city but it's mixed. Some great, some horrible. Outside the city look at Marietta, Kennesaw, Vinings, Alpharetta, Canton, Roswell, Woodstock, and Duluth. Going west of the city outside the perimeter turns very country very quickly. Land and farm, but worse schools. Going east has some bad areas and gets more rural but has some good spots too\\n\\nI grew up south of ATL. It's generally pretty country further out and population growth is still booming. Some bad spots too though and closer to the city are some dangerous areas littered with crime and gang activity.|negative|\n|Check out Northside Hospital -Atlanta, Piedmont Atlanta and Emory University Hospital. All good quality and Northside is always awarded \"best places to work\" nationally. I have some friends that joined their Choice+ program in the past year which is basically an internal agency cont act and can get pretty lucrative and you're a hospital employee so get healthcare and are eligible for their pension. Heard the charting and audits of charting suck though. Mid to upper $30's- high $40's I believe is average. Their Choice+ can be up in the $60-70s if in the right specialty \\n\\nPiedmont Atlanta just opened up a new CVICU and has recently expanded it's transplant services. I know over the winter they had sign on bonuses still to get the new units up and running.\\n\\nEmory has always been known for good neurology/neurosurgery services. Otherwise specialties are at least average if not better than. \\n\\nGrady for trauma and I heard they are paying around $50/hr in some unit,  but that's hearsay and haven't confirmed. I used to work there and it's exciting and great experience but hard work. They used to not pay so well but apparently are paying better now at least. \\n\\nWellstar Kennestone or Gwinnett are decent places. Northeast GA if you want to be a little further north of the city.\\n\\nI'm at a nonprofit private hospital that I'd rather name privately but if you're interested would be happy to share via DM. We have set schedules. No weekend commitment or you work weekends but not both typically unless desired that way. If you're not weekends the only weekends you'll ever work is potentially during 3 weeks of holiday schedule. I'm part time float now here and choose to work a weekend day for childcare reasons and get paid $56.49/hr, and $61.49 on my weekend day. Get an annual bonus and 50% 403b matching with no % salary cap. Only capped by IRS contribution limits. Just came off a PRN internal contract in the ICU where I was making $75.50/hr for weekend dayshift. \\n\\nI'm north of ATL in a good area. Typically north of I-20 is better than south. In the city I can't speak to, never lived in the city but it's mixed. Some great, some horrible. Outside the city look at Marietta, Kennesaw, Vinings, Alpharetta, Canton, Roswell, Woodstock, and Duluth. Going west of the city outside the perimeter turns very country very quickly. Land and farm, but worse schools. Going east has some bad areas and gets more rural but has some good spots too\\n\\nI grew up south of ATL. It's generally pretty country further out and population growth is still booming. Some bad spots too though and closer to the city are some dangerous areas littered with crime and gang activity.|negative|\n|Check out Northside Hospital -Atlanta, Piedmont Atlanta and Emory University Hospital. All good quality and Northside is always awarded \"best places to work\" nationally. I have some friends that joined their Choice+ program in the past year which is basically an internal agency cont act and can get pretty lucrative and you're a hospital employee so get healthcare and are eligible for their pension. Heard the charting and audits of charting suck though. Mid to upper $30's- high $40's I believe is average. Their Choice+ can be up in the $60-70s if in the right specialty \\n\\nPiedmont Atlanta just opened up a new CVICU and has recently expanded it's transplant services. I know over the winter they had sign on bonuses still to get the new units up and running.\\n\\nEmory has always been known for good neurology/neurosurgery services. Otherwise specialties are at least average if not better than. \\n\\nGrady for trauma and I heard they are paying around $50/hr in some unit,  but that's hearsay and haven't confirmed. I used to work there and it's exciting and great experience but hard work. They used to not pay so well but apparently are paying better now at least. \\n\\nWellstar Kennestone or Gwinnett are decent places. Northeast GA if you want to be a little further north of the city.\\n\\nI'm at a nonprofit private hospital that I'd rather name privately but if you're interested would be happy to share via DM. We have set schedules. No weekend commitment or you work weekends but not both typically unless desired that way. If you're not weekends the only weekends you'll ever work is potentially during 3 weeks of holiday schedule. I'm part time float now here and choose to work a weekend day for childcare reasons and get paid $56.49/hr, and $61.49 on my weekend day. Get an annual bonus and 50% 403b matching with no % salary cap. Only capped by IRS contribution limits. Just came off a PRN internal contract in the ICU where I was making $75.50/hr for weekend dayshift. \\n\\nI'm north of ATL in a good area. Typically north of I-20 is better than south. In the city I can't speak to, never lived in the city but it's mixed. Some great, some horrible. Outside the city look at Marietta, Kennesaw, Vinings, Alpharetta, Canton, Roswell, Woodstock, and Duluth. Going west of the city outside the perimeter turns very country very quickly. Land and farm, but worse schools. Going east has some bad areas and gets more rural but has some good spots too\\n\\nI grew up south of ATL. It's generally pretty country further out and population growth is still booming. Some bad spots too though and closer to the city are some dangerous areas littered with crime and gang activity.|negative|\n|Check out Northside Hospital -Atlanta, Piedmont Atlanta and Emory University Hospital. All good quality and Northside is always awarded \"best places to work\" nationally. I have some friends that joined their Choice+ program in the past year which is basically an internal agency cont act and can get pretty lucrative and you're a hospital employee so get healthcare and are eligible for their pension. Heard the charting and audits of charting suck though. Mid to upper $30's- high $40's I believe is average. Their Choice+ can be up in the $60-70s if in the right specialty \\n\\nPiedmont Atlanta just opened up a new CVICU and has recently expanded it's transplant services. I know over the winter they had sign on bonuses still to get the new units up and running.\\n\\nEmory has always been known for good neurology/neurosurgery services. Otherwise specialties are at least average if not better than. \\n\\nGrady for trauma and I heard they are paying around $50/hr in some unit,  but that's hearsay and haven't confirmed. I used to work there and it's exciting and great experience but hard work. They used to not pay so well but apparently are paying better now at least. \\n\\nWellstar Kennestone or Gwinnett are decent places. Northeast GA if you want to be a little further north of the city.\\n\\nI'm at a nonprofit private hospital that I'd rather name privately but if you're interested would be happy to share via DM. We have set schedules. No weekend commitment or you work weekends but not both typically unless desired that way. If you're not weekends the only weekends you'll ever work is potentially during 3 weeks of holiday schedule. I'm part time float now here and choose to work a weekend day for childcare reasons and get paid $56.49/hr, and $61.49 on my weekend day. Get an annual bonus and 50% 403b matching with no % salary cap. Only capped by IRS contribution limits. Just came off a PRN internal contract in the ICU where I was making $75.50/hr for weekend dayshift. \\n\\nI'm north of ATL in a good area. Typically north of I-20 is better than south. In the city I can't speak to, never lived in the city but it's mixed. Some great, some horrible. Outside the city look at Marietta, Kennesaw, Vinings, Alpharetta, Canton, Roswell, Woodstock, and Duluth. Going west of the city outside the perimeter turns very country very quickly. Land and farm, but worse schools. Going east has some bad areas and gets more rural but has some good spots too\\n\\nI grew up south of ATL. It's generally pretty country further out and population growth is still booming. Some bad spots too though and closer to the city are some dangerous areas littered with crime and gang activity.|negative|\n|Check out Northside Hospital -Atlanta, Piedmont Atlanta and Emory University Hospital. All good quality and Northside is always awarded \"best places to work\" nationally. I have some friends that joined their Choice+ program in the past year which is basically an internal agency cont act and can get pretty lucrative and you're a hospital employee so get healthcare and are eligible for their pension. Heard the charting and audits of charting suck though. Mid to upper $30's- high $40's I believe is average. Their Choice+ can be up in the $60-70s if in the right specialty \\n\\nPiedmont Atlanta just opened up a new CVICU and has recently expanded it's transplant services. I know over the winter they had sign on bonuses still to get the new units up and running.\\n\\nEmory has always been known for good neurology/neurosurgery services. Otherwise specialties are at least average if not better than. \\n\\nGrady for trauma and I heard they are paying around $50/hr in some unit,  but that's hearsay and haven't confirmed. I used to work there and it's exciting and great experience but hard work. They used to not pay so well but apparently are paying better now at least. \\n\\nWellstar Kennestone or Gwinnett are decent places. Northeast GA if you want to be a little further north of the city.\\n\\nI'm at a nonprofit private hospital that I'd rather name privately but if you're interested would be happy to share via DM. We have set schedules. No weekend commitment or you work weekends but not both typically unless desired that way. If you're not weekends the only weekends you'll ever work is potentially during 3 weeks of holiday schedule. I'm part time float now here and choose to work a weekend day for childcare reasons and get paid $56.49/hr, and $61.49 on my weekend day. Get an annual bonus and 50% 403b matching with no % salary cap. Only capped by IRS contribution limits. Just came off a PRN internal contract in the ICU where I was making $75.50/hr for weekend dayshift. \\n\\nI'm north of ATL in a good area. Typically north of I-20 is better than south. In the city I can't speak to, never lived in the city but it's mixed. Some great, some horrible. Outside the city look at Marietta, Kennesaw, Vinings, Alpharetta, Canton, Roswell, Woodstock, and Duluth. Going west of the city outside the perimeter turns very country very quickly. Land and farm, but worse schools. Going east has some bad areas and gets more rural but has some good spots too\\n\\nI grew up south of ATL. It's generally pretty country further out and population growth is still booming. Some bad spots too though and closer to the city are some dangerous areas littered with crime and gang activity.|positive|\n|Check out Northside Hospital -Atlanta, Piedmont Atlanta and Emory University Hospital. All good quality and Northside is always awarded \"best places to work\" nationally. I have some friends that joined their Choice+ program in the past year which is basically an internal agency cont act and can get pretty lucrative and you're a hospital employee so get healthcare and are eligible for their pension. Heard the charting and audits of charting suck though. Mid to upper $30's- high $40's I believe is average. Their Choice+ can be up in the $60-70s if in the right specialty \\n\\nPiedmont Atlanta just opened up a new CVICU and has recently expanded it's transplant services. I know over the winter they had sign on bonuses still to get the new units up and running.\\n\\nEmory has always been known for good neurology/neurosurgery services. Otherwise specialties are at least average if not better than. \\n\\nGrady for trauma and I heard they are paying around $50/hr in some unit,  but that's hearsay and haven't confirmed. I used to work there and it's exciting and great experience but hard work. They used to not pay so well but apparently are paying better now at least. \\n\\nWellstar Kennestone or Gwinnett are decent places. Northeast GA if you want to be a little further north of the city.\\n\\nI'm at a nonprofit private hospital that I'd rather name privately but if you're interested would be happy to share via DM. We have set schedules. No weekend commitment or you work weekends but not both typically unless desired that way. If you're not weekends the only weekends you'll ever work is potentially during 3 weeks of holiday schedule. I'm part time float now here and choose to work a weekend day for childcare reasons and get paid $56.49/hr, and $61.49 on my weekend day. Get an annual bonus and 50% 403b matching with no % salary cap. Only capped by IRS contribution limits. Just came off a PRN internal contract in the ICU where I was making $75.50/hr for weekend dayshift. \\n\\nI'm north of ATL in a good area. Typically north of I-20 is better than south. In the city I can't speak to, never lived in the city but it's mixed. Some great, some horrible. Outside the city look at Marietta, Kennesaw, Vinings, Alpharetta, Canton, Roswell, Woodstock, and Duluth. Going west of the city outside the perimeter turns very country very quickly. Land and farm, but worse schools. Going east has some bad areas and gets more rural but has some good spots too\\n\\nI grew up south of ATL. It's generally pretty country further out and population growth is still booming. Some bad spots too though and closer to the city are some dangerous areas littered with crime and gang activity.|positive|\n|Check out Northside Hospital -Atlanta, Piedmont Atlanta and Emory University Hospital. All good quality and Northside is always awarded \"best places to work\" nationally. I have some friends that joined their Choice+ program in the past year which is basically an internal agency cont act and can get pretty lucrative and you're a hospital employee so get healthcare and are eligible for their pension. Heard the charting and audits of charting suck though. Mid to upper $30's- high $40's I believe is average. Their Choice+ can be up in the $60-70s if in the right specialty \\n\\nPiedmont Atlanta just opened up a new CVICU and has recently expanded it's transplant services. I know over the winter they had sign on bonuses still to get the new units up and running.\\n\\nEmory has always been known for good neurology/neurosurgery services. Otherwise specialties are at least average if not better than. \\n\\nGrady for trauma and I heard they are paying around $50/hr in some unit,  but that's hearsay and haven't confirmed. I used to work there and it's exciting and great experience but hard work. They used to not pay so well but apparently are paying better now at least. \\n\\nWellstar Kennestone or Gwinnett are decent places. Northeast GA if you want to be a little further north of the city.\\n\\nI'm at a nonprofit private hospital that I'd rather name privately but if you're interested would be happy to share via DM. We have set schedules. No weekend commitment or you work weekends but not both typically unless desired that way. If you're not weekends the only weekends you'll ever work is potentially during 3 weeks of holiday schedule. I'm part time float now here and choose to work a weekend day for childcare reasons and get paid $56.49/hr, and $61.49 on my weekend day. Get an annual bonus and 50% 403b matching with no % salary cap. Only capped by IRS contribution limits. Just came off a PRN internal contract in the ICU where I was making $75.50/hr for weekend dayshift. \\n\\nI'm north of ATL in a good area. Typically north of I-20 is better than south. In the city I can't speak to, never lived in the city but it's mixed. Some great, some horrible. Outside the city look at Marietta, Kennesaw, Vinings, Alpharetta, Canton, Roswell, Woodstock, and Duluth. Going west of the city outside the perimeter turns very country very quickly. Land and farm, but worse schools. Going east has some bad areas and gets more rural but has some good spots too\\n\\nI grew up south of ATL. It's generally pretty country further out and population growth is still booming. Some bad spots too though and closer to the city are some dangerous areas littered with crime and gang activity.|positive|\n|Check out Northside Hospital -Atlanta, Piedmont Atlanta and Emory University Hospital. All good quality and Northside is always awarded \"best places to work\" nationally. I have some friends that joined their Choice+ program in the past year which is basically an internal agency cont act and can get pretty lucrative and you're a hospital employee so get healthcare and are eligible for their pension. Heard the charting and audits of charting suck though. Mid to upper $30's- high $40's I believe is average. Their Choice+ can be up in the $60-70s if in the right specialty \\n\\nPiedmont Atlanta just opened up a new CVICU and has recently expanded it's transplant services. I know over the winter they had sign on bonuses still to get the new units up and running.\\n\\nEmory has always been known for good neurology/neurosurgery services. Otherwise specialties are at least average if not better than. \\n\\nGrady for trauma and I heard they are paying around $50/hr in some unit,  but that's hearsay and haven't confirmed. I used to work there and it's exciting and great experience but hard work. They used to not pay so well but apparently are paying better now at least. \\n\\nWellstar Kennestone or Gwinnett are decent places. Northeast GA if you want to be a little further north of the city.\\n\\nI'm at a nonprofit private hospital that I'd rather name privately but if you're interested would be happy to share via DM. We have set schedules. No weekend commitment or you work weekends but not both typically unless desired that way. If you're not weekends the only weekends you'll ever work is potentially during 3 weeks of holiday schedule. I'm part time float now here and choose to work a weekend day for childcare reasons and get paid $56.49/hr, and $61.49 on my weekend day. Get an annual bonus and 50% 403b matching with no % salary cap. Only capped by IRS contribution limits. Just came off a PRN internal contract in the ICU where I was making $75.50/hr for weekend dayshift. \\n\\nI'm north of ATL in a good area. Typically north of I-20 is better than south. In the city I can't speak to, never lived in the city but it's mixed. Some great, some horrible. Outside the city look at Marietta, Kennesaw, Vinings, Alpharetta, Canton, Roswell, Woodstock, and Duluth. Going west of the city outside the perimeter turns very country very quickly. Land and farm, but worse schools. Going east has some bad areas and gets more rural but has some good spots too\\n\\nI grew up south of ATL. It's generally pretty country further out and population growth is still booming. Some bad spots too though and closer to the city are some dangerous areas littered with crime and gang activity.|positive|\n|Check out Northside Hospital -Atlanta, Piedmont Atlanta and Emory University Hospital. All good quality and Northside is always awarded \"best places to work\" nationally. I have some friends that joined their Choice+ program in the past year which is basically an internal agency cont act and can get pretty lucrative and you're a hospital employee so get healthcare and are eligible for their pension. Heard the charting and audits of charting suck though. Mid to upper $30's- high $40's I believe is average. Their Choice+ can be up in the $60-70s if in the right specialty \\n\\nPiedmont Atlanta just opened up a new CVICU and has recently expanded it's transplant services. I know over the winter they had sign on bonuses still to get the new units up and running.\\n\\nEmory has always been known for good neurology/neurosurgery services. Otherwise specialties are at least average if not better than. \\n\\nGrady for trauma and I heard they are paying around $50/hr in some unit,  but that's hearsay and haven't confirmed. I used to work there and it's exciting and great experience but hard work. They used to not pay so well but apparently are paying better now at least. \\n\\nWellstar Kennestone or Gwinnett are decent places. Northeast GA if you want to be a little further north of the city.\\n\\nI'm at a nonprofit private hospital that I'd rather name privately but if you're interested would be happy to share via DM. We have set schedules. No weekend commitment or you work weekends but not both typically unless desired that way. If you're not weekends the only weekends you'll ever work is potentially during 3 weeks of holiday schedule. I'm part time float now here and choose to work a weekend day for childcare reasons and get paid $56.49/hr, and $61.49 on my weekend day. Get an annual bonus and 50% 403b matching with no % salary cap. Only capped by IRS contribution limits. Just came off a PRN internal contract in the ICU where I was making $75.50/hr for weekend dayshift. \\n\\nI'm north of ATL in a good area. Typically north of I-20 is better than south. In the city I can't speak to, never lived in the city but it's mixed. Some great, some horrible. Outside the city look at Marietta, Kennesaw, Vinings, Alpharetta, Canton, Roswell, Woodstock, and Duluth. Going west of the city outside the perimeter turns very country very quickly. Land and farm, but worse schools. Going east has some bad areas and gets more rural but has some good spots too\\n\\nI grew up south of ATL. It's generally pretty country further out and population growth is still booming. Some bad spots too though and closer to the city are some dangerous areas littered with crime and gang activity.|positive|\n|Check out Northside Hospital -Atlanta, Piedmont Atlanta and Emory University Hospital. All good quality and Northside is always awarded \"best places to work\" nationally. I have some friends that joined their Choice+ program in the past year which is basically an internal agency cont act and can get pretty lucrative and you're a hospital employee so get healthcare and are eligible for their pension. Heard the charting and audits of charting suck though. Mid to upper $30's- high $40's I believe is average. Their Choice+ can be up in the $60-70s if in the right specialty \\n\\nPiedmont Atlanta just opened up a new CVICU and has recently expanded it's transplant services. I know over the winter they had sign on bonuses still to get the new units up and running.\\n\\nEmory has always been known for good neurology/neurosurgery services. Otherwise specialties are at least average if not better than. \\n\\nGrady for trauma and I heard they are paying around $50/hr in some unit,  but that's hearsay and haven't confirmed. I used to work there and it's exciting and great experience but hard work. They used to not pay so well but apparently are paying better now at least. \\n\\nWellstar Kennestone or Gwinnett are decent places. Northeast GA if you want to be a little further north of the city.\\n\\nI'm at a nonprofit private hospital that I'd rather name privately but if you're interested would be happy to share via DM. We have set schedules. No weekend commitment or you work weekends but not both typically unless desired that way. If you're not weekends the only weekends you'll ever work is potentially during 3 weeks of holiday schedule. I'm part time float now here and choose to work a weekend day for childcare reasons and get paid $56.49/hr, and $61.49 on my weekend day. Get an annual bonus and 50% 403b matching with no % salary cap. Only capped by IRS contribution limits. Just came off a PRN internal contract in the ICU where I was making $75.50/hr for weekend dayshift. \\n\\nI'm north of ATL in a good area. Typically north of I-20 is better than south. In the city I can't speak to, never lived in the city but it's mixed. Some great, some horrible. Outside the city look at Marietta, Kennesaw, Vinings, Alpharetta, Canton, Roswell, Woodstock, and Duluth. Going west of the city outside the perimeter turns very country very quickly. Land and farm, but worse schools. Going east has some bad areas and gets more rural but has some good spots too\\n\\nI grew up south of ATL. It's generally pretty country further out and population growth is still booming. Some bad spots too though and closer to the city are some dangerous areas littered with crime and gang activity.|positive|\n|Check out Northside Hospital -Atlanta, Piedmont Atlanta and Emory University Hospital. All good quality and Northside is always awarded \"best places to work\" nationally. I have some friends that joined their Choice+ program in the past year which is basically an internal agency cont act and can get pretty lucrative and you're a hospital employee so get healthcare and are eligible for their pension. Heard the charting and audits of charting suck though. Mid to upper $30's- high $40's I believe is average. Their Choice+ can be up in the $60-70s if in the right specialty \\n\\nPiedmont Atlanta just opened up a new CVICU and has recently expanded it's transplant services. I know over the winter they had sign on bonuses still to get the new units up and running.\\n\\nEmory has always been known for good neurology/neurosurgery services. Otherwise specialties are at least average if not better than. \\n\\nGrady for trauma and I heard they are paying around $50/hr in some unit,  but that's hearsay and haven't confirmed. I used to work there and it's exciting and great experience but hard work. They used to not pay so well but apparently are paying better now at least. \\n\\nWellstar Kennestone or Gwinnett are decent places. Northeast GA if you want to be a little further north of the city.\\n\\nI'm at a nonprofit private hospital that I'd rather name privately but if you're interested would be happy to share via DM. We have set schedules. No weekend commitment or you work weekends but not both typically unless desired that way. If you're not weekends the only weekends you'll ever work is potentially during 3 weeks of holiday schedule. I'm part time float now here and choose to work a weekend day for childcare reasons and get paid $56.49/hr, and $61.49 on my weekend day. Get an annual bonus and 50% 403b matching with no % salary cap. Only capped by IRS contribution limits. Just came off a PRN internal contract in the ICU where I was making $75.50/hr for weekend dayshift. \\n\\nI'm north of ATL in a good area. Typically north of I-20 is better than south. In the city I can't speak to, never lived in the city but it's mixed. Some great, some horrible. Outside the city look at Marietta, Kennesaw, Vinings, Alpharetta, Canton, Roswell, Woodstock, and Duluth. Going west of the city outside the perimeter turns very country very quickly. Land and farm, but worse schools. Going east has some bad areas and gets more rural but has some good spots too\\n\\nI grew up south of ATL. It's generally pretty country further out and population growth is still booming. Some bad spots too though and closer to the city are some dangerous areas littered with crime and gang activity.|negative|\n|Check out Northside Hospital -Atlanta, Piedmont Atlanta and Emory University Hospital. All good quality and Northside is always awarded \"best places to work\" nationally. I have some friends that joined their Choice+ program in the past year which is basically an internal agency cont act and can get pretty lucrative and you're a hospital employee so get healthcare and are eligible for their pension. Heard the charting and audits of charting suck though. Mid to upper $30's- high $40's I believe is average. Their Choice+ can be up in the $60-70s if in the right specialty \\n\\nPiedmont Atlanta just opened up a new CVICU and has recently expanded it's transplant services. I know over the winter they had sign on bonuses still to get the new units up and running.\\n\\nEmory has always been known for good neurology/neurosurgery services. Otherwise specialties are at least average if not better than. \\n\\nGrady for trauma and I heard they are paying around $50/hr in some unit,  but that's hearsay and haven't confirmed. I used to work there and it's exciting and great experience but hard work. They used to not pay so well but apparently are paying better now at least. \\n\\nWellstar Kennestone or Gwinnett are decent places. Northeast GA if you want to be a little further north of the city.\\n\\nI'm at a nonprofit private hospital that I'd rather name privately but if you're interested would be happy to share via DM. We have set schedules. No weekend commitment or you work weekends but not both typically unless desired that way. If you're not weekends the only weekends you'll ever work is potentially during 3 weeks of holiday schedule. I'm part time float now here and choose to work a weekend day for childcare reasons and get paid $56.49/hr, and $61.49 on my weekend day. Get an annual bonus and 50% 403b matching with no % salary cap. Only capped by IRS contribution limits. Just came off a PRN internal contract in the ICU where I was making $75.50/hr for weekend dayshift. \\n\\nI'm north of ATL in a good area. Typically north of I-20 is better than south. In the city I can't speak to, never lived in the city but it's mixed. Some great, some horrible. Outside the city look at Marietta, Kennesaw, Vinings, Alpharetta, Canton, Roswell, Woodstock, and Duluth. Going west of the city outside the perimeter turns very country very quickly. Land and farm, but worse schools. Going east has some bad areas and gets more rural but has some good spots too\\n\\nI grew up south of ATL. It's generally pretty country further out and population growth is still booming. Some bad spots too though and closer to the city are some dangerous areas littered with crime and gang activity.|negative|\n+--------------------------------------------------------------------------------------------------------------------------------------------------------------------------------------------------------------------------------------------------------------------------------------------------------------------------------------------------------------------------------------------------------------------------------------------------------------------------------------------------------------------------------------------------------------------------------------------------------------------------------------------------------------------------------------------------------------------------------------------------------------------------------------------------------------------------------------------------------------------------------------------------------------------------------------------------------------------------------------------------------------------------------------------------------------------------------------------------------------------------------------------------------------------------------------------------------------------------------------------------------------------------------------------------------------------------------------------------------------------------------------------------------------------------------------------------------------------------------------------------------------------------------------------------------------------------------------------------------------------------------------------------------------------------------------------------------------------------------------------------------------------------------------------------------------------------------------------------------------------------------------------------------------------------------------------------------------------------------------------------------------------------------------------------------------------------------------------------------------------------------------------------------------------------------------------------------------------------------------------------------------------------------------------------------------------------------------------------------------------------------------------------------------------------------------------------------------------------------------------------------------------------------------------------------------------------------------------------------------------------------------------------------------------------------------------------------------------------------------------------------------------------------------------+--------+\nonly showing top 20 rows\n\n"
        }
      ],
      "execution_count": 5,
      "metadata": {
        "jupyter": {
          "source_hidden": false,
          "outputs_hidden": false
        },
        "nteract": {
          "transient": {
            "deleting": false
          }
        },
        "gather": {
          "logged": 1733697166929
        }
      }
    },
    {
      "cell_type": "code",
      "source": [
        "df_flat.show(5)\n",
        "comments_row_count = df_flat.count()\n",
        "comment_col_count = len(df_flat.columns)\n",
        "print(f\"shape of the comments dataframe is {comments_row_count:,}x{comment_col_count}\")"
      ],
      "outputs": [
        {
          "output_type": "display_data",
          "data": {
            "application/vnd.livy.statement-meta+json": {
              "spark_pool": "ba5e360d-f184-47a0-9859-76b5031b79e3",
              "statement_id": 11,
              "statement_ids": [
                11
              ],
              "state": "finished",
              "livy_statement_state": "available",
              "spark_jobs": {
                "numbers": {
                  "FAILED": 0,
                  "RUNNING": 0,
                  "UNKNOWN": 0,
                  "SUCCEEDED": 4
                },
                "jobs": [
                  {
                    "displayName": "count at NativeMethodAccessorImpl.java:0",
                    "dataWritten": 0,
                    "dataRead": 171,
                    "rowCount": 3,
                    "usageDescription": "",
                    "jobId": 10,
                    "name": "count at NativeMethodAccessorImpl.java:0",
                    "description": "Job group for statement 11:\ndf_flat.show(5)\ncomments_row_count = df_flat.count()\ncomment_col_count = len(df_flat.columns)\nprint(f\"shape of the comments dataframe is {comments_row_count:,}x{comment_col_count}\")",
                    "submissionTime": "2024-12-08T22:32:48.947GMT",
                    "completionTime": "2024-12-08T22:32:49.188GMT",
                    "stageIds": [
                      10,
                      11
                    ],
                    "jobGroup": "11",
                    "status": "SUCCEEDED",
                    "numTasks": 4,
                    "numActiveTasks": 0,
                    "numCompletedTasks": 1,
                    "numSkippedTasks": 3,
                    "numFailedTasks": 0,
                    "numKilledTasks": 0,
                    "numCompletedIndices": 1,
                    "numActiveStages": 0,
                    "numCompletedStages": 1,
                    "numSkippedStages": 1,
                    "numFailedStages": 0,
                    "killedTasksSummary": {}
                  },
                  {
                    "displayName": "count at NativeMethodAccessorImpl.java:0",
                    "dataWritten": 171,
                    "dataRead": 99298,
                    "rowCount": 10003,
                    "usageDescription": "",
                    "jobId": 9,
                    "name": "count at NativeMethodAccessorImpl.java:0",
                    "description": "Job group for statement 11:\ndf_flat.show(5)\ncomments_row_count = df_flat.count()\ncomment_col_count = len(df_flat.columns)\nprint(f\"shape of the comments dataframe is {comments_row_count:,}x{comment_col_count}\")",
                    "submissionTime": "2024-12-08T22:32:48.277GMT",
                    "completionTime": "2024-12-08T22:32:48.828GMT",
                    "stageIds": [
                      9
                    ],
                    "jobGroup": "11",
                    "status": "SUCCEEDED",
                    "numTasks": 3,
                    "numActiveTasks": 0,
                    "numCompletedTasks": 3,
                    "numSkippedTasks": 0,
                    "numFailedTasks": 0,
                    "numKilledTasks": 0,
                    "numCompletedIndices": 3,
                    "numActiveStages": 0,
                    "numCompletedStages": 1,
                    "numSkippedStages": 0,
                    "numFailedStages": 0,
                    "killedTasksSummary": {}
                  },
                  {
                    "displayName": "showString at NativeMethodAccessorImpl.java:0",
                    "dataWritten": 0,
                    "dataRead": 1731073,
                    "rowCount": 1,
                    "usageDescription": "",
                    "jobId": 8,
                    "name": "showString at NativeMethodAccessorImpl.java:0",
                    "description": "Job group for statement 11:\ndf_flat.show(5)\ncomments_row_count = df_flat.count()\ncomment_col_count = len(df_flat.columns)\nprint(f\"shape of the comments dataframe is {comments_row_count:,}x{comment_col_count}\")",
                    "submissionTime": "2024-12-08T22:32:47.257GMT",
                    "completionTime": "2024-12-08T22:32:47.780GMT",
                    "stageIds": [
                      8
                    ],
                    "jobGroup": "11",
                    "status": "SUCCEEDED",
                    "numTasks": 2,
                    "numActiveTasks": 0,
                    "numCompletedTasks": 2,
                    "numSkippedTasks": 0,
                    "numFailedTasks": 0,
                    "numKilledTasks": 0,
                    "numCompletedIndices": 2,
                    "numActiveStages": 0,
                    "numCompletedStages": 1,
                    "numSkippedStages": 0,
                    "numFailedStages": 0,
                    "killedTasksSummary": {}
                  },
                  {
                    "displayName": "showString at NativeMethodAccessorImpl.java:0",
                    "dataWritten": 0,
                    "dataRead": 11254,
                    "rowCount": 0,
                    "usageDescription": "",
                    "jobId": 7,
                    "name": "showString at NativeMethodAccessorImpl.java:0",
                    "description": "Job group for statement 11:\ndf_flat.show(5)\ncomments_row_count = df_flat.count()\ncomment_col_count = len(df_flat.columns)\nprint(f\"shape of the comments dataframe is {comments_row_count:,}x{comment_col_count}\")",
                    "submissionTime": "2024-12-08T22:32:47.057GMT",
                    "completionTime": "2024-12-08T22:32:47.238GMT",
                    "stageIds": [
                      7
                    ],
                    "jobGroup": "11",
                    "status": "SUCCEEDED",
                    "numTasks": 1,
                    "numActiveTasks": 0,
                    "numCompletedTasks": 1,
                    "numSkippedTasks": 0,
                    "numFailedTasks": 0,
                    "numKilledTasks": 0,
                    "numCompletedIndices": 1,
                    "numActiveStages": 0,
                    "numCompletedStages": 1,
                    "numSkippedStages": 0,
                    "numFailedStages": 0,
                    "killedTasksSummary": {}
                  }
                ],
                "limit": 20,
                "rule": "ALL_DESC"
              },
              "session_id": "48",
              "normalized_state": "finished",
              "queued_time": "2024-12-08T22:32:24.9045522Z",
              "session_start_time": null,
              "execution_start_time": "2024-12-08T22:32:46.9501683Z",
              "execution_finish_time": "2024-12-08T22:32:50.1407326Z",
              "parent_msg_id": "15290a44-b45f-4eb1-9fe6-3f5e05720185"
            },
            "text/plain": "StatementMeta(ba5e360d-f184-47a0-9859-76b5031b79e3, 48, 11, Finished, Available, Finished)"
          },
          "metadata": {}
        },
        {
          "output_type": "stream",
          "name": "stdout",
          "text": "+--------------------+--------+\n|                text|  result|\n+--------------------+--------+\n|Check out Northsi...|negative|\n|Check out Northsi...|negative|\n|Check out Northsi...|positive|\n|Check out Northsi...|negative|\n|Check out Northsi...|positive|\n+--------------------+--------+\nonly showing top 5 rows\n\nshape of the comments dataframe is 41,883x2\n"
        }
      ],
      "execution_count": 6,
      "metadata": {
        "jupyter": {
          "source_hidden": false,
          "outputs_hidden": false
        },
        "nteract": {
          "transient": {
            "deleting": false
          }
        },
        "gather": {
          "logged": 1733697170324
        }
      }
    },
    {
      "cell_type": "code",
      "source": [
        "cancer_df.printSchema()"
      ],
      "outputs": [
        {
          "output_type": "display_data",
          "data": {
            "application/vnd.livy.statement-meta+json": {
              "spark_pool": "ba5e360d-f184-47a0-9859-76b5031b79e3",
              "statement_id": 12,
              "statement_ids": [
                12
              ],
              "state": "finished",
              "livy_statement_state": "available",
              "spark_jobs": {
                "numbers": {
                  "FAILED": 0,
                  "RUNNING": 0,
                  "UNKNOWN": 0,
                  "SUCCEEDED": 0
                },
                "jobs": [],
                "limit": 20,
                "rule": "ALL_DESC"
              },
              "session_id": "48",
              "normalized_state": "finished",
              "queued_time": "2024-12-08T22:32:24.9418444Z",
              "session_start_time": null,
              "execution_start_time": "2024-12-08T22:32:50.2596846Z",
              "execution_finish_time": "2024-12-08T22:32:50.5588697Z",
              "parent_msg_id": "0dab3753-3b00-46b3-a13a-626a541f7ad1"
            },
            "text/plain": "StatementMeta(ba5e360d-f184-47a0-9859-76b5031b79e3, 48, 12, Finished, Available, Finished)"
          },
          "metadata": {}
        },
        {
          "output_type": "stream",
          "name": "stdout",
          "text": "root\n |-- text: string (nullable = true)\n |-- document: array (nullable = true)\n |    |-- element: struct (containsNull = true)\n |    |    |-- annotatorType: string (nullable = true)\n |    |    |-- begin: integer (nullable = true)\n |    |    |-- end: integer (nullable = true)\n |    |    |-- result: string (nullable = true)\n |    |    |-- metadata: map (nullable = true)\n |    |    |    |-- key: string\n |    |    |    |-- value: string (valueContainsNull = true)\n |    |    |-- embeddings: array (nullable = true)\n |    |    |    |-- element: float (containsNull = true)\n |-- sentence: array (nullable = true)\n |    |-- element: struct (containsNull = true)\n |    |    |-- annotatorType: string (nullable = true)\n |    |    |-- begin: integer (nullable = true)\n |    |    |-- end: integer (nullable = true)\n |    |    |-- result: string (nullable = true)\n |    |    |-- metadata: map (nullable = true)\n |    |    |    |-- key: string\n |    |    |    |-- value: string (valueContainsNull = true)\n |    |    |-- embeddings: array (nullable = true)\n |    |    |    |-- element: float (containsNull = true)\n |-- token: array (nullable = true)\n |    |-- element: struct (containsNull = true)\n |    |    |-- annotatorType: string (nullable = true)\n |    |    |-- begin: integer (nullable = true)\n |    |    |-- end: integer (nullable = true)\n |    |    |-- result: string (nullable = true)\n |    |    |-- metadata: map (nullable = true)\n |    |    |    |-- key: string\n |    |    |    |-- value: string (valueContainsNull = true)\n |    |    |-- embeddings: array (nullable = true)\n |    |    |    |-- element: float (containsNull = true)\n |-- checked: array (nullable = true)\n |    |-- element: struct (containsNull = true)\n |    |    |-- annotatorType: string (nullable = true)\n |    |    |-- begin: integer (nullable = true)\n |    |    |-- end: integer (nullable = true)\n |    |    |-- result: string (nullable = true)\n |    |    |-- metadata: map (nullable = true)\n |    |    |    |-- key: string\n |    |    |    |-- value: string (valueContainsNull = true)\n |    |    |-- embeddings: array (nullable = true)\n |    |    |    |-- element: float (containsNull = true)\n |-- sentiment: array (nullable = true)\n |    |-- element: struct (containsNull = true)\n |    |    |-- annotatorType: string (nullable = true)\n |    |    |-- begin: integer (nullable = true)\n |    |    |-- end: integer (nullable = true)\n |    |    |-- result: string (nullable = true)\n |    |    |-- metadata: map (nullable = true)\n |    |    |    |-- key: string\n |    |    |    |-- value: string (valueContainsNull = true)\n |    |    |-- embeddings: array (nullable = true)\n |    |    |    |-- element: float (containsNull = true)\n\n"
        }
      ],
      "execution_count": 7,
      "metadata": {
        "jupyter": {
          "source_hidden": false,
          "outputs_hidden": false
        },
        "nteract": {
          "transient": {
            "deleting": false
          }
        },
        "gather": {
          "logged": 1733697170665
        }
      }
    },
    {
      "cell_type": "code",
      "source": [
        "cancer_sentiment_df = cancer_df.select(\"text\",\"sentiment.result\")\n",
        "\n",
        "\n",
        "cancer_sentiment_df.show(5)\n"
      ],
      "outputs": [
        {
          "output_type": "display_data",
          "data": {
            "application/vnd.livy.statement-meta+json": {
              "spark_pool": "ba5e360d-f184-47a0-9859-76b5031b79e3",
              "statement_id": 13,
              "statement_ids": [
                13
              ],
              "state": "finished",
              "livy_statement_state": "available",
              "spark_jobs": {
                "numbers": {
                  "FAILED": 0,
                  "RUNNING": 0,
                  "UNKNOWN": 0,
                  "SUCCEEDED": 2
                },
                "jobs": [
                  {
                    "displayName": "showString at NativeMethodAccessorImpl.java:0",
                    "dataWritten": 0,
                    "dataRead": 1731073,
                    "rowCount": 6,
                    "usageDescription": "",
                    "jobId": 12,
                    "name": "showString at NativeMethodAccessorImpl.java:0",
                    "description": "Job group for statement 13:\ncancer_sentiment_df = cancer_df.select(\"text\",\"sentiment.result\")\n\n\ncancer_sentiment_df.show(5)\n",
                    "submissionTime": "2024-12-08T22:32:51.103GMT",
                    "completionTime": "2024-12-08T22:32:51.395GMT",
                    "stageIds": [
                      13
                    ],
                    "jobGroup": "13",
                    "status": "SUCCEEDED",
                    "numTasks": 2,
                    "numActiveTasks": 0,
                    "numCompletedTasks": 2,
                    "numSkippedTasks": 0,
                    "numFailedTasks": 0,
                    "numKilledTasks": 0,
                    "numCompletedIndices": 2,
                    "numActiveStages": 0,
                    "numCompletedStages": 1,
                    "numSkippedStages": 0,
                    "numFailedStages": 0,
                    "killedTasksSummary": {}
                  },
                  {
                    "displayName": "showString at NativeMethodAccessorImpl.java:0",
                    "dataWritten": 0,
                    "dataRead": 11254,
                    "rowCount": 0,
                    "usageDescription": "",
                    "jobId": 11,
                    "name": "showString at NativeMethodAccessorImpl.java:0",
                    "description": "Job group for statement 13:\ncancer_sentiment_df = cancer_df.select(\"text\",\"sentiment.result\")\n\n\ncancer_sentiment_df.show(5)\n",
                    "submissionTime": "2024-12-08T22:32:50.867GMT",
                    "completionTime": "2024-12-08T22:32:51.084GMT",
                    "stageIds": [
                      12
                    ],
                    "jobGroup": "13",
                    "status": "SUCCEEDED",
                    "numTasks": 1,
                    "numActiveTasks": 0,
                    "numCompletedTasks": 1,
                    "numSkippedTasks": 0,
                    "numFailedTasks": 0,
                    "numKilledTasks": 0,
                    "numCompletedIndices": 1,
                    "numActiveStages": 0,
                    "numCompletedStages": 1,
                    "numSkippedStages": 0,
                    "numFailedStages": 0,
                    "killedTasksSummary": {}
                  }
                ],
                "limit": 20,
                "rule": "ALL_DESC"
              },
              "session_id": "48",
              "normalized_state": "finished",
              "queued_time": "2024-12-08T22:32:24.9978669Z",
              "session_start_time": null,
              "execution_start_time": "2024-12-08T22:32:50.6896016Z",
              "execution_finish_time": "2024-12-08T22:32:52.2439458Z",
              "parent_msg_id": "7f1df101-4fbf-4f05-bc76-fc3584ac4bc0"
            },
            "text/plain": "StatementMeta(ba5e360d-f184-47a0-9859-76b5031b79e3, 48, 13, Finished, Available, Finished)"
          },
          "metadata": {}
        },
        {
          "output_type": "stream",
          "name": "stdout",
          "text": "+--------------------+--------------------+\n|                text|              result|\n+--------------------+--------------------+\n|Check out Northsi...|[negative, negati...|\n|I had something s...|[positive, positi...|\n|That's an insulti...|[positive, negati...|\n|Yeah sorry, it wa...|[positive, negative]|\n|I see my colorect...|[negative, positi...|\n+--------------------+--------------------+\nonly showing top 5 rows\n\n"
        }
      ],
      "execution_count": 8,
      "metadata": {
        "jupyter": {
          "source_hidden": false,
          "outputs_hidden": false
        },
        "nteract": {
          "transient": {
            "deleting": false
          }
        },
        "gather": {
          "logged": 1733697172386
        }
      }
    },
    {
      "cell_type": "code",
      "source": [
        "def calculate_sentiment_score(results):\n",
        "    # Sentiment weights\n",
        "    sentiment_weights = {\"positive\": 1, \"negative\": -1, \"neutral\": 0}\n",
        "    # Map the results to scores, default to 0 if key not found\n",
        "    scores = [sentiment_weights.get(sent, 0) for sent in results]\n",
        "    # Calculate normalized score\n",
        "    normalized_score = sum(scores) / len(scores) if scores else 0\n",
        "    return normalized_score\n",
        "\n",
        "# Register the UDF\n",
        "sentiment_score_udf = udf(calculate_sentiment_score, FloatType())\n",
        "\n",
        "# Add a new column for the weighted sentiment score\n",
        "cancer_sentiment_df_with_scores = cancer_sentiment_df.withColumn(\n",
        "    \"weighted_score\", sentiment_score_udf(col(\"result\"))\n",
        ")\n",
        "\n",
        "cancer_sentiment_df_with_scores.show(truncate=False)\n"
      ],
      "outputs": [
        {
          "output_type": "display_data",
          "data": {
            "application/vnd.livy.statement-meta+json": {
              "spark_pool": "ba5e360d-f184-47a0-9859-76b5031b79e3",
              "statement_id": 14,
              "statement_ids": [
                14
              ],
              "state": "submitted",
              "livy_statement_state": "running",
              "spark_jobs": {
                "numbers": {
                  "FAILED": 0,
                  "RUNNING": 1,
                  "UNKNOWN": 0,
                  "SUCCEEDED": 0
                },
                "jobs": [
                  {
                    "displayName": "showString at NativeMethodAccessorImpl.java:0",
                    "dataWritten": 0,
                    "dataRead": 0,
                    "rowCount": 0,
                    "usageDescription": "",
                    "jobId": 13,
                    "name": "showString at NativeMethodAccessorImpl.java:0",
                    "description": "Job group for statement 14:\ndef calculate_sentiment_score(results):\n    # Sentiment weights\n    sentiment_weights = {\"positive\": 1, \"negative\": -1, \"neutral\": 0}\n    # Map the results to scores, default to 0 if key not found\n    scores = [sentiment_weights.get(sent, 0) for sent in results]\n    # Calculate normalized score\n    normalized_score = sum(scores) / len(scores) if scores else 0\n    return normalized_score\n\n# Register the UDF\nsentiment_score_udf = udf(calculate_sentiment_score, FloatType())\n\n# Add a new column for the weighted sentiment score\ncancer_sentiment_df_with_scores = cancer_sentiment_df.withColumn(\n    \"weighted_score\", sentiment_score_udf(col(\"result\"))\n)\n\ncancer_sentiment_df_with_scores.show(truncate=False)\n",
                    "submissionTime": "2024-12-08T22:32:52.842GMT",
                    "stageIds": [
                      14
                    ],
                    "jobGroup": "14",
                    "status": "RUNNING",
                    "numTasks": 1,
                    "numActiveTasks": 0,
                    "numCompletedTasks": 0,
                    "numSkippedTasks": 0,
                    "numFailedTasks": 0,
                    "numKilledTasks": 0,
                    "numCompletedIndices": 0,
                    "numActiveStages": 1,
                    "numCompletedStages": 0,
                    "numSkippedStages": 0,
                    "numFailedStages": 0,
                    "killedTasksSummary": {}
                  }
                ],
                "limit": 20,
                "rule": "ALL_DESC"
              },
              "session_id": "48",
              "normalized_state": "running",
              "queued_time": "2024-12-08T22:32:25.0397572Z",
              "session_start_time": null,
              "execution_start_time": "2024-12-08T22:32:52.3607522Z",
              "execution_finish_time": null,
              "parent_msg_id": "4717e4e7-eb30-4cd7-b45d-59afe771817d"
            },
            "text/plain": "StatementMeta(ba5e360d-f184-47a0-9859-76b5031b79e3, 48, 14, Submitted, Running, Running)"
          },
          "metadata": {}
        }
      ],
      "execution_count": 9,
      "metadata": {
        "jupyter": {
          "source_hidden": false,
          "outputs_hidden": false
        },
        "nteract": {
          "transient": {
            "deleting": false
          }
        },
        "gather": {
          "logged": 1733690509763
        }
      }
    },
    {
      "cell_type": "code",
      "source": [
        "from pyspark.sql.functions import when\n",
        "\n",
        "# Add a column to label the sentiment\n",
        "cancer_df = cancer_sentiment_df_with_scores.withColumn(\n",
        "    \"sentiment_label\",\n",
        "    when(col(\"weighted_score\") >= 0, \"positive\")\n",
        "    .when(col(\"weighted_score\") < 0, \"negative\")\n",
        "    .otherwise(\"neutral\")\n",
        ")\n",
        "\n",
        "cancer_df.select(\"text\", \"weighted_score\", \"sentiment_label\").show(truncate=False)\n"
      ],
      "outputs": [
        {
          "output_type": "display_data",
          "data": {
            "application/vnd.livy.statement-meta+json": {
              "spark_pool": null,
              "statement_id": null,
              "statement_ids": null,
              "state": "waiting",
              "livy_statement_state": null,
              "spark_jobs": null,
              "session_id": null,
              "normalized_state": "waiting",
              "queued_time": "2024-12-08T22:32:25.084924Z",
              "session_start_time": null,
              "execution_start_time": null,
              "execution_finish_time": null,
              "parent_msg_id": "f2daa81a-a321-4f05-887b-3ab627cd55b5"
            },
            "text/plain": "StatementMeta(, , , Waiting, , Waiting)"
          },
          "metadata": {}
        }
      ],
      "execution_count": null,
      "metadata": {
        "jupyter": {
          "source_hidden": false,
          "outputs_hidden": false
        },
        "nteract": {
          "transient": {
            "deleting": false
          }
        },
        "gather": {
          "logged": 1733690511436
        }
      }
    },
    {
      "cell_type": "code",
      "source": [
        "import matplotlib.pyplot as plt\n",
        "import seaborn as sns\n",
        "\n",
        "# Count occurrences of each sentiment label\n",
        "cancer_sentiment_counts = cancer_df.groupBy(\"sentiment_label\").count()\n",
        "\n",
        "# Convert the result to a pandas dataframe\n",
        "cancer_sentiment_counts_pd = cancer_sentiment_counts.toPandas()\n",
        "\n",
        "# Plot\n",
        "plt.figure(figsize=(8, 6))\n",
        "sns.barplot(x='sentiment_label', y='count', data=cancer_sentiment_counts_pd, palette='viridis')\n",
        "\n",
        "# Labels and title\n",
        "plt.xlabel('Sentiment Label')\n",
        "plt.ylabel('Count')\n",
        "plt.title('Sentiment Distribution in Cancer Subreddits')\n",
        "\n",
        "plt.show()\n"
      ],
      "outputs": [
        {
          "output_type": "display_data",
          "data": {
            "application/vnd.livy.statement-meta+json": {
              "spark_pool": null,
              "statement_id": null,
              "statement_ids": null,
              "state": "waiting",
              "livy_statement_state": null,
              "spark_jobs": null,
              "session_id": null,
              "normalized_state": "waiting",
              "queued_time": "2024-12-08T22:32:25.1375953Z",
              "session_start_time": null,
              "execution_start_time": null,
              "execution_finish_time": null,
              "parent_msg_id": "a19a3ebe-f8d3-4722-aea2-c56689dc0093"
            },
            "text/plain": "StatementMeta(, , , Waiting, , Waiting)"
          },
          "metadata": {}
        }
      ],
      "execution_count": null,
      "metadata": {
        "jupyter": {
          "source_hidden": false,
          "outputs_hidden": false
        },
        "nteract": {
          "transient": {
            "deleting": false
          }
        },
        "gather": {
          "logged": 1733690521507
        }
      }
    },
    {
      "cell_type": "code",
      "source": [
        "not_cancer_path = f\"{workspace_wasbs_base_url}not_cancer_subreddit_sentiment.parquet\"\n",
        "# Read the Parquet file back into a dataframe\n",
        "not_cancer = spark.read.parquet(not_cancer_path)\n",
        "\n",
        "# Show first 5 rows\n",
        "not_cancer.show(5)\n",
        "not_cancer.printSchema()"
      ],
      "outputs": [
        {
          "output_type": "display_data",
          "data": {
            "application/vnd.livy.statement-meta+json": {
              "spark_pool": null,
              "statement_id": null,
              "statement_ids": null,
              "state": "waiting",
              "livy_statement_state": null,
              "spark_jobs": null,
              "session_id": null,
              "normalized_state": "waiting",
              "queued_time": "2024-12-08T22:32:25.182971Z",
              "session_start_time": null,
              "execution_start_time": null,
              "execution_finish_time": null,
              "parent_msg_id": "06ad305a-3173-4a38-9aa7-5f735e8ab389"
            },
            "text/plain": "StatementMeta(, , , Waiting, , Waiting)"
          },
          "metadata": {}
        }
      ],
      "execution_count": null,
      "metadata": {
        "jupyter": {
          "source_hidden": false,
          "outputs_hidden": false
        },
        "nteract": {
          "transient": {
            "deleting": false
          }
        },
        "gather": {
          "logged": 1733690523214
        }
      }
    },
    {
      "cell_type": "code",
      "source": [
        "not_cancer_sentiment_df = not_cancer.select(\"text\",\"sentiment.result\")"
      ],
      "outputs": [
        {
          "output_type": "display_data",
          "data": {
            "application/vnd.livy.statement-meta+json": {
              "spark_pool": null,
              "statement_id": null,
              "statement_ids": null,
              "state": "waiting",
              "livy_statement_state": null,
              "spark_jobs": null,
              "session_id": null,
              "normalized_state": "waiting",
              "queued_time": "2024-12-08T22:32:25.235804Z",
              "session_start_time": null,
              "execution_start_time": null,
              "execution_finish_time": null,
              "parent_msg_id": "4cde94c8-9389-4aa8-a59d-4ea67b73dcd5"
            },
            "text/plain": "StatementMeta(, , , Waiting, , Waiting)"
          },
          "metadata": {}
        }
      ],
      "execution_count": null,
      "metadata": {
        "jupyter": {
          "source_hidden": false,
          "outputs_hidden": false
        },
        "nteract": {
          "transient": {
            "deleting": false
          }
        },
        "gather": {
          "logged": 1733690523611
        }
      }
    },
    {
      "cell_type": "code",
      "source": [
        "# Add a new column for the weighted sentiment score\n",
        "not_cancer_sentiment_df_with_scores = not_cancer_sentiment_df.withColumn(\n",
        "    \"weighted_score\", sentiment_score_udf(col(\"result\"))\n",
        ")\n",
        "\n",
        "# Show the results\n",
        "not_cancer_sentiment_df_with_scores.show(truncate=False)"
      ],
      "outputs": [
        {
          "output_type": "display_data",
          "data": {
            "application/vnd.livy.statement-meta+json": {
              "spark_pool": null,
              "statement_id": null,
              "statement_ids": null,
              "state": "waiting",
              "livy_statement_state": null,
              "spark_jobs": null,
              "session_id": null,
              "normalized_state": "waiting",
              "queued_time": "2024-12-08T22:32:25.2869788Z",
              "session_start_time": null,
              "execution_start_time": null,
              "execution_finish_time": null,
              "parent_msg_id": "31893d53-82a3-41fb-83ed-1d60245d66d9"
            },
            "text/plain": "StatementMeta(, , , Waiting, , Waiting)"
          },
          "metadata": {}
        }
      ],
      "execution_count": null,
      "metadata": {
        "jupyter": {
          "source_hidden": false,
          "outputs_hidden": false
        },
        "nteract": {
          "transient": {
            "deleting": false
          }
        },
        "gather": {
          "logged": 1733690525367
        }
      }
    },
    {
      "cell_type": "code",
      "source": [
        "\n",
        "\n",
        "# Add a column to label the sentiment\n",
        "non_cancer_df = not_cancer_sentiment_df_with_scores.withColumn(\n",
        "    \"sentiment_label\",\n",
        "    when(col(\"weighted_score\") >= 0, \"positive\")\n",
        "    .when(col(\"weighted_score\") < 0, \"negative\")\n",
        "    .otherwise(\"neutral\")\n",
        ")\n",
        "\n",
        "# Show the results\n",
        "non_cancer_df.select(\"text\", \"weighted_score\", \"sentiment_label\").show(truncate=False)\n"
      ],
      "outputs": [
        {
          "output_type": "display_data",
          "data": {
            "application/vnd.livy.statement-meta+json": {
              "spark_pool": null,
              "statement_id": null,
              "statement_ids": null,
              "state": "waiting",
              "livy_statement_state": null,
              "spark_jobs": null,
              "session_id": null,
              "normalized_state": "waiting",
              "queued_time": "2024-12-08T22:32:25.3323969Z",
              "session_start_time": null,
              "execution_start_time": null,
              "execution_finish_time": null,
              "parent_msg_id": "2348055e-5b23-4e70-901b-63076d9eac5b"
            },
            "text/plain": "StatementMeta(, , , Waiting, , Waiting)"
          },
          "metadata": {}
        }
      ],
      "execution_count": null,
      "metadata": {
        "jupyter": {
          "source_hidden": false,
          "outputs_hidden": false
        },
        "nteract": {
          "transient": {
            "deleting": false
          }
        },
        "gather": {
          "logged": 1733690527012
        }
      }
    },
    {
      "cell_type": "code",
      "source": [
        "import matplotlib.pyplot as plt\n",
        "import seaborn as sns\n",
        "\n",
        "# Count occurrences of each sentiment label\n",
        "non_cancer_sentiment_counts = non_cancer_df.groupBy(\"sentiment_label\").count()\n",
        "\n",
        "# Convert the result to a pandas dataframe (for plotting)\n",
        "non_cancer_sentiment_counts_pd = non_cancer_sentiment_counts.toPandas()\n",
        "\n",
        "# Create the plot\n",
        "plt.figure(figsize=(8, 6))\n",
        "sns.barplot(x='sentiment_label', y='count', data=non_cancer_sentiment_counts_pd, palette='viridis')\n",
        "\n",
        "# Add labels and title\n",
        "plt.xlabel('Sentiment Label')\n",
        "plt.ylabel('Count')\n",
        "plt.title('Sentiment Distribution (Positive, Negative, Neutral)')\n",
        "\n",
        "# Show the plot\n",
        "plt.show()"
      ],
      "outputs": [
        {
          "output_type": "display_data",
          "data": {
            "application/vnd.livy.statement-meta+json": {
              "spark_pool": null,
              "statement_id": null,
              "statement_ids": null,
              "state": "waiting",
              "livy_statement_state": null,
              "spark_jobs": null,
              "session_id": null,
              "normalized_state": "waiting",
              "queued_time": "2024-12-08T22:32:25.4036441Z",
              "session_start_time": null,
              "execution_start_time": null,
              "execution_finish_time": null,
              "parent_msg_id": "c299b825-d02c-4d9f-a6d5-5d6191ebe82d"
            },
            "text/plain": "StatementMeta(, , , Waiting, , Waiting)"
          },
          "metadata": {}
        }
      ],
      "execution_count": null,
      "metadata": {
        "jupyter": {
          "source_hidden": false,
          "outputs_hidden": false
        },
        "nteract": {
          "transient": {
            "deleting": false
          }
        },
        "gather": {
          "logged": 1733690528659
        }
      }
    },
    {
      "cell_type": "code",
      "source": [
        "# Count occurrences of each sentiment label for cancer and non-cancer patients\n",
        "cancer_sentiment_counts = cancer_df.groupBy(\"sentiment_label\").count()\n",
        "non_cancer_sentiment_counts = non_cancer_df.groupBy(\"sentiment_label\").count()\n",
        "\n",
        "# Convert to Pandas for plotting\n",
        "cancer_sentiment_counts_pd = cancer_sentiment_counts.toPandas()\n",
        "non_cancer_sentiment_counts_pd = non_cancer_sentiment_counts.toPandas()\n",
        "\n",
        "# Merge the data\n",
        "sentiment_comparison_df = cancer_sentiment_counts_pd.merge(\n",
        "    non_cancer_sentiment_counts_pd,\n",
        "    on='sentiment_label',\n",
        "    how='outer',\n",
        "    suffixes=('_cancer', '_non_cancer')\n",
        ").fillna(0)\n",
        "\n",
        "sentiment_comparison_df"
      ],
      "outputs": [
        {
          "output_type": "display_data",
          "data": {
            "application/vnd.livy.statement-meta+json": {
              "spark_pool": null,
              "statement_id": null,
              "statement_ids": null,
              "state": "waiting",
              "livy_statement_state": null,
              "spark_jobs": null,
              "session_id": null,
              "normalized_state": "waiting",
              "queued_time": "2024-12-08T22:32:25.4493773Z",
              "session_start_time": null,
              "execution_start_time": null,
              "execution_finish_time": null,
              "parent_msg_id": "15eff984-61e9-457d-86c8-31252e09cee4"
            },
            "text/plain": "StatementMeta(, , , Waiting, , Waiting)"
          },
          "metadata": {}
        }
      ],
      "execution_count": null,
      "metadata": {
        "jupyter": {
          "source_hidden": false,
          "outputs_hidden": false
        },
        "nteract": {
          "transient": {
            "deleting": false
          }
        },
        "gather": {
          "logged": 1733690530309
        }
      }
    },
    {
      "cell_type": "code",
      "source": [
        "# Creating a contingency table for Chi-square test\n",
        "contingency_table = sentiment_comparison_df[['count_cancer', 'count_non_cancer']].values\n",
        "contingency_table"
      ],
      "outputs": [
        {
          "output_type": "display_data",
          "data": {
            "application/vnd.livy.statement-meta+json": {
              "spark_pool": null,
              "statement_id": null,
              "statement_ids": null,
              "state": "waiting",
              "livy_statement_state": null,
              "spark_jobs": null,
              "session_id": null,
              "normalized_state": "waiting",
              "queued_time": "2024-12-08T22:32:25.5138707Z",
              "session_start_time": null,
              "execution_start_time": null,
              "execution_finish_time": null,
              "parent_msg_id": "6262cb06-022b-4b0d-9403-c9587615dad4"
            },
            "text/plain": "StatementMeta(, , , Waiting, , Waiting)"
          },
          "metadata": {}
        }
      ],
      "execution_count": null,
      "metadata": {
        "jupyter": {
          "source_hidden": false,
          "outputs_hidden": false
        },
        "nteract": {
          "transient": {
            "deleting": false
          }
        },
        "gather": {
          "logged": 1733690530718
        }
      }
    },
    {
      "cell_type": "code",
      "source": [
        "from scipy.stats import chi2_contingency\n",
        "\n",
        "# Perform Chi-square test\n",
        "chi2_stat, p_value, dof, expected = chi2_contingency(contingency_table)\n",
        "\n",
        "# Results\n",
        "print(f\"Chi-square statistic: {chi2_stat}\")\n",
        "print(f\"P-value: {p_value}\")\n",
        "print(f\"Degrees of freedom: {dof}\")\n",
        "print(f\"Expected frequencies: \\n{expected}\")"
      ],
      "outputs": [
        {
          "output_type": "display_data",
          "data": {
            "application/vnd.livy.statement-meta+json": {
              "spark_pool": null,
              "statement_id": null,
              "statement_ids": null,
              "state": "waiting",
              "livy_statement_state": null,
              "spark_jobs": null,
              "session_id": null,
              "normalized_state": "waiting",
              "queued_time": "2024-12-08T22:32:25.5488538Z",
              "session_start_time": null,
              "execution_start_time": null,
              "execution_finish_time": null,
              "parent_msg_id": "5aa04be9-acca-491d-b04e-512fceabe3c1"
            },
            "text/plain": "StatementMeta(, , , Waiting, , Waiting)"
          },
          "metadata": {}
        }
      ],
      "execution_count": null,
      "metadata": {
        "jupyter": {
          "source_hidden": false,
          "outputs_hidden": false
        },
        "nteract": {
          "transient": {
            "deleting": false
          }
        },
        "gather": {
          "logged": 1733690531175
        }
      }
    },
    {
      "cell_type": "code",
      "source": [
        "# Plotting sentiment distribution for cancer and non-cancer patients\n",
        "plt.figure(figsize=(10, 6))\n",
        "\n",
        "# Plot for Cancer Patients\n",
        "sns.barplot(x='sentiment_label', y='count_cancer', data=sentiment_comparison_df, color='blue', label='Cancer Patients')\n",
        "\n",
        "# Plot for Non-Cancer Patients\n",
        "sns.barplot(x='sentiment_label', y='count_non_cancer', data=sentiment_comparison_df, color='red', label='Non-Cancer Patients')\n",
        "\n",
        "# Labels and title\n",
        "plt.xlabel('Sentiment Label')\n",
        "plt.ylabel('Count')\n",
        "plt.title('Sentiment Distribution: Cancer vs Non-Cancer Patients')\n",
        "plt.legend()\n",
        "\n",
        "# Plot\n",
        "plt.show()"
      ],
      "outputs": [
        {
          "output_type": "display_data",
          "data": {
            "application/vnd.livy.statement-meta+json": {
              "spark_pool": null,
              "statement_id": null,
              "statement_ids": null,
              "state": "waiting",
              "livy_statement_state": null,
              "spark_jobs": null,
              "session_id": null,
              "normalized_state": "waiting",
              "queued_time": "2024-12-08T22:32:25.5772223Z",
              "session_start_time": null,
              "execution_start_time": null,
              "execution_finish_time": null,
              "parent_msg_id": "e0f8a745-2aea-42e4-8567-025177683deb"
            },
            "text/plain": "StatementMeta(, , , Waiting, , Waiting)"
          },
          "metadata": {}
        }
      ],
      "execution_count": null,
      "metadata": {
        "jupyter": {
          "source_hidden": false,
          "outputs_hidden": false
        },
        "nteract": {
          "transient": {
            "deleting": false
          }
        },
        "gather": {
          "logged": 1733690532151
        }
      }
    },
    {
      "cell_type": "code",
      "source": [
        "import matplotlib.pyplot as plt\n",
        "import seaborn as sns\n",
        "\n",
        "plt.figure(figsize=(10, 6))\n",
        "\n",
        "# Plot for Cancer Patients\n",
        "sns.barplot(\n",
        "    x='sentiment_label', y='count_cancer', data=sentiment_comparison_df,\n",
        "    color='blue', label='Cancer Patients', alpha=0.7, dodge=True\n",
        ")\n",
        "\n",
        "# Plot for Non-Cancer Patients\n",
        "sns.barplot(\n",
        "    x='sentiment_label', y='count_non_cancer', data=sentiment_comparison_df,\n",
        "    color='red', label='Non-Cancer Patients', alpha=0.7, dodge=True\n",
        ")\n",
        "\n",
        "# Labels and title\n",
        "plt.xlabel('Sentiment Label')\n",
        "plt.ylabel('Count')\n",
        "plt.title('Sentiment Distribution: Cancer vs Non-Cancer Patients')\n",
        "\n",
        "plt.legend()\n",
        "\n",
        "# plot\n",
        "plt.show()\n"
      ],
      "outputs": [
        {
          "output_type": "display_data",
          "data": {
            "application/vnd.livy.statement-meta+json": {
              "spark_pool": null,
              "statement_id": null,
              "statement_ids": null,
              "state": "waiting",
              "livy_statement_state": null,
              "spark_jobs": null,
              "session_id": null,
              "normalized_state": "waiting",
              "queued_time": "2024-12-08T22:32:25.6356494Z",
              "session_start_time": null,
              "execution_start_time": null,
              "execution_finish_time": null,
              "parent_msg_id": "a6288277-4db5-4e19-b19c-05f7b1532825"
            },
            "text/plain": "StatementMeta(, , , Waiting, , Waiting)"
          },
          "metadata": {}
        }
      ],
      "execution_count": null,
      "metadata": {
        "jupyter": {
          "source_hidden": false,
          "outputs_hidden": false
        },
        "nteract": {
          "transient": {
            "deleting": false
          }
        },
        "gather": {
          "logged": 1733690533084
        }
      }
    }
  ],
  "metadata": {
    "kernelspec": {
      "name": "synapse_pyspark",
      "language": "Python",
      "display_name": "Synapse PySpark"
    },
    "language_info": {
      "name": "python",
      "version": "3.8.0",
      "mimetype": "text/x-python",
      "file_extension": ".py",
      "pygments_lexer": "ipython",
      "codemirror_mode": "ipython",
      "nbconvert_exporter": "python"
    },
    "microsoft": {
      "ms_spell_check": {
        "ms_spell_check_language": "en"
      },
      "host": {
        "AzureML": {
          "notebookHasBeenCompleted": true
        }
      }
    },
    "kernel_info": {
      "name": "synapse_pyspark"
    },
    "nteract": {
      "version": "nteract-front-end@1.0.0"
    }
  },
  "nbformat": 4,
  "nbformat_minor": 2
}