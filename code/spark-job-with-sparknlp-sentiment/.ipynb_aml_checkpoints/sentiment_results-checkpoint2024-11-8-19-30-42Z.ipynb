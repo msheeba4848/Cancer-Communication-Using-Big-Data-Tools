{
  "cells": [
    {
      "cell_type": "markdown",
      "source": [
        "# Review the Results of the NLP Pretrained Model\n",
        "\n",
        "This model is very basic, but this folder shows you how to create an NLP pipeline with a pretrained model.\n",
        "\n",
        "The .py file saved the results to a parquet that is stored in our container. We are reading it back here to review."
      ],
      "metadata": {
        "nteract": {
          "transient": {
            "deleting": false
          }
        }
      }
    },
    {
      "cell_type": "code",
      "source": [
        "spark"
      ],
      "outputs": [],
      "execution_count": null,
      "metadata": {
        "gather": {
          "logged": 1733681549500
        }
      }
    },
    {
      "cell_type": "code",
      "source": [
        "from pyspark.sql.functions import col, udf, size\n",
        "from pyspark.sql.types import FloatType"
      ],
      "outputs": [],
      "execution_count": null,
      "metadata": {
        "jupyter": {
          "source_hidden": false,
          "outputs_hidden": false
        },
        "nteract": {
          "transient": {
            "deleting": false
          }
        }
      }
    },
    {
      "cell_type": "code",
      "source": [
        "workspace_default_storage_account = \"projectgstoragedfb938a3e\"\n",
        "workspace_default_container = \"azureml-blobstore-becc8696-e562-432e-af12-8a5e3e1f9b0f\"\n",
        "workspace_wasbs_base_url = f\"wasbs://{workspace_default_container}@{workspace_default_storage_account}.blob.core.windows.net/\"\n",
        "\n",
        "# the parquet path again\n",
        "nlp_sample_test_path = f\"{workspace_wasbs_base_url}nlp_result_sample_submissions.parquet\"\n",
        "\n",
        "# Read the Parquet file back into a dataframe\n",
        "nlp_sample_test = spark.read.parquet(nlp_sample_test_path)\n",
        "\n",
        "# Show first 5 rows\n",
        "nlp_sample_test.show(5)"
      ],
      "outputs": [],
      "execution_count": null,
      "metadata": {
        "jupyter": {
          "source_hidden": false,
          "outputs_hidden": false
        },
        "nteract": {
          "transient": {
            "deleting": false
          }
        },
        "gather": {
          "logged": 1733684736547
        }
      }
    },
    {
      "cell_type": "code",
      "source": [
        "cancer_path = f\"{workspace_wasbs_base_url}cancer_subreddit_sentiment.parquet\"\n",
        "# Read the Parquet file back into a dataframe\n",
        "cancer_df = spark.read.parquet(cancer_path)\n",
        "\n",
        "# Show first 5 rows\n",
        "cancer_df.show(5)\n",
        "cancer_df.printSchema()"
      ],
      "outputs": [],
      "execution_count": null,
      "metadata": {
        "jupyter": {
          "source_hidden": false,
          "outputs_hidden": false
        },
        "nteract": {
          "transient": {
            "deleting": false
          }
        },
        "gather": {
          "logged": 1733684738189
        }
      }
    },
    {
      "cell_type": "code",
      "source": [
        "from pyspark.sql import functions as F\n",
        "df_flat = cancer_df.withColumn(\"sentiment_result\", F.explode(F.col(\"sentiment\"))) \\\n",
        "            .select(\"text\", \"sentiment_result.result\")\n",
        "\n",
        "# Show the results\n",
        "df_flat.show(truncate=False)"
      ],
      "outputs": [],
      "execution_count": null,
      "metadata": {
        "jupyter": {
          "source_hidden": false,
          "outputs_hidden": false
        },
        "nteract": {
          "transient": {
            "deleting": false
          }
        },
        "gather": {
          "logged": 1733684739918
        }
      }
    },
    {
      "cell_type": "code",
      "source": [
        "df_flat.show(5)\n",
        "comments_row_count = df_flat.count()\n",
        "comment_col_count = len(df_flat.columns)\n",
        "print(f\"shape of the comments dataframe is {comments_row_count:,}x{comment_col_count}\")"
      ],
      "outputs": [],
      "execution_count": null,
      "metadata": {
        "jupyter": {
          "source_hidden": false,
          "outputs_hidden": false
        },
        "nteract": {
          "transient": {
            "deleting": false
          }
        },
        "gather": {
          "logged": 1733684741554
        }
      }
    },
    {
      "cell_type": "code",
      "source": [
        "cancer_df.printSchema()"
      ],
      "outputs": [],
      "execution_count": null,
      "metadata": {
        "jupyter": {
          "source_hidden": false,
          "outputs_hidden": false
        },
        "nteract": {
          "transient": {
            "deleting": false
          }
        },
        "gather": {
          "logged": 1733684741979
        }
      }
    },
    {
      "cell_type": "code",
      "source": [
        "cancer_sentiment_df = cancer_df.select(\"text\",\"sentiment.result\")\n",
        "\n",
        "\n",
        "cancer_sentiment_df.show(5)\n"
      ],
      "outputs": [],
      "execution_count": null,
      "metadata": {
        "jupyter": {
          "source_hidden": false,
          "outputs_hidden": false
        },
        "nteract": {
          "transient": {
            "deleting": false
          }
        },
        "gather": {
          "logged": 1733684742984
        }
      }
    },
    {
      "cell_type": "code",
      "source": [
        "def calculate_sentiment_score(results):\n",
        "    # Sentiment weights\n",
        "    sentiment_weights = {\"positive\": 1, \"negative\": -1, \"neutral\": 0}\n",
        "    # Map the results to scores, default to 0 if key not found\n",
        "    scores = [sentiment_weights.get(sent, 0) for sent in results]\n",
        "    # Calculate normalized score\n",
        "    normalized_score = sum(scores) / len(scores) if scores else 0\n",
        "    return normalized_score\n",
        "\n",
        "# Register the UDF\n",
        "sentiment_score_udf = udf(calculate_sentiment_score, FloatType())\n",
        "\n",
        "# Add a new column for the weighted sentiment score\n",
        "cancer_sentiment_df_with_scores = cancer_sentiment_df.withColumn(\n",
        "    \"weighted_score\", sentiment_score_udf(col(\"result\"))\n",
        ")\n",
        "\n",
        "cancer_sentiment_df_with_scores.show(truncate=False)\n"
      ],
      "outputs": [],
      "execution_count": null,
      "metadata": {
        "jupyter": {
          "source_hidden": false,
          "outputs_hidden": false
        },
        "nteract": {
          "transient": {
            "deleting": false
          }
        },
        "gather": {
          "logged": 1733684744442
        }
      }
    },
    {
      "cell_type": "code",
      "source": [
        "from pyspark.sql.functions import when\n",
        "\n",
        "# Add a column to label the sentiment\n",
        "cancer_df = cancer_sentiment_df_with_scores.withColumn(\n",
        "    \"sentiment_label\",\n",
        "    when(col(\"weighted_score\") > 0, \"positive\")\n",
        "    .when(col(\"weighted_score\") < 0, \"negative\")\n",
        "    .otherwise(\"neutral\")\n",
        ")\n",
        "\n",
        "cancer_df.select(\"text\", \"weighted_score\", \"sentiment_label\").show(truncate=False)\n"
      ],
      "outputs": [],
      "execution_count": null,
      "metadata": {
        "jupyter": {
          "source_hidden": false,
          "outputs_hidden": false
        },
        "nteract": {
          "transient": {
            "deleting": false
          }
        },
        "gather": {
          "logged": 1733684747486
        }
      }
    },
    {
      "cell_type": "code",
      "source": [
        "import matplotlib.pyplot as plt\n",
        "import seaborn as sns\n",
        "\n",
        "# Step 1: Count occurrences of each sentiment label\n",
        "sentiment_counts = sentiment_df_with_labels.groupBy(\"sentiment_label\").count()\n",
        "\n",
        "# Step 2: Convert the result to a pandas dataframe (for plotting)\n",
        "sentiment_counts_pd = sentiment_counts.toPandas()\n",
        "\n",
        "# Step 3: Create the plot\n",
        "plt.figure(figsize=(8, 6))\n",
        "sns.barplot(x='sentiment_label', y='count', data=sentiment_counts_pd, palette='viridis')\n",
        "\n",
        "# Add labels and title\n",
        "plt.xlabel('Sentiment Label')\n",
        "plt.ylabel('Count')\n",
        "plt.title('Sentiment Distribution (Positive, Negative, Neutral)')\n",
        "\n",
        "# Show the plot\n",
        "plt.show()\n"
      ],
      "outputs": [],
      "execution_count": null,
      "metadata": {
        "jupyter": {
          "source_hidden": false,
          "outputs_hidden": false
        },
        "nteract": {
          "transient": {
            "deleting": false
          }
        },
        "gather": {
          "logged": 1733684748444
        }
      }
    },
    {
      "cell_type": "code",
      "source": [
        "output_path = f\"{workspace_wasbs_base_url}not_cancer_subreddit_sentiment.parquet\"\n",
        "# Read the Parquet file back into a dataframe\n",
        "df_read_back = spark.read.parquet(output_path)\n",
        "\n",
        "# Show first 5 rows\n",
        "df_read_back.show(5)\n",
        "df_read_back.printSchema()"
      ],
      "outputs": [],
      "execution_count": null,
      "metadata": {
        "jupyter": {
          "source_hidden": false,
          "outputs_hidden": false
        },
        "nteract": {
          "transient": {
            "deleting": false
          }
        },
        "gather": {
          "logged": 1733684750161
        }
      }
    },
    {
      "cell_type": "code",
      "source": [
        "sentiment_df = df_read_back.select(\"text\",\"sentiment.result\")"
      ],
      "outputs": [],
      "execution_count": null,
      "metadata": {
        "jupyter": {
          "source_hidden": false,
          "outputs_hidden": false
        },
        "nteract": {
          "transient": {
            "deleting": false
          }
        },
        "gather": {
          "logged": 1733684750675
        }
      }
    },
    {
      "cell_type": "code",
      "source": [
        "# Add a new column for the weighted sentiment score\n",
        "sentiment_df_with_scores = sentiment_df.withColumn(\n",
        "    \"weighted_score\", sentiment_score_udf(col(\"result\"))\n",
        ")\n",
        "\n",
        "# Show the results\n",
        "sentiment_df_with_scores.show(truncate=False)"
      ],
      "outputs": [],
      "execution_count": null,
      "metadata": {
        "jupyter": {
          "source_hidden": false,
          "outputs_hidden": false
        },
        "nteract": {
          "transient": {
            "deleting": false
          }
        },
        "gather": {
          "logged": 1733684751604
        }
      }
    },
    {
      "cell_type": "code",
      "source": [
        "\n",
        "\n",
        "# Add a column to label the sentiment\n",
        "non_cancer_df = sentiment_df_with_scores.withColumn(\n",
        "    \"sentiment_label\",\n",
        "    when(col(\"weighted_score\") > 0, \"positive\")\n",
        "    .when(col(\"weighted_score\") < 0, \"negative\")\n",
        "    .otherwise(\"neutral\")\n",
        ")\n",
        "\n",
        "# Show the results\n",
        "non_cancer_df.select(\"text\", \"weighted_score\", \"sentiment_label\").show(truncate=False)\n"
      ],
      "outputs": [],
      "execution_count": null,
      "metadata": {
        "jupyter": {
          "source_hidden": false,
          "outputs_hidden": false
        },
        "nteract": {
          "transient": {
            "deleting": false
          }
        },
        "gather": {
          "logged": 1733684752605
        }
      }
    },
    {
      "cell_type": "code",
      "source": [
        "import matplotlib.pyplot as plt\n",
        "import seaborn as sns\n",
        "\n",
        "# Step 1: Count occurrences of each sentiment label\n",
        "sentiment_counts = sentiment_df_with_labels.groupBy(\"sentiment_label\").count()\n",
        "\n",
        "# Step 2: Convert the result to a pandas dataframe (for plotting)\n",
        "sentiment_counts_pd = sentiment_counts.toPandas()\n",
        "\n",
        "# Step 3: Create the plot\n",
        "plt.figure(figsize=(8, 6))\n",
        "sns.barplot(x='sentiment_label', y='count', data=sentiment_counts_pd, palette='viridis')\n",
        "\n",
        "# Add labels and title\n",
        "plt.xlabel('Sentiment Label')\n",
        "plt.ylabel('Count')\n",
        "plt.title('Sentiment Distribution (Positive, Negative, Neutral)')\n",
        "\n",
        "# Show the plot\n",
        "plt.show()"
      ],
      "outputs": [],
      "execution_count": null,
      "metadata": {
        "jupyter": {
          "source_hidden": false,
          "outputs_hidden": false
        },
        "nteract": {
          "transient": {
            "deleting": false
          }
        },
        "gather": {
          "logged": 1733684753655
        }
      }
    },
    {
      "cell_type": "code",
      "source": [
        "# Count occurrences of each sentiment label for cancer and non-cancer patients\n",
        "cancer_sentiment_counts = cancer_df.groupBy(\"sentiment_label\").count()\n",
        "non_cancer_sentiment_counts = non_cancer_df.groupBy(\"sentiment_label\").count()\n",
        "\n",
        "# Convert to Pandas for ease of plotting and analysis\n",
        "cancer_sentiment_counts_pd = cancer_sentiment_counts.toPandas()\n",
        "non_cancer_sentiment_counts_pd = non_cancer_sentiment_counts.toPandas()\n",
        "\n",
        "# Merge the data for a combined view\n",
        "sentiment_comparison_df = cancer_sentiment_counts_pd.merge(\n",
        "    non_cancer_sentiment_counts_pd,\n",
        "    on='sentiment_label',\n",
        "    how='outer',\n",
        "    suffixes=('_cancer', '_non_cancer')\n",
        ").fillna(0)\n",
        "\n",
        "sentiment_comparison_df"
      ],
      "outputs": [],
      "execution_count": null,
      "metadata": {
        "jupyter": {
          "source_hidden": false,
          "outputs_hidden": false
        },
        "nteract": {
          "transient": {
            "deleting": false
          }
        },
        "gather": {
          "logged": 1733684781416
        }
      }
    },
    {
      "cell_type": "code",
      "source": [
        "# Creating a contingency table for Chi-square test\n",
        "contingency_table = sentiment_comparison_df[['count_cancer', 'count_non_cancer']].values\n",
        "contingency_table"
      ],
      "outputs": [],
      "execution_count": null,
      "metadata": {
        "jupyter": {
          "source_hidden": false,
          "outputs_hidden": false
        },
        "nteract": {
          "transient": {
            "deleting": false
          }
        },
        "gather": {
          "logged": 1733684783654
        }
      }
    },
    {
      "cell_type": "code",
      "source": [
        "from scipy.stats import chi2_contingency\n",
        "\n",
        "# Perform Chi-square test\n",
        "chi2_stat, p_value, dof, expected = chi2_contingency(contingency_table)\n",
        "\n",
        "# Print the results\n",
        "print(f\"Chi-square statistic: {chi2_stat}\")\n",
        "print(f\"P-value: {p_value}\")\n",
        "print(f\"Degrees of freedom: {dof}\")\n",
        "print(f\"Expected frequencies: \\n{expected}\")"
      ],
      "outputs": [],
      "execution_count": null,
      "metadata": {
        "jupyter": {
          "source_hidden": false,
          "outputs_hidden": false
        },
        "nteract": {
          "transient": {
            "deleting": false
          }
        },
        "gather": {
          "logged": 1733684790279
        }
      }
    },
    {
      "cell_type": "code",
      "source": [
        "# Plotting sentiment distribution for cancer and non-cancer patients\n",
        "plt.figure(figsize=(10, 6))\n",
        "\n",
        "# Plot for Cancer Patients\n",
        "sns.barplot(x='sentiment_label', y='count_cancer', data=sentiment_comparison_df, color='blue', label='Cancer Patients')\n",
        "\n",
        "# Plot for Non-Cancer Patients\n",
        "sns.barplot(x='sentiment_label', y='count_non_cancer', data=sentiment_comparison_df, color='red', label='Non-Cancer Patients')\n",
        "\n",
        "# Add labels and title\n",
        "plt.xlabel('Sentiment Label')\n",
        "plt.ylabel('Count')\n",
        "plt.title('Sentiment Distribution: Cancer vs Non-Cancer Patients')\n",
        "plt.legend()\n",
        "\n",
        "# Show plot\n",
        "plt.show()"
      ],
      "outputs": [],
      "execution_count": null,
      "metadata": {
        "jupyter": {
          "source_hidden": false,
          "outputs_hidden": false
        },
        "nteract": {
          "transient": {
            "deleting": false
          }
        },
        "gather": {
          "logged": 1733684801798
        }
      }
    },
    {
      "cell_type": "code",
      "source": [
        "import matplotlib.pyplot as plt\n",
        "import seaborn as sns\n",
        "\n",
        "# Set figure size\n",
        "plt.figure(figsize=(10, 6))\n",
        "\n",
        "# Plot for Cancer Patients\n",
        "sns.barplot(\n",
        "    x='sentiment_label', y='count_cancer', data=sentiment_comparison_df,\n",
        "    color='blue', label='Cancer Patients', alpha=0.7, dodge=True\n",
        ")\n",
        "\n",
        "# Plot for Non-Cancer Patients\n",
        "sns.barplot(\n",
        "    x='sentiment_label', y='count_non_cancer', data=sentiment_comparison_df,\n",
        "    color='red', label='Non-Cancer Patients', alpha=0.7, dodge=True\n",
        ")\n",
        "\n",
        "# Add labels and title\n",
        "plt.xlabel('Sentiment Label')\n",
        "plt.ylabel('Count')\n",
        "plt.title('Sentiment Distribution: Cancer vs Non-Cancer Patients')\n",
        "\n",
        "# Add the legend\n",
        "plt.legend()\n",
        "\n",
        "# Show plot\n",
        "plt.show()\n"
      ],
      "outputs": [],
      "execution_count": null,
      "metadata": {
        "jupyter": {
          "source_hidden": false,
          "outputs_hidden": false
        },
        "nteract": {
          "transient": {
            "deleting": false
          }
        },
        "gather": {
          "logged": 1733684904799
        }
      }
    }
  ],
  "metadata": {
    "kernelspec": {
      "name": "synapse_pyspark",
      "language": "Python",
      "display_name": "Synapse PySpark"
    },
    "language_info": {
      "name": "python",
      "version": "3.8.0",
      "mimetype": "text/x-python",
      "file_extension": ".py",
      "pygments_lexer": "ipython",
      "codemirror_mode": "ipython",
      "nbconvert_exporter": "python"
    },
    "microsoft": {
      "ms_spell_check": {
        "ms_spell_check_language": "en"
      },
      "host": {
        "AzureML": {
          "notebookHasBeenCompleted": true
        }
      }
    },
    "kernel_info": {
      "name": "synapse_pyspark"
    },
    "nteract": {
      "version": "nteract-front-end@1.0.0"
    }
  },
  "nbformat": 4,
  "nbformat_minor": 2
}