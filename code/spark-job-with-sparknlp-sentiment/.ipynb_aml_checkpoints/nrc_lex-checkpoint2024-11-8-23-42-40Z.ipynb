{
  "cells": [
    {
      "cell_type": "code",
      "source": [
        "spark"
      ],
      "outputs": [
        {
          "output_type": "display_data",
          "data": {
            "application/vnd.livy.statement-meta+json": {
              "spark_pool": "ba5e360d-f184-47a0-9859-76b5031b79e3",
              "statement_id": 6,
              "statement_ids": [
                6
              ],
              "state": "finished",
              "livy_statement_state": "available",
              "spark_jobs": {
                "numbers": {
                  "FAILED": 0,
                  "RUNNING": 0,
                  "UNKNOWN": 0,
                  "SUCCEEDED": 0
                },
                "jobs": [],
                "limit": 20,
                "rule": "ALL_DESC"
              },
              "session_id": "51",
              "normalized_state": "finished",
              "queued_time": "2024-12-08T23:25:52.1862825Z",
              "session_start_time": "2024-12-08T23:25:52.2156749Z",
              "execution_start_time": "2024-12-08T23:26:53.9721223Z",
              "execution_finish_time": "2024-12-08T23:26:54.3487109Z",
              "parent_msg_id": "ba9f69a0-7bf2-44a4-9e63-b4cfb27ab2e7"
            },
            "text/plain": "StatementMeta(ba5e360d-f184-47a0-9859-76b5031b79e3, 51, 6, Finished, Available, Finished)"
          },
          "metadata": {}
        },
        {
          "output_type": "execute_result",
          "execution_count": 11,
          "data": {
            "text/plain": "<pyspark.sql.session.SparkSession at 0x7ff633aec9a0>",
            "text/html": "\n            <div>\n                <p><b>SparkSession - hive</b></p>\n                \n        <div>\n            <p><b>SparkContext</b></p>\n\n            <p><a href=\"http://vm-97d89382:35883\">Spark UI</a></p>\n\n            <dl>\n              <dt>Version</dt>\n                <dd><code>v3.3.1.5.2.20240522.3</code></dd>\n              <dt>Master</dt>\n                <dd><code>yarn</code></dd>\n              <dt>AppName</dt>\n                <dd><code>Azure ML Experiment</code></dd>\n            </dl>\n        </div>\n        \n            </div>\n        "
          },
          "metadata": {}
        }
      ],
      "execution_count": 1,
      "metadata": {
        "jupyter": {
          "source_hidden": false,
          "outputs_hidden": false
        },
        "nteract": {
          "transient": {
            "deleting": false
          }
        },
        "gather": {
          "logged": 1733700414499
        }
      }
    },
    {
      "cell_type": "code",
      "source": [
        "workspace_default_storage_account = \"projectgstoragedfb938a3e\"\n",
        "workspace_default_container = \"azureml-blobstore-becc8696-e562-432e-af12-8a5e3e1f9b0f\"\n",
        "workspace_wasbs_base_url = f\"wasbs://{workspace_default_container}@{workspace_default_storage_account}.blob.core.windows.net/\""
      ],
      "outputs": [
        {
          "output_type": "display_data",
          "data": {
            "application/vnd.livy.statement-meta+json": {
              "spark_pool": "ba5e360d-f184-47a0-9859-76b5031b79e3",
              "statement_id": 7,
              "statement_ids": [
                7
              ],
              "state": "finished",
              "livy_statement_state": "available",
              "spark_jobs": {
                "numbers": {
                  "FAILED": 0,
                  "RUNNING": 0,
                  "UNKNOWN": 0,
                  "SUCCEEDED": 0
                },
                "jobs": [],
                "limit": 20,
                "rule": "ALL_DESC"
              },
              "session_id": "51",
              "normalized_state": "finished",
              "queued_time": "2024-12-08T23:27:03.9731489Z",
              "session_start_time": null,
              "execution_start_time": "2024-12-08T23:27:04.0984107Z",
              "execution_finish_time": "2024-12-08T23:27:04.4292647Z",
              "parent_msg_id": "a5ee35ef-32f2-4551-8510-ecd3b2f7ed99"
            },
            "text/plain": "StatementMeta(ba5e360d-f184-47a0-9859-76b5031b79e3, 51, 7, Finished, Available, Finished)"
          },
          "metadata": {}
        }
      ],
      "execution_count": 2,
      "metadata": {
        "jupyter": {
          "source_hidden": false,
          "outputs_hidden": false
        },
        "nteract": {
          "transient": {
            "deleting": false
          }
        },
        "gather": {
          "logged": 1733700424510
        }
      }
    },
    {
      "cell_type": "code",
      "source": [
        "from pyspark.sql.functions import lit\n",
        "import pandas\n",
        "\n",
        "cancer_path = f\"{workspace_wasbs_base_url}cancer_subreddit_sentiment.parquet\"\n",
        "cancer_df = spark.read.parquet(cancer_path)\n",
        "\n",
        "not_cancer_path = f\"{workspace_wasbs_base_url}not_cancer_subreddit_sentiment.parquet\"\n",
        "not_cancer = spark.read.parquet(not_cancer_path)\n",
        "\n",
        "cancer_df = cancer_df.withColumn(\"source\", lit(\"cancer\"))\n",
        "\n",
        "not_cancer = not_cancer.withColumn(\"source\", lit(\"non_cancer\"))\n",
        "\n",
        "df = cancer_df.union(not_cancer)\n",
        "df = df.select('text', 'source')\n",
        "\n",
        "df = df.toPandas()\n",
        "\n",
        "df.head()"
      ],
      "outputs": [
        {
          "output_type": "display_data",
          "data": {
            "application/vnd.livy.statement-meta+json": {
              "spark_pool": "ba5e360d-f184-47a0-9859-76b5031b79e3",
              "statement_id": 8,
              "statement_ids": [
                8
              ],
              "state": "finished",
              "livy_statement_state": "available",
              "spark_jobs": {
                "numbers": {
                  "FAILED": 0,
                  "RUNNING": 0,
                  "UNKNOWN": 0,
                  "SUCCEEDED": 3
                },
                "jobs": [
                  {
                    "displayName": "toPandas at /tmp/ipykernel_13514/3287297446.py:17",
                    "dataWritten": 0,
                    "dataRead": 3020967,
                    "rowCount": 20000,
                    "usageDescription": "",
                    "jobId": 2,
                    "name": "toPandas at /tmp/ipykernel_13514/3287297446.py:17",
                    "description": "Job group for statement 8:\nfrom pyspark.sql.functions import lit\nimport pandas\n\ncancer_path = f\"{workspace_wasbs_base_url}cancer_subreddit_sentiment.parquet\"\ncancer_df = spark.read.parquet(cancer_path)\n\nnot_cancer_path = f\"{workspace_wasbs_base_url}not_cancer_subreddit_sentiment.parquet\"\nnot_cancer = spark.read.parquet(not_cancer_path)\n\ncancer_df = cancer_df.withColumn(\"source\", lit(\"cancer\"))\n\nnot_cancer = not_cancer.withColumn(\"source\", lit(\"non_cancer\"))\n\ndf = cancer_df.union(not_cancer)\ndf = df.select('text', 'source')\n\ndf = df.toPandas()\n\ndf.head()",
                    "submissionTime": "2024-12-08T23:27:18.178GMT",
                    "completionTime": "2024-12-08T23:27:20.852GMT",
                    "stageIds": [
                      2
                    ],
                    "jobGroup": "8",
                    "status": "SUCCEEDED",
                    "numTasks": 6,
                    "numActiveTasks": 0,
                    "numCompletedTasks": 6,
                    "numSkippedTasks": 0,
                    "numFailedTasks": 0,
                    "numKilledTasks": 0,
                    "numCompletedIndices": 6,
                    "numActiveStages": 0,
                    "numCompletedStages": 1,
                    "numSkippedStages": 0,
                    "numFailedStages": 0,
                    "killedTasksSummary": {}
                  },
                  {
                    "displayName": "parquet at NativeMethodAccessorImpl.java:0",
                    "dataWritten": 0,
                    "dataRead": 0,
                    "rowCount": 0,
                    "usageDescription": "",
                    "jobId": 1,
                    "name": "parquet at NativeMethodAccessorImpl.java:0",
                    "description": "Job group for statement 8:\nfrom pyspark.sql.functions import lit\nimport pandas\n\ncancer_path = f\"{workspace_wasbs_base_url}cancer_subreddit_sentiment.parquet\"\ncancer_df = spark.read.parquet(cancer_path)\n\nnot_cancer_path = f\"{workspace_wasbs_base_url}not_cancer_subreddit_sentiment.parquet\"\nnot_cancer = spark.read.parquet(not_cancer_path)\n\ncancer_df = cancer_df.withColumn(\"source\", lit(\"cancer\"))\n\nnot_cancer = not_cancer.withColumn(\"source\", lit(\"non_cancer\"))\n\ndf = cancer_df.union(not_cancer)\ndf = df.select('text', 'source')\n\ndf = df.toPandas()\n\ndf.head()",
                    "submissionTime": "2024-12-08T23:27:13.135GMT",
                    "completionTime": "2024-12-08T23:27:16.042GMT",
                    "stageIds": [
                      1
                    ],
                    "jobGroup": "8",
                    "status": "SUCCEEDED",
                    "numTasks": 1,
                    "numActiveTasks": 0,
                    "numCompletedTasks": 1,
                    "numSkippedTasks": 0,
                    "numFailedTasks": 0,
                    "numKilledTasks": 0,
                    "numCompletedIndices": 1,
                    "numActiveStages": 0,
                    "numCompletedStages": 1,
                    "numSkippedStages": 0,
                    "numFailedStages": 0,
                    "killedTasksSummary": {}
                  },
                  {
                    "displayName": "parquet at NativeMethodAccessorImpl.java:0",
                    "dataWritten": 0,
                    "dataRead": 0,
                    "rowCount": 0,
                    "usageDescription": "",
                    "jobId": 0,
                    "name": "parquet at NativeMethodAccessorImpl.java:0",
                    "description": "Job group for statement 8:\nfrom pyspark.sql.functions import lit\nimport pandas\n\ncancer_path = f\"{workspace_wasbs_base_url}cancer_subreddit_sentiment.parquet\"\ncancer_df = spark.read.parquet(cancer_path)\n\nnot_cancer_path = f\"{workspace_wasbs_base_url}not_cancer_subreddit_sentiment.parquet\"\nnot_cancer = spark.read.parquet(not_cancer_path)\n\ncancer_df = cancer_df.withColumn(\"source\", lit(\"cancer\"))\n\nnot_cancer = not_cancer.withColumn(\"source\", lit(\"non_cancer\"))\n\ndf = cancer_df.union(not_cancer)\ndf = df.select('text', 'source')\n\ndf = df.toPandas()\n\ndf.head()",
                    "submissionTime": "2024-12-08T23:27:07.839GMT",
                    "completionTime": "2024-12-08T23:27:11.929GMT",
                    "stageIds": [
                      0
                    ],
                    "jobGroup": "8",
                    "status": "SUCCEEDED",
                    "numTasks": 1,
                    "numActiveTasks": 0,
                    "numCompletedTasks": 1,
                    "numSkippedTasks": 0,
                    "numFailedTasks": 0,
                    "numKilledTasks": 0,
                    "numCompletedIndices": 1,
                    "numActiveStages": 0,
                    "numCompletedStages": 1,
                    "numSkippedStages": 0,
                    "numFailedStages": 0,
                    "killedTasksSummary": {}
                  }
                ],
                "limit": 20,
                "rule": "ALL_DESC"
              },
              "session_id": "51",
              "normalized_state": "finished",
              "queued_time": "2024-12-08T23:27:06.398236Z",
              "session_start_time": null,
              "execution_start_time": "2024-12-08T23:27:06.534038Z",
              "execution_finish_time": "2024-12-08T23:27:21.5361435Z",
              "parent_msg_id": "4ae9ef91-ad7d-42cc-a7fd-51551074b05b"
            },
            "text/plain": "StatementMeta(ba5e360d-f184-47a0-9859-76b5031b79e3, 51, 8, Finished, Available, Finished)"
          },
          "metadata": {}
        },
        {
          "output_type": "execute_result",
          "execution_count": 15,
          "data": {
            "text/plain": "                                                text  source\n0  Check out Northside Hospital -Atlanta, Piedmon...  cancer\n1  I had something similar and managed to get it ...  cancer\n2  That's an insulting offer, and I'm a LPN. Out ...  cancer\n3  Yeah sorry, it was my mistake. I meant to say ...  cancer\n4  I see my colorectal dr tomorrow. My disease is...  cancer",
            "text/html": "<div>\n<style scoped>\n    .dataframe tbody tr th:only-of-type {\n        vertical-align: middle;\n    }\n\n    .dataframe tbody tr th {\n        vertical-align: top;\n    }\n\n    .dataframe thead th {\n        text-align: right;\n    }\n</style>\n<table border=\"1\" class=\"dataframe\">\n  <thead>\n    <tr style=\"text-align: right;\">\n      <th></th>\n      <th>text</th>\n      <th>source</th>\n    </tr>\n  </thead>\n  <tbody>\n    <tr>\n      <th>0</th>\n      <td>Check out Northside Hospital -Atlanta, Piedmon...</td>\n      <td>cancer</td>\n    </tr>\n    <tr>\n      <th>1</th>\n      <td>I had something similar and managed to get it ...</td>\n      <td>cancer</td>\n    </tr>\n    <tr>\n      <th>2</th>\n      <td>That's an insulting offer, and I'm a LPN. Out ...</td>\n      <td>cancer</td>\n    </tr>\n    <tr>\n      <th>3</th>\n      <td>Yeah sorry, it was my mistake. I meant to say ...</td>\n      <td>cancer</td>\n    </tr>\n    <tr>\n      <th>4</th>\n      <td>I see my colorectal dr tomorrow. My disease is...</td>\n      <td>cancer</td>\n    </tr>\n  </tbody>\n</table>\n</div>"
          },
          "metadata": {}
        }
      ],
      "execution_count": 3,
      "metadata": {
        "gather": {
          "logged": 1733700441637
        }
      }
    },
    {
      "cell_type": "code",
      "source": [
        "df = df[['text']]\n",
        "df = df.rename(columns={'text': 'text_column'})\n",
        "df.head()"
      ],
      "outputs": [
        {
          "output_type": "display_data",
          "data": {
            "application/vnd.livy.statement-meta+json": {
              "spark_pool": "ba5e360d-f184-47a0-9859-76b5031b79e3",
              "statement_id": 9,
              "statement_ids": [
                9
              ],
              "state": "finished",
              "livy_statement_state": "available",
              "spark_jobs": {
                "numbers": {
                  "FAILED": 0,
                  "RUNNING": 0,
                  "UNKNOWN": 0,
                  "SUCCEEDED": 0
                },
                "jobs": [],
                "limit": 20,
                "rule": "ALL_DESC"
              },
              "session_id": "51",
              "normalized_state": "finished",
              "queued_time": "2024-12-08T23:27:23.9103131Z",
              "session_start_time": null,
              "execution_start_time": "2024-12-08T23:27:24.0179498Z",
              "execution_finish_time": "2024-12-08T23:27:24.3130382Z",
              "parent_msg_id": "893d7fb5-ae92-4e34-8f09-696d07903a37"
            },
            "text/plain": "StatementMeta(ba5e360d-f184-47a0-9859-76b5031b79e3, 51, 9, Finished, Available, Finished)"
          },
          "metadata": {}
        },
        {
          "output_type": "execute_result",
          "execution_count": 17,
          "data": {
            "text/plain": "                                         text_column\n0  Check out Northside Hospital -Atlanta, Piedmon...\n1  I had something similar and managed to get it ...\n2  That's an insulting offer, and I'm a LPN. Out ...\n3  Yeah sorry, it was my mistake. I meant to say ...\n4  I see my colorectal dr tomorrow. My disease is...",
            "text/html": "<div>\n<style scoped>\n    .dataframe tbody tr th:only-of-type {\n        vertical-align: middle;\n    }\n\n    .dataframe tbody tr th {\n        vertical-align: top;\n    }\n\n    .dataframe thead th {\n        text-align: right;\n    }\n</style>\n<table border=\"1\" class=\"dataframe\">\n  <thead>\n    <tr style=\"text-align: right;\">\n      <th></th>\n      <th>text_column</th>\n    </tr>\n  </thead>\n  <tbody>\n    <tr>\n      <th>0</th>\n      <td>Check out Northside Hospital -Atlanta, Piedmon...</td>\n    </tr>\n    <tr>\n      <th>1</th>\n      <td>I had something similar and managed to get it ...</td>\n    </tr>\n    <tr>\n      <th>2</th>\n      <td>That's an insulting offer, and I'm a LPN. Out ...</td>\n    </tr>\n    <tr>\n      <th>3</th>\n      <td>Yeah sorry, it was my mistake. I meant to say ...</td>\n    </tr>\n    <tr>\n      <th>4</th>\n      <td>I see my colorectal dr tomorrow. My disease is...</td>\n    </tr>\n  </tbody>\n</table>\n</div>"
          },
          "metadata": {}
        }
      ],
      "execution_count": 4,
      "metadata": {
        "jupyter": {
          "source_hidden": false,
          "outputs_hidden": false
        },
        "nteract": {
          "transient": {
            "deleting": false
          }
        },
        "gather": {
          "logged": 1733700444414
        }
      }
    },
    {
      "cell_type": "code",
      "source": [
        "%pip install nrclex"
      ],
      "outputs": [
        {
          "output_type": "display_data",
          "data": {
            "application/vnd.livy.statement-meta+json": {
              "spark_pool": "ba5e360d-f184-47a0-9859-76b5031b79e3",
              "statement_id": 14,
              "statement_ids": [
                10,
                11,
                12,
                13,
                14
              ],
              "state": "finished",
              "livy_statement_state": "available",
              "spark_jobs": {
                "numbers": {
                  "FAILED": 0,
                  "RUNNING": 0,
                  "UNKNOWN": 0,
                  "SUCCEEDED": 0
                },
                "jobs": [],
                "limit": 20,
                "rule": "ALL_DESC"
              },
              "session_id": "50",
              "normalized_state": "finished",
              "queued_time": "2024-12-08T22:44:38.5915529Z",
              "session_start_time": null,
              "execution_start_time": "2024-12-08T22:44:39.226975Z",
              "execution_finish_time": "2024-12-08T22:45:21.8233219Z",
              "parent_msg_id": "b8354263-062e-47d1-a2d8-523d4fb6cd5c"
            },
            "text/plain": "StatementMeta(ba5e360d-f184-47a0-9859-76b5031b79e3, 50, 14, Finished, Available, Finished)"
          },
          "metadata": {}
        },
        {
          "output_type": "execute_result",
          "execution_count": 5,
          "data": {},
          "metadata": {}
        },
        {
          "output_type": "stream",
          "name": "stdout",
          "text": "Collecting nrclex\n  Downloading NRCLex-4.0-py3-none-any.whl (4.4 kB)\n  Downloading NRCLex-3.0.0.tar.gz (396 kB)\n\u001b[2K     \u001b[90m━━━━━━━━━━━━━━━━━━━━━━━━━━━━━━━━━━━━━━\u001b[0m \u001b[32m396.4/396.4 KB\u001b[0m \u001b[31m32.0 MB/s\u001b[0m eta \u001b[36m0:00:00\u001b[0m\n\u001b[?25h  Preparing metadata (setup.py) ... \u001b[?25l-\b \b\\\b \bdone\n\u001b[?25hRequirement already satisfied: textblob in /home/trusted-service-user/cluster-env/env/lib/python3.10/site-packages (from nrclex) (0.15.3)\nRequirement already satisfied: nltk>=3.1 in /home/trusted-service-user/cluster-env/env/lib/python3.10/site-packages (from textblob->nrclex) (3.6.2)\nRequirement already satisfied: regex in /home/trusted-service-user/cluster-env/env/lib/python3.10/site-packages (from nltk>=3.1->textblob->nrclex) (2022.10.31)\nRequirement already satisfied: tqdm in /home/trusted-service-user/cluster-env/env/lib/python3.10/site-packages (from nltk>=3.1->textblob->nrclex) (4.64.1)\nRequirement already satisfied: joblib in /home/trusted-service-user/cluster-env/env/lib/python3.10/site-packages (from nltk>=3.1->textblob->nrclex) (1.2.0)\nRequirement already satisfied: click in /home/trusted-service-user/cluster-env/env/lib/python3.10/site-packages (from nltk>=3.1->textblob->nrclex) (8.1.3)\nBuilding wheels for collected packages: nrclex\n  Building wheel for nrclex (setup.py) ... \u001b[?25l-\b \b\\\b \b|\b \b/\b \bdone\n\u001b[?25h  Created wheel for nrclex: filename=NRCLex-3.0.0-py3-none-any.whl size=43311 sha256=cae5fce672ccf3c39750949dcdd10ee6675f9772ee4281a209bd8e3da5eb69b2\n  Stored in directory: /home/trusted-service-user/.cache/pip/wheels/d2/10/44/6abfb1234298806a145fd6bcaec8cbc712e88dd1cd6cb242fa\nSuccessfully built nrclex\nInstalling collected packages: nrclex\nSuccessfully installed nrclex-3.0.0\n\u001b[33mWARNING: You are using pip version 22.0.4; however, version 24.3.1 is available.\nYou should consider upgrading via the '/nfs4/pyenv-13cafb8c-6b93-47c4-a1e6-669a4e47a31e/bin/python -m pip install --upgrade pip' command.\u001b[0m\u001b[33m\n\u001b[0mNote: you may need to restart the kernel to use updated packages.\n"
        },
        {
          "output_type": "execute_result",
          "execution_count": 5,
          "data": {},
          "metadata": {}
        },
        {
          "output_type": "stream",
          "name": "stdout",
          "text": "Warning: PySpark kernel has been restarted to use updated packages.\n\n"
        }
      ],
      "execution_count": 5,
      "metadata": {
        "jupyter": {
          "source_hidden": false,
          "outputs_hidden": false
        },
        "nteract": {
          "transient": {
            "deleting": false
          }
        }
      }
    },
    {
      "cell_type": "code",
      "source": [
        "import pandas as pd\n",
        "import nrclex\n",
        "import nltk\n",
        "from multiprocessing import Pool\n",
        "\n",
        "# Download NLTK data for tokenization\n",
        "nltk.download('punkt')\n",
        "\n",
        "# Sample dataframe with a text column\n",
        "#data = {'text_column': [\"I love coding!\", \"I hate bugs in my code.\", \"This is a neutral statement.\", \n",
        "#                        \"I enjoy solving problems!\", \"I get frustrated when things don't work.\"]}\n",
        "#df = pd.DataFrame(data)\n",
        "\n",
        "# Define a function to get sentiment from NRC lexicon\n",
        "def get_sentiment(text):\n",
        "    if isinstance(text, str):\n",
        "        # Initialize NRC lexicon for each text\n",
        "        nrc_lex = nrclex.NRCLex(text)\n",
        "        affect_frequencies = nrc_lex.affect_frequencies\n",
        "        \n",
        "        # Extracting positive, negative, neutral, and other emotions including 'trust'\n",
        "        sentiment = {\n",
        "            \"positive\": affect_frequencies.get(\"positive\", 0),\n",
        "            \"negative\": affect_frequencies.get(\"negative\", 0),\n",
        "            \"neutral\": affect_frequencies.get(\"neutral\", 0),\n",
        "            \"anger\": affect_frequencies.get(\"anger\", 0),\n",
        "            \"fear\": affect_frequencies.get(\"fear\", 0),\n",
        "            \"disgust\": affect_frequencies.get(\"disgust\", 0),\n",
        "            \"sadness\": affect_frequencies.get(\"sadness\", 0),\n",
        "            \"joy\": affect_frequencies.get(\"joy\", 0),\n",
        "            \"surprise\": affect_frequencies.get(\"surprise\", 0),\n",
        "            \"trust\": affect_frequencies.get(\"trust\", 0)  # Added trust emotion\n",
        "        }\n",
        "        return sentiment\n",
        "    return {\n",
        "        \"positive\": 0, \"negative\": 0, \"neutral\": 0, \"anger\": 0, \"fear\": 0, \n",
        "        \"disgust\": 0, \"sadness\": 0, \"joy\": 0, \"surprise\": 0, \"trust\": 0  # Default 0 for all emotions\n",
        "    }\n",
        "\n",
        "# Function to process a chunk of data\n",
        "def process_chunk(chunk):\n",
        "    chunk[['positive', 'negative', 'neutral', 'anger', 'fear', 'disgust', 'sadness', 'joy', 'surprise', 'trust']] = \\\n",
        "        chunk['text_column'].apply(get_sentiment).apply(pd.Series)\n",
        "    return chunk\n",
        "\n",
        "# Function to split dataframe into chunks\n",
        "def split_dataframe(df, num_chunks):\n",
        "    chunk_size = len(df) // num_chunks\n",
        "    return [df.iloc[i:i + chunk_size] for i in range(0, len(df), chunk_size)]\n",
        "\n",
        "# Number of chunks for parallel processing (adjust based on your system's cores)\n",
        "num_chunks = 4  # or a value that suits your setup\n",
        "\n",
        "# Step 1: Split the DataFrame into chunks\n",
        "chunks = split_dataframe(df, num_chunks)\n",
        "\n",
        "# Step 2: Use multiprocessing to process the chunks in parallel\n",
        "with Pool(processes=num_chunks) as pool:\n",
        "    result_chunks = pool.map(process_chunk, chunks)\n",
        "\n",
        "# Step 3: Combine the processed chunks back into a single DataFrame\n",
        "final_df = pd.concat(result_chunks, ignore_index=True)\n",
        "\n",
        "# Display the final dataframe with sentiment columns\n",
        "print(final_df)\n"
      ],
      "outputs": [
        {
          "output_type": "display_data",
          "data": {
            "application/vnd.livy.statement-meta+json": {
              "spark_pool": "ba5e360d-f184-47a0-9859-76b5031b79e3",
              "statement_id": 26,
              "statement_ids": [
                26
              ],
              "state": "finished",
              "livy_statement_state": "available",
              "spark_jobs": {
                "numbers": {
                  "FAILED": 0,
                  "RUNNING": 0,
                  "UNKNOWN": 0,
                  "SUCCEEDED": 0
                },
                "jobs": [],
                "limit": 20,
                "rule": "ALL_DESC"
              },
              "session_id": "50",
              "normalized_state": "finished",
              "queued_time": "2024-12-08T22:48:45.3715321Z",
              "session_start_time": null,
              "execution_start_time": "2024-12-08T22:48:45.4889923Z",
              "execution_finish_time": "2024-12-08T22:49:07.2540009Z",
              "parent_msg_id": "f467c2d2-7480-4388-ab54-6b5964b6dd67"
            },
            "text/plain": "StatementMeta(ba5e360d-f184-47a0-9859-76b5031b79e3, 50, 26, Finished, Available, Finished)"
          },
          "metadata": {}
        },
        {
          "output_type": "stream",
          "name": "stderr",
          "text": "[nltk_data] Downloading package punkt to /home/trusted-service-\n[nltk_data]     user/nltk_data...\n[nltk_data]   Package punkt is already up-to-date!\n"
        },
        {
          "output_type": "stream",
          "name": "stdout",
          "text": "                                             text_column  positive  negative  \\\n0      Check out Northside Hospital -Atlanta, Piedmon...  0.198020  0.089109   \n1      I had something similar and managed to get it ...  0.666667  0.000000   \n2      That's an insulting offer, and I'm a LPN. Out ...  0.275862  0.103448   \n3      Yeah sorry, it was my mistake. I meant to say ...  0.000000  0.500000   \n4      I see my colorectal dr tomorrow. My disease is...  0.000000  0.166667   \n...                                                  ...       ...       ...   \n19995  Switch update was just a normal firmware updat...  0.000000  0.000000   \n19996                                          [removed]  0.000000  0.000000   \n19997  When will someone just fucking follow glorious...  0.000000  0.166667   \n19998                                  Ew, STFU already.  0.000000  0.000000   \n19999  Szemely szerint csak bemutatkoznek neki udvari...  0.000000  0.000000   \n\n       neutral     anger      fear   disgust   sadness       joy  surprise  \\\n0          0.0  0.049505  0.079208  0.039604  0.059406  0.128713  0.059406   \n1          0.0  0.000000  0.333333  0.000000  0.000000  0.000000  0.000000   \n2          0.0  0.057471  0.057471  0.045977  0.068966  0.080460  0.068966   \n3          0.0  0.000000  0.000000  0.000000  0.500000  0.000000  0.000000   \n4          0.0  0.166667  0.166667  0.166667  0.166667  0.000000  0.000000   \n...        ...       ...       ...       ...       ...       ...       ...   \n19995      0.0  0.000000  0.000000  0.000000  0.000000  0.000000  0.000000   \n19996      0.0  0.000000  0.000000  0.000000  0.000000  0.000000  0.000000   \n19997      0.0  0.166667  0.166667  0.000000  0.166667  0.000000  0.166667   \n19998      0.0  0.000000  0.000000  0.000000  0.000000  0.000000  0.000000   \n19999      0.0  0.000000  0.000000  0.000000  0.000000  0.000000  0.000000   \n\n          trust  \n0      0.138614  \n1      0.000000  \n2      0.149425  \n3      0.000000  \n4      0.000000  \n...         ...  \n19995  0.000000  \n19996  0.000000  \n19997  0.000000  \n19998  0.000000  \n19999  0.000000  \n\n[20000 rows x 11 columns]\n"
        }
      ],
      "execution_count": 12,
      "metadata": {
        "jupyter": {
          "source_hidden": false,
          "outputs_hidden": false
        },
        "nteract": {
          "transient": {
            "deleting": false
          }
        },
        "gather": {
          "logged": 1733698147438
        }
      }
    },
    {
      "cell_type": "code",
      "source": [
        "import seaborn as sns\n",
        "import matplotlib.pyplot as plt\n",
        "\n",
        "# Select the columns related to emotions (excluding 'text_column' and 'source')\n",
        "emotion_columns = ['positive', 'negative', 'neutral','anger', 'fear', 'disgust', 'sadness', 'joy', 'surprise', 'trust']\n",
        "\n",
        "# Select the rows and emotions data for plotting\n",
        "emotion_data = final_df[emotion_columns]\n",
        "\n",
        "# Create a heatmap\n",
        "plt.figure(figsize=(10, 8))\n",
        "sns.heatmap(emotion_data.T, cmap=\"coolwarm\", cbar=True, annot=False, linewidths=0.5)\n",
        "plt.title('Emotion Scores across Texts')\n",
        "plt.xlabel('Text Entries')\n",
        "plt.ylabel('Emotions')\n",
        "plt.show()\n"
      ],
      "outputs": [
        {
          "output_type": "display_data",
          "data": {
            "application/vnd.livy.statement-meta+json": {
              "spark_pool": "ba5e360d-f184-47a0-9859-76b5031b79e3",
              "statement_id": 27,
              "statement_ids": [
                27
              ],
              "state": "finished",
              "livy_statement_state": "available",
              "spark_jobs": {
                "numbers": {
                  "FAILED": 0,
                  "RUNNING": 0,
                  "UNKNOWN": 0,
                  "SUCCEEDED": 0
                },
                "jobs": [],
                "limit": 20,
                "rule": "ALL_DESC"
              },
              "session_id": "50",
              "normalized_state": "finished",
              "queued_time": "2024-12-08T22:49:12.9374665Z",
              "session_start_time": null,
              "execution_start_time": "2024-12-08T22:49:13.0490832Z",
              "execution_finish_time": "2024-12-08T22:49:21.0831905Z",
              "parent_msg_id": "9f179988-078e-48fb-9315-0a3c386e9184"
            },
            "text/plain": "StatementMeta(ba5e360d-f184-47a0-9859-76b5031b79e3, 50, 27, Finished, Available, Finished)"
          },
          "metadata": {}
        },
        {
          "output_type": "display_data",
          "data": {
            "text/plain": "<Figure size 1000x800 with 2 Axes>",
            "image/png": "[encoded data removed]"
          },
          "metadata": {}
        }
      ],
      "execution_count": 13,
      "metadata": {
        "jupyter": {
          "source_hidden": false,
          "outputs_hidden": false
        },
        "nteract": {
          "transient": {
            "deleting": false
          }
        },
        "gather": {
          "logged": 1733698161272
        }
      }
    },
    {
      "cell_type": "code",
      "source": [
        "import matplotlib.pyplot as plt\n",
        "\n",
        "# Calculate the mean emotion score for each emotion\n",
        "mean_emotions = emotion_data.mean()\n",
        "\n",
        "# Plot the results\n",
        "plt.figure(figsize=(10, 6))\n",
        "mean_emotions.plot(kind='bar', color='skyblue', edgecolor='black')\n",
        "plt.title('Average Emotion Scores Across Texts')\n",
        "plt.xlabel('Emotions')\n",
        "plt.ylabel('Average Score')\n",
        "plt.xticks(rotation=45)\n",
        "plt.show()"
      ],
      "outputs": [
        {
          "output_type": "display_data",
          "data": {
            "application/vnd.livy.statement-meta+json": {
              "spark_pool": "ba5e360d-f184-47a0-9859-76b5031b79e3",
              "statement_id": 28,
              "statement_ids": [
                28
              ],
              "state": "finished",
              "livy_statement_state": "available",
              "spark_jobs": {
                "numbers": {
                  "FAILED": 0,
                  "RUNNING": 0,
                  "UNKNOWN": 0,
                  "SUCCEEDED": 0
                },
                "jobs": [],
                "limit": 20,
                "rule": "ALL_DESC"
              },
              "session_id": "50",
              "normalized_state": "finished",
              "queued_time": "2024-12-08T22:49:12.9802823Z",
              "session_start_time": null,
              "execution_start_time": "2024-12-08T22:49:21.2268286Z",
              "execution_finish_time": "2024-12-08T22:49:22.0494589Z",
              "parent_msg_id": "8b0c0653-83a8-45cc-89f8-047fc0a0368d"
            },
            "text/plain": "StatementMeta(ba5e360d-f184-47a0-9859-76b5031b79e3, 50, 28, Finished, Available, Finished)"
          },
          "metadata": {}
        },
        {
          "output_type": "display_data",
          "data": {
            "text/plain": "<Figure size 1000x600 with 1 Axes>",
            "image/png": "[encoded data removed]"
          },
          "metadata": {}
        }
      ],
      "execution_count": 14,
      "metadata": {
        "jupyter": {
          "source_hidden": false,
          "outputs_hidden": false
        },
        "nteract": {
          "transient": {
            "deleting": false
          }
        },
        "gather": {
          "logged": 1733698162211
        }
      }
    },
    {
      "cell_type": "code",
      "source": [
        "%pip install wordcloud"
      ],
      "outputs": [
        {
          "output_type": "display_data",
          "data": {
            "application/vnd.livy.statement-meta+json": {
              "spark_pool": "ba5e360d-f184-47a0-9859-76b5031b79e3",
              "statement_id": 32,
              "statement_ids": [
                29,
                30,
                31,
                32
              ],
              "state": "submitted",
              "livy_statement_state": "running",
              "spark_jobs": {
                "numbers": {
                  "FAILED": 0,
                  "RUNNING": 0,
                  "UNKNOWN": 0,
                  "SUCCEEDED": 0
                },
                "jobs": [],
                "limit": 20,
                "rule": "ALL_DESC"
              },
              "session_id": "50",
              "normalized_state": "running",
              "queued_time": "2024-12-08T22:49:22.9523543Z",
              "session_start_time": null,
              "execution_start_time": "2024-12-08T22:49:23.0492295Z",
              "execution_finish_time": null,
              "parent_msg_id": "b79214bb-d018-437d-b4f3-b778268798b7"
            },
            "text/plain": "StatementMeta(ba5e360d-f184-47a0-9859-76b5031b79e3, 50, 32, Submitted, Running, Running)"
          },
          "metadata": {}
        },
        {
          "output_type": "execute_result",
          "execution_count": 15,
          "data": {},
          "metadata": {}
        },
        {
          "output_type": "stream",
          "name": "stdout",
          "text": "Collecting wordcloud\n  Downloading wordcloud-1.9.4-cp310-cp310-manylinux_2_17_x86_64.manylinux2014_x86_64.whl (511 kB)\n\u001b[2K     \u001b[90m━━━━━━━━━━━━━━━━━━━━━━━━━━━━━━━━━━━━━━\u001b[0m \u001b[32m511.1/511.1 KB\u001b[0m \u001b[31m20.2 MB/s\u001b[0m eta \u001b[36m0:00:00\u001b[0m\n\u001b[?25hRequirement already satisfied: pillow in /home/trusted-service-user/cluster-env/env/lib/python3.10/site-packages (from wordcloud) (9.2.0)\nRequirement already satisfied: matplotlib in /home/trusted-service-user/cluster-env/env/lib/python3.10/site-packages (from wordcloud) (3.6.2)\nRequirement already satisfied: numpy>=1.6.1 in /home/trusted-service-user/cluster-env/env/lib/python3.10/site-packages (from wordcloud) (1.23.4)\nRequirement already satisfied: pyparsing>=2.2.1 in /home/trusted-service-user/cluster-env/env/lib/python3.10/site-packages (from matplotlib->wordcloud) (3.0.9)\nRequirement already satisfied: fonttools>=4.22.0 in /home/trusted-service-user/cluster-env/env/lib/python3.10/site-packages (from matplotlib->wordcloud) (4.38.0)\nRequirement already satisfied: kiwisolver>=1.0.1 in /home/trusted-service-user/cluster-env/env/lib/python3.10/site-packages (from matplotlib->wordcloud) (1.4.4)\nRequirement already satisfied: cycler>=0.10 in /home/trusted-service-user/cluster-env/env/lib/python3.10/site-packages (from matplotlib->wordcloud) (0.11.0)\nRequirement already satisfied: python-dateutil>=2.7 in /home/trusted-service-user/cluster-env/env/lib/python3.10/site-packages (from matplotlib->wordcloud) (2.8.2)\nRequirement already satisfied: packaging>=20.0 in /home/trusted-service-user/cluster-env/env/lib/python3.10/site-packages (from matplotlib->wordcloud) (21.3)\nRequirement already satisfied: contourpy>=1.0.1 in /home/trusted-service-user/cluster-env/env/lib/python3.10/site-packages (from matplotlib->wordcloud) (1.0.6)\nRequirement already satisfied: six>=1.5 in /home/trusted-service-user/cluster-env/env/lib/python3.10/site-packages (from python-dateutil>=2.7->matplotlib->wordcloud) (1.16.0)\nInstalling collected packages: wordcloud\nSuccessfully installed wordcloud-1.9.4\n\u001b[33mWARNING: You are using pip version 22.0.4; however, version 24.3.1 is available.\nYou should consider upgrading via the '/nfs4/pyenv-13cafb8c-6b93-47c4-a1e6-669a4e47a31e/bin/python -m pip install --upgrade pip' command.\u001b[0m\u001b[33m\n\u001b[0mNote: you may need to restart the kernel to use updated packages.\n"
        }
      ],
      "execution_count": 15,
      "metadata": {
        "jupyter": {
          "source_hidden": false,
          "outputs_hidden": false
        },
        "nteract": {
          "transient": {
            "deleting": false
          }
        }
      }
    },
    {
      "cell_type": "code",
      "source": [
        "from wordcloud import WordCloud\n",
        "import matplotlib.pyplot as plt\n",
        "\n",
        "# positive vs negative\n",
        "#positive_comments = ' '.join(df[df['sentiment_score'] > 0]['body'])\n",
        "#negative_comments = ' '.join(df[df['sentiment_score'] < 0]['body'])\n",
        "\n",
        "text = ' '.join(df['text_column'])\n",
        "\n",
        "\n",
        "plt.figure(figsize=(15, 7))\n",
        "\n",
        "# positive\n",
        "plt.subplot(1, 2, 1)\n",
        "wordcloud = WordCloud(background_color='white').generate(text)\n",
        "plt.imshow(wordcloud, interpolation='bilinear')\n",
        "plt.axis('off')\n",
        "plt.title('Positive Comments')\n",
        "\n",
        "# negative\n",
        "#plt.subplot(1, 2, 2)\n",
        "#wordcloud = WordCloud(background_color='white').generate(negative_comments)\n",
        "#plt.imshow(wordcloud, interpolation='bilinear')\n",
        "#plt.axis('off')\n",
        "#plt.title('Negative Comments')\n",
        "\n",
        "#plt.show()"
      ],
      "outputs": [
        {
          "output_type": "display_data",
          "data": {
            "application/vnd.livy.statement-meta+json": {
              "spark_pool": "ba5e360d-f184-47a0-9859-76b5031b79e3",
              "statement_id": 33,
              "statement_ids": [
                33
              ],
              "state": "finished",
              "livy_statement_state": "available",
              "spark_jobs": {
                "numbers": {
                  "FAILED": 0,
                  "RUNNING": 0,
                  "UNKNOWN": 0,
                  "SUCCEEDED": 0
                },
                "jobs": [],
                "limit": 20,
                "rule": "ALL_DESC"
              },
              "session_id": "50",
              "normalized_state": "finished",
              "queued_time": "2024-12-08T22:49:13.07837Z",
              "session_start_time": null,
              "execution_start_time": "2024-12-08T22:49:40.3342429Z",
              "execution_finish_time": "2024-12-08T22:49:41.8857181Z",
              "parent_msg_id": "c11e13e7-ab0c-42d4-a01b-dd0dd2404aaf"
            },
            "text/plain": "StatementMeta(ba5e360d-f184-47a0-9859-76b5031b79e3, 50, 33, Finished, Available, Finished)"
          },
          "metadata": {}
        },
        {
          "output_type": "error",
          "ename": "NameError",
          "evalue": "name 'df' is not defined",
          "traceback": [
            "\u001b[0;31m---------------------------------------------------------------------------\u001b[0m",
            "\u001b[0;31mNameError\u001b[0m                                 Traceback (most recent call last)",
            "Cell \u001b[0;32mIn [5], line 8\u001b[0m\n\u001b[1;32m      2\u001b[0m \u001b[38;5;28;01mimport\u001b[39;00m \u001b[38;5;21;01mmatplotlib\u001b[39;00m\u001b[38;5;21;01m.\u001b[39;00m\u001b[38;5;21;01mpyplot\u001b[39;00m \u001b[38;5;28;01mas\u001b[39;00m \u001b[38;5;21;01mplt\u001b[39;00m\n\u001b[1;32m      4\u001b[0m \u001b[38;5;66;03m# positive vs negative\u001b[39;00m\n\u001b[1;32m      5\u001b[0m \u001b[38;5;66;03m#positive_comments = ' '.join(df[df['sentiment_score'] > 0]['body'])\u001b[39;00m\n\u001b[1;32m      6\u001b[0m \u001b[38;5;66;03m#negative_comments = ' '.join(df[df['sentiment_score'] < 0]['body'])\u001b[39;00m\n\u001b[0;32m----> 8\u001b[0m text \u001b[38;5;241m=\u001b[39m \u001b[38;5;124m'\u001b[39m\u001b[38;5;124m \u001b[39m\u001b[38;5;124m'\u001b[39m\u001b[38;5;241m.\u001b[39mjoin(\u001b[43mdf\u001b[49m[\u001b[38;5;124m'\u001b[39m\u001b[38;5;124mtext_column\u001b[39m\u001b[38;5;124m'\u001b[39m])\n\u001b[1;32m     11\u001b[0m plt\u001b[38;5;241m.\u001b[39mfigure(figsize\u001b[38;5;241m=\u001b[39m(\u001b[38;5;241m15\u001b[39m, \u001b[38;5;241m7\u001b[39m))\n\u001b[1;32m     13\u001b[0m \u001b[38;5;66;03m# positive\u001b[39;00m\n",
            "\u001b[0;31mNameError\u001b[0m: name 'df' is not defined"
          ]
        }
      ],
      "execution_count": 16,
      "metadata": {
        "jupyter": {
          "source_hidden": false,
          "outputs_hidden": false
        },
        "nteract": {
          "transient": {
            "deleting": false
          }
        },
        "gather": {
          "logged": 1733698182049
        }
      }
    },
    {
      "cell_type": "code",
      "source": [
        "from sklearn.feature_extraction.text import TfidfVectorizer\n",
        "import pandas as pd\n",
        "from sklearn.feature_extraction.text import ENGLISH_STOP_WORDS\n",
        "\n",
        "cancer_df = cancer_df['text']\n",
        "\n",
        "custom_stop_words = ENGLISH_STOP_WORDS.union({\"just\", \"like\", \"don\", \"https\", \"use\", \"does\",\n",
        " \"post\", \"subreddit\", \"know\", \"ve\", \"com\", \"www\", \"reddit\", \"message\", \"think\", \"good\", \"automatically\"})\n",
        "\n",
        "# Initialize TF-IDF Vectorizer\n",
        "tfidf_vectorizer = TfidfVectorizer(stop_words=custom_stop_words, max_features=20)  # You can adjust max_features as needed\n",
        "\n",
        "# Fit and transform the text data\n",
        "tfidf_matrix = tfidf_vectorizer.fit_transform(cancer_df['text'])\n",
        "\n",
        "# Get the feature names (words) and their corresponding TF-IDF values\n",
        "feature_names = tfidf_vectorizer.get_feature_names_out()\n",
        "tfidf_scores = tfidf_matrix.sum(axis=0).A1  # Sum of TF-IDF scores for each term\n",
        "\n",
        "# Create a DataFrame with words and their TF-IDF scores\n",
        "tfidf_df = pd.DataFrame(list(zip(feature_names, tfidf_scores)), columns=['word', 'tfidf'])\n",
        "tfidf_df = tfidf_df.sort_values(by='tfidf', ascending=False)\n",
        "\n",
        "# Display the top 10 important words by TF-IDF\n",
        "print(tfidf_df.head(10))\n"
      ],
      "outputs": [
        {
          "output_type": "display_data",
          "data": {
            "application/vnd.livy.statement-meta+json": {
              "spark_pool": "ba5e360d-f184-47a0-9859-76b5031b79e3",
              "statement_id": 17,
              "statement_ids": [
                17
              ],
              "state": "finished",
              "livy_statement_state": "available",
              "spark_jobs": {
                "numbers": {
                  "FAILED": 0,
                  "RUNNING": 0,
                  "UNKNOWN": 0,
                  "SUCCEEDED": 0
                },
                "jobs": [],
                "limit": 20,
                "rule": "ALL_DESC"
              },
              "session_id": "51",
              "normalized_state": "finished",
              "queued_time": "2024-12-08T23:42:29.4924575Z",
              "session_start_time": null,
              "execution_start_time": "2024-12-08T23:42:29.6785923Z",
              "execution_finish_time": "2024-12-08T23:42:30.5028572Z",
              "parent_msg_id": "e9c8bf83-d9d0-4ba4-bcde-45b21ef1c2d5"
            },
            "text/plain": "StatementMeta(ba5e360d-f184-47a0-9859-76b5031b79e3, 51, 17, Finished, Available, Finished)"
          },
          "metadata": {}
        },
        {
          "output_type": "error",
          "ename": "TypeError",
          "evalue": "Column is not iterable",
          "traceback": [
            "\u001b[0;31m---------------------------------------------------------------------------\u001b[0m",
            "\u001b[0;31mTypeError\u001b[0m                                 Traceback (most recent call last)",
            "Cell \u001b[0;32mIn [33], line 14\u001b[0m\n\u001b[1;32m     11\u001b[0m tfidf_vectorizer \u001b[38;5;241m=\u001b[39m TfidfVectorizer(stop_words\u001b[38;5;241m=\u001b[39mcustom_stop_words, max_features\u001b[38;5;241m=\u001b[39m\u001b[38;5;241m20\u001b[39m)  \u001b[38;5;66;03m# You can adjust max_features as needed\u001b[39;00m\n\u001b[1;32m     13\u001b[0m \u001b[38;5;66;03m# Fit and transform the text data\u001b[39;00m\n\u001b[0;32m---> 14\u001b[0m tfidf_matrix \u001b[38;5;241m=\u001b[39m \u001b[43mtfidf_vectorizer\u001b[49m\u001b[38;5;241;43m.\u001b[39;49m\u001b[43mfit_transform\u001b[49m\u001b[43m(\u001b[49m\u001b[43mcancer_df\u001b[49m\u001b[43m[\u001b[49m\u001b[38;5;124;43m'\u001b[39;49m\u001b[38;5;124;43mtext\u001b[39;49m\u001b[38;5;124;43m'\u001b[39;49m\u001b[43m]\u001b[49m\u001b[43m)\u001b[49m\n\u001b[1;32m     16\u001b[0m \u001b[38;5;66;03m# Get the feature names (words) and their corresponding TF-IDF values\u001b[39;00m\n\u001b[1;32m     17\u001b[0m feature_names \u001b[38;5;241m=\u001b[39m tfidf_vectorizer\u001b[38;5;241m.\u001b[39mget_feature_names_out()\n",
            "File \u001b[0;32m~/cluster-env/env/lib/python3.10/site-packages/sklearn/feature_extraction/text.py:2079\u001b[0m, in \u001b[0;36mTfidfVectorizer.fit_transform\u001b[0;34m(self, raw_documents, y)\u001b[0m\n\u001b[1;32m   2072\u001b[0m \u001b[38;5;28mself\u001b[39m\u001b[38;5;241m.\u001b[39m_check_params()\n\u001b[1;32m   2073\u001b[0m \u001b[38;5;28mself\u001b[39m\u001b[38;5;241m.\u001b[39m_tfidf \u001b[38;5;241m=\u001b[39m TfidfTransformer(\n\u001b[1;32m   2074\u001b[0m     norm\u001b[38;5;241m=\u001b[39m\u001b[38;5;28mself\u001b[39m\u001b[38;5;241m.\u001b[39mnorm,\n\u001b[1;32m   2075\u001b[0m     use_idf\u001b[38;5;241m=\u001b[39m\u001b[38;5;28mself\u001b[39m\u001b[38;5;241m.\u001b[39muse_idf,\n\u001b[1;32m   2076\u001b[0m     smooth_idf\u001b[38;5;241m=\u001b[39m\u001b[38;5;28mself\u001b[39m\u001b[38;5;241m.\u001b[39msmooth_idf,\n\u001b[1;32m   2077\u001b[0m     sublinear_tf\u001b[38;5;241m=\u001b[39m\u001b[38;5;28mself\u001b[39m\u001b[38;5;241m.\u001b[39msublinear_tf,\n\u001b[1;32m   2078\u001b[0m )\n\u001b[0;32m-> 2079\u001b[0m X \u001b[38;5;241m=\u001b[39m \u001b[38;5;28;43msuper\u001b[39;49m\u001b[43m(\u001b[49m\u001b[43m)\u001b[49m\u001b[38;5;241;43m.\u001b[39;49m\u001b[43mfit_transform\u001b[49m\u001b[43m(\u001b[49m\u001b[43mraw_documents\u001b[49m\u001b[43m)\u001b[49m\n\u001b[1;32m   2080\u001b[0m \u001b[38;5;28mself\u001b[39m\u001b[38;5;241m.\u001b[39m_tfidf\u001b[38;5;241m.\u001b[39mfit(X)\n\u001b[1;32m   2081\u001b[0m \u001b[38;5;66;03m# X is already a transformed view of raw_documents so\u001b[39;00m\n\u001b[1;32m   2082\u001b[0m \u001b[38;5;66;03m# we set copy to False\u001b[39;00m\n",
            "File \u001b[0;32m~/cluster-env/env/lib/python3.10/site-packages/sklearn/feature_extraction/text.py:1338\u001b[0m, in \u001b[0;36mCountVectorizer.fit_transform\u001b[0;34m(self, raw_documents, y)\u001b[0m\n\u001b[1;32m   1330\u001b[0m             warnings\u001b[38;5;241m.\u001b[39mwarn(\n\u001b[1;32m   1331\u001b[0m                 \u001b[38;5;124m\"\u001b[39m\u001b[38;5;124mUpper case characters found in\u001b[39m\u001b[38;5;124m\"\u001b[39m\n\u001b[1;32m   1332\u001b[0m                 \u001b[38;5;124m\"\u001b[39m\u001b[38;5;124m vocabulary while \u001b[39m\u001b[38;5;124m'\u001b[39m\u001b[38;5;124mlowercase\u001b[39m\u001b[38;5;124m'\u001b[39m\u001b[38;5;124m\"\u001b[39m\n\u001b[1;32m   1333\u001b[0m                 \u001b[38;5;124m\"\u001b[39m\u001b[38;5;124m is True. These entries will not\u001b[39m\u001b[38;5;124m\"\u001b[39m\n\u001b[1;32m   1334\u001b[0m                 \u001b[38;5;124m\"\u001b[39m\u001b[38;5;124m be matched with any documents\u001b[39m\u001b[38;5;124m\"\u001b[39m\n\u001b[1;32m   1335\u001b[0m             )\n\u001b[1;32m   1336\u001b[0m             \u001b[38;5;28;01mbreak\u001b[39;00m\n\u001b[0;32m-> 1338\u001b[0m vocabulary, X \u001b[38;5;241m=\u001b[39m \u001b[38;5;28;43mself\u001b[39;49m\u001b[38;5;241;43m.\u001b[39;49m\u001b[43m_count_vocab\u001b[49m\u001b[43m(\u001b[49m\u001b[43mraw_documents\u001b[49m\u001b[43m,\u001b[49m\u001b[43m \u001b[49m\u001b[38;5;28;43mself\u001b[39;49m\u001b[38;5;241;43m.\u001b[39;49m\u001b[43mfixed_vocabulary_\u001b[49m\u001b[43m)\u001b[49m\n\u001b[1;32m   1340\u001b[0m \u001b[38;5;28;01mif\u001b[39;00m \u001b[38;5;28mself\u001b[39m\u001b[38;5;241m.\u001b[39mbinary:\n\u001b[1;32m   1341\u001b[0m     X\u001b[38;5;241m.\u001b[39mdata\u001b[38;5;241m.\u001b[39mfill(\u001b[38;5;241m1\u001b[39m)\n",
            "File \u001b[0;32m~/cluster-env/env/lib/python3.10/site-packages/sklearn/feature_extraction/text.py:1207\u001b[0m, in \u001b[0;36mCountVectorizer._count_vocab\u001b[0;34m(self, raw_documents, fixed_vocab)\u001b[0m\n\u001b[1;32m   1205\u001b[0m values \u001b[38;5;241m=\u001b[39m _make_int_array()\n\u001b[1;32m   1206\u001b[0m indptr\u001b[38;5;241m.\u001b[39mappend(\u001b[38;5;241m0\u001b[39m)\n\u001b[0;32m-> 1207\u001b[0m \u001b[38;5;28;01mfor\u001b[39;00m doc \u001b[38;5;129;01min\u001b[39;00m raw_documents:\n\u001b[1;32m   1208\u001b[0m     feature_counter \u001b[38;5;241m=\u001b[39m {}\n\u001b[1;32m   1209\u001b[0m     \u001b[38;5;28;01mfor\u001b[39;00m feature \u001b[38;5;129;01min\u001b[39;00m analyze(doc):\n",
            "File \u001b[0;32m/opt/spark/python/lib/pyspark.zip/pyspark/sql/column.py:560\u001b[0m, in \u001b[0;36mColumn.__iter__\u001b[0;34m(self)\u001b[0m\n\u001b[1;32m    559\u001b[0m \u001b[38;5;28;01mdef\u001b[39;00m \u001b[38;5;21m__iter__\u001b[39m(\u001b[38;5;28mself\u001b[39m) \u001b[38;5;241m-\u001b[39m\u001b[38;5;241m>\u001b[39m \u001b[38;5;28;01mNone\u001b[39;00m:\n\u001b[0;32m--> 560\u001b[0m     \u001b[38;5;28;01mraise\u001b[39;00m \u001b[38;5;167;01mTypeError\u001b[39;00m(\u001b[38;5;124m\"\u001b[39m\u001b[38;5;124mColumn is not iterable\u001b[39m\u001b[38;5;124m\"\u001b[39m)\n",
            "\u001b[0;31mTypeError\u001b[0m: Column is not iterable"
          ]
        }
      ],
      "execution_count": 12,
      "metadata": {
        "jupyter": {
          "source_hidden": false,
          "outputs_hidden": false
        },
        "nteract": {
          "transient": {
            "deleting": false
          }
        },
        "gather": {
          "logged": 1733701350576
        }
      }
    },
    {
      "cell_type": "code",
      "source": [
        "import matplotlib.pyplot as plt\n",
        "# Plot the top 10 words by TF-IDF score\n",
        "plt.figure(figsize=(10, 6))\n",
        "plt.bar(tfidf_df['word'][:10], tfidf_df['tfidf'][:10], color='lightgreen')\n",
        "plt.title('Top 10 Words by TF-IDF')\n",
        "plt.xlabel('Word')\n",
        "plt.ylabel('TF-IDF Score')\n",
        "plt.xticks(rotation=45)\n",
        "plt.show()\n"
      ],
      "outputs": [
        {
          "output_type": "display_data",
          "data": {
            "application/vnd.livy.statement-meta+json": {
              "spark_pool": "ba5e360d-f184-47a0-9859-76b5031b79e3",
              "statement_id": 16,
              "statement_ids": [
                16
              ],
              "state": "finished",
              "livy_statement_state": "available",
              "spark_jobs": {
                "numbers": {
                  "FAILED": 0,
                  "RUNNING": 0,
                  "UNKNOWN": 0,
                  "SUCCEEDED": 0
                },
                "jobs": [],
                "limit": 20,
                "rule": "ALL_DESC"
              },
              "session_id": "51",
              "normalized_state": "finished",
              "queued_time": "2024-12-08T23:39:16.3365267Z",
              "session_start_time": null,
              "execution_start_time": "2024-12-08T23:39:16.4531153Z",
              "execution_finish_time": "2024-12-08T23:39:17.3103033Z",
              "parent_msg_id": "ba6575b6-7ebf-400e-8748-02351fd0dd18"
            },
            "text/plain": "StatementMeta(ba5e360d-f184-47a0-9859-76b5031b79e3, 51, 16, Finished, Available, Finished)"
          },
          "metadata": {}
        },
        {
          "output_type": "stream",
          "name": "stderr",
          "text": "/tmp/ipykernel_13514/2996807760.py:4: FutureWarning: The behavior of `series[i:j]` with an integer-dtype index is deprecated. In a future version, this will be treated as *label-based* indexing, consistent with e.g. `series[i]` lookups. To retain the old behavior, use `series.iloc[i:j]`. To get the future behavior, use `series.loc[i:j]`.\n  plt.bar(tfidf_df['word'][:10], tfidf_df['tfidf'][:10], color='lightgreen')\n"
        },
        {
          "output_type": "display_data",
          "data": {
            "text/plain": "<Figure size 1000x600 with 1 Axes>",
            "image/png": "[encoded data removed]"
          },
          "metadata": {}
        }
      ],
      "execution_count": 11,
      "metadata": {
        "jupyter": {
          "source_hidden": false,
          "outputs_hidden": false
        },
        "nteract": {
          "transient": {
            "deleting": false
          }
        },
        "gather": {
          "logged": 1733701157426
        }
      }
    }
  ],
  "metadata": {
    "kernelspec": {
      "name": "synapse_pyspark",
      "language": "Python",
      "display_name": "Synapse PySpark"
    },
    "language_info": {
      "name": "python",
      "version": "3.8.0",
      "mimetype": "text/x-python",
      "file_extension": ".py",
      "pygments_lexer": "ipython",
      "codemirror_mode": "ipython",
      "nbconvert_exporter": "python"
    },
    "microsoft": {
      "ms_spell_check": {
        "ms_spell_check_language": "en"
      },
      "host": {
        "AzureML": {
          "notebookHasBeenCompleted": true
        }
      }
    },
    "kernel_info": {
      "name": "synapse_pyspark"
    },
    "nteract": {
      "version": "nteract-front-end@1.0.0"
    }
  },
  "nbformat": 4,
  "nbformat_minor": 2
}