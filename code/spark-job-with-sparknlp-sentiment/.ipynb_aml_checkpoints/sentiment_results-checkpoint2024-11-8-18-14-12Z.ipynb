{
  "cells": [
    {
      "cell_type": "markdown",
      "source": [
        "# Review the Results of the NLP Pretrained Model\n",
        "\n",
        "This model is very basic, but this folder shows you how to create an NLP pipeline with a pretrained model.\n",
        "\n",
        "The .py file saved the results to a parquet that is stored in our container. We are reading it back here to review."
      ],
      "metadata": {
        "nteract": {
          "transient": {
            "deleting": false
          }
        }
      }
    },
    {
      "cell_type": "code",
      "source": [
        "spark"
      ],
      "outputs": [
        {
          "output_type": "display_data",
          "data": {
            "application/vnd.livy.statement-meta+json": {
              "spark_pool": "ba5e360d-f184-47a0-9859-76b5031b79e3",
              "statement_id": 7,
              "statement_ids": [
                7
              ],
              "state": "finished",
              "livy_statement_state": "available",
              "spark_jobs": {
                "numbers": {
                  "FAILED": 0,
                  "RUNNING": 0,
                  "UNKNOWN": 0,
                  "SUCCEEDED": 0
                },
                "jobs": [],
                "limit": 20,
                "rule": "ALL_DESC"
              },
              "session_id": "41",
              "normalized_state": "finished",
              "queued_time": "2024-12-08T18:12:28.8965083Z",
              "session_start_time": null,
              "execution_start_time": "2024-12-08T18:12:29.0808697Z",
              "execution_finish_time": "2024-12-08T18:12:29.4140321Z",
              "parent_msg_id": "7362261a-0bee-40d7-8a4e-df89b647d039"
            },
            "text/plain": "StatementMeta(ba5e360d-f184-47a0-9859-76b5031b79e3, 41, 7, Finished, Available, Finished)"
          },
          "metadata": {}
        },
        {
          "output_type": "execute_result",
          "execution_count": 13,
          "data": {
            "text/plain": "<pyspark.sql.session.SparkSession at 0x7fa3c04fc880>",
            "text/html": "\n            <div>\n                <p><b>SparkSession - hive</b></p>\n                \n        <div>\n            <p><b>SparkContext</b></p>\n\n            <p><a href=\"http://vm-75159785:38673\">Spark UI</a></p>\n\n            <dl>\n              <dt>Version</dt>\n                <dd><code>v3.3.1.5.2.20240522.3</code></dd>\n              <dt>Master</dt>\n                <dd><code>yarn</code></dd>\n              <dt>AppName</dt>\n                <dd><code>Azure ML Experiment</code></dd>\n            </dl>\n        </div>\n        \n            </div>\n        "
          },
          "metadata": {}
        }
      ],
      "execution_count": 2,
      "metadata": {
        "gather": {
          "logged": 1733681549500
        }
      }
    },
    {
      "cell_type": "code",
      "source": [
        "workspace_default_storage_account = \"projectgstoragedfb938a3e\"\n",
        "workspace_default_container = \"azureml-blobstore-becc8696-e562-432e-af12-8a5e3e1f9b0f\"\n",
        "workspace_wasbs_base_url = f\"wasbs://{workspace_default_container}@{workspace_default_storage_account}.blob.core.windows.net/\"\n",
        "\n",
        "# the parquet path again\n",
        "output_path = f\"{workspace_wasbs_base_url}nlp_result_sample_submissions.parquet\"\n",
        "\n",
        "# Read the Parquet file back into a dataframe\n",
        "df_read_back = spark.read.parquet(output_path)\n",
        "\n",
        "# Show first 5 rows\n",
        "df_read_back.show(5)"
      ],
      "outputs": [
        {
          "output_type": "display_data",
          "data": {
            "application/vnd.livy.statement-meta+json": {
              "spark_pool": "ba5e360d-f184-47a0-9859-76b5031b79e3",
              "statement_id": 8,
              "statement_ids": [
                8
              ],
              "state": "finished",
              "livy_statement_state": "available",
              "spark_jobs": {
                "numbers": {
                  "FAILED": 0,
                  "RUNNING": 0,
                  "UNKNOWN": 0,
                  "SUCCEEDED": 2
                },
                "jobs": [
                  {
                    "displayName": "showString at NativeMethodAccessorImpl.java:0",
                    "dataWritten": 0,
                    "dataRead": 736376,
                    "rowCount": 6,
                    "usageDescription": "",
                    "jobId": 1,
                    "name": "showString at NativeMethodAccessorImpl.java:0",
                    "description": "Job group for statement 8:\nworkspace_default_storage_account = \"projectgstoragedfb938a3e\"\nworkspace_default_container = \"azureml-blobstore-becc8696-e562-432e-af12-8a5e3e1f9b0f\"\nworkspace_wasbs_base_url = f\"wasbs://{workspace_default_container}@{workspace_default_storage_account}.blob.core.windows.net/\"\n\n# the parquet path again\noutput_path = f\"{workspace_wasbs_base_url}nlp_result_sample_submissions.parquet\"\n\n# Read the Parquet file back into a dataframe\ndf_read_back = spark.read.parquet(output_path)\n\n# Show first 5 rows\ndf_read_back.show(5)",
                    "submissionTime": "2024-12-08T18:12:44.133GMT",
                    "completionTime": "2024-12-08T18:12:52.581GMT",
                    "stageIds": [
                      1
                    ],
                    "jobGroup": "8",
                    "status": "SUCCEEDED",
                    "numTasks": 1,
                    "numActiveTasks": 0,
                    "numCompletedTasks": 1,
                    "numSkippedTasks": 0,
                    "numFailedTasks": 0,
                    "numKilledTasks": 0,
                    "numCompletedIndices": 1,
                    "numActiveStages": 0,
                    "numCompletedStages": 1,
                    "numSkippedStages": 0,
                    "numFailedStages": 0,
                    "killedTasksSummary": {}
                  },
                  {
                    "displayName": "parquet at NativeMethodAccessorImpl.java:0",
                    "dataWritten": 0,
                    "dataRead": 0,
                    "rowCount": 0,
                    "usageDescription": "",
                    "jobId": 0,
                    "name": "parquet at NativeMethodAccessorImpl.java:0",
                    "description": "Job group for statement 8:\nworkspace_default_storage_account = \"projectgstoragedfb938a3e\"\nworkspace_default_container = \"azureml-blobstore-becc8696-e562-432e-af12-8a5e3e1f9b0f\"\nworkspace_wasbs_base_url = f\"wasbs://{workspace_default_container}@{workspace_default_storage_account}.blob.core.windows.net/\"\n\n# the parquet path again\noutput_path = f\"{workspace_wasbs_base_url}nlp_result_sample_submissions.parquet\"\n\n# Read the Parquet file back into a dataframe\ndf_read_back = spark.read.parquet(output_path)\n\n# Show first 5 rows\ndf_read_back.show(5)",
                    "submissionTime": "2024-12-08T18:12:34.398GMT",
                    "completionTime": "2024-12-08T18:12:40.603GMT",
                    "stageIds": [
                      0
                    ],
                    "jobGroup": "8",
                    "status": "SUCCEEDED",
                    "numTasks": 1,
                    "numActiveTasks": 0,
                    "numCompletedTasks": 1,
                    "numSkippedTasks": 0,
                    "numFailedTasks": 0,
                    "numKilledTasks": 0,
                    "numCompletedIndices": 1,
                    "numActiveStages": 0,
                    "numCompletedStages": 1,
                    "numSkippedStages": 0,
                    "numFailedStages": 0,
                    "killedTasksSummary": {}
                  }
                ],
                "limit": 20,
                "rule": "ALL_DESC"
              },
              "session_id": "41",
              "normalized_state": "finished",
              "queued_time": "2024-12-08T18:12:33.1487901Z",
              "session_start_time": null,
              "execution_start_time": "2024-12-08T18:12:33.2636538Z",
              "execution_finish_time": "2024-12-08T18:12:54.2363769Z",
              "parent_msg_id": "e43b19e2-5e2c-4686-8d8f-90df9390e94b"
            },
            "text/plain": "StatementMeta(ba5e360d-f184-47a0-9859-76b5031b79e3, 41, 8, Finished, Available, Finished)"
          },
          "metadata": {}
        },
        {
          "output_type": "stream",
          "name": "stdout",
          "text": "+--------------------+--------------------+--------------------+--------------------+--------------------+--------------------+--------------------+--------------------+\n|                text|            document|            sentence|               token|               spell|              lemmas|               stems|                 pos|\n+--------------------+--------------------+--------------------+--------------------+--------------------+--------------------+--------------------+--------------------+\n|Hi, I hope this i...|[{document, 0, 85...|[{document, 0, 23...|[{token, 0, 1, Hi...|[{token, 0, 1, Hi...|[{token, 0, 1, Hi...|[{token, 0, 1, hi...|[{pos, 0, 1, NNP,...|\n|33 male, i have d...|[{document, 0, 27...|[{document, 0, 68...|[{token, 0, 1, 33...|[{token, 0, 1, 33...|[{token, 0, 1, 33...|[{token, 0, 1, 33...|[{pos, 0, 1, CD, ...|\n|           [removed]|[{document, 0, 8,...|[{document, 0, 8,...|[{token, 0, 8, [r...|[{token, 0, 8, [r...|[{token, 0, 8, [r...|[{token, 0, 8, [r...|[{pos, 0, 8, NN, ...|\n|           [removed]|[{document, 0, 8,...|[{document, 0, 8,...|[{token, 0, 8, [r...|[{token, 0, 8, [r...|[{token, 0, 8, [r...|[{token, 0, 8, [r...|[{pos, 0, 8, NN, ...|\n|83F, Cancer dx (u...|[{document, 0, 27...|[{document, 0, 16...|[{token, 0, 2, 83...|[{token, 0, 2, 83...|[{token, 0, 2, 83...|[{token, 0, 2, 83...|[{pos, 0, 2, CD, ...|\n+--------------------+--------------------+--------------------+--------------------+--------------------+--------------------+--------------------+--------------------+\nonly showing top 5 rows\n\n"
        }
      ],
      "execution_count": 3,
      "metadata": {
        "jupyter": {
          "source_hidden": false,
          "outputs_hidden": false
        },
        "nteract": {
          "transient": {
            "deleting": false
          }
        },
        "gather": {
          "logged": 1733681574371
        }
      }
    },
    {
      "cell_type": "code",
      "source": [
        "output_path = f\"{workspace_wasbs_base_url}cancer_subreddit_sentiment.parquet\"\n",
        "# Read the Parquet file back into a dataframe\n",
        "df_read_back = spark.read.parquet(output_path)\n",
        "\n",
        "# Show first 5 rows\n",
        "df_read_back.show(5)\n",
        "df_read_back.printSchema()"
      ],
      "outputs": [
        {
          "output_type": "display_data",
          "data": {
            "application/vnd.livy.statement-meta+json": {
              "spark_pool": "ba5e360d-f184-47a0-9859-76b5031b79e3",
              "statement_id": 9,
              "statement_ids": [
                9
              ],
              "state": "finished",
              "livy_statement_state": "available",
              "spark_jobs": {
                "numbers": {
                  "FAILED": 0,
                  "RUNNING": 0,
                  "UNKNOWN": 0,
                  "SUCCEEDED": 3
                },
                "jobs": [
                  {
                    "displayName": "showString at NativeMethodAccessorImpl.java:0",
                    "dataWritten": 0,
                    "dataRead": 12356799,
                    "rowCount": 6,
                    "usageDescription": "",
                    "jobId": 4,
                    "name": "showString at NativeMethodAccessorImpl.java:0",
                    "description": "Job group for statement 9:\noutput_path = f\"{workspace_wasbs_base_url}cancer_subreddit_sentiment.parquet\"\n# Read the Parquet file back into a dataframe\ndf_read_back = spark.read.parquet(output_path)\n\n# Show first 5 rows\ndf_read_back.show(5)\ndf_read_back.printSchema()",
                    "submissionTime": "2024-12-08T18:13:02.131GMT",
                    "completionTime": "2024-12-08T18:13:05.684GMT",
                    "stageIds": [
                      4
                    ],
                    "jobGroup": "9",
                    "status": "SUCCEEDED",
                    "numTasks": 2,
                    "numActiveTasks": 0,
                    "numCompletedTasks": 2,
                    "numSkippedTasks": 0,
                    "numFailedTasks": 0,
                    "numKilledTasks": 0,
                    "numCompletedIndices": 2,
                    "numActiveStages": 0,
                    "numCompletedStages": 1,
                    "numSkippedStages": 0,
                    "numFailedStages": 0,
                    "killedTasksSummary": {}
                  },
                  {
                    "displayName": "showString at NativeMethodAccessorImpl.java:0",
                    "dataWritten": 0,
                    "dataRead": 22508,
                    "rowCount": 0,
                    "usageDescription": "",
                    "jobId": 3,
                    "name": "showString at NativeMethodAccessorImpl.java:0",
                    "description": "Job group for statement 9:\noutput_path = f\"{workspace_wasbs_base_url}cancer_subreddit_sentiment.parquet\"\n# Read the Parquet file back into a dataframe\ndf_read_back = spark.read.parquet(output_path)\n\n# Show first 5 rows\ndf_read_back.show(5)\ndf_read_back.printSchema()",
                    "submissionTime": "2024-12-08T18:13:01.654GMT",
                    "completionTime": "2024-12-08T18:13:02.121GMT",
                    "stageIds": [
                      3
                    ],
                    "jobGroup": "9",
                    "status": "SUCCEEDED",
                    "numTasks": 1,
                    "numActiveTasks": 0,
                    "numCompletedTasks": 1,
                    "numSkippedTasks": 0,
                    "numFailedTasks": 0,
                    "numKilledTasks": 0,
                    "numCompletedIndices": 1,
                    "numActiveStages": 0,
                    "numCompletedStages": 1,
                    "numSkippedStages": 0,
                    "numFailedStages": 0,
                    "killedTasksSummary": {}
                  },
                  {
                    "displayName": "parquet at NativeMethodAccessorImpl.java:0",
                    "dataWritten": 0,
                    "dataRead": 0,
                    "rowCount": 0,
                    "usageDescription": "",
                    "jobId": 2,
                    "name": "parquet at NativeMethodAccessorImpl.java:0",
                    "description": "Job group for statement 9:\noutput_path = f\"{workspace_wasbs_base_url}cancer_subreddit_sentiment.parquet\"\n# Read the Parquet file back into a dataframe\ndf_read_back = spark.read.parquet(output_path)\n\n# Show first 5 rows\ndf_read_back.show(5)\ndf_read_back.printSchema()",
                    "submissionTime": "2024-12-08T18:13:00.884GMT",
                    "completionTime": "2024-12-08T18:13:01.274GMT",
                    "stageIds": [
                      2
                    ],
                    "jobGroup": "9",
                    "status": "SUCCEEDED",
                    "numTasks": 1,
                    "numActiveTasks": 0,
                    "numCompletedTasks": 1,
                    "numSkippedTasks": 0,
                    "numFailedTasks": 0,
                    "numKilledTasks": 0,
                    "numCompletedIndices": 1,
                    "numActiveStages": 0,
                    "numCompletedStages": 1,
                    "numSkippedStages": 0,
                    "numFailedStages": 0,
                    "killedTasksSummary": {}
                  }
                ],
                "limit": 20,
                "rule": "ALL_DESC"
              },
              "session_id": "41",
              "normalized_state": "finished",
              "queued_time": "2024-12-08T18:13:00.5753442Z",
              "session_start_time": null,
              "execution_start_time": "2024-12-08T18:13:00.7159297Z",
              "execution_finish_time": "2024-12-08T18:13:07.1187868Z",
              "parent_msg_id": "fd87e874-a15b-4919-b862-5c93e491190d"
            },
            "text/plain": "StatementMeta(ba5e360d-f184-47a0-9859-76b5031b79e3, 41, 9, Finished, Available, Finished)"
          },
          "metadata": {}
        },
        {
          "output_type": "stream",
          "name": "stdout",
          "text": "+--------------------+--------------------+--------------------+--------------------+--------------------+--------------------+\n|                text|            document|            sentence|               token|             checked|           sentiment|\n+--------------------+--------------------+--------------------+--------------------+--------------------+--------------------+\n|Check out Northsi...|[{document, 0, 26...|[{document, 0, 85...|[{token, 0, 4, Ch...|[{token, 0, 4, Ch...|[{sentiment, 0, 8...|\n|I had something s...|[{document, 0, 22...|[{document, 0, 67...|[{token, 0, 0, I,...|[{token, 0, 0, I,...|[{sentiment, 0, 6...|\n|That's an insulti...|[{document, 0, 22...|[{document, 0, 40...|[{token, 0, 5, Th...|[{token, 0, 5, th...|[{sentiment, 0, 4...|\n|Yeah sorry, it wa...|[{document, 0, 84...|[{document, 0, 29...|[{token, 0, 3, Ye...|[{token, 0, 3, Ye...|[{sentiment, 0, 2...|\n|I see my colorect...|[{document, 0, 65...|[{document, 0, 31...|[{token, 0, 0, I,...|[{token, 0, 0, I,...|[{sentiment, 0, 3...|\n+--------------------+--------------------+--------------------+--------------------+--------------------+--------------------+\nonly showing top 5 rows\n\nroot\n |-- text: string (nullable = true)\n |-- document: array (nullable = true)\n |    |-- element: struct (containsNull = true)\n |    |    |-- annotatorType: string (nullable = true)\n |    |    |-- begin: integer (nullable = true)\n |    |    |-- end: integer (nullable = true)\n |    |    |-- result: string (nullable = true)\n |    |    |-- metadata: map (nullable = true)\n |    |    |    |-- key: string\n |    |    |    |-- value: string (valueContainsNull = true)\n |    |    |-- embeddings: array (nullable = true)\n |    |    |    |-- element: float (containsNull = true)\n |-- sentence: array (nullable = true)\n |    |-- element: struct (containsNull = true)\n |    |    |-- annotatorType: string (nullable = true)\n |    |    |-- begin: integer (nullable = true)\n |    |    |-- end: integer (nullable = true)\n |    |    |-- result: string (nullable = true)\n |    |    |-- metadata: map (nullable = true)\n |    |    |    |-- key: string\n |    |    |    |-- value: string (valueContainsNull = true)\n |    |    |-- embeddings: array (nullable = true)\n |    |    |    |-- element: float (containsNull = true)\n |-- token: array (nullable = true)\n |    |-- element: struct (containsNull = true)\n |    |    |-- annotatorType: string (nullable = true)\n |    |    |-- begin: integer (nullable = true)\n |    |    |-- end: integer (nullable = true)\n |    |    |-- result: string (nullable = true)\n |    |    |-- metadata: map (nullable = true)\n |    |    |    |-- key: string\n |    |    |    |-- value: string (valueContainsNull = true)\n |    |    |-- embeddings: array (nullable = true)\n |    |    |    |-- element: float (containsNull = true)\n |-- checked: array (nullable = true)\n |    |-- element: struct (containsNull = true)\n |    |    |-- annotatorType: string (nullable = true)\n |    |    |-- begin: integer (nullable = true)\n |    |    |-- end: integer (nullable = true)\n |    |    |-- result: string (nullable = true)\n |    |    |-- metadata: map (nullable = true)\n |    |    |    |-- key: string\n |    |    |    |-- value: string (valueContainsNull = true)\n |    |    |-- embeddings: array (nullable = true)\n |    |    |    |-- element: float (containsNull = true)\n |-- sentiment: array (nullable = true)\n |    |-- element: struct (containsNull = true)\n |    |    |-- annotatorType: string (nullable = true)\n |    |    |-- begin: integer (nullable = true)\n |    |    |-- end: integer (nullable = true)\n |    |    |-- result: string (nullable = true)\n |    |    |-- metadata: map (nullable = true)\n |    |    |    |-- key: string\n |    |    |    |-- value: string (valueContainsNull = true)\n |    |    |-- embeddings: array (nullable = true)\n |    |    |    |-- element: float (containsNull = true)\n\n"
        }
      ],
      "execution_count": 4,
      "metadata": {
        "jupyter": {
          "source_hidden": false,
          "outputs_hidden": false
        },
        "nteract": {
          "transient": {
            "deleting": false
          }
        },
        "gather": {
          "logged": 1733681587203
        }
      }
    },
    {
      "cell_type": "code",
      "source": [
        "from pyspark.sql import functions as F\n",
        "df_flat = df_read_back.withColumn(\"sentiment_result\", F.explode(F.col(\"sentiment\"))) \\\n",
        "            .select(\"text\", \"sentiment_result.result\")\n",
        "\n",
        "# Show the results\n",
        "df_flat.show(truncate=False)"
      ],
      "outputs": [
        {
          "output_type": "display_data",
          "data": {
            "application/vnd.livy.statement-meta+json": {
              "spark_pool": "ba5e360d-f184-47a0-9859-76b5031b79e3",
              "statement_id": 9,
              "statement_ids": [
                9
              ],
              "state": "finished",
              "livy_statement_state": "available",
              "spark_jobs": {
                "numbers": {
                  "UNKNOWN": 0,
                  "SUCCEEDED": 2,
                  "FAILED": 0,
                  "RUNNING": 0
                },
                "jobs": [
                  {
                    "displayName": "showString at NativeMethodAccessorImpl.java:0",
                    "dataWritten": 0,
                    "dataRead": 1731073,
                    "rowCount": 1,
                    "usageDescription": "",
                    "jobId": 6,
                    "name": "showString at NativeMethodAccessorImpl.java:0",
                    "description": "Job group for statement 9:\nfrom pyspark.sql import functions as F\ndf_flat = df_read_back.withColumn(\"sentiment_result\", F.explode(F.col(\"sentiment\")))             .select(\"text\", \"sentiment_result.result\")\n\n# Show the results\ndf_flat.show(truncate=False)",
                    "submissionTime": "2024-12-08T06:16:50.905GMT",
                    "completionTime": "2024-12-08T06:16:51.591GMT",
                    "stageIds": [
                      6
                    ],
                    "jobGroup": "9",
                    "status": "SUCCEEDED",
                    "numTasks": 2,
                    "numActiveTasks": 0,
                    "numCompletedTasks": 2,
                    "numSkippedTasks": 0,
                    "numFailedTasks": 0,
                    "numKilledTasks": 0,
                    "numCompletedIndices": 2,
                    "numActiveStages": 0,
                    "numCompletedStages": 1,
                    "numSkippedStages": 0,
                    "numFailedStages": 0,
                    "killedTasksSummary": {}
                  },
                  {
                    "displayName": "showString at NativeMethodAccessorImpl.java:0",
                    "dataWritten": 0,
                    "dataRead": 11254,
                    "rowCount": 0,
                    "usageDescription": "",
                    "jobId": 5,
                    "name": "showString at NativeMethodAccessorImpl.java:0",
                    "description": "Job group for statement 9:\nfrom pyspark.sql import functions as F\ndf_flat = df_read_back.withColumn(\"sentiment_result\", F.explode(F.col(\"sentiment\")))             .select(\"text\", \"sentiment_result.result\")\n\n# Show the results\ndf_flat.show(truncate=False)",
                    "submissionTime": "2024-12-08T06:16:50.506GMT",
                    "completionTime": "2024-12-08T06:16:50.887GMT",
                    "stageIds": [
                      5
                    ],
                    "jobGroup": "9",
                    "status": "SUCCEEDED",
                    "numTasks": 1,
                    "numActiveTasks": 0,
                    "numCompletedTasks": 1,
                    "numSkippedTasks": 0,
                    "numFailedTasks": 0,
                    "numKilledTasks": 0,
                    "numCompletedIndices": 1,
                    "numActiveStages": 0,
                    "numCompletedStages": 1,
                    "numSkippedStages": 0,
                    "numFailedStages": 0,
                    "killedTasksSummary": {}
                  }
                ],
                "limit": 20,
                "rule": "ALL_DESC"
              },
              "session_id": "39",
              "normalized_state": "finished",
              "queued_time": "2024-12-08T06:16:49.8523846Z",
              "session_start_time": null,
              "execution_start_time": "2024-12-08T06:16:49.9848829Z",
              "execution_finish_time": "2024-12-08T06:16:52.4689145Z",
              "parent_msg_id": "7051f3bf-e7d6-4941-bb0c-694c6afa1a5d"
            },
            "text/plain": "StatementMeta(ba5e360d-f184-47a0-9859-76b5031b79e3, 39, 9, Finished, Available, Finished)"
          },
          "metadata": {}
        },
        {
          "output_type": "stream",
          "name": "stdout",
          "text": "+--------------------------------------------------------------------------------------------------------------------------------------------------------------------------------------------------------------------------------------------------------------------------------------------------------------------------------------------------------------------------------------------------------------------------------------------------------------------------------------------------------------------------------------------------------------------------------------------------------------------------------------------------------------------------------------------------------------------------------------------------------------------------------------------------------------------------------------------------------------------------------------------------------------------------------------------------------------------------------------------------------------------------------------------------------------------------------------------------------------------------------------------------------------------------------------------------------------------------------------------------------------------------------------------------------------------------------------------------------------------------------------------------------------------------------------------------------------------------------------------------------------------------------------------------------------------------------------------------------------------------------------------------------------------------------------------------------------------------------------------------------------------------------------------------------------------------------------------------------------------------------------------------------------------------------------------------------------------------------------------------------------------------------------------------------------------------------------------------------------------------------------------------------------------------------------------------------------------------------------------------------------------------------------------------------------------------------------------------------------------------------------------------------------------------------------------------------------------------------------------------------------------------------------------------------------------------------------------------------------------------------------------------------------------------------------------------------------------------------------------------------------------------------------------+--------+\n|text                                                                                                                                                                                                                                                                                                                                                                                                                                                                                                                                                                                                                                                                                                                                                                                                                                                                                                                                                                                                                                                                                                                                                                                                                                                                                                                                                                                                                                                                                                                                                                                                                                                                                                                                                                                                                                                                                                                                                                                                                                                                                                                                                                                                                                                                                                                                                                                                                                                                                                                                                                                                                                                                                                                                                                                        |result  |\n+--------------------------------------------------------------------------------------------------------------------------------------------------------------------------------------------------------------------------------------------------------------------------------------------------------------------------------------------------------------------------------------------------------------------------------------------------------------------------------------------------------------------------------------------------------------------------------------------------------------------------------------------------------------------------------------------------------------------------------------------------------------------------------------------------------------------------------------------------------------------------------------------------------------------------------------------------------------------------------------------------------------------------------------------------------------------------------------------------------------------------------------------------------------------------------------------------------------------------------------------------------------------------------------------------------------------------------------------------------------------------------------------------------------------------------------------------------------------------------------------------------------------------------------------------------------------------------------------------------------------------------------------------------------------------------------------------------------------------------------------------------------------------------------------------------------------------------------------------------------------------------------------------------------------------------------------------------------------------------------------------------------------------------------------------------------------------------------------------------------------------------------------------------------------------------------------------------------------------------------------------------------------------------------------------------------------------------------------------------------------------------------------------------------------------------------------------------------------------------------------------------------------------------------------------------------------------------------------------------------------------------------------------------------------------------------------------------------------------------------------------------------------------------------------+--------+\n|Check out Northside Hospital -Atlanta, Piedmont Atlanta and Emory University Hospital. All good quality and Northside is always awarded \"best places to work\" nationally. I have some friends that joined their Choice+ program in the past year which is basically an internal agency cont act and can get pretty lucrative and you're a hospital employee so get healthcare and are eligible for their pension. Heard the charting and audits of charting suck though. Mid to upper $30's- high $40's I believe is average. Their Choice+ can be up in the $60-70s if in the right specialty \\n\\nPiedmont Atlanta just opened up a new CVICU and has recently expanded it's transplant services. I know over the winter they had sign on bonuses still to get the new units up and running.\\n\\nEmory has always been known for good neurology/neurosurgery services. Otherwise specialties are at least average if not better than. \\n\\nGrady for trauma and I heard they are paying around $50/hr in some unit,  but that's hearsay and haven't confirmed. I used to work there and it's exciting and great experience but hard work. They used to not pay so well but apparently are paying better now at least. \\n\\nWellstar Kennestone or Gwinnett are decent places. Northeast GA if you want to be a little further north of the city.\\n\\nI'm at a nonprofit private hospital that I'd rather name privately but if you're interested would be happy to share via DM. We have set schedules. No weekend commitment or you work weekends but not both typically unless desired that way. If you're not weekends the only weekends you'll ever work is potentially during 3 weeks of holiday schedule. I'm part time float now here and choose to work a weekend day for childcare reasons and get paid $56.49/hr, and $61.49 on my weekend day. Get an annual bonus and 50% 403b matching with no % salary cap. Only capped by IRS contribution limits. Just came off a PRN internal contract in the ICU where I was making $75.50/hr for weekend dayshift. \\n\\nI'm north of ATL in a good area. Typically north of I-20 is better than south. In the city I can't speak to, never lived in the city but it's mixed. Some great, some horrible. Outside the city look at Marietta, Kennesaw, Vinings, Alpharetta, Canton, Roswell, Woodstock, and Duluth. Going west of the city outside the perimeter turns very country very quickly. Land and farm, but worse schools. Going east has some bad areas and gets more rural but has some good spots too\\n\\nI grew up south of ATL. It's generally pretty country further out and population growth is still booming. Some bad spots too though and closer to the city are some dangerous areas littered with crime and gang activity.|negative|\n|Check out Northside Hospital -Atlanta, Piedmont Atlanta and Emory University Hospital. All good quality and Northside is always awarded \"best places to work\" nationally. I have some friends that joined their Choice+ program in the past year which is basically an internal agency cont act and can get pretty lucrative and you're a hospital employee so get healthcare and are eligible for their pension. Heard the charting and audits of charting suck though. Mid to upper $30's- high $40's I believe is average. Their Choice+ can be up in the $60-70s if in the right specialty \\n\\nPiedmont Atlanta just opened up a new CVICU and has recently expanded it's transplant services. I know over the winter they had sign on bonuses still to get the new units up and running.\\n\\nEmory has always been known for good neurology/neurosurgery services. Otherwise specialties are at least average if not better than. \\n\\nGrady for trauma and I heard they are paying around $50/hr in some unit,  but that's hearsay and haven't confirmed. I used to work there and it's exciting and great experience but hard work. They used to not pay so well but apparently are paying better now at least. \\n\\nWellstar Kennestone or Gwinnett are decent places. Northeast GA if you want to be a little further north of the city.\\n\\nI'm at a nonprofit private hospital that I'd rather name privately but if you're interested would be happy to share via DM. We have set schedules. No weekend commitment or you work weekends but not both typically unless desired that way. If you're not weekends the only weekends you'll ever work is potentially during 3 weeks of holiday schedule. I'm part time float now here and choose to work a weekend day for childcare reasons and get paid $56.49/hr, and $61.49 on my weekend day. Get an annual bonus and 50% 403b matching with no % salary cap. Only capped by IRS contribution limits. Just came off a PRN internal contract in the ICU where I was making $75.50/hr for weekend dayshift. \\n\\nI'm north of ATL in a good area. Typically north of I-20 is better than south. In the city I can't speak to, never lived in the city but it's mixed. Some great, some horrible. Outside the city look at Marietta, Kennesaw, Vinings, Alpharetta, Canton, Roswell, Woodstock, and Duluth. Going west of the city outside the perimeter turns very country very quickly. Land and farm, but worse schools. Going east has some bad areas and gets more rural but has some good spots too\\n\\nI grew up south of ATL. It's generally pretty country further out and population growth is still booming. Some bad spots too though and closer to the city are some dangerous areas littered with crime and gang activity.|negative|\n|Check out Northside Hospital -Atlanta, Piedmont Atlanta and Emory University Hospital. All good quality and Northside is always awarded \"best places to work\" nationally. I have some friends that joined their Choice+ program in the past year which is basically an internal agency cont act and can get pretty lucrative and you're a hospital employee so get healthcare and are eligible for their pension. Heard the charting and audits of charting suck though. Mid to upper $30's- high $40's I believe is average. Their Choice+ can be up in the $60-70s if in the right specialty \\n\\nPiedmont Atlanta just opened up a new CVICU and has recently expanded it's transplant services. I know over the winter they had sign on bonuses still to get the new units up and running.\\n\\nEmory has always been known for good neurology/neurosurgery services. Otherwise specialties are at least average if not better than. \\n\\nGrady for trauma and I heard they are paying around $50/hr in some unit,  but that's hearsay and haven't confirmed. I used to work there and it's exciting and great experience but hard work. They used to not pay so well but apparently are paying better now at least. \\n\\nWellstar Kennestone or Gwinnett are decent places. Northeast GA if you want to be a little further north of the city.\\n\\nI'm at a nonprofit private hospital that I'd rather name privately but if you're interested would be happy to share via DM. We have set schedules. No weekend commitment or you work weekends but not both typically unless desired that way. If you're not weekends the only weekends you'll ever work is potentially during 3 weeks of holiday schedule. I'm part time float now here and choose to work a weekend day for childcare reasons and get paid $56.49/hr, and $61.49 on my weekend day. Get an annual bonus and 50% 403b matching with no % salary cap. Only capped by IRS contribution limits. Just came off a PRN internal contract in the ICU where I was making $75.50/hr for weekend dayshift. \\n\\nI'm north of ATL in a good area. Typically north of I-20 is better than south. In the city I can't speak to, never lived in the city but it's mixed. Some great, some horrible. Outside the city look at Marietta, Kennesaw, Vinings, Alpharetta, Canton, Roswell, Woodstock, and Duluth. Going west of the city outside the perimeter turns very country very quickly. Land and farm, but worse schools. Going east has some bad areas and gets more rural but has some good spots too\\n\\nI grew up south of ATL. It's generally pretty country further out and population growth is still booming. Some bad spots too though and closer to the city are some dangerous areas littered with crime and gang activity.|positive|\n|Check out Northside Hospital -Atlanta, Piedmont Atlanta and Emory University Hospital. All good quality and Northside is always awarded \"best places to work\" nationally. I have some friends that joined their Choice+ program in the past year which is basically an internal agency cont act and can get pretty lucrative and you're a hospital employee so get healthcare and are eligible for their pension. Heard the charting and audits of charting suck though. Mid to upper $30's- high $40's I believe is average. Their Choice+ can be up in the $60-70s if in the right specialty \\n\\nPiedmont Atlanta just opened up a new CVICU and has recently expanded it's transplant services. I know over the winter they had sign on bonuses still to get the new units up and running.\\n\\nEmory has always been known for good neurology/neurosurgery services. Otherwise specialties are at least average if not better than. \\n\\nGrady for trauma and I heard they are paying around $50/hr in some unit,  but that's hearsay and haven't confirmed. I used to work there and it's exciting and great experience but hard work. They used to not pay so well but apparently are paying better now at least. \\n\\nWellstar Kennestone or Gwinnett are decent places. Northeast GA if you want to be a little further north of the city.\\n\\nI'm at a nonprofit private hospital that I'd rather name privately but if you're interested would be happy to share via DM. We have set schedules. No weekend commitment or you work weekends but not both typically unless desired that way. If you're not weekends the only weekends you'll ever work is potentially during 3 weeks of holiday schedule. I'm part time float now here and choose to work a weekend day for childcare reasons and get paid $56.49/hr, and $61.49 on my weekend day. Get an annual bonus and 50% 403b matching with no % salary cap. Only capped by IRS contribution limits. Just came off a PRN internal contract in the ICU where I was making $75.50/hr for weekend dayshift. \\n\\nI'm north of ATL in a good area. Typically north of I-20 is better than south. In the city I can't speak to, never lived in the city but it's mixed. Some great, some horrible. Outside the city look at Marietta, Kennesaw, Vinings, Alpharetta, Canton, Roswell, Woodstock, and Duluth. Going west of the city outside the perimeter turns very country very quickly. Land and farm, but worse schools. Going east has some bad areas and gets more rural but has some good spots too\\n\\nI grew up south of ATL. It's generally pretty country further out and population growth is still booming. Some bad spots too though and closer to the city are some dangerous areas littered with crime and gang activity.|negative|\n|Check out Northside Hospital -Atlanta, Piedmont Atlanta and Emory University Hospital. All good quality and Northside is always awarded \"best places to work\" nationally. I have some friends that joined their Choice+ program in the past year which is basically an internal agency cont act and can get pretty lucrative and you're a hospital employee so get healthcare and are eligible for their pension. Heard the charting and audits of charting suck though. Mid to upper $30's- high $40's I believe is average. Their Choice+ can be up in the $60-70s if in the right specialty \\n\\nPiedmont Atlanta just opened up a new CVICU and has recently expanded it's transplant services. I know over the winter they had sign on bonuses still to get the new units up and running.\\n\\nEmory has always been known for good neurology/neurosurgery services. Otherwise specialties are at least average if not better than. \\n\\nGrady for trauma and I heard they are paying around $50/hr in some unit,  but that's hearsay and haven't confirmed. I used to work there and it's exciting and great experience but hard work. They used to not pay so well but apparently are paying better now at least. \\n\\nWellstar Kennestone or Gwinnett are decent places. Northeast GA if you want to be a little further north of the city.\\n\\nI'm at a nonprofit private hospital that I'd rather name privately but if you're interested would be happy to share via DM. We have set schedules. No weekend commitment or you work weekends but not both typically unless desired that way. If you're not weekends the only weekends you'll ever work is potentially during 3 weeks of holiday schedule. I'm part time float now here and choose to work a weekend day for childcare reasons and get paid $56.49/hr, and $61.49 on my weekend day. Get an annual bonus and 50% 403b matching with no % salary cap. Only capped by IRS contribution limits. Just came off a PRN internal contract in the ICU where I was making $75.50/hr for weekend dayshift. \\n\\nI'm north of ATL in a good area. Typically north of I-20 is better than south. In the city I can't speak to, never lived in the city but it's mixed. Some great, some horrible. Outside the city look at Marietta, Kennesaw, Vinings, Alpharetta, Canton, Roswell, Woodstock, and Duluth. Going west of the city outside the perimeter turns very country very quickly. Land and farm, but worse schools. Going east has some bad areas and gets more rural but has some good spots too\\n\\nI grew up south of ATL. It's generally pretty country further out and population growth is still booming. Some bad spots too though and closer to the city are some dangerous areas littered with crime and gang activity.|positive|\n|Check out Northside Hospital -Atlanta, Piedmont Atlanta and Emory University Hospital. All good quality and Northside is always awarded \"best places to work\" nationally. I have some friends that joined their Choice+ program in the past year which is basically an internal agency cont act and can get pretty lucrative and you're a hospital employee so get healthcare and are eligible for their pension. Heard the charting and audits of charting suck though. Mid to upper $30's- high $40's I believe is average. Their Choice+ can be up in the $60-70s if in the right specialty \\n\\nPiedmont Atlanta just opened up a new CVICU and has recently expanded it's transplant services. I know over the winter they had sign on bonuses still to get the new units up and running.\\n\\nEmory has always been known for good neurology/neurosurgery services. Otherwise specialties are at least average if not better than. \\n\\nGrady for trauma and I heard they are paying around $50/hr in some unit,  but that's hearsay and haven't confirmed. I used to work there and it's exciting and great experience but hard work. They used to not pay so well but apparently are paying better now at least. \\n\\nWellstar Kennestone or Gwinnett are decent places. Northeast GA if you want to be a little further north of the city.\\n\\nI'm at a nonprofit private hospital that I'd rather name privately but if you're interested would be happy to share via DM. We have set schedules. No weekend commitment or you work weekends but not both typically unless desired that way. If you're not weekends the only weekends you'll ever work is potentially during 3 weeks of holiday schedule. I'm part time float now here and choose to work a weekend day for childcare reasons and get paid $56.49/hr, and $61.49 on my weekend day. Get an annual bonus and 50% 403b matching with no % salary cap. Only capped by IRS contribution limits. Just came off a PRN internal contract in the ICU where I was making $75.50/hr for weekend dayshift. \\n\\nI'm north of ATL in a good area. Typically north of I-20 is better than south. In the city I can't speak to, never lived in the city but it's mixed. Some great, some horrible. Outside the city look at Marietta, Kennesaw, Vinings, Alpharetta, Canton, Roswell, Woodstock, and Duluth. Going west of the city outside the perimeter turns very country very quickly. Land and farm, but worse schools. Going east has some bad areas and gets more rural but has some good spots too\\n\\nI grew up south of ATL. It's generally pretty country further out and population growth is still booming. Some bad spots too though and closer to the city are some dangerous areas littered with crime and gang activity.|negative|\n|Check out Northside Hospital -Atlanta, Piedmont Atlanta and Emory University Hospital. All good quality and Northside is always awarded \"best places to work\" nationally. I have some friends that joined their Choice+ program in the past year which is basically an internal agency cont act and can get pretty lucrative and you're a hospital employee so get healthcare and are eligible for their pension. Heard the charting and audits of charting suck though. Mid to upper $30's- high $40's I believe is average. Their Choice+ can be up in the $60-70s if in the right specialty \\n\\nPiedmont Atlanta just opened up a new CVICU and has recently expanded it's transplant services. I know over the winter they had sign on bonuses still to get the new units up and running.\\n\\nEmory has always been known for good neurology/neurosurgery services. Otherwise specialties are at least average if not better than. \\n\\nGrady for trauma and I heard they are paying around $50/hr in some unit,  but that's hearsay and haven't confirmed. I used to work there and it's exciting and great experience but hard work. They used to not pay so well but apparently are paying better now at least. \\n\\nWellstar Kennestone or Gwinnett are decent places. Northeast GA if you want to be a little further north of the city.\\n\\nI'm at a nonprofit private hospital that I'd rather name privately but if you're interested would be happy to share via DM. We have set schedules. No weekend commitment or you work weekends but not both typically unless desired that way. If you're not weekends the only weekends you'll ever work is potentially during 3 weeks of holiday schedule. I'm part time float now here and choose to work a weekend day for childcare reasons and get paid $56.49/hr, and $61.49 on my weekend day. Get an annual bonus and 50% 403b matching with no % salary cap. Only capped by IRS contribution limits. Just came off a PRN internal contract in the ICU where I was making $75.50/hr for weekend dayshift. \\n\\nI'm north of ATL in a good area. Typically north of I-20 is better than south. In the city I can't speak to, never lived in the city but it's mixed. Some great, some horrible. Outside the city look at Marietta, Kennesaw, Vinings, Alpharetta, Canton, Roswell, Woodstock, and Duluth. Going west of the city outside the perimeter turns very country very quickly. Land and farm, but worse schools. Going east has some bad areas and gets more rural but has some good spots too\\n\\nI grew up south of ATL. It's generally pretty country further out and population growth is still booming. Some bad spots too though and closer to the city are some dangerous areas littered with crime and gang activity.|negative|\n|Check out Northside Hospital -Atlanta, Piedmont Atlanta and Emory University Hospital. All good quality and Northside is always awarded \"best places to work\" nationally. I have some friends that joined their Choice+ program in the past year which is basically an internal agency cont act and can get pretty lucrative and you're a hospital employee so get healthcare and are eligible for their pension. Heard the charting and audits of charting suck though. Mid to upper $30's- high $40's I believe is average. Their Choice+ can be up in the $60-70s if in the right specialty \\n\\nPiedmont Atlanta just opened up a new CVICU and has recently expanded it's transplant services. I know over the winter they had sign on bonuses still to get the new units up and running.\\n\\nEmory has always been known for good neurology/neurosurgery services. Otherwise specialties are at least average if not better than. \\n\\nGrady for trauma and I heard they are paying around $50/hr in some unit,  but that's hearsay and haven't confirmed. I used to work there and it's exciting and great experience but hard work. They used to not pay so well but apparently are paying better now at least. \\n\\nWellstar Kennestone or Gwinnett are decent places. Northeast GA if you want to be a little further north of the city.\\n\\nI'm at a nonprofit private hospital that I'd rather name privately but if you're interested would be happy to share via DM. We have set schedules. No weekend commitment or you work weekends but not both typically unless desired that way. If you're not weekends the only weekends you'll ever work is potentially during 3 weeks of holiday schedule. I'm part time float now here and choose to work a weekend day for childcare reasons and get paid $56.49/hr, and $61.49 on my weekend day. Get an annual bonus and 50% 403b matching with no % salary cap. Only capped by IRS contribution limits. Just came off a PRN internal contract in the ICU where I was making $75.50/hr for weekend dayshift. \\n\\nI'm north of ATL in a good area. Typically north of I-20 is better than south. In the city I can't speak to, never lived in the city but it's mixed. Some great, some horrible. Outside the city look at Marietta, Kennesaw, Vinings, Alpharetta, Canton, Roswell, Woodstock, and Duluth. Going west of the city outside the perimeter turns very country very quickly. Land and farm, but worse schools. Going east has some bad areas and gets more rural but has some good spots too\\n\\nI grew up south of ATL. It's generally pretty country further out and population growth is still booming. Some bad spots too though and closer to the city are some dangerous areas littered with crime and gang activity.|negative|\n|Check out Northside Hospital -Atlanta, Piedmont Atlanta and Emory University Hospital. All good quality and Northside is always awarded \"best places to work\" nationally. I have some friends that joined their Choice+ program in the past year which is basically an internal agency cont act and can get pretty lucrative and you're a hospital employee so get healthcare and are eligible for their pension. Heard the charting and audits of charting suck though. Mid to upper $30's- high $40's I believe is average. Their Choice+ can be up in the $60-70s if in the right specialty \\n\\nPiedmont Atlanta just opened up a new CVICU and has recently expanded it's transplant services. I know over the winter they had sign on bonuses still to get the new units up and running.\\n\\nEmory has always been known for good neurology/neurosurgery services. Otherwise specialties are at least average if not better than. \\n\\nGrady for trauma and I heard they are paying around $50/hr in some unit,  but that's hearsay and haven't confirmed. I used to work there and it's exciting and great experience but hard work. They used to not pay so well but apparently are paying better now at least. \\n\\nWellstar Kennestone or Gwinnett are decent places. Northeast GA if you want to be a little further north of the city.\\n\\nI'm at a nonprofit private hospital that I'd rather name privately but if you're interested would be happy to share via DM. We have set schedules. No weekend commitment or you work weekends but not both typically unless desired that way. If you're not weekends the only weekends you'll ever work is potentially during 3 weeks of holiday schedule. I'm part time float now here and choose to work a weekend day for childcare reasons and get paid $56.49/hr, and $61.49 on my weekend day. Get an annual bonus and 50% 403b matching with no % salary cap. Only capped by IRS contribution limits. Just came off a PRN internal contract in the ICU where I was making $75.50/hr for weekend dayshift. \\n\\nI'm north of ATL in a good area. Typically north of I-20 is better than south. In the city I can't speak to, never lived in the city but it's mixed. Some great, some horrible. Outside the city look at Marietta, Kennesaw, Vinings, Alpharetta, Canton, Roswell, Woodstock, and Duluth. Going west of the city outside the perimeter turns very country very quickly. Land and farm, but worse schools. Going east has some bad areas and gets more rural but has some good spots too\\n\\nI grew up south of ATL. It's generally pretty country further out and population growth is still booming. Some bad spots too though and closer to the city are some dangerous areas littered with crime and gang activity.|negative|\n|Check out Northside Hospital -Atlanta, Piedmont Atlanta and Emory University Hospital. All good quality and Northside is always awarded \"best places to work\" nationally. I have some friends that joined their Choice+ program in the past year which is basically an internal agency cont act and can get pretty lucrative and you're a hospital employee so get healthcare and are eligible for their pension. Heard the charting and audits of charting suck though. Mid to upper $30's- high $40's I believe is average. Their Choice+ can be up in the $60-70s if in the right specialty \\n\\nPiedmont Atlanta just opened up a new CVICU and has recently expanded it's transplant services. I know over the winter they had sign on bonuses still to get the new units up and running.\\n\\nEmory has always been known for good neurology/neurosurgery services. Otherwise specialties are at least average if not better than. \\n\\nGrady for trauma and I heard they are paying around $50/hr in some unit,  but that's hearsay and haven't confirmed. I used to work there and it's exciting and great experience but hard work. They used to not pay so well but apparently are paying better now at least. \\n\\nWellstar Kennestone or Gwinnett are decent places. Northeast GA if you want to be a little further north of the city.\\n\\nI'm at a nonprofit private hospital that I'd rather name privately but if you're interested would be happy to share via DM. We have set schedules. No weekend commitment or you work weekends but not both typically unless desired that way. If you're not weekends the only weekends you'll ever work is potentially during 3 weeks of holiday schedule. I'm part time float now here and choose to work a weekend day for childcare reasons and get paid $56.49/hr, and $61.49 on my weekend day. Get an annual bonus and 50% 403b matching with no % salary cap. Only capped by IRS contribution limits. Just came off a PRN internal contract in the ICU where I was making $75.50/hr for weekend dayshift. \\n\\nI'm north of ATL in a good area. Typically north of I-20 is better than south. In the city I can't speak to, never lived in the city but it's mixed. Some great, some horrible. Outside the city look at Marietta, Kennesaw, Vinings, Alpharetta, Canton, Roswell, Woodstock, and Duluth. Going west of the city outside the perimeter turns very country very quickly. Land and farm, but worse schools. Going east has some bad areas and gets more rural but has some good spots too\\n\\nI grew up south of ATL. It's generally pretty country further out and population growth is still booming. Some bad spots too though and closer to the city are some dangerous areas littered with crime and gang activity.|negative|\n|Check out Northside Hospital -Atlanta, Piedmont Atlanta and Emory University Hospital. All good quality and Northside is always awarded \"best places to work\" nationally. I have some friends that joined their Choice+ program in the past year which is basically an internal agency cont act and can get pretty lucrative and you're a hospital employee so get healthcare and are eligible for their pension. Heard the charting and audits of charting suck though. Mid to upper $30's- high $40's I believe is average. Their Choice+ can be up in the $60-70s if in the right specialty \\n\\nPiedmont Atlanta just opened up a new CVICU and has recently expanded it's transplant services. I know over the winter they had sign on bonuses still to get the new units up and running.\\n\\nEmory has always been known for good neurology/neurosurgery services. Otherwise specialties are at least average if not better than. \\n\\nGrady for trauma and I heard they are paying around $50/hr in some unit,  but that's hearsay and haven't confirmed. I used to work there and it's exciting and great experience but hard work. They used to not pay so well but apparently are paying better now at least. \\n\\nWellstar Kennestone or Gwinnett are decent places. Northeast GA if you want to be a little further north of the city.\\n\\nI'm at a nonprofit private hospital that I'd rather name privately but if you're interested would be happy to share via DM. We have set schedules. No weekend commitment or you work weekends but not both typically unless desired that way. If you're not weekends the only weekends you'll ever work is potentially during 3 weeks of holiday schedule. I'm part time float now here and choose to work a weekend day for childcare reasons and get paid $56.49/hr, and $61.49 on my weekend day. Get an annual bonus and 50% 403b matching with no % salary cap. Only capped by IRS contribution limits. Just came off a PRN internal contract in the ICU where I was making $75.50/hr for weekend dayshift. \\n\\nI'm north of ATL in a good area. Typically north of I-20 is better than south. In the city I can't speak to, never lived in the city but it's mixed. Some great, some horrible. Outside the city look at Marietta, Kennesaw, Vinings, Alpharetta, Canton, Roswell, Woodstock, and Duluth. Going west of the city outside the perimeter turns very country very quickly. Land and farm, but worse schools. Going east has some bad areas and gets more rural but has some good spots too\\n\\nI grew up south of ATL. It's generally pretty country further out and population growth is still booming. Some bad spots too though and closer to the city are some dangerous areas littered with crime and gang activity.|negative|\n|Check out Northside Hospital -Atlanta, Piedmont Atlanta and Emory University Hospital. All good quality and Northside is always awarded \"best places to work\" nationally. I have some friends that joined their Choice+ program in the past year which is basically an internal agency cont act and can get pretty lucrative and you're a hospital employee so get healthcare and are eligible for their pension. Heard the charting and audits of charting suck though. Mid to upper $30's- high $40's I believe is average. Their Choice+ can be up in the $60-70s if in the right specialty \\n\\nPiedmont Atlanta just opened up a new CVICU and has recently expanded it's transplant services. I know over the winter they had sign on bonuses still to get the new units up and running.\\n\\nEmory has always been known for good neurology/neurosurgery services. Otherwise specialties are at least average if not better than. \\n\\nGrady for trauma and I heard they are paying around $50/hr in some unit,  but that's hearsay and haven't confirmed. I used to work there and it's exciting and great experience but hard work. They used to not pay so well but apparently are paying better now at least. \\n\\nWellstar Kennestone or Gwinnett are decent places. Northeast GA if you want to be a little further north of the city.\\n\\nI'm at a nonprofit private hospital that I'd rather name privately but if you're interested would be happy to share via DM. We have set schedules. No weekend commitment or you work weekends but not both typically unless desired that way. If you're not weekends the only weekends you'll ever work is potentially during 3 weeks of holiday schedule. I'm part time float now here and choose to work a weekend day for childcare reasons and get paid $56.49/hr, and $61.49 on my weekend day. Get an annual bonus and 50% 403b matching with no % salary cap. Only capped by IRS contribution limits. Just came off a PRN internal contract in the ICU where I was making $75.50/hr for weekend dayshift. \\n\\nI'm north of ATL in a good area. Typically north of I-20 is better than south. In the city I can't speak to, never lived in the city but it's mixed. Some great, some horrible. Outside the city look at Marietta, Kennesaw, Vinings, Alpharetta, Canton, Roswell, Woodstock, and Duluth. Going west of the city outside the perimeter turns very country very quickly. Land and farm, but worse schools. Going east has some bad areas and gets more rural but has some good spots too\\n\\nI grew up south of ATL. It's generally pretty country further out and population growth is still booming. Some bad spots too though and closer to the city are some dangerous areas littered with crime and gang activity.|negative|\n|Check out Northside Hospital -Atlanta, Piedmont Atlanta and Emory University Hospital. All good quality and Northside is always awarded \"best places to work\" nationally. I have some friends that joined their Choice+ program in the past year which is basically an internal agency cont act and can get pretty lucrative and you're a hospital employee so get healthcare and are eligible for their pension. Heard the charting and audits of charting suck though. Mid to upper $30's- high $40's I believe is average. Their Choice+ can be up in the $60-70s if in the right specialty \\n\\nPiedmont Atlanta just opened up a new CVICU and has recently expanded it's transplant services. I know over the winter they had sign on bonuses still to get the new units up and running.\\n\\nEmory has always been known for good neurology/neurosurgery services. Otherwise specialties are at least average if not better than. \\n\\nGrady for trauma and I heard they are paying around $50/hr in some unit,  but that's hearsay and haven't confirmed. I used to work there and it's exciting and great experience but hard work. They used to not pay so well but apparently are paying better now at least. \\n\\nWellstar Kennestone or Gwinnett are decent places. Northeast GA if you want to be a little further north of the city.\\n\\nI'm at a nonprofit private hospital that I'd rather name privately but if you're interested would be happy to share via DM. We have set schedules. No weekend commitment or you work weekends but not both typically unless desired that way. If you're not weekends the only weekends you'll ever work is potentially during 3 weeks of holiday schedule. I'm part time float now here and choose to work a weekend day for childcare reasons and get paid $56.49/hr, and $61.49 on my weekend day. Get an annual bonus and 50% 403b matching with no % salary cap. Only capped by IRS contribution limits. Just came off a PRN internal contract in the ICU where I was making $75.50/hr for weekend dayshift. \\n\\nI'm north of ATL in a good area. Typically north of I-20 is better than south. In the city I can't speak to, never lived in the city but it's mixed. Some great, some horrible. Outside the city look at Marietta, Kennesaw, Vinings, Alpharetta, Canton, Roswell, Woodstock, and Duluth. Going west of the city outside the perimeter turns very country very quickly. Land and farm, but worse schools. Going east has some bad areas and gets more rural but has some good spots too\\n\\nI grew up south of ATL. It's generally pretty country further out and population growth is still booming. Some bad spots too though and closer to the city are some dangerous areas littered with crime and gang activity.|positive|\n|Check out Northside Hospital -Atlanta, Piedmont Atlanta and Emory University Hospital. All good quality and Northside is always awarded \"best places to work\" nationally. I have some friends that joined their Choice+ program in the past year which is basically an internal agency cont act and can get pretty lucrative and you're a hospital employee so get healthcare and are eligible for their pension. Heard the charting and audits of charting suck though. Mid to upper $30's- high $40's I believe is average. Their Choice+ can be up in the $60-70s if in the right specialty \\n\\nPiedmont Atlanta just opened up a new CVICU and has recently expanded it's transplant services. I know over the winter they had sign on bonuses still to get the new units up and running.\\n\\nEmory has always been known for good neurology/neurosurgery services. Otherwise specialties are at least average if not better than. \\n\\nGrady for trauma and I heard they are paying around $50/hr in some unit,  but that's hearsay and haven't confirmed. I used to work there and it's exciting and great experience but hard work. They used to not pay so well but apparently are paying better now at least. \\n\\nWellstar Kennestone or Gwinnett are decent places. Northeast GA if you want to be a little further north of the city.\\n\\nI'm at a nonprofit private hospital that I'd rather name privately but if you're interested would be happy to share via DM. We have set schedules. No weekend commitment or you work weekends but not both typically unless desired that way. If you're not weekends the only weekends you'll ever work is potentially during 3 weeks of holiday schedule. I'm part time float now here and choose to work a weekend day for childcare reasons and get paid $56.49/hr, and $61.49 on my weekend day. Get an annual bonus and 50% 403b matching with no % salary cap. Only capped by IRS contribution limits. Just came off a PRN internal contract in the ICU where I was making $75.50/hr for weekend dayshift. \\n\\nI'm north of ATL in a good area. Typically north of I-20 is better than south. In the city I can't speak to, never lived in the city but it's mixed. Some great, some horrible. Outside the city look at Marietta, Kennesaw, Vinings, Alpharetta, Canton, Roswell, Woodstock, and Duluth. Going west of the city outside the perimeter turns very country very quickly. Land and farm, but worse schools. Going east has some bad areas and gets more rural but has some good spots too\\n\\nI grew up south of ATL. It's generally pretty country further out and population growth is still booming. Some bad spots too though and closer to the city are some dangerous areas littered with crime and gang activity.|positive|\n|Check out Northside Hospital -Atlanta, Piedmont Atlanta and Emory University Hospital. All good quality and Northside is always awarded \"best places to work\" nationally. I have some friends that joined their Choice+ program in the past year which is basically an internal agency cont act and can get pretty lucrative and you're a hospital employee so get healthcare and are eligible for their pension. Heard the charting and audits of charting suck though. Mid to upper $30's- high $40's I believe is average. Their Choice+ can be up in the $60-70s if in the right specialty \\n\\nPiedmont Atlanta just opened up a new CVICU and has recently expanded it's transplant services. I know over the winter they had sign on bonuses still to get the new units up and running.\\n\\nEmory has always been known for good neurology/neurosurgery services. Otherwise specialties are at least average if not better than. \\n\\nGrady for trauma and I heard they are paying around $50/hr in some unit,  but that's hearsay and haven't confirmed. I used to work there and it's exciting and great experience but hard work. They used to not pay so well but apparently are paying better now at least. \\n\\nWellstar Kennestone or Gwinnett are decent places. Northeast GA if you want to be a little further north of the city.\\n\\nI'm at a nonprofit private hospital that I'd rather name privately but if you're interested would be happy to share via DM. We have set schedules. No weekend commitment or you work weekends but not both typically unless desired that way. If you're not weekends the only weekends you'll ever work is potentially during 3 weeks of holiday schedule. I'm part time float now here and choose to work a weekend day for childcare reasons and get paid $56.49/hr, and $61.49 on my weekend day. Get an annual bonus and 50% 403b matching with no % salary cap. Only capped by IRS contribution limits. Just came off a PRN internal contract in the ICU where I was making $75.50/hr for weekend dayshift. \\n\\nI'm north of ATL in a good area. Typically north of I-20 is better than south. In the city I can't speak to, never lived in the city but it's mixed. Some great, some horrible. Outside the city look at Marietta, Kennesaw, Vinings, Alpharetta, Canton, Roswell, Woodstock, and Duluth. Going west of the city outside the perimeter turns very country very quickly. Land and farm, but worse schools. Going east has some bad areas and gets more rural but has some good spots too\\n\\nI grew up south of ATL. It's generally pretty country further out and population growth is still booming. Some bad spots too though and closer to the city are some dangerous areas littered with crime and gang activity.|positive|\n|Check out Northside Hospital -Atlanta, Piedmont Atlanta and Emory University Hospital. All good quality and Northside is always awarded \"best places to work\" nationally. I have some friends that joined their Choice+ program in the past year which is basically an internal agency cont act and can get pretty lucrative and you're a hospital employee so get healthcare and are eligible for their pension. Heard the charting and audits of charting suck though. Mid to upper $30's- high $40's I believe is average. Their Choice+ can be up in the $60-70s if in the right specialty \\n\\nPiedmont Atlanta just opened up a new CVICU and has recently expanded it's transplant services. I know over the winter they had sign on bonuses still to get the new units up and running.\\n\\nEmory has always been known for good neurology/neurosurgery services. Otherwise specialties are at least average if not better than. \\n\\nGrady for trauma and I heard they are paying around $50/hr in some unit,  but that's hearsay and haven't confirmed. I used to work there and it's exciting and great experience but hard work. They used to not pay so well but apparently are paying better now at least. \\n\\nWellstar Kennestone or Gwinnett are decent places. Northeast GA if you want to be a little further north of the city.\\n\\nI'm at a nonprofit private hospital that I'd rather name privately but if you're interested would be happy to share via DM. We have set schedules. No weekend commitment or you work weekends but not both typically unless desired that way. If you're not weekends the only weekends you'll ever work is potentially during 3 weeks of holiday schedule. I'm part time float now here and choose to work a weekend day for childcare reasons and get paid $56.49/hr, and $61.49 on my weekend day. Get an annual bonus and 50% 403b matching with no % salary cap. Only capped by IRS contribution limits. Just came off a PRN internal contract in the ICU where I was making $75.50/hr for weekend dayshift. \\n\\nI'm north of ATL in a good area. Typically north of I-20 is better than south. In the city I can't speak to, never lived in the city but it's mixed. Some great, some horrible. Outside the city look at Marietta, Kennesaw, Vinings, Alpharetta, Canton, Roswell, Woodstock, and Duluth. Going west of the city outside the perimeter turns very country very quickly. Land and farm, but worse schools. Going east has some bad areas and gets more rural but has some good spots too\\n\\nI grew up south of ATL. It's generally pretty country further out and population growth is still booming. Some bad spots too though and closer to the city are some dangerous areas littered with crime and gang activity.|positive|\n|Check out Northside Hospital -Atlanta, Piedmont Atlanta and Emory University Hospital. All good quality and Northside is always awarded \"best places to work\" nationally. I have some friends that joined their Choice+ program in the past year which is basically an internal agency cont act and can get pretty lucrative and you're a hospital employee so get healthcare and are eligible for their pension. Heard the charting and audits of charting suck though. Mid to upper $30's- high $40's I believe is average. Their Choice+ can be up in the $60-70s if in the right specialty \\n\\nPiedmont Atlanta just opened up a new CVICU and has recently expanded it's transplant services. I know over the winter they had sign on bonuses still to get the new units up and running.\\n\\nEmory has always been known for good neurology/neurosurgery services. Otherwise specialties are at least average if not better than. \\n\\nGrady for trauma and I heard they are paying around $50/hr in some unit,  but that's hearsay and haven't confirmed. I used to work there and it's exciting and great experience but hard work. They used to not pay so well but apparently are paying better now at least. \\n\\nWellstar Kennestone or Gwinnett are decent places. Northeast GA if you want to be a little further north of the city.\\n\\nI'm at a nonprofit private hospital that I'd rather name privately but if you're interested would be happy to share via DM. We have set schedules. No weekend commitment or you work weekends but not both typically unless desired that way. If you're not weekends the only weekends you'll ever work is potentially during 3 weeks of holiday schedule. I'm part time float now here and choose to work a weekend day for childcare reasons and get paid $56.49/hr, and $61.49 on my weekend day. Get an annual bonus and 50% 403b matching with no % salary cap. Only capped by IRS contribution limits. Just came off a PRN internal contract in the ICU where I was making $75.50/hr for weekend dayshift. \\n\\nI'm north of ATL in a good area. Typically north of I-20 is better than south. In the city I can't speak to, never lived in the city but it's mixed. Some great, some horrible. Outside the city look at Marietta, Kennesaw, Vinings, Alpharetta, Canton, Roswell, Woodstock, and Duluth. Going west of the city outside the perimeter turns very country very quickly. Land and farm, but worse schools. Going east has some bad areas and gets more rural but has some good spots too\\n\\nI grew up south of ATL. It's generally pretty country further out and population growth is still booming. Some bad spots too though and closer to the city are some dangerous areas littered with crime and gang activity.|positive|\n|Check out Northside Hospital -Atlanta, Piedmont Atlanta and Emory University Hospital. All good quality and Northside is always awarded \"best places to work\" nationally. I have some friends that joined their Choice+ program in the past year which is basically an internal agency cont act and can get pretty lucrative and you're a hospital employee so get healthcare and are eligible for their pension. Heard the charting and audits of charting suck though. Mid to upper $30's- high $40's I believe is average. Their Choice+ can be up in the $60-70s if in the right specialty \\n\\nPiedmont Atlanta just opened up a new CVICU and has recently expanded it's transplant services. I know over the winter they had sign on bonuses still to get the new units up and running.\\n\\nEmory has always been known for good neurology/neurosurgery services. Otherwise specialties are at least average if not better than. \\n\\nGrady for trauma and I heard they are paying around $50/hr in some unit,  but that's hearsay and haven't confirmed. I used to work there and it's exciting and great experience but hard work. They used to not pay so well but apparently are paying better now at least. \\n\\nWellstar Kennestone or Gwinnett are decent places. Northeast GA if you want to be a little further north of the city.\\n\\nI'm at a nonprofit private hospital that I'd rather name privately but if you're interested would be happy to share via DM. We have set schedules. No weekend commitment or you work weekends but not both typically unless desired that way. If you're not weekends the only weekends you'll ever work is potentially during 3 weeks of holiday schedule. I'm part time float now here and choose to work a weekend day for childcare reasons and get paid $56.49/hr, and $61.49 on my weekend day. Get an annual bonus and 50% 403b matching with no % salary cap. Only capped by IRS contribution limits. Just came off a PRN internal contract in the ICU where I was making $75.50/hr for weekend dayshift. \\n\\nI'm north of ATL in a good area. Typically north of I-20 is better than south. In the city I can't speak to, never lived in the city but it's mixed. Some great, some horrible. Outside the city look at Marietta, Kennesaw, Vinings, Alpharetta, Canton, Roswell, Woodstock, and Duluth. Going west of the city outside the perimeter turns very country very quickly. Land and farm, but worse schools. Going east has some bad areas and gets more rural but has some good spots too\\n\\nI grew up south of ATL. It's generally pretty country further out and population growth is still booming. Some bad spots too though and closer to the city are some dangerous areas littered with crime and gang activity.|positive|\n|Check out Northside Hospital -Atlanta, Piedmont Atlanta and Emory University Hospital. All good quality and Northside is always awarded \"best places to work\" nationally. I have some friends that joined their Choice+ program in the past year which is basically an internal agency cont act and can get pretty lucrative and you're a hospital employee so get healthcare and are eligible for their pension. Heard the charting and audits of charting suck though. Mid to upper $30's- high $40's I believe is average. Their Choice+ can be up in the $60-70s if in the right specialty \\n\\nPiedmont Atlanta just opened up a new CVICU and has recently expanded it's transplant services. I know over the winter they had sign on bonuses still to get the new units up and running.\\n\\nEmory has always been known for good neurology/neurosurgery services. Otherwise specialties are at least average if not better than. \\n\\nGrady for trauma and I heard they are paying around $50/hr in some unit,  but that's hearsay and haven't confirmed. I used to work there and it's exciting and great experience but hard work. They used to not pay so well but apparently are paying better now at least. \\n\\nWellstar Kennestone or Gwinnett are decent places. Northeast GA if you want to be a little further north of the city.\\n\\nI'm at a nonprofit private hospital that I'd rather name privately but if you're interested would be happy to share via DM. We have set schedules. No weekend commitment or you work weekends but not both typically unless desired that way. If you're not weekends the only weekends you'll ever work is potentially during 3 weeks of holiday schedule. I'm part time float now here and choose to work a weekend day for childcare reasons and get paid $56.49/hr, and $61.49 on my weekend day. Get an annual bonus and 50% 403b matching with no % salary cap. Only capped by IRS contribution limits. Just came off a PRN internal contract in the ICU where I was making $75.50/hr for weekend dayshift. \\n\\nI'm north of ATL in a good area. Typically north of I-20 is better than south. In the city I can't speak to, never lived in the city but it's mixed. Some great, some horrible. Outside the city look at Marietta, Kennesaw, Vinings, Alpharetta, Canton, Roswell, Woodstock, and Duluth. Going west of the city outside the perimeter turns very country very quickly. Land and farm, but worse schools. Going east has some bad areas and gets more rural but has some good spots too\\n\\nI grew up south of ATL. It's generally pretty country further out and population growth is still booming. Some bad spots too though and closer to the city are some dangerous areas littered with crime and gang activity.|negative|\n|Check out Northside Hospital -Atlanta, Piedmont Atlanta and Emory University Hospital. All good quality and Northside is always awarded \"best places to work\" nationally. I have some friends that joined their Choice+ program in the past year which is basically an internal agency cont act and can get pretty lucrative and you're a hospital employee so get healthcare and are eligible for their pension. Heard the charting and audits of charting suck though. Mid to upper $30's- high $40's I believe is average. Their Choice+ can be up in the $60-70s if in the right specialty \\n\\nPiedmont Atlanta just opened up a new CVICU and has recently expanded it's transplant services. I know over the winter they had sign on bonuses still to get the new units up and running.\\n\\nEmory has always been known for good neurology/neurosurgery services. Otherwise specialties are at least average if not better than. \\n\\nGrady for trauma and I heard they are paying around $50/hr in some unit,  but that's hearsay and haven't confirmed. I used to work there and it's exciting and great experience but hard work. They used to not pay so well but apparently are paying better now at least. \\n\\nWellstar Kennestone or Gwinnett are decent places. Northeast GA if you want to be a little further north of the city.\\n\\nI'm at a nonprofit private hospital that I'd rather name privately but if you're interested would be happy to share via DM. We have set schedules. No weekend commitment or you work weekends but not both typically unless desired that way. If you're not weekends the only weekends you'll ever work is potentially during 3 weeks of holiday schedule. I'm part time float now here and choose to work a weekend day for childcare reasons and get paid $56.49/hr, and $61.49 on my weekend day. Get an annual bonus and 50% 403b matching with no % salary cap. Only capped by IRS contribution limits. Just came off a PRN internal contract in the ICU where I was making $75.50/hr for weekend dayshift. \\n\\nI'm north of ATL in a good area. Typically north of I-20 is better than south. In the city I can't speak to, never lived in the city but it's mixed. Some great, some horrible. Outside the city look at Marietta, Kennesaw, Vinings, Alpharetta, Canton, Roswell, Woodstock, and Duluth. Going west of the city outside the perimeter turns very country very quickly. Land and farm, but worse schools. Going east has some bad areas and gets more rural but has some good spots too\\n\\nI grew up south of ATL. It's generally pretty country further out and population growth is still booming. Some bad spots too though and closer to the city are some dangerous areas littered with crime and gang activity.|negative|\n+--------------------------------------------------------------------------------------------------------------------------------------------------------------------------------------------------------------------------------------------------------------------------------------------------------------------------------------------------------------------------------------------------------------------------------------------------------------------------------------------------------------------------------------------------------------------------------------------------------------------------------------------------------------------------------------------------------------------------------------------------------------------------------------------------------------------------------------------------------------------------------------------------------------------------------------------------------------------------------------------------------------------------------------------------------------------------------------------------------------------------------------------------------------------------------------------------------------------------------------------------------------------------------------------------------------------------------------------------------------------------------------------------------------------------------------------------------------------------------------------------------------------------------------------------------------------------------------------------------------------------------------------------------------------------------------------------------------------------------------------------------------------------------------------------------------------------------------------------------------------------------------------------------------------------------------------------------------------------------------------------------------------------------------------------------------------------------------------------------------------------------------------------------------------------------------------------------------------------------------------------------------------------------------------------------------------------------------------------------------------------------------------------------------------------------------------------------------------------------------------------------------------------------------------------------------------------------------------------------------------------------------------------------------------------------------------------------------------------------------------------------------------------------------------+--------+\nonly showing top 20 rows\n\n"
        }
      ],
      "execution_count": 4,
      "metadata": {
        "jupyter": {
          "source_hidden": false,
          "outputs_hidden": false
        },
        "nteract": {
          "transient": {
            "deleting": false
          }
        },
        "gather": {
          "logged": 1733638612654
        }
      }
    },
    {
      "cell_type": "code",
      "source": [
        "df_flat.show(5)\n",
        "comments_row_count = df_flat.count()\n",
        "comment_col_count = len(df_flat.columns)\n",
        "print(f\"shape of the comments dataframe is {comments_row_count:,}x{comment_col_count}\")"
      ],
      "outputs": [
        {
          "output_type": "display_data",
          "data": {
            "application/vnd.livy.statement-meta+json": {
              "spark_pool": "ba5e360d-f184-47a0-9859-76b5031b79e3",
              "statement_id": 12,
              "statement_ids": [
                12
              ],
              "state": "finished",
              "livy_statement_state": "available",
              "spark_jobs": {
                "numbers": {
                  "UNKNOWN": 0,
                  "SUCCEEDED": 4,
                  "FAILED": 0,
                  "RUNNING": 0
                },
                "jobs": [
                  {
                    "displayName": "count at NativeMethodAccessorImpl.java:0",
                    "dataWritten": 0,
                    "dataRead": 171,
                    "rowCount": 3,
                    "usageDescription": "",
                    "jobId": 14,
                    "name": "count at NativeMethodAccessorImpl.java:0",
                    "description": "Job group for statement 12:\ndf_flat.show(5)\ncomments_row_count = df_flat.count()\ncomment_col_count = len(df_flat.columns)\nprint(f\"shape of the comments dataframe is {comments_row_count:,}x{comment_col_count}\")",
                    "submissionTime": "2024-12-08T06:26:16.516GMT",
                    "completionTime": "2024-12-08T06:26:16.833GMT",
                    "stageIds": [
                      15,
                      16
                    ],
                    "jobGroup": "12",
                    "status": "SUCCEEDED",
                    "numTasks": 4,
                    "numActiveTasks": 0,
                    "numCompletedTasks": 1,
                    "numSkippedTasks": 3,
                    "numFailedTasks": 0,
                    "numKilledTasks": 0,
                    "numCompletedIndices": 1,
                    "numActiveStages": 0,
                    "numCompletedStages": 1,
                    "numSkippedStages": 1,
                    "numFailedStages": 0,
                    "killedTasksSummary": {}
                  },
                  {
                    "displayName": "count at NativeMethodAccessorImpl.java:0",
                    "dataWritten": 171,
                    "dataRead": 99298,
                    "rowCount": 10003,
                    "usageDescription": "",
                    "jobId": 13,
                    "name": "count at NativeMethodAccessorImpl.java:0",
                    "description": "Job group for statement 12:\ndf_flat.show(5)\ncomments_row_count = df_flat.count()\ncomment_col_count = len(df_flat.columns)\nprint(f\"shape of the comments dataframe is {comments_row_count:,}x{comment_col_count}\")",
                    "submissionTime": "2024-12-08T06:26:16.034GMT",
                    "completionTime": "2024-12-08T06:26:16.479GMT",
                    "stageIds": [
                      14
                    ],
                    "jobGroup": "12",
                    "status": "SUCCEEDED",
                    "numTasks": 3,
                    "numActiveTasks": 0,
                    "numCompletedTasks": 3,
                    "numSkippedTasks": 0,
                    "numFailedTasks": 0,
                    "numKilledTasks": 0,
                    "numCompletedIndices": 3,
                    "numActiveStages": 0,
                    "numCompletedStages": 1,
                    "numSkippedStages": 0,
                    "numFailedStages": 0,
                    "killedTasksSummary": {}
                  },
                  {
                    "displayName": "showString at NativeMethodAccessorImpl.java:0",
                    "dataWritten": 0,
                    "dataRead": 1731073,
                    "rowCount": 1,
                    "usageDescription": "",
                    "jobId": 12,
                    "name": "showString at NativeMethodAccessorImpl.java:0",
                    "description": "Job group for statement 12:\ndf_flat.show(5)\ncomments_row_count = df_flat.count()\ncomment_col_count = len(df_flat.columns)\nprint(f\"shape of the comments dataframe is {comments_row_count:,}x{comment_col_count}\")",
                    "submissionTime": "2024-12-08T06:26:15.324GMT",
                    "completionTime": "2024-12-08T06:26:15.799GMT",
                    "stageIds": [
                      13
                    ],
                    "jobGroup": "12",
                    "status": "SUCCEEDED",
                    "numTasks": 2,
                    "numActiveTasks": 0,
                    "numCompletedTasks": 2,
                    "numSkippedTasks": 0,
                    "numFailedTasks": 0,
                    "numKilledTasks": 0,
                    "numCompletedIndices": 2,
                    "numActiveStages": 0,
                    "numCompletedStages": 1,
                    "numSkippedStages": 0,
                    "numFailedStages": 0,
                    "killedTasksSummary": {}
                  },
                  {
                    "displayName": "showString at NativeMethodAccessorImpl.java:0",
                    "dataWritten": 0,
                    "dataRead": 11254,
                    "rowCount": 0,
                    "usageDescription": "",
                    "jobId": 11,
                    "name": "showString at NativeMethodAccessorImpl.java:0",
                    "description": "Job group for statement 12:\ndf_flat.show(5)\ncomments_row_count = df_flat.count()\ncomment_col_count = len(df_flat.columns)\nprint(f\"shape of the comments dataframe is {comments_row_count:,}x{comment_col_count}\")",
                    "submissionTime": "2024-12-08T06:26:15.040GMT",
                    "completionTime": "2024-12-08T06:26:15.307GMT",
                    "stageIds": [
                      12
                    ],
                    "jobGroup": "12",
                    "status": "SUCCEEDED",
                    "numTasks": 1,
                    "numActiveTasks": 0,
                    "numCompletedTasks": 1,
                    "numSkippedTasks": 0,
                    "numFailedTasks": 0,
                    "numKilledTasks": 0,
                    "numCompletedIndices": 1,
                    "numActiveStages": 0,
                    "numCompletedStages": 1,
                    "numSkippedStages": 0,
                    "numFailedStages": 0,
                    "killedTasksSummary": {}
                  }
                ],
                "limit": 20,
                "rule": "ALL_DESC"
              },
              "session_id": "39",
              "normalized_state": "finished",
              "queued_time": "2024-12-08T06:26:14.7463277Z",
              "session_start_time": null,
              "execution_start_time": "2024-12-08T06:26:14.8633678Z",
              "execution_finish_time": "2024-12-08T06:26:17.3260516Z",
              "parent_msg_id": "cd96eab6-6200-4301-833a-15fb4ce12b2a"
            },
            "text/plain": "StatementMeta(ba5e360d-f184-47a0-9859-76b5031b79e3, 39, 12, Finished, Available, Finished)"
          },
          "metadata": {}
        },
        {
          "output_type": "stream",
          "name": "stdout",
          "text": "+--------------------+--------+\n|                text|  result|\n+--------------------+--------+\n|Check out Northsi...|negative|\n|Check out Northsi...|negative|\n|Check out Northsi...|positive|\n|Check out Northsi...|negative|\n|Check out Northsi...|positive|\n+--------------------+--------+\nonly showing top 5 rows\n\nshape of the comments dataframe is 41,883x2\n"
        }
      ],
      "execution_count": 7,
      "metadata": {
        "jupyter": {
          "source_hidden": false,
          "outputs_hidden": false
        },
        "nteract": {
          "transient": {
            "deleting": false
          }
        },
        "gather": {
          "logged": 1733639177441
        }
      }
    },
    {
      "cell_type": "code",
      "source": [
        "sentiment_df = df_read_back.selectExpr(\"explode(sentiment) as sentiment_struct\") \\\n",
        "                 .select(\"sentiment_struct.result\", \"sentiment_struct.metadata\")\n",
        "\n",
        "\n",
        "sentiment_df.show()\n"
      ],
      "outputs": [],
      "execution_count": null,
      "metadata": {
        "jupyter": {
          "source_hidden": false,
          "outputs_hidden": false
        },
        "nteract": {
          "transient": {
            "deleting": false
          }
        }
      }
    }
  ],
  "metadata": {
    "kernelspec": {
      "name": "synapse_pyspark",
      "language": "Python",
      "display_name": "Synapse PySpark"
    },
    "language_info": {
      "name": "python",
      "version": "3.8.0",
      "mimetype": "text/x-python",
      "file_extension": ".py",
      "pygments_lexer": "ipython",
      "codemirror_mode": "ipython",
      "nbconvert_exporter": "python"
    },
    "microsoft": {
      "ms_spell_check": {
        "ms_spell_check_language": "en"
      },
      "host": {
        "AzureML": {
          "notebookHasBeenCompleted": true
        }
      }
    },
    "kernel_info": {
      "name": "synapse_pyspark"
    },
    "nteract": {
      "version": "nteract-front-end@1.0.0"
    }
  },
  "nbformat": 4,
  "nbformat_minor": 2
}