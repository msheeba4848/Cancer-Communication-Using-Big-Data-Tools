{
  "cells": [
    {
      "cell_type": "code",
      "source": [
        "from pyspark.sql import SparkSession\n",
        "\n",
        "# Start Spark session\n",
        "spark = SparkSession.builder.appName(\"NaiveBayes_Example\").getOrCreate()\n",
        "\n",
        "workspace_default_storage_account = \"projectgstoragedfb938a3e\"\n",
        "workspace_default_container = \"azureml-blobstore-becc8696-e562-432e-af12-8a5e3e1f9b0f\"\n",
        "workspace_wasbs_base_url = f\"wasbs://{workspace_default_container}@{workspace_default_storage_account}.blob.core.windows.net/\""
      ],
      "outputs": [
        {
          "output_type": "display_data",
          "data": {
            "application/vnd.livy.statement-meta+json": {
              "spark_pool": "ba5e360d-f184-47a0-9859-76b5031b79e3",
              "statement_id": 6,
              "statement_ids": [
                6
              ],
              "state": "finished",
              "livy_statement_state": "available",
              "spark_jobs": {
                "numbers": {
                  "FAILED": 0,
                  "RUNNING": 0,
                  "UNKNOWN": 0,
                  "SUCCEEDED": 0
                },
                "jobs": [],
                "limit": 20,
                "rule": "ALL_DESC"
              },
              "session_id": "45",
              "normalized_state": "finished",
              "queued_time": "2024-12-08T21:15:47.6218762Z",
              "session_start_time": "2024-12-08T21:15:47.6756745Z",
              "execution_start_time": "2024-12-08T21:16:47.9129643Z",
              "execution_finish_time": "2024-12-08T21:16:48.2644525Z",
              "parent_msg_id": "626424f5-7dec-4b15-86c6-1ae12b2a579e"
            },
            "text/plain": "StatementMeta(ba5e360d-f184-47a0-9859-76b5031b79e3, 45, 6, Finished, Available, Finished)"
          },
          "metadata": {}
        }
      ],
      "execution_count": 1,
      "metadata": {
        "jupyter": {
          "source_hidden": false,
          "outputs_hidden": false
        },
        "nteract": {
          "transient": {
            "deleting": false
          }
        },
        "gather": {
          "logged": 1733692608347
        }
      }
    },
    {
      "cell_type": "code",
      "source": [
        "from pyspark.sql.functions import lit\n",
        "\n",
        "cancer_path = f\"{workspace_wasbs_base_url}cancer_subreddit_sentiment.parquet\"\n",
        "cancer_df = spark.read.parquet(cancer_path)\n",
        "\n",
        "not_cancer_path = f\"{workspace_wasbs_base_url}not_cancer_subreddit_sentiment.parquet\"\n",
        "not_cancer = spark.read.parquet(not_cancer_path)\n",
        "\n",
        "cancer_df = cancer_df.withColumn(\"source\", lit(\"cancer\"))\n",
        "\n",
        "not_cancer = not_cancer.withColumn(\"source\", lit(\"non_cancer\"))\n",
        "\n",
        "df = cancer_df.union(not_cancer)\n",
        "df = df.select('text', 'source')\n",
        "\n",
        "df.show()"
      ],
      "outputs": [
        {
          "output_type": "display_data",
          "data": {
            "application/vnd.livy.statement-meta+json": {
              "spark_pool": "ba5e360d-f184-47a0-9859-76b5031b79e3",
              "statement_id": 7,
              "statement_ids": [
                7
              ],
              "state": "finished",
              "livy_statement_state": "available",
              "spark_jobs": {
                "numbers": {
                  "FAILED": 0,
                  "RUNNING": 0,
                  "UNKNOWN": 0,
                  "SUCCEEDED": 4
                },
                "jobs": [
                  {
                    "displayName": "showString at NativeMethodAccessorImpl.java:0",
                    "dataWritten": 0,
                    "dataRead": 2987586,
                    "rowCount": 8192,
                    "usageDescription": "",
                    "jobId": 3,
                    "name": "showString at NativeMethodAccessorImpl.java:0",
                    "description": "Job group for statement 7:\nfrom pyspark.sql.functions import lit\n\ncancer_path = f\"{workspace_wasbs_base_url}cancer_subreddit_sentiment.parquet\"\ncancer_df = spark.read.parquet(cancer_path)\n\nnot_cancer_path = f\"{workspace_wasbs_base_url}not_cancer_subreddit_sentiment.parquet\"\nnot_cancer = spark.read.parquet(not_cancer_path)\n\ncancer_df = cancer_df.withColumn(\"source\", lit(\"cancer\"))\n\nnot_cancer = not_cancer.withColumn(\"source\", lit(\"non_cancer\"))\n\ndf = cancer_df.union(not_cancer)\ndf = df.select('text', 'source')\n\ndf.show()",
                    "submissionTime": "2024-12-08T21:17:35.910GMT",
                    "completionTime": "2024-12-08T21:17:37.561GMT",
                    "stageIds": [
                      3
                    ],
                    "jobGroup": "7",
                    "status": "SUCCEEDED",
                    "numTasks": 4,
                    "numActiveTasks": 0,
                    "numCompletedTasks": 4,
                    "numSkippedTasks": 0,
                    "numFailedTasks": 0,
                    "numKilledTasks": 0,
                    "numCompletedIndices": 4,
                    "numActiveStages": 0,
                    "numCompletedStages": 1,
                    "numSkippedStages": 0,
                    "numFailedStages": 0,
                    "killedTasksSummary": {}
                  },
                  {
                    "displayName": "showString at NativeMethodAccessorImpl.java:0",
                    "dataWritten": 0,
                    "dataRead": 22508,
                    "rowCount": 0,
                    "usageDescription": "",
                    "jobId": 2,
                    "name": "showString at NativeMethodAccessorImpl.java:0",
                    "description": "Job group for statement 7:\nfrom pyspark.sql.functions import lit\n\ncancer_path = f\"{workspace_wasbs_base_url}cancer_subreddit_sentiment.parquet\"\ncancer_df = spark.read.parquet(cancer_path)\n\nnot_cancer_path = f\"{workspace_wasbs_base_url}not_cancer_subreddit_sentiment.parquet\"\nnot_cancer = spark.read.parquet(not_cancer_path)\n\ncancer_df = cancer_df.withColumn(\"source\", lit(\"cancer\"))\n\nnot_cancer = not_cancer.withColumn(\"source\", lit(\"non_cancer\"))\n\ndf = cancer_df.union(not_cancer)\ndf = df.select('text', 'source')\n\ndf.show()",
                    "submissionTime": "2024-12-08T21:17:34.845GMT",
                    "completionTime": "2024-12-08T21:17:35.875GMT",
                    "stageIds": [
                      2
                    ],
                    "jobGroup": "7",
                    "status": "SUCCEEDED",
                    "numTasks": 1,
                    "numActiveTasks": 0,
                    "numCompletedTasks": 1,
                    "numSkippedTasks": 0,
                    "numFailedTasks": 0,
                    "numKilledTasks": 0,
                    "numCompletedIndices": 1,
                    "numActiveStages": 0,
                    "numCompletedStages": 1,
                    "numSkippedStages": 0,
                    "numFailedStages": 0,
                    "killedTasksSummary": {}
                  },
                  {
                    "displayName": "parquet at NativeMethodAccessorImpl.java:0",
                    "dataWritten": 0,
                    "dataRead": 0,
                    "rowCount": 0,
                    "usageDescription": "",
                    "jobId": 1,
                    "name": "parquet at NativeMethodAccessorImpl.java:0",
                    "description": "Job group for statement 7:\nfrom pyspark.sql.functions import lit\n\ncancer_path = f\"{workspace_wasbs_base_url}cancer_subreddit_sentiment.parquet\"\ncancer_df = spark.read.parquet(cancer_path)\n\nnot_cancer_path = f\"{workspace_wasbs_base_url}not_cancer_subreddit_sentiment.parquet\"\nnot_cancer = spark.read.parquet(not_cancer_path)\n\ncancer_df = cancer_df.withColumn(\"source\", lit(\"cancer\"))\n\nnot_cancer = not_cancer.withColumn(\"source\", lit(\"non_cancer\"))\n\ndf = cancer_df.union(not_cancer)\ndf = df.select('text', 'source')\n\ndf.show()",
                    "submissionTime": "2024-12-08T21:17:29.926GMT",
                    "completionTime": "2024-12-08T21:17:32.952GMT",
                    "stageIds": [
                      1
                    ],
                    "jobGroup": "7",
                    "status": "SUCCEEDED",
                    "numTasks": 1,
                    "numActiveTasks": 0,
                    "numCompletedTasks": 1,
                    "numSkippedTasks": 0,
                    "numFailedTasks": 0,
                    "numKilledTasks": 0,
                    "numCompletedIndices": 1,
                    "numActiveStages": 0,
                    "numCompletedStages": 1,
                    "numSkippedStages": 0,
                    "numFailedStages": 0,
                    "killedTasksSummary": {}
                  },
                  {
                    "displayName": "parquet at NativeMethodAccessorImpl.java:0",
                    "dataWritten": 0,
                    "dataRead": 0,
                    "rowCount": 0,
                    "usageDescription": "",
                    "jobId": 0,
                    "name": "parquet at NativeMethodAccessorImpl.java:0",
                    "description": "Job group for statement 7:\nfrom pyspark.sql.functions import lit\n\ncancer_path = f\"{workspace_wasbs_base_url}cancer_subreddit_sentiment.parquet\"\ncancer_df = spark.read.parquet(cancer_path)\n\nnot_cancer_path = f\"{workspace_wasbs_base_url}not_cancer_subreddit_sentiment.parquet\"\nnot_cancer = spark.read.parquet(not_cancer_path)\n\ncancer_df = cancer_df.withColumn(\"source\", lit(\"cancer\"))\n\nnot_cancer = not_cancer.withColumn(\"source\", lit(\"non_cancer\"))\n\ndf = cancer_df.union(not_cancer)\ndf = df.select('text', 'source')\n\ndf.show()",
                    "submissionTime": "2024-12-08T21:17:24.663GMT",
                    "completionTime": "2024-12-08T21:17:28.782GMT",
                    "stageIds": [
                      0
                    ],
                    "jobGroup": "7",
                    "status": "SUCCEEDED",
                    "numTasks": 1,
                    "numActiveTasks": 0,
                    "numCompletedTasks": 1,
                    "numSkippedTasks": 0,
                    "numFailedTasks": 0,
                    "numKilledTasks": 0,
                    "numCompletedIndices": 1,
                    "numActiveStages": 0,
                    "numCompletedStages": 1,
                    "numSkippedStages": 0,
                    "numFailedStages": 0,
                    "killedTasksSummary": {}
                  }
                ],
                "limit": 20,
                "rule": "ALL_DESC"
              },
              "session_id": "45",
              "normalized_state": "finished",
              "queued_time": "2024-12-08T21:17:23.7317799Z",
              "session_start_time": null,
              "execution_start_time": "2024-12-08T21:17:23.8632471Z",
              "execution_finish_time": "2024-12-08T21:17:39.3640928Z",
              "parent_msg_id": "26d29bd5-61f1-4109-86dd-ebc1d0ddaf8f"
            },
            "text/plain": "StatementMeta(ba5e360d-f184-47a0-9859-76b5031b79e3, 45, 7, Finished, Available, Finished)"
          },
          "metadata": {}
        },
        {
          "output_type": "stream",
          "name": "stdout",
          "text": "+--------------------+------+\n|                text|source|\n+--------------------+------+\n|Check out Northsi...|cancer|\n|I had something s...|cancer|\n|That's an insulti...|cancer|\n|Yeah sorry, it wa...|cancer|\n|I see my colorect...|cancer|\n|The couple of ran...|cancer|\n|I’ve encountered ...|cancer|\n|I 100% agree with...|cancer|\n|You should not ha...|cancer|\n|**Your post has b...|cancer|\n|Completely agree ...|cancer|\n|Butt's have oil s...|cancer|\n|I just found I ha...|cancer|\n|in the mid 2000s ...|cancer|\n|If you know all y...|cancer|\n|Ultimately, us nu...|cancer|\n|I had one the siz...|cancer|\n|yeah I see that n...|cancer|\n|This has been a r...|cancer|\n|Day to day is dif...|cancer|\n+--------------------+------+\nonly showing top 20 rows\n\n"
        }
      ],
      "execution_count": 2,
      "metadata": {
        "gather": {
          "logged": 1733692659464
        }
      }
    },
    {
      "cell_type": "code",
      "source": [
        "import pandas as pd\n",
        "import nrclex\n",
        "import nltk\n",
        "from nltk.tokenize import word_tokenize\n",
        "from multiprocessing import Pool\n",
        "\n",
        "# Download NLTK data for tokenization\n",
        "nltk.download('punkt')\n",
        "\n",
        "# Initialize NRC lexicon\n",
        "nrc_lex = nrclex.NRCLex()\n",
        "\n",
        "# Define a function to get sentiment from NRC lexicon\n",
        "def get_sentiment(text):\n",
        "    if isinstance(text, str):\n",
        "        nrc_lex.affect_frequencies = nrc_lex.analyze(text)\n",
        "        # Extracting positive, negative, and neutral sentiment\n",
        "        sentiment = {\n",
        "            \"positive\": nrc_lex.affect_frequencies.get(\"positive\", 0),\n",
        "            \"negative\": nrc_lex.affect_frequencies.get(\"negative\", 0),\n",
        "            \"neutral\": nrc_lex.affect_frequencies.get(\"neutral\", 0)\n",
        "        }\n",
        "        return sentiment\n",
        "    return {\"positive\": 0, \"negative\": 0, \"neutral\": 0}\n",
        "\n",
        "# Function to apply NRC lexicon sentiment analysis on a DataFrame chunk\n",
        "def process_chunk(chunk):\n",
        "    chunk[['positive', 'negative', 'neutral']] = chunk['text_column'].apply(get_sentiment).apply(pd.Series)\n",
        "    return chunk\n",
        "\n",
        "# Step 1: Load the Parquet file into a Pandas DataFrame\n",
        "#parquet_path = 'your_parquet_file.parquet'\n",
        "#df = pd.read_parquet(parquet_path)\n",
        "\n",
        "# Step 2: Split the DataFrame into chunks (for example, split into 4 chunks)\n",
        "num_chunks = 4  # Number of chunks to split the DataFrame\n",
        "chunk_size = len(df) // num_chunks\n",
        "chunks = [df.iloc[i:i + chunk_size] for i in range(0, len(df), chunk_size)]\n",
        "\n",
        "# Step 3: Set up the multiprocessing pool and apply the function to each chunk\n",
        "with Pool(processes=num_chunks) as pool:\n",
        "    result_chunks = pool.map(process_chunk, chunks)\n",
        "\n",
        "# Step 4: Combine the processed chunks back into a single DataFrame\n",
        "final_df = pd.concat(result_chunks, ignore_index=True)\n",
        "\n",
        "# Step 5: Save the updated DataFrame to a new Parquet file\n",
        "final_df.to_parquet('sentiment_analysis_parallel_output.parquet')\n",
        "\n",
        "# Optional: Print the first few rows to check the results\n",
        "print(final_df.head())\n"
      ],
      "outputs": [
        {
          "output_type": "display_data",
          "data": {
            "application/vnd.livy.statement-meta+json": {
              "spark_pool": "ba5e360d-f184-47a0-9859-76b5031b79e3",
              "statement_id": 8,
              "statement_ids": [
                8
              ],
              "state": "finished",
              "livy_statement_state": "available",
              "spark_jobs": {
                "numbers": {
                  "FAILED": 0,
                  "RUNNING": 0,
                  "UNKNOWN": 0,
                  "SUCCEEDED": 0
                },
                "jobs": [],
                "limit": 20,
                "rule": "ALL_DESC"
              },
              "session_id": "45",
              "normalized_state": "finished",
              "queued_time": "2024-12-08T21:17:43.5715114Z",
              "session_start_time": null,
              "execution_start_time": "2024-12-08T21:17:43.6919466Z",
              "execution_finish_time": "2024-12-08T21:17:44.9077093Z",
              "parent_msg_id": "621b0bfc-e424-4e64-bed0-4094114fb5ad"
            },
            "text/plain": "StatementMeta(ba5e360d-f184-47a0-9859-76b5031b79e3, 45, 8, Finished, Available, Finished)"
          },
          "metadata": {}
        },
        {
          "output_type": "error",
          "ename": "ModuleNotFoundError",
          "evalue": "No module named 'nrclex'",
          "traceback": [
            "\u001b[0;31m---------------------------------------------------------------------------\u001b[0m",
            "\u001b[0;31mModuleNotFoundError\u001b[0m                       Traceback (most recent call last)",
            "Cell \u001b[0;32mIn [15], line 2\u001b[0m\n\u001b[1;32m      1\u001b[0m \u001b[38;5;28;01mimport\u001b[39;00m \u001b[38;5;21;01mpandas\u001b[39;00m \u001b[38;5;28;01mas\u001b[39;00m \u001b[38;5;21;01mpd\u001b[39;00m\n\u001b[0;32m----> 2\u001b[0m \u001b[38;5;28;01mimport\u001b[39;00m \u001b[38;5;21;01mnrclex\u001b[39;00m\n\u001b[1;32m      3\u001b[0m \u001b[38;5;28;01mimport\u001b[39;00m \u001b[38;5;21;01mnltk\u001b[39;00m\n\u001b[1;32m      4\u001b[0m \u001b[38;5;28;01mfrom\u001b[39;00m \u001b[38;5;21;01mnltk\u001b[39;00m\u001b[38;5;21;01m.\u001b[39;00m\u001b[38;5;21;01mtokenize\u001b[39;00m \u001b[38;5;28;01mimport\u001b[39;00m word_tokenize\n",
            "\u001b[0;31mModuleNotFoundError\u001b[0m: No module named 'nrclex'"
          ]
        }
      ],
      "execution_count": 3,
      "metadata": {
        "jupyter": {
          "source_hidden": false,
          "outputs_hidden": false
        },
        "nteract": {
          "transient": {
            "deleting": false
          }
        },
        "gather": {
          "logged": 1733692665072
        }
      }
    }
  ],
  "metadata": {
    "kernelspec": {
      "name": "synapse_pyspark",
      "language": "Python",
      "display_name": "Synapse PySpark"
    },
    "language_info": {
      "name": "python",
      "version": "3.8.0",
      "mimetype": "text/x-python",
      "file_extension": ".py",
      "pygments_lexer": "ipython",
      "codemirror_mode": "ipython",
      "nbconvert_exporter": "python"
    },
    "microsoft": {
      "ms_spell_check": {
        "ms_spell_check_language": "en"
      }
    },
    "kernel_info": {
      "name": "synapse_pyspark"
    },
    "nteract": {
      "version": "nteract-front-end@1.0.0"
    }
  },
  "nbformat": 4,
  "nbformat_minor": 2
}