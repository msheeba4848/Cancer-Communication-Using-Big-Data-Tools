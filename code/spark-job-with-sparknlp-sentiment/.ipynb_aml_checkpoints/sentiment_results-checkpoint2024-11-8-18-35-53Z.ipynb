{
  "cells": [
    {
      "cell_type": "markdown",
      "source": [
        "# Review the Results of the NLP Pretrained Model\n",
        "\n",
        "This model is very basic, but this folder shows you how to create an NLP pipeline with a pretrained model.\n",
        "\n",
        "The .py file saved the results to a parquet that is stored in our container. We are reading it back here to review."
      ],
      "metadata": {
        "nteract": {
          "transient": {
            "deleting": false
          }
        }
      }
    },
    {
      "cell_type": "code",
      "source": [
        "spark"
      ],
      "outputs": [
        {
          "output_type": "display_data",
          "data": {
            "application/vnd.livy.statement-meta+json": {
              "spark_pool": "ba5e360d-f184-47a0-9859-76b5031b79e3",
              "statement_id": 7,
              "statement_ids": [
                7
              ],
              "state": "finished",
              "livy_statement_state": "available",
              "spark_jobs": {
                "numbers": {
                  "FAILED": 0,
                  "RUNNING": 0,
                  "UNKNOWN": 0,
                  "SUCCEEDED": 0
                },
                "jobs": [],
                "limit": 20,
                "rule": "ALL_DESC"
              },
              "session_id": "41",
              "normalized_state": "finished",
              "queued_time": "2024-12-08T18:12:28.8965083Z",
              "session_start_time": null,
              "execution_start_time": "2024-12-08T18:12:29.0808697Z",
              "execution_finish_time": "2024-12-08T18:12:29.4140321Z",
              "parent_msg_id": "7362261a-0bee-40d7-8a4e-df89b647d039"
            },
            "text/plain": "StatementMeta(ba5e360d-f184-47a0-9859-76b5031b79e3, 41, 7, Finished, Available, Finished)"
          },
          "metadata": {}
        },
        {
          "output_type": "execute_result",
          "execution_count": 13,
          "data": {
            "text/plain": "<pyspark.sql.session.SparkSession at 0x7fa3c04fc880>",
            "text/html": "\n            <div>\n                <p><b>SparkSession - hive</b></p>\n                \n        <div>\n            <p><b>SparkContext</b></p>\n\n            <p><a href=\"http://vm-75159785:38673\">Spark UI</a></p>\n\n            <dl>\n              <dt>Version</dt>\n                <dd><code>v3.3.1.5.2.20240522.3</code></dd>\n              <dt>Master</dt>\n                <dd><code>yarn</code></dd>\n              <dt>AppName</dt>\n                <dd><code>Azure ML Experiment</code></dd>\n            </dl>\n        </div>\n        \n            </div>\n        "
          },
          "metadata": {}
        }
      ],
      "execution_count": 2,
      "metadata": {
        "gather": {
          "logged": 1733681549500
        }
      }
    },
    {
      "cell_type": "code",
      "source": [
        "workspace_default_storage_account = \"projectgstoragedfb938a3e\"\n",
        "workspace_default_container = \"azureml-blobstore-becc8696-e562-432e-af12-8a5e3e1f9b0f\"\n",
        "workspace_wasbs_base_url = f\"wasbs://{workspace_default_container}@{workspace_default_storage_account}.blob.core.windows.net/\"\n",
        "\n",
        "# the parquet path again\n",
        "output_path = f\"{workspace_wasbs_base_url}nlp_result_sample_submissions.parquet\"\n",
        "\n",
        "# Read the Parquet file back into a dataframe\n",
        "df_read_back = spark.read.parquet(output_path)\n",
        "\n",
        "# Show first 5 rows\n",
        "df_read_back.show(5)"
      ],
      "outputs": [
        {
          "output_type": "display_data",
          "data": {
            "application/vnd.livy.statement-meta+json": {
              "spark_pool": "ba5e360d-f184-47a0-9859-76b5031b79e3",
              "statement_id": 8,
              "statement_ids": [
                8
              ],
              "state": "finished",
              "livy_statement_state": "available",
              "spark_jobs": {
                "numbers": {
                  "FAILED": 0,
                  "RUNNING": 0,
                  "UNKNOWN": 0,
                  "SUCCEEDED": 2
                },
                "jobs": [
                  {
                    "displayName": "showString at NativeMethodAccessorImpl.java:0",
                    "dataWritten": 0,
                    "dataRead": 736376,
                    "rowCount": 6,
                    "usageDescription": "",
                    "jobId": 1,
                    "name": "showString at NativeMethodAccessorImpl.java:0",
                    "description": "Job group for statement 8:\nworkspace_default_storage_account = \"projectgstoragedfb938a3e\"\nworkspace_default_container = \"azureml-blobstore-becc8696-e562-432e-af12-8a5e3e1f9b0f\"\nworkspace_wasbs_base_url = f\"wasbs://{workspace_default_container}@{workspace_default_storage_account}.blob.core.windows.net/\"\n\n# the parquet path again\noutput_path = f\"{workspace_wasbs_base_url}nlp_result_sample_submissions.parquet\"\n\n# Read the Parquet file back into a dataframe\ndf_read_back = spark.read.parquet(output_path)\n\n# Show first 5 rows\ndf_read_back.show(5)",
                    "submissionTime": "2024-12-08T18:12:44.133GMT",
                    "completionTime": "2024-12-08T18:12:52.581GMT",
                    "stageIds": [
                      1
                    ],
                    "jobGroup": "8",
                    "status": "SUCCEEDED",
                    "numTasks": 1,
                    "numActiveTasks": 0,
                    "numCompletedTasks": 1,
                    "numSkippedTasks": 0,
                    "numFailedTasks": 0,
                    "numKilledTasks": 0,
                    "numCompletedIndices": 1,
                    "numActiveStages": 0,
                    "numCompletedStages": 1,
                    "numSkippedStages": 0,
                    "numFailedStages": 0,
                    "killedTasksSummary": {}
                  },
                  {
                    "displayName": "parquet at NativeMethodAccessorImpl.java:0",
                    "dataWritten": 0,
                    "dataRead": 0,
                    "rowCount": 0,
                    "usageDescription": "",
                    "jobId": 0,
                    "name": "parquet at NativeMethodAccessorImpl.java:0",
                    "description": "Job group for statement 8:\nworkspace_default_storage_account = \"projectgstoragedfb938a3e\"\nworkspace_default_container = \"azureml-blobstore-becc8696-e562-432e-af12-8a5e3e1f9b0f\"\nworkspace_wasbs_base_url = f\"wasbs://{workspace_default_container}@{workspace_default_storage_account}.blob.core.windows.net/\"\n\n# the parquet path again\noutput_path = f\"{workspace_wasbs_base_url}nlp_result_sample_submissions.parquet\"\n\n# Read the Parquet file back into a dataframe\ndf_read_back = spark.read.parquet(output_path)\n\n# Show first 5 rows\ndf_read_back.show(5)",
                    "submissionTime": "2024-12-08T18:12:34.398GMT",
                    "completionTime": "2024-12-08T18:12:40.603GMT",
                    "stageIds": [
                      0
                    ],
                    "jobGroup": "8",
                    "status": "SUCCEEDED",
                    "numTasks": 1,
                    "numActiveTasks": 0,
                    "numCompletedTasks": 1,
                    "numSkippedTasks": 0,
                    "numFailedTasks": 0,
                    "numKilledTasks": 0,
                    "numCompletedIndices": 1,
                    "numActiveStages": 0,
                    "numCompletedStages": 1,
                    "numSkippedStages": 0,
                    "numFailedStages": 0,
                    "killedTasksSummary": {}
                  }
                ],
                "limit": 20,
                "rule": "ALL_DESC"
              },
              "session_id": "41",
              "normalized_state": "finished",
              "queued_time": "2024-12-08T18:12:33.1487901Z",
              "session_start_time": null,
              "execution_start_time": "2024-12-08T18:12:33.2636538Z",
              "execution_finish_time": "2024-12-08T18:12:54.2363769Z",
              "parent_msg_id": "e43b19e2-5e2c-4686-8d8f-90df9390e94b"
            },
            "text/plain": "StatementMeta(ba5e360d-f184-47a0-9859-76b5031b79e3, 41, 8, Finished, Available, Finished)"
          },
          "metadata": {}
        },
        {
          "output_type": "stream",
          "name": "stdout",
          "text": "+--------------------+--------------------+--------------------+--------------------+--------------------+--------------------+--------------------+--------------------+\n|                text|            document|            sentence|               token|               spell|              lemmas|               stems|                 pos|\n+--------------------+--------------------+--------------------+--------------------+--------------------+--------------------+--------------------+--------------------+\n|Hi, I hope this i...|[{document, 0, 85...|[{document, 0, 23...|[{token, 0, 1, Hi...|[{token, 0, 1, Hi...|[{token, 0, 1, Hi...|[{token, 0, 1, hi...|[{pos, 0, 1, NNP,...|\n|33 male, i have d...|[{document, 0, 27...|[{document, 0, 68...|[{token, 0, 1, 33...|[{token, 0, 1, 33...|[{token, 0, 1, 33...|[{token, 0, 1, 33...|[{pos, 0, 1, CD, ...|\n|           [removed]|[{document, 0, 8,...|[{document, 0, 8,...|[{token, 0, 8, [r...|[{token, 0, 8, [r...|[{token, 0, 8, [r...|[{token, 0, 8, [r...|[{pos, 0, 8, NN, ...|\n|           [removed]|[{document, 0, 8,...|[{document, 0, 8,...|[{token, 0, 8, [r...|[{token, 0, 8, [r...|[{token, 0, 8, [r...|[{token, 0, 8, [r...|[{pos, 0, 8, NN, ...|\n|83F, Cancer dx (u...|[{document, 0, 27...|[{document, 0, 16...|[{token, 0, 2, 83...|[{token, 0, 2, 83...|[{token, 0, 2, 83...|[{token, 0, 2, 83...|[{pos, 0, 2, CD, ...|\n+--------------------+--------------------+--------------------+--------------------+--------------------+--------------------+--------------------+--------------------+\nonly showing top 5 rows\n\n"
        }
      ],
      "execution_count": 3,
      "metadata": {
        "jupyter": {
          "source_hidden": false,
          "outputs_hidden": false
        },
        "nteract": {
          "transient": {
            "deleting": false
          }
        },
        "gather": {
          "logged": 1733681574371
        }
      }
    },
    {
      "cell_type": "code",
      "source": [
        "output_path = f\"{workspace_wasbs_base_url}cancer_subreddit_sentiment.parquet\"\n",
        "# Read the Parquet file back into a dataframe\n",
        "df_read_back = spark.read.parquet(output_path)\n",
        "\n",
        "# Show first 5 rows\n",
        "df_read_back.show(5)\n",
        "df_read_back.printSchema()"
      ],
      "outputs": [
        {
          "output_type": "display_data",
          "data": {
            "application/vnd.livy.statement-meta+json": {
              "spark_pool": "ba5e360d-f184-47a0-9859-76b5031b79e3",
              "statement_id": 9,
              "statement_ids": [
                9
              ],
              "state": "finished",
              "livy_statement_state": "available",
              "spark_jobs": {
                "numbers": {
                  "FAILED": 0,
                  "RUNNING": 0,
                  "UNKNOWN": 0,
                  "SUCCEEDED": 3
                },
                "jobs": [
                  {
                    "displayName": "showString at NativeMethodAccessorImpl.java:0",
                    "dataWritten": 0,
                    "dataRead": 12356799,
                    "rowCount": 6,
                    "usageDescription": "",
                    "jobId": 4,
                    "name": "showString at NativeMethodAccessorImpl.java:0",
                    "description": "Job group for statement 9:\noutput_path = f\"{workspace_wasbs_base_url}cancer_subreddit_sentiment.parquet\"\n# Read the Parquet file back into a dataframe\ndf_read_back = spark.read.parquet(output_path)\n\n# Show first 5 rows\ndf_read_back.show(5)\ndf_read_back.printSchema()",
                    "submissionTime": "2024-12-08T18:13:02.131GMT",
                    "completionTime": "2024-12-08T18:13:05.684GMT",
                    "stageIds": [
                      4
                    ],
                    "jobGroup": "9",
                    "status": "SUCCEEDED",
                    "numTasks": 2,
                    "numActiveTasks": 0,
                    "numCompletedTasks": 2,
                    "numSkippedTasks": 0,
                    "numFailedTasks": 0,
                    "numKilledTasks": 0,
                    "numCompletedIndices": 2,
                    "numActiveStages": 0,
                    "numCompletedStages": 1,
                    "numSkippedStages": 0,
                    "numFailedStages": 0,
                    "killedTasksSummary": {}
                  },
                  {
                    "displayName": "showString at NativeMethodAccessorImpl.java:0",
                    "dataWritten": 0,
                    "dataRead": 22508,
                    "rowCount": 0,
                    "usageDescription": "",
                    "jobId": 3,
                    "name": "showString at NativeMethodAccessorImpl.java:0",
                    "description": "Job group for statement 9:\noutput_path = f\"{workspace_wasbs_base_url}cancer_subreddit_sentiment.parquet\"\n# Read the Parquet file back into a dataframe\ndf_read_back = spark.read.parquet(output_path)\n\n# Show first 5 rows\ndf_read_back.show(5)\ndf_read_back.printSchema()",
                    "submissionTime": "2024-12-08T18:13:01.654GMT",
                    "completionTime": "2024-12-08T18:13:02.121GMT",
                    "stageIds": [
                      3
                    ],
                    "jobGroup": "9",
                    "status": "SUCCEEDED",
                    "numTasks": 1,
                    "numActiveTasks": 0,
                    "numCompletedTasks": 1,
                    "numSkippedTasks": 0,
                    "numFailedTasks": 0,
                    "numKilledTasks": 0,
                    "numCompletedIndices": 1,
                    "numActiveStages": 0,
                    "numCompletedStages": 1,
                    "numSkippedStages": 0,
                    "numFailedStages": 0,
                    "killedTasksSummary": {}
                  },
                  {
                    "displayName": "parquet at NativeMethodAccessorImpl.java:0",
                    "dataWritten": 0,
                    "dataRead": 0,
                    "rowCount": 0,
                    "usageDescription": "",
                    "jobId": 2,
                    "name": "parquet at NativeMethodAccessorImpl.java:0",
                    "description": "Job group for statement 9:\noutput_path = f\"{workspace_wasbs_base_url}cancer_subreddit_sentiment.parquet\"\n# Read the Parquet file back into a dataframe\ndf_read_back = spark.read.parquet(output_path)\n\n# Show first 5 rows\ndf_read_back.show(5)\ndf_read_back.printSchema()",
                    "submissionTime": "2024-12-08T18:13:00.884GMT",
                    "completionTime": "2024-12-08T18:13:01.274GMT",
                    "stageIds": [
                      2
                    ],
                    "jobGroup": "9",
                    "status": "SUCCEEDED",
                    "numTasks": 1,
                    "numActiveTasks": 0,
                    "numCompletedTasks": 1,
                    "numSkippedTasks": 0,
                    "numFailedTasks": 0,
                    "numKilledTasks": 0,
                    "numCompletedIndices": 1,
                    "numActiveStages": 0,
                    "numCompletedStages": 1,
                    "numSkippedStages": 0,
                    "numFailedStages": 0,
                    "killedTasksSummary": {}
                  }
                ],
                "limit": 20,
                "rule": "ALL_DESC"
              },
              "session_id": "41",
              "normalized_state": "finished",
              "queued_time": "2024-12-08T18:13:00.5753442Z",
              "session_start_time": null,
              "execution_start_time": "2024-12-08T18:13:00.7159297Z",
              "execution_finish_time": "2024-12-08T18:13:07.1187868Z",
              "parent_msg_id": "fd87e874-a15b-4919-b862-5c93e491190d"
            },
            "text/plain": "StatementMeta(ba5e360d-f184-47a0-9859-76b5031b79e3, 41, 9, Finished, Available, Finished)"
          },
          "metadata": {}
        },
        {
          "output_type": "stream",
          "name": "stdout",
          "text": "+--------------------+--------------------+--------------------+--------------------+--------------------+--------------------+\n|                text|            document|            sentence|               token|             checked|           sentiment|\n+--------------------+--------------------+--------------------+--------------------+--------------------+--------------------+\n|Check out Northsi...|[{document, 0, 26...|[{document, 0, 85...|[{token, 0, 4, Ch...|[{token, 0, 4, Ch...|[{sentiment, 0, 8...|\n|I had something s...|[{document, 0, 22...|[{document, 0, 67...|[{token, 0, 0, I,...|[{token, 0, 0, I,...|[{sentiment, 0, 6...|\n|That's an insulti...|[{document, 0, 22...|[{document, 0, 40...|[{token, 0, 5, Th...|[{token, 0, 5, th...|[{sentiment, 0, 4...|\n|Yeah sorry, it wa...|[{document, 0, 84...|[{document, 0, 29...|[{token, 0, 3, Ye...|[{token, 0, 3, Ye...|[{sentiment, 0, 2...|\n|I see my colorect...|[{document, 0, 65...|[{document, 0, 31...|[{token, 0, 0, I,...|[{token, 0, 0, I,...|[{sentiment, 0, 3...|\n+--------------------+--------------------+--------------------+--------------------+--------------------+--------------------+\nonly showing top 5 rows\n\nroot\n |-- text: string (nullable = true)\n |-- document: array (nullable = true)\n |    |-- element: struct (containsNull = true)\n |    |    |-- annotatorType: string (nullable = true)\n |    |    |-- begin: integer (nullable = true)\n |    |    |-- end: integer (nullable = true)\n |    |    |-- result: string (nullable = true)\n |    |    |-- metadata: map (nullable = true)\n |    |    |    |-- key: string\n |    |    |    |-- value: string (valueContainsNull = true)\n |    |    |-- embeddings: array (nullable = true)\n |    |    |    |-- element: float (containsNull = true)\n |-- sentence: array (nullable = true)\n |    |-- element: struct (containsNull = true)\n |    |    |-- annotatorType: string (nullable = true)\n |    |    |-- begin: integer (nullable = true)\n |    |    |-- end: integer (nullable = true)\n |    |    |-- result: string (nullable = true)\n |    |    |-- metadata: map (nullable = true)\n |    |    |    |-- key: string\n |    |    |    |-- value: string (valueContainsNull = true)\n |    |    |-- embeddings: array (nullable = true)\n |    |    |    |-- element: float (containsNull = true)\n |-- token: array (nullable = true)\n |    |-- element: struct (containsNull = true)\n |    |    |-- annotatorType: string (nullable = true)\n |    |    |-- begin: integer (nullable = true)\n |    |    |-- end: integer (nullable = true)\n |    |    |-- result: string (nullable = true)\n |    |    |-- metadata: map (nullable = true)\n |    |    |    |-- key: string\n |    |    |    |-- value: string (valueContainsNull = true)\n |    |    |-- embeddings: array (nullable = true)\n |    |    |    |-- element: float (containsNull = true)\n |-- checked: array (nullable = true)\n |    |-- element: struct (containsNull = true)\n |    |    |-- annotatorType: string (nullable = true)\n |    |    |-- begin: integer (nullable = true)\n |    |    |-- end: integer (nullable = true)\n |    |    |-- result: string (nullable = true)\n |    |    |-- metadata: map (nullable = true)\n |    |    |    |-- key: string\n |    |    |    |-- value: string (valueContainsNull = true)\n |    |    |-- embeddings: array (nullable = true)\n |    |    |    |-- element: float (containsNull = true)\n |-- sentiment: array (nullable = true)\n |    |-- element: struct (containsNull = true)\n |    |    |-- annotatorType: string (nullable = true)\n |    |    |-- begin: integer (nullable = true)\n |    |    |-- end: integer (nullable = true)\n |    |    |-- result: string (nullable = true)\n |    |    |-- metadata: map (nullable = true)\n |    |    |    |-- key: string\n |    |    |    |-- value: string (valueContainsNull = true)\n |    |    |-- embeddings: array (nullable = true)\n |    |    |    |-- element: float (containsNull = true)\n\n"
        }
      ],
      "execution_count": 4,
      "metadata": {
        "jupyter": {
          "source_hidden": false,
          "outputs_hidden": false
        },
        "nteract": {
          "transient": {
            "deleting": false
          }
        },
        "gather": {
          "logged": 1733681587203
        }
      }
    },
    {
      "cell_type": "code",
      "source": [
        "from pyspark.sql import functions as F\n",
        "df_flat = df_read_back.withColumn(\"sentiment_result\", F.explode(F.col(\"sentiment\"))) \\\n",
        "            .select(\"text\", \"sentiment_result.result\")\n",
        "\n",
        "# Show the results\n",
        "df_flat.show(truncate=False)"
      ],
      "outputs": [
        {
          "output_type": "display_data",
          "data": {
            "application/vnd.livy.statement-meta+json": {
              "spark_pool": "ba5e360d-f184-47a0-9859-76b5031b79e3",
              "statement_id": 9,
              "statement_ids": [
                9
              ],
              "state": "finished",
              "livy_statement_state": "available",
              "spark_jobs": {
                "numbers": {
                  "UNKNOWN": 0,
                  "SUCCEEDED": 2,
                  "FAILED": 0,
                  "RUNNING": 0
                },
                "jobs": [
                  {
                    "displayName": "showString at NativeMethodAccessorImpl.java:0",
                    "dataWritten": 0,
                    "dataRead": 1731073,
                    "rowCount": 1,
                    "usageDescription": "",
                    "jobId": 6,
                    "name": "showString at NativeMethodAccessorImpl.java:0",
                    "description": "Job group for statement 9:\nfrom pyspark.sql import functions as F\ndf_flat = df_read_back.withColumn(\"sentiment_result\", F.explode(F.col(\"sentiment\")))             .select(\"text\", \"sentiment_result.result\")\n\n# Show the results\ndf_flat.show(truncate=False)",
                    "submissionTime": "2024-12-08T06:16:50.905GMT",
                    "completionTime": "2024-12-08T06:16:51.591GMT",
                    "stageIds": [
                      6
                    ],
                    "jobGroup": "9",
                    "status": "SUCCEEDED",
                    "numTasks": 2,
                    "numActiveTasks": 0,
                    "numCompletedTasks": 2,
                    "numSkippedTasks": 0,
                    "numFailedTasks": 0,
                    "numKilledTasks": 0,
                    "numCompletedIndices": 2,
                    "numActiveStages": 0,
                    "numCompletedStages": 1,
                    "numSkippedStages": 0,
                    "numFailedStages": 0,
                    "killedTasksSummary": {}
                  },
                  {
                    "displayName": "showString at NativeMethodAccessorImpl.java:0",
                    "dataWritten": 0,
                    "dataRead": 11254,
                    "rowCount": 0,
                    "usageDescription": "",
                    "jobId": 5,
                    "name": "showString at NativeMethodAccessorImpl.java:0",
                    "description": "Job group for statement 9:\nfrom pyspark.sql import functions as F\ndf_flat = df_read_back.withColumn(\"sentiment_result\", F.explode(F.col(\"sentiment\")))             .select(\"text\", \"sentiment_result.result\")\n\n# Show the results\ndf_flat.show(truncate=False)",
                    "submissionTime": "2024-12-08T06:16:50.506GMT",
                    "completionTime": "2024-12-08T06:16:50.887GMT",
                    "stageIds": [
                      5
                    ],
                    "jobGroup": "9",
                    "status": "SUCCEEDED",
                    "numTasks": 1,
                    "numActiveTasks": 0,
                    "numCompletedTasks": 1,
                    "numSkippedTasks": 0,
                    "numFailedTasks": 0,
                    "numKilledTasks": 0,
                    "numCompletedIndices": 1,
                    "numActiveStages": 0,
                    "numCompletedStages": 1,
                    "numSkippedStages": 0,
                    "numFailedStages": 0,
                    "killedTasksSummary": {}
                  }
                ],
                "limit": 20,
                "rule": "ALL_DESC"
              },
              "session_id": "39",
              "normalized_state": "finished",
              "queued_time": "2024-12-08T06:16:49.8523846Z",
              "session_start_time": null,
              "execution_start_time": "2024-12-08T06:16:49.9848829Z",
              "execution_finish_time": "2024-12-08T06:16:52.4689145Z",
              "parent_msg_id": "7051f3bf-e7d6-4941-bb0c-694c6afa1a5d"
            },
            "text/plain": "StatementMeta(ba5e360d-f184-47a0-9859-76b5031b79e3, 39, 9, Finished, Available, Finished)"
          },
          "metadata": {}
        },
        {
          "output_type": "stream",
          "name": "stdout",
          "text": "+--------------------------------------------------------------------------------------------------------------------------------------------------------------------------------------------------------------------------------------------------------------------------------------------------------------------------------------------------------------------------------------------------------------------------------------------------------------------------------------------------------------------------------------------------------------------------------------------------------------------------------------------------------------------------------------------------------------------------------------------------------------------------------------------------------------------------------------------------------------------------------------------------------------------------------------------------------------------------------------------------------------------------------------------------------------------------------------------------------------------------------------------------------------------------------------------------------------------------------------------------------------------------------------------------------------------------------------------------------------------------------------------------------------------------------------------------------------------------------------------------------------------------------------------------------------------------------------------------------------------------------------------------------------------------------------------------------------------------------------------------------------------------------------------------------------------------------------------------------------------------------------------------------------------------------------------------------------------------------------------------------------------------------------------------------------------------------------------------------------------------------------------------------------------------------------------------------------------------------------------------------------------------------------------------------------------------------------------------------------------------------------------------------------------------------------------------------------------------------------------------------------------------------------------------------------------------------------------------------------------------------------------------------------------------------------------------------------------------------------------------------------------------------------------+--------+\n|text                                                                                                                                                                                                                                                                                                                                                                                                                                                                                                                                                                                                                                                                                                                                                                                                                                                                                                                                                                                                                                                                                                                                                                                                                                                                                                                                                                                                                                                                                                                                                                                                                                                                                                                                                                                                                                                                                                                                                                                                                                                                                                                                                                                                                                                                                                                                                                                                                                                                                                                                                                                                                                                                                                                                                                                        |result  |\n+--------------------------------------------------------------------------------------------------------------------------------------------------------------------------------------------------------------------------------------------------------------------------------------------------------------------------------------------------------------------------------------------------------------------------------------------------------------------------------------------------------------------------------------------------------------------------------------------------------------------------------------------------------------------------------------------------------------------------------------------------------------------------------------------------------------------------------------------------------------------------------------------------------------------------------------------------------------------------------------------------------------------------------------------------------------------------------------------------------------------------------------------------------------------------------------------------------------------------------------------------------------------------------------------------------------------------------------------------------------------------------------------------------------------------------------------------------------------------------------------------------------------------------------------------------------------------------------------------------------------------------------------------------------------------------------------------------------------------------------------------------------------------------------------------------------------------------------------------------------------------------------------------------------------------------------------------------------------------------------------------------------------------------------------------------------------------------------------------------------------------------------------------------------------------------------------------------------------------------------------------------------------------------------------------------------------------------------------------------------------------------------------------------------------------------------------------------------------------------------------------------------------------------------------------------------------------------------------------------------------------------------------------------------------------------------------------------------------------------------------------------------------------------------------+--------+\n|Check out Northside Hospital -Atlanta, Piedmont Atlanta and Emory University Hospital. All good quality and Northside is always awarded \"best places to work\" nationally. I have some friends that joined their Choice+ program in the past year which is basically an internal agency cont act and can get pretty lucrative and you're a hospital employee so get healthcare and are eligible for their pension. Heard the charting and audits of charting suck though. Mid to upper $30's- high $40's I believe is average. Their Choice+ can be up in the $60-70s if in the right specialty \\n\\nPiedmont Atlanta just opened up a new CVICU and has recently expanded it's transplant services. I know over the winter they had sign on bonuses still to get the new units up and running.\\n\\nEmory has always been known for good neurology/neurosurgery services. Otherwise specialties are at least average if not better than. \\n\\nGrady for trauma and I heard they are paying around $50/hr in some unit,  but that's hearsay and haven't confirmed. I used to work there and it's exciting and great experience but hard work. They used to not pay so well but apparently are paying better now at least. \\n\\nWellstar Kennestone or Gwinnett are decent places. Northeast GA if you want to be a little further north of the city.\\n\\nI'm at a nonprofit private hospital that I'd rather name privately but if you're interested would be happy to share via DM. We have set schedules. No weekend commitment or you work weekends but not both typically unless desired that way. If you're not weekends the only weekends you'll ever work is potentially during 3 weeks of holiday schedule. I'm part time float now here and choose to work a weekend day for childcare reasons and get paid $56.49/hr, and $61.49 on my weekend day. Get an annual bonus and 50% 403b matching with no % salary cap. Only capped by IRS contribution limits. Just came off a PRN internal contract in the ICU where I was making $75.50/hr for weekend dayshift. \\n\\nI'm north of ATL in a good area. Typically north of I-20 is better than south. In the city I can't speak to, never lived in the city but it's mixed. Some great, some horrible. Outside the city look at Marietta, Kennesaw, Vinings, Alpharetta, Canton, Roswell, Woodstock, and Duluth. Going west of the city outside the perimeter turns very country very quickly. Land and farm, but worse schools. Going east has some bad areas and gets more rural but has some good spots too\\n\\nI grew up south of ATL. It's generally pretty country further out and population growth is still booming. Some bad spots too though and closer to the city are some dangerous areas littered with crime and gang activity.|negative|\n|Check out Northside Hospital -Atlanta, Piedmont Atlanta and Emory University Hospital. All good quality and Northside is always awarded \"best places to work\" nationally. I have some friends that joined their Choice+ program in the past year which is basically an internal agency cont act and can get pretty lucrative and you're a hospital employee so get healthcare and are eligible for their pension. Heard the charting and audits of charting suck though. Mid to upper $30's- high $40's I believe is average. Their Choice+ can be up in the $60-70s if in the right specialty \\n\\nPiedmont Atlanta just opened up a new CVICU and has recently expanded it's transplant services. I know over the winter they had sign on bonuses still to get the new units up and running.\\n\\nEmory has always been known for good neurology/neurosurgery services. Otherwise specialties are at least average if not better than. \\n\\nGrady for trauma and I heard they are paying around $50/hr in some unit,  but that's hearsay and haven't confirmed. I used to work there and it's exciting and great experience but hard work. They used to not pay so well but apparently are paying better now at least. \\n\\nWellstar Kennestone or Gwinnett are decent places. Northeast GA if you want to be a little further north of the city.\\n\\nI'm at a nonprofit private hospital that I'd rather name privately but if you're interested would be happy to share via DM. We have set schedules. No weekend commitment or you work weekends but not both typically unless desired that way. If you're not weekends the only weekends you'll ever work is potentially during 3 weeks of holiday schedule. I'm part time float now here and choose to work a weekend day for childcare reasons and get paid $56.49/hr, and $61.49 on my weekend day. Get an annual bonus and 50% 403b matching with no % salary cap. Only capped by IRS contribution limits. Just came off a PRN internal contract in the ICU where I was making $75.50/hr for weekend dayshift. \\n\\nI'm north of ATL in a good area. Typically north of I-20 is better than south. In the city I can't speak to, never lived in the city but it's mixed. Some great, some horrible. Outside the city look at Marietta, Kennesaw, Vinings, Alpharetta, Canton, Roswell, Woodstock, and Duluth. Going west of the city outside the perimeter turns very country very quickly. Land and farm, but worse schools. Going east has some bad areas and gets more rural but has some good spots too\\n\\nI grew up south of ATL. It's generally pretty country further out and population growth is still booming. Some bad spots too though and closer to the city are some dangerous areas littered with crime and gang activity.|negative|\n|Check out Northside Hospital -Atlanta, Piedmont Atlanta and Emory University Hospital. All good quality and Northside is always awarded \"best places to work\" nationally. I have some friends that joined their Choice+ program in the past year which is basically an internal agency cont act and can get pretty lucrative and you're a hospital employee so get healthcare and are eligible for their pension. Heard the charting and audits of charting suck though. Mid to upper $30's- high $40's I believe is average. Their Choice+ can be up in the $60-70s if in the right specialty \\n\\nPiedmont Atlanta just opened up a new CVICU and has recently expanded it's transplant services. I know over the winter they had sign on bonuses still to get the new units up and running.\\n\\nEmory has always been known for good neurology/neurosurgery services. Otherwise specialties are at least average if not better than. \\n\\nGrady for trauma and I heard they are paying around $50/hr in some unit,  but that's hearsay and haven't confirmed. I used to work there and it's exciting and great experience but hard work. They used to not pay so well but apparently are paying better now at least. \\n\\nWellstar Kennestone or Gwinnett are decent places. Northeast GA if you want to be a little further north of the city.\\n\\nI'm at a nonprofit private hospital that I'd rather name privately but if you're interested would be happy to share via DM. We have set schedules. No weekend commitment or you work weekends but not both typically unless desired that way. If you're not weekends the only weekends you'll ever work is potentially during 3 weeks of holiday schedule. I'm part time float now here and choose to work a weekend day for childcare reasons and get paid $56.49/hr, and $61.49 on my weekend day. Get an annual bonus and 50% 403b matching with no % salary cap. Only capped by IRS contribution limits. Just came off a PRN internal contract in the ICU where I was making $75.50/hr for weekend dayshift. \\n\\nI'm north of ATL in a good area. Typically north of I-20 is better than south. In the city I can't speak to, never lived in the city but it's mixed. Some great, some horrible. Outside the city look at Marietta, Kennesaw, Vinings, Alpharetta, Canton, Roswell, Woodstock, and Duluth. Going west of the city outside the perimeter turns very country very quickly. Land and farm, but worse schools. Going east has some bad areas and gets more rural but has some good spots too\\n\\nI grew up south of ATL. It's generally pretty country further out and population growth is still booming. Some bad spots too though and closer to the city are some dangerous areas littered with crime and gang activity.|positive|\n|Check out Northside Hospital -Atlanta, Piedmont Atlanta and Emory University Hospital. All good quality and Northside is always awarded \"best places to work\" nationally. I have some friends that joined their Choice+ program in the past year which is basically an internal agency cont act and can get pretty lucrative and you're a hospital employee so get healthcare and are eligible for their pension. Heard the charting and audits of charting suck though. Mid to upper $30's- high $40's I believe is average. Their Choice+ can be up in the $60-70s if in the right specialty \\n\\nPiedmont Atlanta just opened up a new CVICU and has recently expanded it's transplant services. I know over the winter they had sign on bonuses still to get the new units up and running.\\n\\nEmory has always been known for good neurology/neurosurgery services. Otherwise specialties are at least average if not better than. \\n\\nGrady for trauma and I heard they are paying around $50/hr in some unit,  but that's hearsay and haven't confirmed. I used to work there and it's exciting and great experience but hard work. They used to not pay so well but apparently are paying better now at least. \\n\\nWellstar Kennestone or Gwinnett are decent places. Northeast GA if you want to be a little further north of the city.\\n\\nI'm at a nonprofit private hospital that I'd rather name privately but if you're interested would be happy to share via DM. We have set schedules. No weekend commitment or you work weekends but not both typically unless desired that way. If you're not weekends the only weekends you'll ever work is potentially during 3 weeks of holiday schedule. I'm part time float now here and choose to work a weekend day for childcare reasons and get paid $56.49/hr, and $61.49 on my weekend day. Get an annual bonus and 50% 403b matching with no % salary cap. Only capped by IRS contribution limits. Just came off a PRN internal contract in the ICU where I was making $75.50/hr for weekend dayshift. \\n\\nI'm north of ATL in a good area. Typically north of I-20 is better than south. In the city I can't speak to, never lived in the city but it's mixed. Some great, some horrible. Outside the city look at Marietta, Kennesaw, Vinings, Alpharetta, Canton, Roswell, Woodstock, and Duluth. Going west of the city outside the perimeter turns very country very quickly. Land and farm, but worse schools. Going east has some bad areas and gets more rural but has some good spots too\\n\\nI grew up south of ATL. It's generally pretty country further out and population growth is still booming. Some bad spots too though and closer to the city are some dangerous areas littered with crime and gang activity.|negative|\n|Check out Northside Hospital -Atlanta, Piedmont Atlanta and Emory University Hospital. All good quality and Northside is always awarded \"best places to work\" nationally. I have some friends that joined their Choice+ program in the past year which is basically an internal agency cont act and can get pretty lucrative and you're a hospital employee so get healthcare and are eligible for their pension. Heard the charting and audits of charting suck though. Mid to upper $30's- high $40's I believe is average. Their Choice+ can be up in the $60-70s if in the right specialty \\n\\nPiedmont Atlanta just opened up a new CVICU and has recently expanded it's transplant services. I know over the winter they had sign on bonuses still to get the new units up and running.\\n\\nEmory has always been known for good neurology/neurosurgery services. Otherwise specialties are at least average if not better than. \\n\\nGrady for trauma and I heard they are paying around $50/hr in some unit,  but that's hearsay and haven't confirmed. I used to work there and it's exciting and great experience but hard work. They used to not pay so well but apparently are paying better now at least. \\n\\nWellstar Kennestone or Gwinnett are decent places. Northeast GA if you want to be a little further north of the city.\\n\\nI'm at a nonprofit private hospital that I'd rather name privately but if you're interested would be happy to share via DM. We have set schedules. No weekend commitment or you work weekends but not both typically unless desired that way. If you're not weekends the only weekends you'll ever work is potentially during 3 weeks of holiday schedule. I'm part time float now here and choose to work a weekend day for childcare reasons and get paid $56.49/hr, and $61.49 on my weekend day. Get an annual bonus and 50% 403b matching with no % salary cap. Only capped by IRS contribution limits. Just came off a PRN internal contract in the ICU where I was making $75.50/hr for weekend dayshift. \\n\\nI'm north of ATL in a good area. Typically north of I-20 is better than south. In the city I can't speak to, never lived in the city but it's mixed. Some great, some horrible. Outside the city look at Marietta, Kennesaw, Vinings, Alpharetta, Canton, Roswell, Woodstock, and Duluth. Going west of the city outside the perimeter turns very country very quickly. Land and farm, but worse schools. Going east has some bad areas and gets more rural but has some good spots too\\n\\nI grew up south of ATL. It's generally pretty country further out and population growth is still booming. Some bad spots too though and closer to the city are some dangerous areas littered with crime and gang activity.|positive|\n|Check out Northside Hospital -Atlanta, Piedmont Atlanta and Emory University Hospital. All good quality and Northside is always awarded \"best places to work\" nationally. I have some friends that joined their Choice+ program in the past year which is basically an internal agency cont act and can get pretty lucrative and you're a hospital employee so get healthcare and are eligible for their pension. Heard the charting and audits of charting suck though. Mid to upper $30's- high $40's I believe is average. Their Choice+ can be up in the $60-70s if in the right specialty \\n\\nPiedmont Atlanta just opened up a new CVICU and has recently expanded it's transplant services. I know over the winter they had sign on bonuses still to get the new units up and running.\\n\\nEmory has always been known for good neurology/neurosurgery services. Otherwise specialties are at least average if not better than. \\n\\nGrady for trauma and I heard they are paying around $50/hr in some unit,  but that's hearsay and haven't confirmed. I used to work there and it's exciting and great experience but hard work. They used to not pay so well but apparently are paying better now at least. \\n\\nWellstar Kennestone or Gwinnett are decent places. Northeast GA if you want to be a little further north of the city.\\n\\nI'm at a nonprofit private hospital that I'd rather name privately but if you're interested would be happy to share via DM. We have set schedules. No weekend commitment or you work weekends but not both typically unless desired that way. If you're not weekends the only weekends you'll ever work is potentially during 3 weeks of holiday schedule. I'm part time float now here and choose to work a weekend day for childcare reasons and get paid $56.49/hr, and $61.49 on my weekend day. Get an annual bonus and 50% 403b matching with no % salary cap. Only capped by IRS contribution limits. Just came off a PRN internal contract in the ICU where I was making $75.50/hr for weekend dayshift. \\n\\nI'm north of ATL in a good area. Typically north of I-20 is better than south. In the city I can't speak to, never lived in the city but it's mixed. Some great, some horrible. Outside the city look at Marietta, Kennesaw, Vinings, Alpharetta, Canton, Roswell, Woodstock, and Duluth. Going west of the city outside the perimeter turns very country very quickly. Land and farm, but worse schools. Going east has some bad areas and gets more rural but has some good spots too\\n\\nI grew up south of ATL. It's generally pretty country further out and population growth is still booming. Some bad spots too though and closer to the city are some dangerous areas littered with crime and gang activity.|negative|\n|Check out Northside Hospital -Atlanta, Piedmont Atlanta and Emory University Hospital. All good quality and Northside is always awarded \"best places to work\" nationally. I have some friends that joined their Choice+ program in the past year which is basically an internal agency cont act and can get pretty lucrative and you're a hospital employee so get healthcare and are eligible for their pension. Heard the charting and audits of charting suck though. Mid to upper $30's- high $40's I believe is average. Their Choice+ can be up in the $60-70s if in the right specialty \\n\\nPiedmont Atlanta just opened up a new CVICU and has recently expanded it's transplant services. I know over the winter they had sign on bonuses still to get the new units up and running.\\n\\nEmory has always been known for good neurology/neurosurgery services. Otherwise specialties are at least average if not better than. \\n\\nGrady for trauma and I heard they are paying around $50/hr in some unit,  but that's hearsay and haven't confirmed. I used to work there and it's exciting and great experience but hard work. They used to not pay so well but apparently are paying better now at least. \\n\\nWellstar Kennestone or Gwinnett are decent places. Northeast GA if you want to be a little further north of the city.\\n\\nI'm at a nonprofit private hospital that I'd rather name privately but if you're interested would be happy to share via DM. We have set schedules. No weekend commitment or you work weekends but not both typically unless desired that way. If you're not weekends the only weekends you'll ever work is potentially during 3 weeks of holiday schedule. I'm part time float now here and choose to work a weekend day for childcare reasons and get paid $56.49/hr, and $61.49 on my weekend day. Get an annual bonus and 50% 403b matching with no % salary cap. Only capped by IRS contribution limits. Just came off a PRN internal contract in the ICU where I was making $75.50/hr for weekend dayshift. \\n\\nI'm north of ATL in a good area. Typically north of I-20 is better than south. In the city I can't speak to, never lived in the city but it's mixed. Some great, some horrible. Outside the city look at Marietta, Kennesaw, Vinings, Alpharetta, Canton, Roswell, Woodstock, and Duluth. Going west of the city outside the perimeter turns very country very quickly. Land and farm, but worse schools. Going east has some bad areas and gets more rural but has some good spots too\\n\\nI grew up south of ATL. It's generally pretty country further out and population growth is still booming. Some bad spots too though and closer to the city are some dangerous areas littered with crime and gang activity.|negative|\n|Check out Northside Hospital -Atlanta, Piedmont Atlanta and Emory University Hospital. All good quality and Northside is always awarded \"best places to work\" nationally. I have some friends that joined their Choice+ program in the past year which is basically an internal agency cont act and can get pretty lucrative and you're a hospital employee so get healthcare and are eligible for their pension. Heard the charting and audits of charting suck though. Mid to upper $30's- high $40's I believe is average. Their Choice+ can be up in the $60-70s if in the right specialty \\n\\nPiedmont Atlanta just opened up a new CVICU and has recently expanded it's transplant services. I know over the winter they had sign on bonuses still to get the new units up and running.\\n\\nEmory has always been known for good neurology/neurosurgery services. Otherwise specialties are at least average if not better than. \\n\\nGrady for trauma and I heard they are paying around $50/hr in some unit,  but that's hearsay and haven't confirmed. I used to work there and it's exciting and great experience but hard work. They used to not pay so well but apparently are paying better now at least. \\n\\nWellstar Kennestone or Gwinnett are decent places. Northeast GA if you want to be a little further north of the city.\\n\\nI'm at a nonprofit private hospital that I'd rather name privately but if you're interested would be happy to share via DM. We have set schedules. No weekend commitment or you work weekends but not both typically unless desired that way. If you're not weekends the only weekends you'll ever work is potentially during 3 weeks of holiday schedule. I'm part time float now here and choose to work a weekend day for childcare reasons and get paid $56.49/hr, and $61.49 on my weekend day. Get an annual bonus and 50% 403b matching with no % salary cap. Only capped by IRS contribution limits. Just came off a PRN internal contract in the ICU where I was making $75.50/hr for weekend dayshift. \\n\\nI'm north of ATL in a good area. Typically north of I-20 is better than south. In the city I can't speak to, never lived in the city but it's mixed. Some great, some horrible. Outside the city look at Marietta, Kennesaw, Vinings, Alpharetta, Canton, Roswell, Woodstock, and Duluth. Going west of the city outside the perimeter turns very country very quickly. Land and farm, but worse schools. Going east has some bad areas and gets more rural but has some good spots too\\n\\nI grew up south of ATL. It's generally pretty country further out and population growth is still booming. Some bad spots too though and closer to the city are some dangerous areas littered with crime and gang activity.|negative|\n|Check out Northside Hospital -Atlanta, Piedmont Atlanta and Emory University Hospital. All good quality and Northside is always awarded \"best places to work\" nationally. I have some friends that joined their Choice+ program in the past year which is basically an internal agency cont act and can get pretty lucrative and you're a hospital employee so get healthcare and are eligible for their pension. Heard the charting and audits of charting suck though. Mid to upper $30's- high $40's I believe is average. Their Choice+ can be up in the $60-70s if in the right specialty \\n\\nPiedmont Atlanta just opened up a new CVICU and has recently expanded it's transplant services. I know over the winter they had sign on bonuses still to get the new units up and running.\\n\\nEmory has always been known for good neurology/neurosurgery services. Otherwise specialties are at least average if not better than. \\n\\nGrady for trauma and I heard they are paying around $50/hr in some unit,  but that's hearsay and haven't confirmed. I used to work there and it's exciting and great experience but hard work. They used to not pay so well but apparently are paying better now at least. \\n\\nWellstar Kennestone or Gwinnett are decent places. Northeast GA if you want to be a little further north of the city.\\n\\nI'm at a nonprofit private hospital that I'd rather name privately but if you're interested would be happy to share via DM. We have set schedules. No weekend commitment or you work weekends but not both typically unless desired that way. If you're not weekends the only weekends you'll ever work is potentially during 3 weeks of holiday schedule. I'm part time float now here and choose to work a weekend day for childcare reasons and get paid $56.49/hr, and $61.49 on my weekend day. Get an annual bonus and 50% 403b matching with no % salary cap. Only capped by IRS contribution limits. Just came off a PRN internal contract in the ICU where I was making $75.50/hr for weekend dayshift. \\n\\nI'm north of ATL in a good area. Typically north of I-20 is better than south. In the city I can't speak to, never lived in the city but it's mixed. Some great, some horrible. Outside the city look at Marietta, Kennesaw, Vinings, Alpharetta, Canton, Roswell, Woodstock, and Duluth. Going west of the city outside the perimeter turns very country very quickly. Land and farm, but worse schools. Going east has some bad areas and gets more rural but has some good spots too\\n\\nI grew up south of ATL. It's generally pretty country further out and population growth is still booming. Some bad spots too though and closer to the city are some dangerous areas littered with crime and gang activity.|negative|\n|Check out Northside Hospital -Atlanta, Piedmont Atlanta and Emory University Hospital. All good quality and Northside is always awarded \"best places to work\" nationally. I have some friends that joined their Choice+ program in the past year which is basically an internal agency cont act and can get pretty lucrative and you're a hospital employee so get healthcare and are eligible for their pension. Heard the charting and audits of charting suck though. Mid to upper $30's- high $40's I believe is average. Their Choice+ can be up in the $60-70s if in the right specialty \\n\\nPiedmont Atlanta just opened up a new CVICU and has recently expanded it's transplant services. I know over the winter they had sign on bonuses still to get the new units up and running.\\n\\nEmory has always been known for good neurology/neurosurgery services. Otherwise specialties are at least average if not better than. \\n\\nGrady for trauma and I heard they are paying around $50/hr in some unit,  but that's hearsay and haven't confirmed. I used to work there and it's exciting and great experience but hard work. They used to not pay so well but apparently are paying better now at least. \\n\\nWellstar Kennestone or Gwinnett are decent places. Northeast GA if you want to be a little further north of the city.\\n\\nI'm at a nonprofit private hospital that I'd rather name privately but if you're interested would be happy to share via DM. We have set schedules. No weekend commitment or you work weekends but not both typically unless desired that way. If you're not weekends the only weekends you'll ever work is potentially during 3 weeks of holiday schedule. I'm part time float now here and choose to work a weekend day for childcare reasons and get paid $56.49/hr, and $61.49 on my weekend day. Get an annual bonus and 50% 403b matching with no % salary cap. Only capped by IRS contribution limits. Just came off a PRN internal contract in the ICU where I was making $75.50/hr for weekend dayshift. \\n\\nI'm north of ATL in a good area. Typically north of I-20 is better than south. In the city I can't speak to, never lived in the city but it's mixed. Some great, some horrible. Outside the city look at Marietta, Kennesaw, Vinings, Alpharetta, Canton, Roswell, Woodstock, and Duluth. Going west of the city outside the perimeter turns very country very quickly. Land and farm, but worse schools. Going east has some bad areas and gets more rural but has some good spots too\\n\\nI grew up south of ATL. It's generally pretty country further out and population growth is still booming. Some bad spots too though and closer to the city are some dangerous areas littered with crime and gang activity.|negative|\n|Check out Northside Hospital -Atlanta, Piedmont Atlanta and Emory University Hospital. All good quality and Northside is always awarded \"best places to work\" nationally. I have some friends that joined their Choice+ program in the past year which is basically an internal agency cont act and can get pretty lucrative and you're a hospital employee so get healthcare and are eligible for their pension. Heard the charting and audits of charting suck though. Mid to upper $30's- high $40's I believe is average. Their Choice+ can be up in the $60-70s if in the right specialty \\n\\nPiedmont Atlanta just opened up a new CVICU and has recently expanded it's transplant services. I know over the winter they had sign on bonuses still to get the new units up and running.\\n\\nEmory has always been known for good neurology/neurosurgery services. Otherwise specialties are at least average if not better than. \\n\\nGrady for trauma and I heard they are paying around $50/hr in some unit,  but that's hearsay and haven't confirmed. I used to work there and it's exciting and great experience but hard work. They used to not pay so well but apparently are paying better now at least. \\n\\nWellstar Kennestone or Gwinnett are decent places. Northeast GA if you want to be a little further north of the city.\\n\\nI'm at a nonprofit private hospital that I'd rather name privately but if you're interested would be happy to share via DM. We have set schedules. No weekend commitment or you work weekends but not both typically unless desired that way. If you're not weekends the only weekends you'll ever work is potentially during 3 weeks of holiday schedule. I'm part time float now here and choose to work a weekend day for childcare reasons and get paid $56.49/hr, and $61.49 on my weekend day. Get an annual bonus and 50% 403b matching with no % salary cap. Only capped by IRS contribution limits. Just came off a PRN internal contract in the ICU where I was making $75.50/hr for weekend dayshift. \\n\\nI'm north of ATL in a good area. Typically north of I-20 is better than south. In the city I can't speak to, never lived in the city but it's mixed. Some great, some horrible. Outside the city look at Marietta, Kennesaw, Vinings, Alpharetta, Canton, Roswell, Woodstock, and Duluth. Going west of the city outside the perimeter turns very country very quickly. Land and farm, but worse schools. Going east has some bad areas and gets more rural but has some good spots too\\n\\nI grew up south of ATL. It's generally pretty country further out and population growth is still booming. Some bad spots too though and closer to the city are some dangerous areas littered with crime and gang activity.|negative|\n|Check out Northside Hospital -Atlanta, Piedmont Atlanta and Emory University Hospital. All good quality and Northside is always awarded \"best places to work\" nationally. I have some friends that joined their Choice+ program in the past year which is basically an internal agency cont act and can get pretty lucrative and you're a hospital employee so get healthcare and are eligible for their pension. Heard the charting and audits of charting suck though. Mid to upper $30's- high $40's I believe is average. Their Choice+ can be up in the $60-70s if in the right specialty \\n\\nPiedmont Atlanta just opened up a new CVICU and has recently expanded it's transplant services. I know over the winter they had sign on bonuses still to get the new units up and running.\\n\\nEmory has always been known for good neurology/neurosurgery services. Otherwise specialties are at least average if not better than. \\n\\nGrady for trauma and I heard they are paying around $50/hr in some unit,  but that's hearsay and haven't confirmed. I used to work there and it's exciting and great experience but hard work. They used to not pay so well but apparently are paying better now at least. \\n\\nWellstar Kennestone or Gwinnett are decent places. Northeast GA if you want to be a little further north of the city.\\n\\nI'm at a nonprofit private hospital that I'd rather name privately but if you're interested would be happy to share via DM. We have set schedules. No weekend commitment or you work weekends but not both typically unless desired that way. If you're not weekends the only weekends you'll ever work is potentially during 3 weeks of holiday schedule. I'm part time float now here and choose to work a weekend day for childcare reasons and get paid $56.49/hr, and $61.49 on my weekend day. Get an annual bonus and 50% 403b matching with no % salary cap. Only capped by IRS contribution limits. Just came off a PRN internal contract in the ICU where I was making $75.50/hr for weekend dayshift. \\n\\nI'm north of ATL in a good area. Typically north of I-20 is better than south. In the city I can't speak to, never lived in the city but it's mixed. Some great, some horrible. Outside the city look at Marietta, Kennesaw, Vinings, Alpharetta, Canton, Roswell, Woodstock, and Duluth. Going west of the city outside the perimeter turns very country very quickly. Land and farm, but worse schools. Going east has some bad areas and gets more rural but has some good spots too\\n\\nI grew up south of ATL. It's generally pretty country further out and population growth is still booming. Some bad spots too though and closer to the city are some dangerous areas littered with crime and gang activity.|negative|\n|Check out Northside Hospital -Atlanta, Piedmont Atlanta and Emory University Hospital. All good quality and Northside is always awarded \"best places to work\" nationally. I have some friends that joined their Choice+ program in the past year which is basically an internal agency cont act and can get pretty lucrative and you're a hospital employee so get healthcare and are eligible for their pension. Heard the charting and audits of charting suck though. Mid to upper $30's- high $40's I believe is average. Their Choice+ can be up in the $60-70s if in the right specialty \\n\\nPiedmont Atlanta just opened up a new CVICU and has recently expanded it's transplant services. I know over the winter they had sign on bonuses still to get the new units up and running.\\n\\nEmory has always been known for good neurology/neurosurgery services. Otherwise specialties are at least average if not better than. \\n\\nGrady for trauma and I heard they are paying around $50/hr in some unit,  but that's hearsay and haven't confirmed. I used to work there and it's exciting and great experience but hard work. They used to not pay so well but apparently are paying better now at least. \\n\\nWellstar Kennestone or Gwinnett are decent places. Northeast GA if you want to be a little further north of the city.\\n\\nI'm at a nonprofit private hospital that I'd rather name privately but if you're interested would be happy to share via DM. We have set schedules. No weekend commitment or you work weekends but not both typically unless desired that way. If you're not weekends the only weekends you'll ever work is potentially during 3 weeks of holiday schedule. I'm part time float now here and choose to work a weekend day for childcare reasons and get paid $56.49/hr, and $61.49 on my weekend day. Get an annual bonus and 50% 403b matching with no % salary cap. Only capped by IRS contribution limits. Just came off a PRN internal contract in the ICU where I was making $75.50/hr for weekend dayshift. \\n\\nI'm north of ATL in a good area. Typically north of I-20 is better than south. In the city I can't speak to, never lived in the city but it's mixed. Some great, some horrible. Outside the city look at Marietta, Kennesaw, Vinings, Alpharetta, Canton, Roswell, Woodstock, and Duluth. Going west of the city outside the perimeter turns very country very quickly. Land and farm, but worse schools. Going east has some bad areas and gets more rural but has some good spots too\\n\\nI grew up south of ATL. It's generally pretty country further out and population growth is still booming. Some bad spots too though and closer to the city are some dangerous areas littered with crime and gang activity.|positive|\n|Check out Northside Hospital -Atlanta, Piedmont Atlanta and Emory University Hospital. All good quality and Northside is always awarded \"best places to work\" nationally. I have some friends that joined their Choice+ program in the past year which is basically an internal agency cont act and can get pretty lucrative and you're a hospital employee so get healthcare and are eligible for their pension. Heard the charting and audits of charting suck though. Mid to upper $30's- high $40's I believe is average. Their Choice+ can be up in the $60-70s if in the right specialty \\n\\nPiedmont Atlanta just opened up a new CVICU and has recently expanded it's transplant services. I know over the winter they had sign on bonuses still to get the new units up and running.\\n\\nEmory has always been known for good neurology/neurosurgery services. Otherwise specialties are at least average if not better than. \\n\\nGrady for trauma and I heard they are paying around $50/hr in some unit,  but that's hearsay and haven't confirmed. I used to work there and it's exciting and great experience but hard work. They used to not pay so well but apparently are paying better now at least. \\n\\nWellstar Kennestone or Gwinnett are decent places. Northeast GA if you want to be a little further north of the city.\\n\\nI'm at a nonprofit private hospital that I'd rather name privately but if you're interested would be happy to share via DM. We have set schedules. No weekend commitment or you work weekends but not both typically unless desired that way. If you're not weekends the only weekends you'll ever work is potentially during 3 weeks of holiday schedule. I'm part time float now here and choose to work a weekend day for childcare reasons and get paid $56.49/hr, and $61.49 on my weekend day. Get an annual bonus and 50% 403b matching with no % salary cap. Only capped by IRS contribution limits. Just came off a PRN internal contract in the ICU where I was making $75.50/hr for weekend dayshift. \\n\\nI'm north of ATL in a good area. Typically north of I-20 is better than south. In the city I can't speak to, never lived in the city but it's mixed. Some great, some horrible. Outside the city look at Marietta, Kennesaw, Vinings, Alpharetta, Canton, Roswell, Woodstock, and Duluth. Going west of the city outside the perimeter turns very country very quickly. Land and farm, but worse schools. Going east has some bad areas and gets more rural but has some good spots too\\n\\nI grew up south of ATL. It's generally pretty country further out and population growth is still booming. Some bad spots too though and closer to the city are some dangerous areas littered with crime and gang activity.|positive|\n|Check out Northside Hospital -Atlanta, Piedmont Atlanta and Emory University Hospital. All good quality and Northside is always awarded \"best places to work\" nationally. I have some friends that joined their Choice+ program in the past year which is basically an internal agency cont act and can get pretty lucrative and you're a hospital employee so get healthcare and are eligible for their pension. Heard the charting and audits of charting suck though. Mid to upper $30's- high $40's I believe is average. Their Choice+ can be up in the $60-70s if in the right specialty \\n\\nPiedmont Atlanta just opened up a new CVICU and has recently expanded it's transplant services. I know over the winter they had sign on bonuses still to get the new units up and running.\\n\\nEmory has always been known for good neurology/neurosurgery services. Otherwise specialties are at least average if not better than. \\n\\nGrady for trauma and I heard they are paying around $50/hr in some unit,  but that's hearsay and haven't confirmed. I used to work there and it's exciting and great experience but hard work. They used to not pay so well but apparently are paying better now at least. \\n\\nWellstar Kennestone or Gwinnett are decent places. Northeast GA if you want to be a little further north of the city.\\n\\nI'm at a nonprofit private hospital that I'd rather name privately but if you're interested would be happy to share via DM. We have set schedules. No weekend commitment or you work weekends but not both typically unless desired that way. If you're not weekends the only weekends you'll ever work is potentially during 3 weeks of holiday schedule. I'm part time float now here and choose to work a weekend day for childcare reasons and get paid $56.49/hr, and $61.49 on my weekend day. Get an annual bonus and 50% 403b matching with no % salary cap. Only capped by IRS contribution limits. Just came off a PRN internal contract in the ICU where I was making $75.50/hr for weekend dayshift. \\n\\nI'm north of ATL in a good area. Typically north of I-20 is better than south. In the city I can't speak to, never lived in the city but it's mixed. Some great, some horrible. Outside the city look at Marietta, Kennesaw, Vinings, Alpharetta, Canton, Roswell, Woodstock, and Duluth. Going west of the city outside the perimeter turns very country very quickly. Land and farm, but worse schools. Going east has some bad areas and gets more rural but has some good spots too\\n\\nI grew up south of ATL. It's generally pretty country further out and population growth is still booming. Some bad spots too though and closer to the city are some dangerous areas littered with crime and gang activity.|positive|\n|Check out Northside Hospital -Atlanta, Piedmont Atlanta and Emory University Hospital. All good quality and Northside is always awarded \"best places to work\" nationally. I have some friends that joined their Choice+ program in the past year which is basically an internal agency cont act and can get pretty lucrative and you're a hospital employee so get healthcare and are eligible for their pension. Heard the charting and audits of charting suck though. Mid to upper $30's- high $40's I believe is average. Their Choice+ can be up in the $60-70s if in the right specialty \\n\\nPiedmont Atlanta just opened up a new CVICU and has recently expanded it's transplant services. I know over the winter they had sign on bonuses still to get the new units up and running.\\n\\nEmory has always been known for good neurology/neurosurgery services. Otherwise specialties are at least average if not better than. \\n\\nGrady for trauma and I heard they are paying around $50/hr in some unit,  but that's hearsay and haven't confirmed. I used to work there and it's exciting and great experience but hard work. They used to not pay so well but apparently are paying better now at least. \\n\\nWellstar Kennestone or Gwinnett are decent places. Northeast GA if you want to be a little further north of the city.\\n\\nI'm at a nonprofit private hospital that I'd rather name privately but if you're interested would be happy to share via DM. We have set schedules. No weekend commitment or you work weekends but not both typically unless desired that way. If you're not weekends the only weekends you'll ever work is potentially during 3 weeks of holiday schedule. I'm part time float now here and choose to work a weekend day for childcare reasons and get paid $56.49/hr, and $61.49 on my weekend day. Get an annual bonus and 50% 403b matching with no % salary cap. Only capped by IRS contribution limits. Just came off a PRN internal contract in the ICU where I was making $75.50/hr for weekend dayshift. \\n\\nI'm north of ATL in a good area. Typically north of I-20 is better than south. In the city I can't speak to, never lived in the city but it's mixed. Some great, some horrible. Outside the city look at Marietta, Kennesaw, Vinings, Alpharetta, Canton, Roswell, Woodstock, and Duluth. Going west of the city outside the perimeter turns very country very quickly. Land and farm, but worse schools. Going east has some bad areas and gets more rural but has some good spots too\\n\\nI grew up south of ATL. It's generally pretty country further out and population growth is still booming. Some bad spots too though and closer to the city are some dangerous areas littered with crime and gang activity.|positive|\n|Check out Northside Hospital -Atlanta, Piedmont Atlanta and Emory University Hospital. All good quality and Northside is always awarded \"best places to work\" nationally. I have some friends that joined their Choice+ program in the past year which is basically an internal agency cont act and can get pretty lucrative and you're a hospital employee so get healthcare and are eligible for their pension. Heard the charting and audits of charting suck though. Mid to upper $30's- high $40's I believe is average. Their Choice+ can be up in the $60-70s if in the right specialty \\n\\nPiedmont Atlanta just opened up a new CVICU and has recently expanded it's transplant services. I know over the winter they had sign on bonuses still to get the new units up and running.\\n\\nEmory has always been known for good neurology/neurosurgery services. Otherwise specialties are at least average if not better than. \\n\\nGrady for trauma and I heard they are paying around $50/hr in some unit,  but that's hearsay and haven't confirmed. I used to work there and it's exciting and great experience but hard work. They used to not pay so well but apparently are paying better now at least. \\n\\nWellstar Kennestone or Gwinnett are decent places. Northeast GA if you want to be a little further north of the city.\\n\\nI'm at a nonprofit private hospital that I'd rather name privately but if you're interested would be happy to share via DM. We have set schedules. No weekend commitment or you work weekends but not both typically unless desired that way. If you're not weekends the only weekends you'll ever work is potentially during 3 weeks of holiday schedule. I'm part time float now here and choose to work a weekend day for childcare reasons and get paid $56.49/hr, and $61.49 on my weekend day. Get an annual bonus and 50% 403b matching with no % salary cap. Only capped by IRS contribution limits. Just came off a PRN internal contract in the ICU where I was making $75.50/hr for weekend dayshift. \\n\\nI'm north of ATL in a good area. Typically north of I-20 is better than south. In the city I can't speak to, never lived in the city but it's mixed. Some great, some horrible. Outside the city look at Marietta, Kennesaw, Vinings, Alpharetta, Canton, Roswell, Woodstock, and Duluth. Going west of the city outside the perimeter turns very country very quickly. Land and farm, but worse schools. Going east has some bad areas and gets more rural but has some good spots too\\n\\nI grew up south of ATL. It's generally pretty country further out and population growth is still booming. Some bad spots too though and closer to the city are some dangerous areas littered with crime and gang activity.|positive|\n|Check out Northside Hospital -Atlanta, Piedmont Atlanta and Emory University Hospital. All good quality and Northside is always awarded \"best places to work\" nationally. I have some friends that joined their Choice+ program in the past year which is basically an internal agency cont act and can get pretty lucrative and you're a hospital employee so get healthcare and are eligible for their pension. Heard the charting and audits of charting suck though. Mid to upper $30's- high $40's I believe is average. Their Choice+ can be up in the $60-70s if in the right specialty \\n\\nPiedmont Atlanta just opened up a new CVICU and has recently expanded it's transplant services. I know over the winter they had sign on bonuses still to get the new units up and running.\\n\\nEmory has always been known for good neurology/neurosurgery services. Otherwise specialties are at least average if not better than. \\n\\nGrady for trauma and I heard they are paying around $50/hr in some unit,  but that's hearsay and haven't confirmed. I used to work there and it's exciting and great experience but hard work. They used to not pay so well but apparently are paying better now at least. \\n\\nWellstar Kennestone or Gwinnett are decent places. Northeast GA if you want to be a little further north of the city.\\n\\nI'm at a nonprofit private hospital that I'd rather name privately but if you're interested would be happy to share via DM. We have set schedules. No weekend commitment or you work weekends but not both typically unless desired that way. If you're not weekends the only weekends you'll ever work is potentially during 3 weeks of holiday schedule. I'm part time float now here and choose to work a weekend day for childcare reasons and get paid $56.49/hr, and $61.49 on my weekend day. Get an annual bonus and 50% 403b matching with no % salary cap. Only capped by IRS contribution limits. Just came off a PRN internal contract in the ICU where I was making $75.50/hr for weekend dayshift. \\n\\nI'm north of ATL in a good area. Typically north of I-20 is better than south. In the city I can't speak to, never lived in the city but it's mixed. Some great, some horrible. Outside the city look at Marietta, Kennesaw, Vinings, Alpharetta, Canton, Roswell, Woodstock, and Duluth. Going west of the city outside the perimeter turns very country very quickly. Land and farm, but worse schools. Going east has some bad areas and gets more rural but has some good spots too\\n\\nI grew up south of ATL. It's generally pretty country further out and population growth is still booming. Some bad spots too though and closer to the city are some dangerous areas littered with crime and gang activity.|positive|\n|Check out Northside Hospital -Atlanta, Piedmont Atlanta and Emory University Hospital. All good quality and Northside is always awarded \"best places to work\" nationally. I have some friends that joined their Choice+ program in the past year which is basically an internal agency cont act and can get pretty lucrative and you're a hospital employee so get healthcare and are eligible for their pension. Heard the charting and audits of charting suck though. Mid to upper $30's- high $40's I believe is average. Their Choice+ can be up in the $60-70s if in the right specialty \\n\\nPiedmont Atlanta just opened up a new CVICU and has recently expanded it's transplant services. I know over the winter they had sign on bonuses still to get the new units up and running.\\n\\nEmory has always been known for good neurology/neurosurgery services. Otherwise specialties are at least average if not better than. \\n\\nGrady for trauma and I heard they are paying around $50/hr in some unit,  but that's hearsay and haven't confirmed. I used to work there and it's exciting and great experience but hard work. They used to not pay so well but apparently are paying better now at least. \\n\\nWellstar Kennestone or Gwinnett are decent places. Northeast GA if you want to be a little further north of the city.\\n\\nI'm at a nonprofit private hospital that I'd rather name privately but if you're interested would be happy to share via DM. We have set schedules. No weekend commitment or you work weekends but not both typically unless desired that way. If you're not weekends the only weekends you'll ever work is potentially during 3 weeks of holiday schedule. I'm part time float now here and choose to work a weekend day for childcare reasons and get paid $56.49/hr, and $61.49 on my weekend day. Get an annual bonus and 50% 403b matching with no % salary cap. Only capped by IRS contribution limits. Just came off a PRN internal contract in the ICU where I was making $75.50/hr for weekend dayshift. \\n\\nI'm north of ATL in a good area. Typically north of I-20 is better than south. In the city I can't speak to, never lived in the city but it's mixed. Some great, some horrible. Outside the city look at Marietta, Kennesaw, Vinings, Alpharetta, Canton, Roswell, Woodstock, and Duluth. Going west of the city outside the perimeter turns very country very quickly. Land and farm, but worse schools. Going east has some bad areas and gets more rural but has some good spots too\\n\\nI grew up south of ATL. It's generally pretty country further out and population growth is still booming. Some bad spots too though and closer to the city are some dangerous areas littered with crime and gang activity.|negative|\n|Check out Northside Hospital -Atlanta, Piedmont Atlanta and Emory University Hospital. All good quality and Northside is always awarded \"best places to work\" nationally. I have some friends that joined their Choice+ program in the past year which is basically an internal agency cont act and can get pretty lucrative and you're a hospital employee so get healthcare and are eligible for their pension. Heard the charting and audits of charting suck though. Mid to upper $30's- high $40's I believe is average. Their Choice+ can be up in the $60-70s if in the right specialty \\n\\nPiedmont Atlanta just opened up a new CVICU and has recently expanded it's transplant services. I know over the winter they had sign on bonuses still to get the new units up and running.\\n\\nEmory has always been known for good neurology/neurosurgery services. Otherwise specialties are at least average if not better than. \\n\\nGrady for trauma and I heard they are paying around $50/hr in some unit,  but that's hearsay and haven't confirmed. I used to work there and it's exciting and great experience but hard work. They used to not pay so well but apparently are paying better now at least. \\n\\nWellstar Kennestone or Gwinnett are decent places. Northeast GA if you want to be a little further north of the city.\\n\\nI'm at a nonprofit private hospital that I'd rather name privately but if you're interested would be happy to share via DM. We have set schedules. No weekend commitment or you work weekends but not both typically unless desired that way. If you're not weekends the only weekends you'll ever work is potentially during 3 weeks of holiday schedule. I'm part time float now here and choose to work a weekend day for childcare reasons and get paid $56.49/hr, and $61.49 on my weekend day. Get an annual bonus and 50% 403b matching with no % salary cap. Only capped by IRS contribution limits. Just came off a PRN internal contract in the ICU where I was making $75.50/hr for weekend dayshift. \\n\\nI'm north of ATL in a good area. Typically north of I-20 is better than south. In the city I can't speak to, never lived in the city but it's mixed. Some great, some horrible. Outside the city look at Marietta, Kennesaw, Vinings, Alpharetta, Canton, Roswell, Woodstock, and Duluth. Going west of the city outside the perimeter turns very country very quickly. Land and farm, but worse schools. Going east has some bad areas and gets more rural but has some good spots too\\n\\nI grew up south of ATL. It's generally pretty country further out and population growth is still booming. Some bad spots too though and closer to the city are some dangerous areas littered with crime and gang activity.|negative|\n+--------------------------------------------------------------------------------------------------------------------------------------------------------------------------------------------------------------------------------------------------------------------------------------------------------------------------------------------------------------------------------------------------------------------------------------------------------------------------------------------------------------------------------------------------------------------------------------------------------------------------------------------------------------------------------------------------------------------------------------------------------------------------------------------------------------------------------------------------------------------------------------------------------------------------------------------------------------------------------------------------------------------------------------------------------------------------------------------------------------------------------------------------------------------------------------------------------------------------------------------------------------------------------------------------------------------------------------------------------------------------------------------------------------------------------------------------------------------------------------------------------------------------------------------------------------------------------------------------------------------------------------------------------------------------------------------------------------------------------------------------------------------------------------------------------------------------------------------------------------------------------------------------------------------------------------------------------------------------------------------------------------------------------------------------------------------------------------------------------------------------------------------------------------------------------------------------------------------------------------------------------------------------------------------------------------------------------------------------------------------------------------------------------------------------------------------------------------------------------------------------------------------------------------------------------------------------------------------------------------------------------------------------------------------------------------------------------------------------------------------------------------------------------------------+--------+\nonly showing top 20 rows\n\n"
        }
      ],
      "execution_count": 4,
      "metadata": {
        "jupyter": {
          "source_hidden": false,
          "outputs_hidden": false
        },
        "nteract": {
          "transient": {
            "deleting": false
          }
        },
        "gather": {
          "logged": 1733638612654
        }
      }
    },
    {
      "cell_type": "code",
      "source": [
        "df_flat.show(5)\n",
        "comments_row_count = df_flat.count()\n",
        "comment_col_count = len(df_flat.columns)\n",
        "print(f\"shape of the comments dataframe is {comments_row_count:,}x{comment_col_count}\")"
      ],
      "outputs": [
        {
          "output_type": "display_data",
          "data": {
            "application/vnd.livy.statement-meta+json": {
              "spark_pool": "ba5e360d-f184-47a0-9859-76b5031b79e3",
              "statement_id": 12,
              "statement_ids": [
                12
              ],
              "state": "finished",
              "livy_statement_state": "available",
              "spark_jobs": {
                "numbers": {
                  "UNKNOWN": 0,
                  "SUCCEEDED": 4,
                  "FAILED": 0,
                  "RUNNING": 0
                },
                "jobs": [
                  {
                    "displayName": "count at NativeMethodAccessorImpl.java:0",
                    "dataWritten": 0,
                    "dataRead": 171,
                    "rowCount": 3,
                    "usageDescription": "",
                    "jobId": 14,
                    "name": "count at NativeMethodAccessorImpl.java:0",
                    "description": "Job group for statement 12:\ndf_flat.show(5)\ncomments_row_count = df_flat.count()\ncomment_col_count = len(df_flat.columns)\nprint(f\"shape of the comments dataframe is {comments_row_count:,}x{comment_col_count}\")",
                    "submissionTime": "2024-12-08T06:26:16.516GMT",
                    "completionTime": "2024-12-08T06:26:16.833GMT",
                    "stageIds": [
                      15,
                      16
                    ],
                    "jobGroup": "12",
                    "status": "SUCCEEDED",
                    "numTasks": 4,
                    "numActiveTasks": 0,
                    "numCompletedTasks": 1,
                    "numSkippedTasks": 3,
                    "numFailedTasks": 0,
                    "numKilledTasks": 0,
                    "numCompletedIndices": 1,
                    "numActiveStages": 0,
                    "numCompletedStages": 1,
                    "numSkippedStages": 1,
                    "numFailedStages": 0,
                    "killedTasksSummary": {}
                  },
                  {
                    "displayName": "count at NativeMethodAccessorImpl.java:0",
                    "dataWritten": 171,
                    "dataRead": 99298,
                    "rowCount": 10003,
                    "usageDescription": "",
                    "jobId": 13,
                    "name": "count at NativeMethodAccessorImpl.java:0",
                    "description": "Job group for statement 12:\ndf_flat.show(5)\ncomments_row_count = df_flat.count()\ncomment_col_count = len(df_flat.columns)\nprint(f\"shape of the comments dataframe is {comments_row_count:,}x{comment_col_count}\")",
                    "submissionTime": "2024-12-08T06:26:16.034GMT",
                    "completionTime": "2024-12-08T06:26:16.479GMT",
                    "stageIds": [
                      14
                    ],
                    "jobGroup": "12",
                    "status": "SUCCEEDED",
                    "numTasks": 3,
                    "numActiveTasks": 0,
                    "numCompletedTasks": 3,
                    "numSkippedTasks": 0,
                    "numFailedTasks": 0,
                    "numKilledTasks": 0,
                    "numCompletedIndices": 3,
                    "numActiveStages": 0,
                    "numCompletedStages": 1,
                    "numSkippedStages": 0,
                    "numFailedStages": 0,
                    "killedTasksSummary": {}
                  },
                  {
                    "displayName": "showString at NativeMethodAccessorImpl.java:0",
                    "dataWritten": 0,
                    "dataRead": 1731073,
                    "rowCount": 1,
                    "usageDescription": "",
                    "jobId": 12,
                    "name": "showString at NativeMethodAccessorImpl.java:0",
                    "description": "Job group for statement 12:\ndf_flat.show(5)\ncomments_row_count = df_flat.count()\ncomment_col_count = len(df_flat.columns)\nprint(f\"shape of the comments dataframe is {comments_row_count:,}x{comment_col_count}\")",
                    "submissionTime": "2024-12-08T06:26:15.324GMT",
                    "completionTime": "2024-12-08T06:26:15.799GMT",
                    "stageIds": [
                      13
                    ],
                    "jobGroup": "12",
                    "status": "SUCCEEDED",
                    "numTasks": 2,
                    "numActiveTasks": 0,
                    "numCompletedTasks": 2,
                    "numSkippedTasks": 0,
                    "numFailedTasks": 0,
                    "numKilledTasks": 0,
                    "numCompletedIndices": 2,
                    "numActiveStages": 0,
                    "numCompletedStages": 1,
                    "numSkippedStages": 0,
                    "numFailedStages": 0,
                    "killedTasksSummary": {}
                  },
                  {
                    "displayName": "showString at NativeMethodAccessorImpl.java:0",
                    "dataWritten": 0,
                    "dataRead": 11254,
                    "rowCount": 0,
                    "usageDescription": "",
                    "jobId": 11,
                    "name": "showString at NativeMethodAccessorImpl.java:0",
                    "description": "Job group for statement 12:\ndf_flat.show(5)\ncomments_row_count = df_flat.count()\ncomment_col_count = len(df_flat.columns)\nprint(f\"shape of the comments dataframe is {comments_row_count:,}x{comment_col_count}\")",
                    "submissionTime": "2024-12-08T06:26:15.040GMT",
                    "completionTime": "2024-12-08T06:26:15.307GMT",
                    "stageIds": [
                      12
                    ],
                    "jobGroup": "12",
                    "status": "SUCCEEDED",
                    "numTasks": 1,
                    "numActiveTasks": 0,
                    "numCompletedTasks": 1,
                    "numSkippedTasks": 0,
                    "numFailedTasks": 0,
                    "numKilledTasks": 0,
                    "numCompletedIndices": 1,
                    "numActiveStages": 0,
                    "numCompletedStages": 1,
                    "numSkippedStages": 0,
                    "numFailedStages": 0,
                    "killedTasksSummary": {}
                  }
                ],
                "limit": 20,
                "rule": "ALL_DESC"
              },
              "session_id": "39",
              "normalized_state": "finished",
              "queued_time": "2024-12-08T06:26:14.7463277Z",
              "session_start_time": null,
              "execution_start_time": "2024-12-08T06:26:14.8633678Z",
              "execution_finish_time": "2024-12-08T06:26:17.3260516Z",
              "parent_msg_id": "cd96eab6-6200-4301-833a-15fb4ce12b2a"
            },
            "text/plain": "StatementMeta(ba5e360d-f184-47a0-9859-76b5031b79e3, 39, 12, Finished, Available, Finished)"
          },
          "metadata": {}
        },
        {
          "output_type": "stream",
          "name": "stdout",
          "text": "+--------------------+--------+\n|                text|  result|\n+--------------------+--------+\n|Check out Northsi...|negative|\n|Check out Northsi...|negative|\n|Check out Northsi...|positive|\n|Check out Northsi...|negative|\n|Check out Northsi...|positive|\n+--------------------+--------+\nonly showing top 5 rows\n\nshape of the comments dataframe is 41,883x2\n"
        }
      ],
      "execution_count": 7,
      "metadata": {
        "jupyter": {
          "source_hidden": false,
          "outputs_hidden": false
        },
        "nteract": {
          "transient": {
            "deleting": false
          }
        },
        "gather": {
          "logged": 1733639177441
        }
      }
    },
    {
      "cell_type": "code",
      "source": [
        "df_read_back.printSchema()"
      ],
      "outputs": [
        {
          "output_type": "display_data",
          "data": {
            "application/vnd.livy.statement-meta+json": {
              "spark_pool": "ba5e360d-f184-47a0-9859-76b5031b79e3",
              "statement_id": 13,
              "statement_ids": [
                13
              ],
              "state": "finished",
              "livy_statement_state": "available",
              "spark_jobs": {
                "numbers": {
                  "FAILED": 0,
                  "RUNNING": 0,
                  "UNKNOWN": 0,
                  "SUCCEEDED": 0
                },
                "jobs": [],
                "limit": 20,
                "rule": "ALL_DESC"
              },
              "session_id": "41",
              "normalized_state": "finished",
              "queued_time": "2024-12-08T18:15:32.5605367Z",
              "session_start_time": null,
              "execution_start_time": "2024-12-08T18:15:32.68149Z",
              "execution_finish_time": "2024-12-08T18:15:32.9886506Z",
              "parent_msg_id": "0f01107c-089c-497c-80e3-db58c105db70"
            },
            "text/plain": "StatementMeta(ba5e360d-f184-47a0-9859-76b5031b79e3, 41, 13, Finished, Available, Finished)"
          },
          "metadata": {}
        },
        {
          "output_type": "stream",
          "name": "stdout",
          "text": "root\n |-- text: string (nullable = true)\n |-- document: array (nullable = true)\n |    |-- element: struct (containsNull = true)\n |    |    |-- annotatorType: string (nullable = true)\n |    |    |-- begin: integer (nullable = true)\n |    |    |-- end: integer (nullable = true)\n |    |    |-- result: string (nullable = true)\n |    |    |-- metadata: map (nullable = true)\n |    |    |    |-- key: string\n |    |    |    |-- value: string (valueContainsNull = true)\n |    |    |-- embeddings: array (nullable = true)\n |    |    |    |-- element: float (containsNull = true)\n |-- sentence: array (nullable = true)\n |    |-- element: struct (containsNull = true)\n |    |    |-- annotatorType: string (nullable = true)\n |    |    |-- begin: integer (nullable = true)\n |    |    |-- end: integer (nullable = true)\n |    |    |-- result: string (nullable = true)\n |    |    |-- metadata: map (nullable = true)\n |    |    |    |-- key: string\n |    |    |    |-- value: string (valueContainsNull = true)\n |    |    |-- embeddings: array (nullable = true)\n |    |    |    |-- element: float (containsNull = true)\n |-- token: array (nullable = true)\n |    |-- element: struct (containsNull = true)\n |    |    |-- annotatorType: string (nullable = true)\n |    |    |-- begin: integer (nullable = true)\n |    |    |-- end: integer (nullable = true)\n |    |    |-- result: string (nullable = true)\n |    |    |-- metadata: map (nullable = true)\n |    |    |    |-- key: string\n |    |    |    |-- value: string (valueContainsNull = true)\n |    |    |-- embeddings: array (nullable = true)\n |    |    |    |-- element: float (containsNull = true)\n |-- checked: array (nullable = true)\n |    |-- element: struct (containsNull = true)\n |    |    |-- annotatorType: string (nullable = true)\n |    |    |-- begin: integer (nullable = true)\n |    |    |-- end: integer (nullable = true)\n |    |    |-- result: string (nullable = true)\n |    |    |-- metadata: map (nullable = true)\n |    |    |    |-- key: string\n |    |    |    |-- value: string (valueContainsNull = true)\n |    |    |-- embeddings: array (nullable = true)\n |    |    |    |-- element: float (containsNull = true)\n |-- sentiment: array (nullable = true)\n |    |-- element: struct (containsNull = true)\n |    |    |-- annotatorType: string (nullable = true)\n |    |    |-- begin: integer (nullable = true)\n |    |    |-- end: integer (nullable = true)\n |    |    |-- result: string (nullable = true)\n |    |    |-- metadata: map (nullable = true)\n |    |    |    |-- key: string\n |    |    |    |-- value: string (valueContainsNull = true)\n |    |    |-- embeddings: array (nullable = true)\n |    |    |    |-- element: float (containsNull = true)\n\n"
        }
      ],
      "execution_count": 8,
      "metadata": {
        "jupyter": {
          "source_hidden": false,
          "outputs_hidden": false
        },
        "nteract": {
          "transient": {
            "deleting": false
          }
        },
        "gather": {
          "logged": 1733681733090
        }
      }
    },
    {
      "cell_type": "code",
      "source": [
        "sentiment_df = df_read_back.select(\"text\",\"sentiment.result\")\n",
        "\n",
        "\n",
        "sentiment_df.show(5)\n"
      ],
      "outputs": [
        {
          "output_type": "display_data",
          "data": {
            "application/vnd.livy.statement-meta+json": {
              "spark_pool": "ba5e360d-f184-47a0-9859-76b5031b79e3",
              "statement_id": 27,
              "statement_ids": [
                27
              ],
              "state": "finished",
              "livy_statement_state": "available",
              "spark_jobs": {
                "numbers": {
                  "FAILED": 0,
                  "RUNNING": 0,
                  "UNKNOWN": 0,
                  "SUCCEEDED": 2
                },
                "jobs": [
                  {
                    "displayName": "showString at NativeMethodAccessorImpl.java:0",
                    "dataWritten": 0,
                    "dataRead": 1731073,
                    "rowCount": 6,
                    "usageDescription": "",
                    "jobId": 22,
                    "name": "showString at NativeMethodAccessorImpl.java:0",
                    "description": "Job group for statement 27:\nsentiment_df = df_read_back.select(\"text\",\"sentiment.result\")\n\n\nsentiment_df.show(5)\n",
                    "submissionTime": "2024-12-08T18:34:44.685GMT",
                    "completionTime": "2024-12-08T18:34:44.868GMT",
                    "stageIds": [
                      22
                    ],
                    "jobGroup": "27",
                    "status": "SUCCEEDED",
                    "numTasks": 2,
                    "numActiveTasks": 0,
                    "numCompletedTasks": 2,
                    "numSkippedTasks": 0,
                    "numFailedTasks": 0,
                    "numKilledTasks": 0,
                    "numCompletedIndices": 2,
                    "numActiveStages": 0,
                    "numCompletedStages": 1,
                    "numSkippedStages": 0,
                    "numFailedStages": 0,
                    "killedTasksSummary": {}
                  },
                  {
                    "displayName": "showString at NativeMethodAccessorImpl.java:0",
                    "dataWritten": 0,
                    "dataRead": 11254,
                    "rowCount": 0,
                    "usageDescription": "",
                    "jobId": 21,
                    "name": "showString at NativeMethodAccessorImpl.java:0",
                    "description": "Job group for statement 27:\nsentiment_df = df_read_back.select(\"text\",\"sentiment.result\")\n\n\nsentiment_df.show(5)\n",
                    "submissionTime": "2024-12-08T18:34:44.474GMT",
                    "completionTime": "2024-12-08T18:34:44.677GMT",
                    "stageIds": [
                      21
                    ],
                    "jobGroup": "27",
                    "status": "SUCCEEDED",
                    "numTasks": 1,
                    "numActiveTasks": 0,
                    "numCompletedTasks": 1,
                    "numSkippedTasks": 0,
                    "numFailedTasks": 0,
                    "numKilledTasks": 0,
                    "numCompletedIndices": 1,
                    "numActiveStages": 0,
                    "numCompletedStages": 1,
                    "numSkippedStages": 0,
                    "numFailedStages": 0,
                    "killedTasksSummary": {}
                  }
                ],
                "limit": 20,
                "rule": "ALL_DESC"
              },
              "session_id": "41",
              "normalized_state": "finished",
              "queued_time": "2024-12-08T18:34:44.1665246Z",
              "session_start_time": null,
              "execution_start_time": "2024-12-08T18:34:44.3496909Z",
              "execution_finish_time": "2024-12-08T18:34:45.174405Z",
              "parent_msg_id": "6dfddee3-680b-4ad5-a8c5-afe3cd4ba030"
            },
            "text/plain": "StatementMeta(ba5e360d-f184-47a0-9859-76b5031b79e3, 41, 27, Finished, Available, Finished)"
          },
          "metadata": {}
        },
        {
          "output_type": "stream",
          "name": "stdout",
          "text": "+--------------------+--------------------+\n|                text|              result|\n+--------------------+--------------------+\n|Check out Northsi...|[negative, negati...|\n|I had something s...|[positive, positi...|\n|That's an insulti...|[positive, negati...|\n|Yeah sorry, it wa...|[positive, negative]|\n|I see my colorect...|[negative, positi...|\n+--------------------+--------------------+\nonly showing top 5 rows\n\n"
        }
      ],
      "execution_count": 22,
      "metadata": {
        "jupyter": {
          "source_hidden": false,
          "outputs_hidden": false
        },
        "nteract": {
          "transient": {
            "deleting": false
          }
        },
        "gather": {
          "logged": 1733682885308
        }
      }
    },
    {
      "cell_type": "code",
      "source": [
        "from pyspark.sql.functions import col, udf, size\n",
        "from pyspark.sql.types import FloatType\n",
        "\n",
        "\n"
      ],
      "outputs": [
        {
          "output_type": "display_data",
          "data": {
            "application/vnd.livy.statement-meta+json": {
              "spark_pool": "ba5e360d-f184-47a0-9859-76b5031b79e3",
              "statement_id": 28,
              "statement_ids": [
                28
              ],
              "state": "finished",
              "livy_statement_state": "available",
              "spark_jobs": {
                "numbers": {
                  "FAILED": 0,
                  "RUNNING": 0,
                  "UNKNOWN": 0,
                  "SUCCEEDED": 0
                },
                "jobs": [],
                "limit": 20,
                "rule": "ALL_DESC"
              },
              "session_id": "41",
              "normalized_state": "finished",
              "queued_time": "2024-12-08T18:34:47.6238763Z",
              "session_start_time": null,
              "execution_start_time": "2024-12-08T18:34:47.7667158Z",
              "execution_finish_time": "2024-12-08T18:34:48.0637705Z",
              "parent_msg_id": "aa507f77-88bb-409a-b4d7-625628176e24"
            },
            "text/plain": "StatementMeta(ba5e360d-f184-47a0-9859-76b5031b79e3, 41, 28, Finished, Available, Finished)"
          },
          "metadata": {}
        }
      ],
      "execution_count": 23,
      "metadata": {
        "jupyter": {
          "source_hidden": false,
          "outputs_hidden": false
        },
        "nteract": {
          "transient": {
            "deleting": false
          }
        },
        "gather": {
          "logged": 1733682888120
        }
      }
    },
    {
      "cell_type": "code",
      "source": [
        "def calculate_sentiment_score(results):\n",
        "    # Sentiment weights\n",
        "    sentiment_weights = {\"positive\": 1, \"negative\": -1, \"neutral\": 0}\n",
        "    # Map the results to scores, default to 0 if key not found\n",
        "    scores = [sentiment_weights.get(sent, 0) for sent in results]\n",
        "    # Calculate normalized score\n",
        "    normalized_score = sum(scores) / len(scores) if scores else 0\n",
        "    return normalized_score\n",
        "\n",
        "# Register the UDF\n",
        "sentiment_score_udf = udf(calculate_sentiment_score, FloatType())\n",
        "\n",
        "# Add a new column for the weighted sentiment score\n",
        "sentiment_df_with_scores = sentiment_df.withColumn(\n",
        "    \"weighted_score\", sentiment_score_udf(col(\"result\"))\n",
        ")\n",
        "\n",
        "# Show the results\n",
        "sentiment_df_with_scores.show(truncate=False)\n"
      ],
      "outputs": [
        {
          "output_type": "display_data",
          "data": {
            "application/vnd.livy.statement-meta+json": {
              "spark_pool": "ba5e360d-f184-47a0-9859-76b5031b79e3",
              "statement_id": 29,
              "statement_ids": [
                29
              ],
              "state": "finished",
              "livy_statement_state": "available",
              "spark_jobs": {
                "numbers": {
                  "FAILED": 0,
                  "RUNNING": 0,
                  "UNKNOWN": 0,
                  "SUCCEEDED": 2
                },
                "jobs": [
                  {
                    "displayName": "showString at NativeMethodAccessorImpl.java:0",
                    "dataWritten": 0,
                    "dataRead": 1719819,
                    "rowCount": 9200,
                    "usageDescription": "",
                    "jobId": 24,
                    "name": "showString at NativeMethodAccessorImpl.java:0",
                    "description": "Job group for statement 29:\ndef calculate_sentiment_score(results):\n    # Sentiment weights\n    sentiment_weights = {\"positive\": 1, \"negative\": -1, \"neutral\": 0}\n    # Map the results to scores, default to 0 if key not found\n    scores = [sentiment_weights.get(sent, 0) for sent in results]\n    # Calculate normalized score\n    normalized_score = sum(scores) / len(scores) if scores else 0\n    return normalized_score\n\n# Register the updated UDF\nsentiment_score_udf = udf(calculate_sentiment_score, FloatType())\n\n# Add a new column for the weighted sentiment score\nsentiment_df_with_scores = sentiment_df.withColumn(\n    \"weighted_score\", sentiment_score_udf(col(\"result\"))\n)\n\n# Show the results\nsentiment_df_with_scores.show(truncate=False)\n",
                    "submissionTime": "2024-12-08T18:34:55.272GMT",
                    "completionTime": "2024-12-08T18:34:55.631GMT",
                    "stageIds": [
                      24
                    ],
                    "jobGroup": "29",
                    "status": "SUCCEEDED",
                    "numTasks": 2,
                    "numActiveTasks": 0,
                    "numCompletedTasks": 2,
                    "numSkippedTasks": 0,
                    "numFailedTasks": 0,
                    "numKilledTasks": 0,
                    "numCompletedIndices": 2,
                    "numActiveStages": 0,
                    "numCompletedStages": 1,
                    "numSkippedStages": 0,
                    "numFailedStages": 0,
                    "killedTasksSummary": {}
                  },
                  {
                    "displayName": "showString at NativeMethodAccessorImpl.java:0",
                    "dataWritten": 0,
                    "dataRead": 0,
                    "rowCount": 0,
                    "usageDescription": "",
                    "jobId": 23,
                    "name": "showString at NativeMethodAccessorImpl.java:0",
                    "description": "Job group for statement 29:\ndef calculate_sentiment_score(results):\n    # Sentiment weights\n    sentiment_weights = {\"positive\": 1, \"negative\": -1, \"neutral\": 0}\n    # Map the results to scores, default to 0 if key not found\n    scores = [sentiment_weights.get(sent, 0) for sent in results]\n    # Calculate normalized score\n    normalized_score = sum(scores) / len(scores) if scores else 0\n    return normalized_score\n\n# Register the updated UDF\nsentiment_score_udf = udf(calculate_sentiment_score, FloatType())\n\n# Add a new column for the weighted sentiment score\nsentiment_df_with_scores = sentiment_df.withColumn(\n    \"weighted_score\", sentiment_score_udf(col(\"result\"))\n)\n\n# Show the results\nsentiment_df_with_scores.show(truncate=False)\n",
                    "submissionTime": "2024-12-08T18:34:55.006GMT",
                    "completionTime": "2024-12-08T18:34:55.246GMT",
                    "stageIds": [
                      23
                    ],
                    "jobGroup": "29",
                    "status": "SUCCEEDED",
                    "numTasks": 1,
                    "numActiveTasks": 0,
                    "numCompletedTasks": 1,
                    "numSkippedTasks": 0,
                    "numFailedTasks": 0,
                    "numKilledTasks": 0,
                    "numCompletedIndices": 1,
                    "numActiveStages": 0,
                    "numCompletedStages": 1,
                    "numSkippedStages": 0,
                    "numFailedStages": 0,
                    "killedTasksSummary": {}
                  }
                ],
                "limit": 20,
                "rule": "ALL_DESC"
              },
              "session_id": "41",
              "normalized_state": "finished",
              "queued_time": "2024-12-08T18:34:54.7377408Z",
              "session_start_time": null,
              "execution_start_time": "2024-12-08T18:34:54.8501529Z",
              "execution_finish_time": "2024-12-08T18:34:56.40804Z",
              "parent_msg_id": "c8be2b0e-8228-48f0-9cf5-3fb790707c95"
            },
            "text/plain": "StatementMeta(ba5e360d-f184-47a0-9859-76b5031b79e3, 41, 29, Finished, Available, Finished)"
          },
          "metadata": {}
        },
        {
          "output_type": "stream",
          "name": "stdout",
          "text": "+--------------------------------------------------------------------------------------------------------------------------------------------------------------------------------------------------------------------------------------------------------------------------------------------------------------------------------------------------------------------------------------------------------------------------------------------------------------------------------------------------------------------------------------------------------------------------------------------------------------------------------------------------------------------------------------------------------------------------------------------------------------------------------------------------------------------------------------------------------------------------------------------------------------------------------------------------------------------------------------------------------------------------------------------------------------------------------------------------------------------------------------------------------------------------------------------------------------------------------------------------------------------------------------------------------------------------------------------------------------------------------------------------------------------------------------------------------------------------------------------------------------------------------------------------------------------------------------------------------------------------------------------------------------------------------------------------------------------------------------------------------------------------------------------------------------------------------------------------------------------------------------------------------------------------------------------------------------------------------------------------------------------------------------------------------------------------------------------------------------------------------------------------------------------------------------------------------------------------------------------------------------------------------------------------------------------------------------------------------------------------------------------------------------------------------------------------------------------------------------------------------------------------------------------------------------------------------------------------------------------------------------------------------------------------------------------------------------------------------------------------------------------------------------------+--------------------------------------------------------------------------------------------------------------------------------------------------------------------------------------------------------------------------------------------------------------------------------------------------------------------------------+--------------+\n|text                                                                                                                                                                                                                                                                                                                                                                                                                                                                                                                                                                                                                                                                                                                                                                                                                                                                                                                                                                                                                                                                                                                                                                                                                                                                                                                                                                                                                                                                                                                                                                                                                                                                                                                                                                                                                                                                                                                                                                                                                                                                                                                                                                                                                                                                                                                                                                                                                                                                                                                                                                                                                                                                                                                                                                                        |result                                                                                                                                                                                                                                                                                                                          |weighted_score|\n+--------------------------------------------------------------------------------------------------------------------------------------------------------------------------------------------------------------------------------------------------------------------------------------------------------------------------------------------------------------------------------------------------------------------------------------------------------------------------------------------------------------------------------------------------------------------------------------------------------------------------------------------------------------------------------------------------------------------------------------------------------------------------------------------------------------------------------------------------------------------------------------------------------------------------------------------------------------------------------------------------------------------------------------------------------------------------------------------------------------------------------------------------------------------------------------------------------------------------------------------------------------------------------------------------------------------------------------------------------------------------------------------------------------------------------------------------------------------------------------------------------------------------------------------------------------------------------------------------------------------------------------------------------------------------------------------------------------------------------------------------------------------------------------------------------------------------------------------------------------------------------------------------------------------------------------------------------------------------------------------------------------------------------------------------------------------------------------------------------------------------------------------------------------------------------------------------------------------------------------------------------------------------------------------------------------------------------------------------------------------------------------------------------------------------------------------------------------------------------------------------------------------------------------------------------------------------------------------------------------------------------------------------------------------------------------------------------------------------------------------------------------------------------------------+--------------------------------------------------------------------------------------------------------------------------------------------------------------------------------------------------------------------------------------------------------------------------------------------------------------------------------+--------------+\n|Check out Northside Hospital -Atlanta, Piedmont Atlanta and Emory University Hospital. All good quality and Northside is always awarded \"best places to work\" nationally. I have some friends that joined their Choice+ program in the past year which is basically an internal agency cont act and can get pretty lucrative and you're a hospital employee so get healthcare and are eligible for their pension. Heard the charting and audits of charting suck though. Mid to upper $30's- high $40's I believe is average. Their Choice+ can be up in the $60-70s if in the right specialty \\n\\nPiedmont Atlanta just opened up a new CVICU and has recently expanded it's transplant services. I know over the winter they had sign on bonuses still to get the new units up and running.\\n\\nEmory has always been known for good neurology/neurosurgery services. Otherwise specialties are at least average if not better than. \\n\\nGrady for trauma and I heard they are paying around $50/hr in some unit,  but that's hearsay and haven't confirmed. I used to work there and it's exciting and great experience but hard work. They used to not pay so well but apparently are paying better now at least. \\n\\nWellstar Kennestone or Gwinnett are decent places. Northeast GA if you want to be a little further north of the city.\\n\\nI'm at a nonprofit private hospital that I'd rather name privately but if you're interested would be happy to share via DM. We have set schedules. No weekend commitment or you work weekends but not both typically unless desired that way. If you're not weekends the only weekends you'll ever work is potentially during 3 weeks of holiday schedule. I'm part time float now here and choose to work a weekend day for childcare reasons and get paid $56.49/hr, and $61.49 on my weekend day. Get an annual bonus and 50% 403b matching with no % salary cap. Only capped by IRS contribution limits. Just came off a PRN internal contract in the ICU where I was making $75.50/hr for weekend dayshift. \\n\\nI'm north of ATL in a good area. Typically north of I-20 is better than south. In the city I can't speak to, never lived in the city but it's mixed. Some great, some horrible. Outside the city look at Marietta, Kennesaw, Vinings, Alpharetta, Canton, Roswell, Woodstock, and Duluth. Going west of the city outside the perimeter turns very country very quickly. Land and farm, but worse schools. Going east has some bad areas and gets more rural but has some good spots too\\n\\nI grew up south of ATL. It's generally pretty country further out and population growth is still booming. Some bad spots too though and closer to the city are some dangerous areas littered with crime and gang activity.|[negative, negative, positive, negative, positive, negative, negative, negative, negative, negative, negative, negative, positive, positive, positive, positive, positive, positive, negative, negative, negative, positive, positive, negative, negative, negative, negative, positive, negative, positive, positive, negative]|-0.1875       |\n|I had something similar and managed to get it to go away completely. I had it for a few months and got it to completely disappear within a few weeks. \\n\\nI applied castor oil directly to the area every night. \\n\\nGive it a try!                                                                                                                                                                                                                                                                                                                                                                                                                                                                                                                                                                                                                                                                                                                                                                                                                                                                                                                                                                                                                                                                                                                                                                                                                                                                                                                                                                                                                                                                                                                                                                                                                                                                                                                                                                                                                                                                                                                                                                                                                                                                                                                                                                                                                                                                                                                                                                                                                                                                                                                                                         |[positive, positive, positive, positive]                                                                                                                                                                                                                                                                                        |1.0           |\n|That's an insulting offer, and I'm a LPN. Out here in Colorado, I am currently applying for jobs and not even applying for ones that are under $38/hour. I feel confident I can get $40+/hour based on what I am finding \\n\\nI really believe that the people making these decisions on how much to pay are 1) not nurses and 2) either do not understand numbers or expect us to not understand numbers. I told the Program Director of the clinic I left not long ago just that when she (and her superiors) offered me a Nurse Supervisor position for $70k/year salary, and that the burritos her boss occasionally gave us nurses meant nothing to me for above and beyond work I did. I told her I made far more with the little OT I got, and so refused, and backed out of the self imposed responsibilities I took on myself as interim nurse supervisor (since there was an absence of one). Her retaliation was hilarious, and so I promptly quit and am now finding these higher paying jobs I mentioned above. It should be noted that the PD and those above her were not nurses, or even medical professionals, though I am sure my fellow nurses arent surprised. \\n\\nI also believe that, though I am a male nurse, that much of the low balling that is done towards nurses is because it's a female dominated industry.  I feel that those who run it  believe (amoraly) that they can take advantage of the women in the industry and that they won't stick up for themselves. I say hell with that, and often try to advocate not just for myself but also my coworkers; like what I did at the clinic I just left. I've only been a nurse for 9 years, but I got sick real quick  how my colleagues were taken advantage of because of the inherent good nature nurses generally have; I feel like I have witnessed enough in my career to confidently say this. \\n\\nI encourage everyone to speak out and call out poor compensation for the utterly necessary work that we all do. While they are free to offer whatever they want for the position, we are also free to laugh in their faces and point out what an insult it is. It's really not that hard to do once you do it a few times. Remember, we are the ones in demand due to shortages, they're the shitty job offers that are a dime a dozen.                                                                                                                                                                                                                                                                                                                                                                                                                                                          |[positive, negative, negative, negative, negative, negative, negative, positive, positive, positive, negative, negative, negative, positive, positive, positive, negative, positive]                                                                                                                                            |-0.11111111   |\n|Yeah sorry, it was my mistake. I meant to say donating blood not getting blood drawn.                                                                                                                                                                                                                                                                                                                                                                                                                                                                                                                                                                                                                                                                                                                                                                                                                                                                                                                                                                                                                                                                                                                                                                                                                                                                                                                                                                                                                                                                                                                                                                                                                                                                                                                                                                                                                                                                                                                                                                                                                                                                                                                                                                                                                                                                                                                                                                                                                                                                                                                                                                                                                                                                                                       |[positive, negative]                                                                                                                                                                                                                                                                                                            |0.0           |\n|I see my colorectal dr tomorrow. My disease is mostly down low. :(                                                                                                                                                                                                                                                                                                                                                                                                                                                                                                                                                                                                                                                                                                                                                                                                                                                                                                                                                                                                                                                                                                                                                                                                                                                                                                                                                                                                                                                                                                                                                                                                                                                                                                                                                                                                                                                                                                                                                                                                                                                                                                                                                                                                                                                                                                                                                                                                                                                                                                                                                                                                                                                                                                                          |[negative, positive, na]                                                                                                                                                                                                                                                                                                        |0.0           |\n|The couple of random CHIN HAIRS that I have made it all the way through chemo. WTF.                                                                                                                                                                                                                                                                                                                                                                                                                                                                                                                                                                                                                                                                                                                                                                                                                                                                                                                                                                                                                                                                                                                                                                                                                                                                                                                                                                                                                                                                                                                                                                                                                                                                                                                                                                                                                                                                                                                                                                                                                                                                                                                                                                                                                                                                                                                                                                                                                                                                                                                                                                                                                                                                                                         |[negative, negative]                                                                                                                                                                                                                                                                                                            |-1.0          |\n|I’ve encountered a super similar experience during my time on orientation. I work on a cardiac step down unit. My main preceptor for my day shifts would do practically everything and had me watch a lot of the times. She’d go back and do assessments after I did mine. She’d come to the med room with me as I grabbed my meds. She’s be in the room or outside the pt’s room as I was in there. I’d ask her to do things that I should be doing on my own and she’d go ahead and do it. I was on my 10th wk of orientation and the nurse educator had me bounce around w other preceptors and I THRIVED. I extended my orientation by a couple wks as well. Maybe it’s just your preceptor! I felt extremely incompetent but I’m slowly getting the hang of things now. Try your best to advocate for yourself! You deserve an awesome preceptor. You deserve to feel confident in your abilities as a nurse and the right preceptor can really make or break your learning.                                                                                                                                                                                                                                                                                                                                                                                                                                                                                                                                                                                                                                                                                                                                                                                                                                                                                                                                                                                                                                                                                                                                                                                                                                                                                                                                                                                                                                                                                                                                                                                                                                                                                                                                                                                                           |[negative, negative, positive, positive, negative, positive, positive, positive, positive, negative, negative, positive, positive, positive]                                                                                                                                                                                    |0.2857143     |\n|I 100% agree with you. It was so cringy to be called “heroes” during the pandemic. People shouldn’t shame nurses when they ask for raises, safe working environment, better management/benefits, etc. it’s a job, not a calling. No one is called to be abused.                                                                                                                                                                                                                                                                                                                                                                                                                                                                                                                                                                                                                                                                                                                                                                                                                                                                                                                                                                                                                                                                                                                                                                                                                                                                                                                                                                                                                                                                                                                                                                                                                                                                                                                                                                                                                                                                                                                                                                                                                                                                                                                                                                                                                                                                                                                                                                                                                                                                                                                             |[positive, positive, negative, negative]                                                                                                                                                                                                                                                                                        |0.0           |\n|You should not have gotten one in the first place.                                                                                                                                                                                                                                                                                                                                                                                                                                                                                                                                                                                                                                                                                                                                                                                                                                                                                                                                                                                                                                                                                                                                                                                                                                                                                                                                                                                                                                                                                                                                                                                                                                                                                                                                                                                                                                                                                                                                                                                                                                                                                                                                                                                                                                                                                                                                                                                                                                                                                                                                                                                                                                                                                                                                          |[negative]                                                                                                                                                                                                                                                                                                                      |-1.0          |\n|**Your post has been removed due to insufficient demographic information. We require that you provide **AT MINIMUM** your age, approximate height & weight, gender, medications you take, smoking status, previous and current medical issues, duration and location of complaint, and a photo (if it's a skin issue). Please include as many additional details about yourself as you can, so that the users of /r/AskDocs can best assist you.\\n\\n**The most common reason for removal is formatting age and gender wrong! Some ways to get the AutoModerator to accept your post is to include \"male\" , \"female\"or write the two combined as [year][letter], e.g. 22F. Non-binary individuals can use the terms “nonbinary” “afab” or “amab”. There are also several terms for transgender individuals that automoderator will recognize**\\n\\n**DO NOT EDIT THIS POST TO FIX IT!** Please [submit a new post](https://www.reddit.com/r/AskDocs/submit?selftext=true&text=Age%0A%0ASex%0A%0AHeight%0A%0AWeight%0A%0ARace%0A%0ADuration%20of%20complaint%0A%0ALocation%0A%0AAny%20existing%20relevant%20medical%20issues%0A%0ACurrent%20medications%0A%0AInclude%20a%20photo%20if%20relevant) with the required information. This post has been removed and your edits will not be seen.\\n\\n**IF YOUR POST WAS REMOVED IN ERROR,** please post again using the [provided link](https://www.reddit.com/r/AskDocs/submit?selftext=true&text=Age%0A%0ASex%0A%0AHeight%0A%0AWeight%0A%0ARace%0A%0ADuration%20of%20complaint%0A%0ALocation%0A%0AAny%20existing%20relevant%20medical%20issues%0A%0ACurrent%20medications%0A%0AInclude%20a%20photo%20if%20relevant). **DO NOT MESSAGE THE MODS ASKING FOR YOUR POST TO BE FIXED.**\\n\\n**IF YOUR QUESTION IS A DISCUSSION QUESTION AND DOES NOT REQUIRE DEMOGRAPHIC INFORMATION,** please post to our Weekly Discussion/General Questions Thread (sticked post on the front page).\\n\\n*For any further questions, refer to [this recent sticky.](https://www.reddit.com/r/AskDocs/comments/99uupb/required_information_so_your_post_doesnt_get/)*\\n\\n\\n*I am a bot, and this action was performed automatically. Please [contact the moderators of this subreddit](/message/compose/?to=/r/AskDocs) if you have any questions or concerns.*                                                                                                                                                                                                                                                                                                                                                                                                                                                                                                        |[negative, positive, positive, negative, positive, positive, positive, negative, positive, negative, negative, positive, positive, positive]                                                                                                                                                                                    |0.2857143     |\n|Completely agree they should follow protocol and regardless it's a professional setting and everyone deserves to be spoken to respectfully. Don't put up with that shit.  I just don't think all of them at ours know exactly what they're doing with the equipment or work flow in our case. For example, timing out a sample over and over again on their end, losing things, taking way too long on critical testing, and yes I think they legitimately botch some of the perfectly acceptable samples we send and call it \"hemolyzed.\" I absolutely love some of our lab coworkers and they're so incredibly valuable to our team and they frustrate too working with the bad apples.                                                                                                                                                                                                                                                                                                                                                                                                                                                                                                                                                                                                                                                                                                                                                                                                                                                                                                                                                                                                                                                                                                                                                                                                                                                                                                                                                                                                                                                                                                                                                                                                                                                                                                                                                                                                                                                                                                                                                                                                                                                                                                   |[positive, positive, positive, positive]                                                                                                                                                                                                                                                                                        |1.0           |\n|Butt's have oil secretions and feces. The contents of these tells a lot about diet, immune function, stress levels, metabolism, etc.                                                                                                                                                                                                                                                                                                                                                                                                                                                                                                                                                                                                                                                                                                                                                                                                                                                                                                                                                                                                                                                                                                                                                                                                                                                                                                                                                                                                                                                                                                                                                                                                                                                                                                                                                                                                                                                                                                                                                                                                                                                                                                                                                                                                                                                                                                                                                                                                                                                                                                                                                                                                                                                        |[negative, negative]                                                                                                                                                                                                                                                                                                            |-1.0          |\n|I just found I have one too. I'm new to this too. It's pretty scary.                                                                                                                                                                                                                                                                                                                                                                                                                                                                                                                                                                                                                                                                                                                                                                                                                                                                                                                                                                                                                                                                                                                                                                                                                                                                                                                                                                                                                                                                                                                                                                                                                                                                                                                                                                                                                                                                                                                                                                                                                                                                                                                                                                                                                                                                                                                                                                                                                                                                                                                                                                                                                                                                                                                        |[negative, positive, positive]                                                                                                                                                                                                                                                                                                  |0.33333334    |\n|in the mid 2000s I realized that my line of work at the time (IT) was going to kill me - long hours, boredom, stress, sitting at a desk, and long commutes were killing my back, making me depressed and driving me crazy.   \\n\\n  \\nI didn't know what I wanted to do, but I needed a change - something that didn't \\*require\\* a 4 year degree, something that would exercise my body and my mind, and something that I could do on nights (I've always liked night shift).\\n\\nI picked nursing on a whim because it met all those requirements.  My aunt was a nurse and was a miserable person who seemed to hate her life, so I didn't have any good role models in this regard.\\n\\n  \\nMy first night of clinicals I was \\*completely\\* terrified.  my hands were shaking, I know I dropped \\*something\\* important.   At the end of my clinical (4 hours at a time - it was a part-time program) I went and cried in the car... Because I loved it.\\n\\n  \\nI've been a bedside nurse for 14 years now.  All of it on night shift.   I took a 20k pay cut to do it at the time.  I know I can't keep doing bedside nursing forever, but I still like what I do.  2 things to remember:\\n\\n  \\nNursing school is harder than nursing.  by far.\\n\\n  \\nthere are going to be shifts that you go home and absolutely hate your job.   You can do that and still love what you do.                                                                                                                                                                                                                                                                                                                                                                                                                                                                                                                                                                                                                                                                                                                                                                                                                                                                                                                                                                                                                                                                                                                                                                                                                                                                                                                                                                                                       |[negative, positive, negative, negative, positive, positive, negative, positive, negative, positive, negative, negative, positive, negative, negative, positive]                                                                                                                                                                |-0.125        |\n|If you know all your content and just need to review it’s definitely possible. If you forgot all of gen chem and don’t know any bio that’s a big no no.                                                                                                                                                                                                                                                                                                                                                                                                                                                                                                                                                                                                                                                                                                                                                                                                                                                                                                                                                                                                                                                                                                                                                                                                                                                                                                                                                                                                                                                                                                                                                                                                                                                                                                                                                                                                                                                                                                                                                                                                                                                                                                                                                                                                                                                                                                                                                                                                                                                                                                                                                                                                                                     |[negative, positive]                                                                                                                                                                                                                                                                                                            |0.0           |\n|Ultimately, us nurses just get frustrated at the fact we now have more work to do and it's easy to target the messenger and throw blame at them.  \\n\\nYou're doing fine and i feel like it's mostly just frustration being targeted at the wrong person and most nurses, I would hope at least, deep down realize it's really not the laboratory's fault. \\n\\nI'm sure some are just being Melanie's cus they enjoy it though                                                                                                                                                                                                                                                                                                                                                                                                                                                                                                                                                                                                                                                                                                                                                                                                                                                                                                                                                                                                                                                                                                                                                                                                                                                                                                                                                                                                                                                                                                                                                                                                                                                                                                                                                                                                                                                                                                                                                                                                                                                                                                                                                                                                                                                                                                                                                               |[negative, negative, negative]                                                                                                                                                                                                                                                                                                  |-1.0          |\n|I had one the size of a brick once and it was terrible. Was so close to pulling up my pants and waddling to the ER lol                                                                                                                                                                                                                                                                                                                                                                                                                                                                                                                                                                                                                                                                                                                                                                                                                                                                                                                                                                                                                                                                                                                                                                                                                                                                                                                                                                                                                                                                                                                                                                                                                                                                                                                                                                                                                                                                                                                                                                                                                                                                                                                                                                                                                                                                                                                                                                                                                                                                                                                                                                                                                                                                      |[negative, positive]                                                                                                                                                                                                                                                                                                            |0.0           |\n|yeah I see that now, hence why I'm here asking. Only in a sub called askdocs I get downvoted for asking docs. I don't know anything about this, so I was trying to get answers, I might have not understood some of the answers which is why I kept asking but downvoted for asking? I am in computers, not medicine, I do programming, cyber security, AI, adobe suite, etc, If any of you came asking how to close vim or what the symbols #, or !, did in python or json none of us would downvote you for asking. be better docs, be better.                                                                                                                                                                                                                                                                                                                                                                                                                                                                                                                                                                                                                                                                                                                                                                                                                                                                                                                                                                                                                                                                                                                                                                                                                                                                                                                                                                                                                                                                                                                                                                                                                                                                                                                                                                                                                                                                                                                                                                                                                                                                                                                                                                                                                                            |[positive, negative, positive, negative, negative]                                                                                                                                                                                                                                                                              |-0.2          |\n|This has been a relatively new product so it's not been reviewed and deemed legal. It just hasn't quite risen to the level of scrutiny (and possible prosecution) yet, but that might be coming soon. There are more and more stories that have started coming out of them not paying claims, and people being misled as to what obligations they do have towards paying claims. I would actually not sign up for this, even if you are healthy. Better to roll the dice with nothing than to sign up for a program like this.                                                                                                                                                                                                                                                                                                                                                                                                                                                                                                                                                                                                                                                                                                                                                                                                                                                                                                                                                                                                                                                                                                                                                                                                                                                                                                                                                                                                                                                                                                                                                                                                                                                                                                                                                                                                                                                                                                                                                                                                                                                                                                                                                                                                                                                              |[negative, negative, negative, positive, positive]                                                                                                                                                                                                                                                                              |-0.2          |\n|Day to day is different really. There are a lot of meetings. No patient care. Lots of reading protocols. I consent patients onto trial, put orders in for scans, labs, provider appts. Call patients, triage, lots of communication with the PI, the sponsor, and protocol staff. That’s all I can think of for now. Hope that helps :)                                                                                                                                                                                                                                                                                                                                                                                                                                                                                                                                                                                                                                                                                                                                                                                                                                                                                                                                                                                                                                                                                                                                                                                                                                                                                                                                                                                                                                                                                                                                                                                                                                                                                                                                                                                                                                                                                                                                                                                                                                                                                                                                                                                                                                                                                                                                                                                                                                                     |[positive, negative, positive, negative, positive, negative, negative, negative]                                                                                                                                                                                                                                                |-0.25         |\n+--------------------------------------------------------------------------------------------------------------------------------------------------------------------------------------------------------------------------------------------------------------------------------------------------------------------------------------------------------------------------------------------------------------------------------------------------------------------------------------------------------------------------------------------------------------------------------------------------------------------------------------------------------------------------------------------------------------------------------------------------------------------------------------------------------------------------------------------------------------------------------------------------------------------------------------------------------------------------------------------------------------------------------------------------------------------------------------------------------------------------------------------------------------------------------------------------------------------------------------------------------------------------------------------------------------------------------------------------------------------------------------------------------------------------------------------------------------------------------------------------------------------------------------------------------------------------------------------------------------------------------------------------------------------------------------------------------------------------------------------------------------------------------------------------------------------------------------------------------------------------------------------------------------------------------------------------------------------------------------------------------------------------------------------------------------------------------------------------------------------------------------------------------------------------------------------------------------------------------------------------------------------------------------------------------------------------------------------------------------------------------------------------------------------------------------------------------------------------------------------------------------------------------------------------------------------------------------------------------------------------------------------------------------------------------------------------------------------------------------------------------------------------------------------+--------------------------------------------------------------------------------------------------------------------------------------------------------------------------------------------------------------------------------------------------------------------------------------------------------------------------------+--------------+\nonly showing top 20 rows\n\n"
        }
      ],
      "execution_count": 24,
      "metadata": {
        "jupyter": {
          "source_hidden": false,
          "outputs_hidden": false
        },
        "nteract": {
          "transient": {
            "deleting": false
          }
        },
        "gather": {
          "logged": 1733682896468
        }
      }
    }
  ],
  "metadata": {
    "kernelspec": {
      "name": "synapse_pyspark",
      "language": "Python",
      "display_name": "Synapse PySpark"
    },
    "language_info": {
      "name": "python",
      "version": "3.8.0",
      "mimetype": "text/x-python",
      "file_extension": ".py",
      "pygments_lexer": "ipython",
      "codemirror_mode": "ipython",
      "nbconvert_exporter": "python"
    },
    "microsoft": {
      "ms_spell_check": {
        "ms_spell_check_language": "en"
      },
      "host": {
        "AzureML": {
          "notebookHasBeenCompleted": true
        }
      }
    },
    "kernel_info": {
      "name": "synapse_pyspark"
    },
    "nteract": {
      "version": "nteract-front-end@1.0.0"
    }
  },
  "nbformat": 4,
  "nbformat_minor": 2
}