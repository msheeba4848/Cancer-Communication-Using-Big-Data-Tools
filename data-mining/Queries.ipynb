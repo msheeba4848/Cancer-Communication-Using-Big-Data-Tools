{
 "cells": [
  {
   "cell_type": "markdown",
   "id": "7299bd4c-6d80-44d5-8fac-004b8d2836ea",
   "metadata": {},
   "source": [
    "# First Queries\n"
   ]
  },
  {
   "cell_type": "code",
   "execution_count": 34,
   "id": "d98d2998-f462-4560-8f40-68a1c5dd14b8",
   "metadata": {},
   "outputs": [],
   "source": [
    "# Required libraries\n",
    "import boto3\n",
    "import pandas as pd\n",
    "import logging\n",
    "import time"
   ]
  },
  {
   "cell_type": "code",
   "execution_count": 35,
   "id": "4a8dece3-4aca-4d77-b31d-0e0a47b06e3c",
   "metadata": {},
   "outputs": [],
   "source": [
    "logging.basicConfig(format='[%(asctime)s] p%(process)s {%(filename)s:%(lineno)d} %(levelname)s - %(message)s', level=logging.INFO)\n",
    "logger = logging.getLogger(__name__)"
   ]
  },
  {
   "cell_type": "code",
   "execution_count": 36,
   "id": "36fe76f6-ae13-48ae-bd1f-03d68dbad98f",
   "metadata": {},
   "outputs": [],
   "source": [
    "# configuration details \n",
    "SCHEMA_NAME = \"schema_name\"\n",
    "\n",
    "# fill in your net id below.\n",
    "netid = \"ek976\"\n",
    "S3_STAGING_PREFIX = \"data/results\"\n",
    "S3_BUCKET_NAME = f\"athena-{netid}\"\n",
    "S3_STAGING_DIR = f\"s3://{S3_BUCKET_NAME}/{S3_STAGING_PREFIX}/\"\n",
    "S3_OUTPUT_DIRECTORY = \"data\"\n",
    "AWS_REGION = \"us-east-1\""
   ]
  },
  {
   "cell_type": "code",
   "execution_count": 37,
   "id": "441250b4-1904-4646-8acd-c7fd706f09d5",
   "metadata": {},
   "outputs": [],
   "source": [
    "# initialize the Athena client\n",
    "athena_client = boto3.client(\"athena\", region_name=AWS_REGION)"
   ]
  },
  {
   "cell_type": "code",
   "execution_count": 38,
   "id": "206edc15-7d1f-49a5-bfe3-f7c94501bae3",
   "metadata": {},
   "outputs": [],
   "source": [
    "def download_and_load_query_results(client: boto3.client, query_response: dict) -> pd.DataFrame:\n",
    "    \"\"\"Downloads Athena query results to a local CSV and loads it into a Pandas DataFrame.\"\"\"\n",
    "    logger.info(\"Waiting for query to complete...\")\n",
    "    while True:\n",
    "        try:\n",
    "            # Check query completion\n",
    "            result = client.get_query_results(QueryExecutionId=query_response[\"QueryExecutionId\"])\n",
    "            break\n",
    "        except Exception as err:\n",
    "            if \"not yet finished\" in str(err):\n",
    "                time.sleep(0.5)  # Wait a bit longer for large datasets\n",
    "            else:\n",
    "                raise err\n",
    "\n",
    "    # Set up the S3 client to download the results\n",
    "    s3_client = boto3.client(\"s3\", region_name=AWS_REGION)\n",
    "    temp_file_location = \"athena_query_results.csv\"\n",
    "    s3_path = f\"data/results/{query_response['QueryExecutionId']}.csv\"\n",
    "    logger.info(f\"Downloading results from {s3_path} to local file {temp_file_location}\")\n",
    "\n",
    "    # Download the file from S3\n",
    "    s3_client.download_file(S3_BUCKET_NAME, s3_path, temp_file_location)\n",
    "    \n",
    "    # Load CSV into a DataFrame and return it\n",
    "    df = pd.read_csv(temp_file_location)\n",
    "    logger.info(f\"Results loaded, DataFrame shape: {df.shape}\")\n",
    "    return df"
   ]
  },
  {
   "cell_type": "code",
   "execution_count": 39,
   "id": "ddec6409-3668-468e-a454-9643fefdc6e3",
   "metadata": {},
   "outputs": [
    {
     "name": "stderr",
     "output_type": "stream",
     "text": [
      "[2024-11-11 03:34:06,479] p537 {1553365550.py:3} INFO - Waiting for query to complete...\n",
      "[2024-11-11 03:34:06,677] p537 {1553365550.py:19} INFO - Downloading results from data/results/9ca7e0c0-6f88-4e41-a324-616e72ac8266.csv to local file athena_query_results.csv\n",
      "[2024-11-11 03:34:06,778] p537 {1553365550.py:26} INFO - Results loaded, DataFrame shape: (10, 17)\n"
     ]
    },
    {
     "name": "stdout",
     "output_type": "stream",
     "text": [
      "              author author_flair_css_class author_flair_text  \\\n",
      "0         Jozimastar                    NaN               NaN   \n",
      "1        SameCommon3                    NaN               NaN   \n",
      "2    franklyimstoned                    NaN               NaN   \n",
      "3        Warmstar219                    NaN               NaN   \n",
      "4  Massive_Being6115                    NaN               NaN   \n",
      "\n",
      "                                                body  controversiality  \\\n",
      "0                                      Talebi delamo                 0   \n",
      "1  True. He is probably moving the XRT basket. Or...                 0   \n",
      "2  Yea technically. If you want a balanced lifest...                 0   \n",
      "3                Checks and balances no longer exist                 0   \n",
      "4  Você pode achar pra compra no eBay ou na Amazo...                 0   \n",
      "\n",
      "   created_utc distinguished  edited  gilded       id     link_id   parent_id  \\\n",
      "0   1719834838           NaN     NaN       0  lb44ayh  t3_1dsnfn3  t1_lb444pf   \n",
      "1   1719832375           NaN     NaN       0  lb3zox8  t3_1dspudg  t1_lb3wycv   \n",
      "2   1719822073           NaN     NaN       0  lb3kmfn  t3_1dsi056  t3_1dsi056   \n",
      "3   1719849333           NaN     NaN       0  lb55sy8  t3_1dsueha  t1_lb4sf9m   \n",
      "4   1719795809           NaN     NaN       0  lb27ua0  t3_1drt37h  t1_lb0seou   \n",
      "\n",
      "   retrieved_on  score  stickied         subreddit subreddit_id  \n",
      "0    1719834851      1     False      AnarchyChess     t5_2yvry  \n",
      "1    1719832390      9     False  DeepFuckingValue    t5_3q8lpf  \n",
      "2    1719822091      1     False         2007scape     t5_2wbww  \n",
      "3    1719849349      7     False            scotus     t5_2rfsw  \n",
      "4    1719795826      1     False   StardewValleyBR    t5_3mamou  \n"
     ]
    }
   ],
   "source": [
    "# call the function and assign the DataFrame to df\n",
    "df = download_and_load_query_results(athena_client, response)\n",
    "\n",
    "# print the first few rows of df\n",
    "print(df.head())"
   ]
  },
  {
   "cell_type": "code",
   "execution_count": 44,
   "id": "836f3644-80a0-41e3-a896-d58d2cbc86a6",
   "metadata": {},
   "outputs": [
    {
     "name": "stdout",
     "output_type": "stream",
     "text": [
      "<class 'pandas.core.frame.DataFrame'>\n",
      "RangeIndex: 10 entries, 0 to 9\n",
      "Data columns (total 17 columns):\n",
      " #   Column                  Non-Null Count  Dtype  \n",
      "---  ------                  --------------  -----  \n",
      " 0   author                  10 non-null     object \n",
      " 1   author_flair_css_class  1 non-null      object \n",
      " 2   author_flair_text       2 non-null      object \n",
      " 3   body                    10 non-null     object \n",
      " 4   controversiality        10 non-null     int64  \n",
      " 5   created_utc             10 non-null     int64  \n",
      " 6   distinguished           1 non-null      object \n",
      " 7   edited                  0 non-null      float64\n",
      " 8   gilded                  10 non-null     int64  \n",
      " 9   id                      10 non-null     object \n",
      " 10  link_id                 10 non-null     object \n",
      " 11  parent_id               10 non-null     object \n",
      " 12  retrieved_on            10 non-null     int64  \n",
      " 13  score                   10 non-null     int64  \n",
      " 14  stickied                10 non-null     bool   \n",
      " 15  subreddit               10 non-null     object \n",
      " 16  subreddit_id            10 non-null     object \n",
      "dtypes: bool(1), float64(1), int64(5), object(10)\n",
      "memory usage: 1.4+ KB\n",
      "None\n"
     ]
    }
   ],
   "source": [
    "print(df.info())"
   ]
  },
  {
   "cell_type": "code",
   "execution_count": 51,
   "id": "6e9e6e85-6655-4917-994c-73ab3152b7be",
   "metadata": {},
   "outputs": [
    {
     "name": "stdout",
     "output_type": "stream",
     "text": [
      "                 author author_flair_css_class author_flair_text  \\\n",
      "3           Warmstar219                    NaN               NaN   \n",
      "9  BullShit-AdminReddit                    NaN               NaN   \n",
      "1           SameCommon3                    NaN               NaN   \n",
      "2       franklyimstoned                    NaN               NaN   \n",
      "5               bomiyeo                    NaN           nan’s 🍑   \n",
      "\n",
      "                                                body  controversiality  \\\n",
      "3                Checks and balances no longer exist                 0   \n",
      "9  Tới có Chấm điểm công dân như tàu+ thì dân vịt...                 0   \n",
      "1  True. He is probably moving the XRT basket. Or...                 0   \n",
      "2  Yea technically. If you want a balanced lifest...                 0   \n",
      "5  I could see him as a finalist or someone who g...                 0   \n",
      "\n",
      "   created_utc distinguished  edited  gilded       id     link_id   parent_id  \\\n",
      "3   1719849333           NaN     NaN       0  lb55sy8  t3_1dsueha  t1_lb4sf9m   \n",
      "9   1719841633           NaN     NaN       0  lb4jopl  t3_1dsr6m6  t3_1dsr6m6   \n",
      "1   1719832375           NaN     NaN       0  lb3zox8  t3_1dspudg  t1_lb3wycv   \n",
      "2   1719822073           NaN     NaN       0  lb3kmfn  t3_1dsi056  t3_1dsi056   \n",
      "5   1719831346           NaN     NaN       0  lb3xy4f  t3_1dsoesx  t1_lb3wtj4   \n",
      "\n",
      "   retrieved_on  score  stickied          subreddit subreddit_id  \n",
      "3    1719849349      7     False             scotus     t5_2rfsw  \n",
      "9    1719841648      5     False  TroChuyenLinhTinh    t5_4bcops  \n",
      "1    1719832390      9     False   DeepFuckingValue    t5_3q8lpf  \n",
      "2    1719822091      1     False          2007scape     t5_2wbww  \n",
      "5    1719831362      3     False       MasterchefAU     t5_2uhwl  \n"
     ]
    }
   ],
   "source": [
    "print(df.sample(5))"
   ]
  },
  {
   "cell_type": "code",
   "execution_count": 52,
   "id": "3308da63-e458-47fa-a20e-2e3eb931109b",
   "metadata": {},
   "outputs": [
    {
     "name": "stdout",
     "output_type": "stream",
     "text": [
      "author                     0\n",
      "author_flair_css_class     9\n",
      "author_flair_text          8\n",
      "body                       0\n",
      "controversiality           0\n",
      "created_utc                0\n",
      "distinguished              9\n",
      "edited                    10\n",
      "gilded                     0\n",
      "id                         0\n",
      "link_id                    0\n",
      "parent_id                  0\n",
      "retrieved_on               0\n",
      "score                      0\n",
      "stickied                   0\n",
      "subreddit                  0\n",
      "subreddit_id               0\n",
      "dtype: int64\n"
     ]
    }
   ],
   "source": [
    "print(df.isnull().sum())"
   ]
  },
  {
   "cell_type": "code",
   "execution_count": 53,
   "id": "7f297223-b30f-4a7b-b208-b445a4744d37",
   "metadata": {},
   "outputs": [
    {
     "name": "stdout",
     "output_type": "stream",
     "text": [
      "       controversiality   created_utc  edited  gilded  retrieved_on      score\n",
      "count              10.0  1.000000e+01     0.0    10.0  1.000000e+01  10.000000\n",
      "mean                0.0  1.719831e+09     NaN     0.0  1.719831e+09   3.000000\n",
      "std                 0.0  1.441007e+04     NaN     0.0  1.440960e+04   2.981424\n",
      "min                 0.0  1.719796e+09     NaN     0.0  1.719796e+09   1.000000\n",
      "25%                 0.0  1.719829e+09     NaN     0.0  1.719829e+09   1.000000\n",
      "50%                 0.0  1.719834e+09     NaN     0.0  1.719834e+09   1.000000\n",
      "75%                 0.0  1.719838e+09     NaN     0.0  1.719838e+09   4.500000\n",
      "max                 0.0  1.719849e+09     NaN     0.0  1.719849e+09   9.000000\n"
     ]
    }
   ],
   "source": [
    "print(df.describe())"
   ]
  },
  {
   "cell_type": "code",
   "execution_count": 54,
   "id": "d6f43ad7-606e-4753-9f7b-3bcbec5c0c36",
   "metadata": {},
   "outputs": [
    {
     "name": "stdout",
     "output_type": "stream",
     "text": [
      "subreddit\n",
      "AnarchyChess         1\n",
      "DeepFuckingValue     1\n",
      "2007scape            1\n",
      "scotus               1\n",
      "StardewValleyBR      1\n",
      "MasterchefAU         1\n",
      "GoldCoast            1\n",
      "Steam                1\n",
      "WifeWantstoPlay      1\n",
      "TroChuyenLinhTinh    1\n",
      "Name: count, dtype: int64\n"
     ]
    }
   ],
   "source": [
    "print(df['subreddit'].value_counts())"
   ]
  },
  {
   "cell_type": "code",
   "execution_count": 55,
   "id": "50367f77-503b-4bcf-b015-c2f265e13f3a",
   "metadata": {},
   "outputs": [
    {
     "name": "stdout",
     "output_type": "stream",
     "text": [
      "Index(['author', 'author_flair_css_class', 'author_flair_text', 'body',\n",
      "       'controversiality', 'created_utc', 'distinguished', 'edited', 'gilded',\n",
      "       'id', 'link_id', 'parent_id', 'retrieved_on', 'score', 'stickied',\n",
      "       'subreddit', 'subreddit_id'],\n",
      "      dtype='object')\n"
     ]
    }
   ],
   "source": [
    "print(df.columns)"
   ]
  },
  {
   "cell_type": "markdown",
   "id": "30a8c94c-bcf9-42c9-89ec-3da9f7b5c38a",
   "metadata": {},
   "source": [
    "## Sorting Subreddits Relevant to: \n",
    "\n",
    "(A1, B3a, B13), A2b, A3a, A3b\n",
    "\n",
    "* “Frustrating” or “frustrat” and “cancer” (HINTS A2b)\n",
    "* “cancer” and “doctors” or “trust” (i.e. does not “need” to contain trust because trust is included in the NRC sentiment analysis) (HINTS A3a)\n",
    "* “cancer” and “family” or “friends” or “sister” or “brother” or “mother” or “mom” or “father” or “mother” or “cousin” or “aunt” or “uncle” or “trust” (HINTS A3b)\n",
    "\n",
    "HINTS Questions: \n",
    "\n",
    "* SeekCancerInfo: A1 | Have you ever looked for information about cancer from any source?\n",
    "* Electronic2_HealthInfo: B3a | In the past 12 months have you used the Internet to look for health or medical information?\n",
    "* MisleadingHealthInfo: B13 | How much of the health information that you see on social media do you think is false or misleading?\n"
   ]
  },
  {
   "cell_type": "code",
   "execution_count": 62,
   "id": "24c5df4a-ff0a-4b50-82d7-7cee0aae7603",
   "metadata": {},
   "outputs": [
    {
     "name": "stderr",
     "output_type": "stream",
     "text": [
      "[2024-11-11 03:57:08,239] p537 {1841568608.py:20} INFO - {'QueryExecutionId': '3e51bd5f-850a-4666-950a-29d8082cb6da', 'ResponseMetadata': {'RequestId': '804b270c-cba2-4e3a-a045-6b881f95fb36', 'HTTPStatusCode': 200, 'HTTPHeaders': {'date': 'Mon, 11 Nov 2024 03:57:08 GMT', 'content-type': 'application/x-amz-json-1.1', 'content-length': '59', 'connection': 'keep-alive', 'x-amzn-requestid': '804b270c-cba2-4e3a-a045-6b881f95fb36'}, 'RetryAttempts': 0}}\n",
      "[2024-11-11 03:57:08,240] p537 {1553365550.py:3} INFO - Waiting for query to complete...\n",
      "[2024-11-11 03:57:14,034] p537 {1553365550.py:19} INFO - Downloading results from data/results/3e51bd5f-850a-4666-950a-29d8082cb6da.csv to local file athena_query_results.csv\n",
      "[2024-11-11 03:57:14,121] p537 {1553365550.py:26} INFO - Results loaded, DataFrame shape: (25, 17)\n",
      "[2024-11-11 03:57:14,127] p537 {1841568608.py:26} INFO - Results saved to Query_A2b.csv\n",
      "[2024-11-11 03:57:14,128] p537 {1841568608.py:27} INFO - Data fetched and committed in 5.975283861160278s\n"
     ]
    },
    {
     "name": "stdout",
     "output_type": "stream",
     "text": [
      "              author author_flair_css_class author_flair_text  \\\n",
      "0    No-Occasion5142                    NaN               NaN   \n",
      "1  therealstevielong                    NaN               NaN   \n",
      "2         Bored_AF18                    NaN               NaN   \n",
      "3          zombieus1                    NaN               NaN   \n",
      "4        MzOpinion8d         verified-nurse  Registered Nurse   \n",
      "\n",
      "                                                body  controversiality  \\\n",
      "0  I have the same thing lol majority of my frien...                 0   \n",
      "1  brother the world is unfair. some people are b...                 0   \n",
      "2  thank you for pointing out how it’s misunderst...                 0   \n",
      "3  You are not alone... I am a 22y/o and I had my...                 0   \n",
      "4  Yeah, could be a stomach bug, could be cancer ...                 0   \n",
      "\n",
      "   created_utc  distinguished  edited  gilded       id     link_id  \\\n",
      "0   1719793781            NaN     NaN       0  lb22v68  t3_1dsfd3r   \n",
      "1   1719798591            NaN     NaN       0  lb2egrz  t3_1ds8k2r   \n",
      "2   1719799836            NaN     NaN       0  lb2hfa1  t3_1ds3p7j   \n",
      "3   1719802666            NaN     NaN       0  lb2ny5u  t3_1dquy04   \n",
      "4   1719803698            NaN     NaN       0  lb2q6rr  t3_1ds047t   \n",
      "\n",
      "    parent_id  retrieved_on  score  stickied        subreddit subreddit_id  \n",
      "0  t3_1dsfd3r    1719793797      4     False     Sagittarians     t5_2xowx  \n",
      "1  t3_1ds8k2r    1719798606      1     False  selfimprovement     t5_2qmbm  \n",
      "2  t3_1ds3p7j    1719799853      5     False    CrohnsDisease     t5_2s453  \n",
      "3  t3_1dquy04    1719802682      2     False    thyroidcancer     t5_3e8dw  \n",
      "4  t3_1ds047t    1719803715      7     False          AskDocs     t5_2xtuc  \n"
     ]
    }
   ],
   "source": [
    "# query to get comments containing \"frustrat\" and \"cancer\"\n",
    "q = '''\n",
    "SELECT * \n",
    "FROM \"AwsDataCatalog\".\"a05\".\"a05\"\n",
    "WHERE LOWER(\"body\") LIKE '%frustrat%' AND LOWER(\"body\") LIKE '%cancer%'\n",
    "'''\n",
    "\n",
    "# Start the query execution\n",
    "start_time = time.time()\n",
    "response = athena_client.start_query_execution(\n",
    "    QueryString=q,\n",
    "    QueryExecutionContext={\"Database\": SCHEMA_NAME},\n",
    "    ResultConfiguration={\n",
    "        \"OutputLocation\": S3_STAGING_DIR,\n",
    "        \"EncryptionConfiguration\": {\"EncryptionOption\": \"SSE_S3\"},\n",
    "    },\n",
    ")\n",
    "\n",
    "# Fetch and load the results\n",
    "logger.info(response)\n",
    "df_filtered_comments = download_and_load_query_results(athena_client, response)\n",
    "\n",
    "# Save the filtered comments to a CSV file\n",
    "output_file = \"Query_A2b.csv\"\n",
    "df_filtered_comments.to_csv(output_file, index=False)\n",
    "logger.info(f\"Results saved to {output_file}\")\n",
    "logger.info(f\"Data fetched and committed in {time.time() - start_time}s\")\n",
    "\n",
    "# Preview the filtered DataFrame\n",
    "print(df_filtered_comments.head())\n"
   ]
  },
  {
   "cell_type": "code",
   "execution_count": 63,
   "id": "f93c42a9-8f2c-4ec4-a619-dff394de6343",
   "metadata": {},
   "outputs": [
    {
     "name": "stderr",
     "output_type": "stream",
     "text": [
      "[2024-11-11 03:57:45,880] p537 {1344576528.py:21} INFO - {'QueryExecutionId': '51a02f1a-c5dd-48d3-924f-db59f721656d', 'ResponseMetadata': {'RequestId': 'f596f2b4-84b7-4655-b0c8-13fc3521f063', 'HTTPStatusCode': 200, 'HTTPHeaders': {'date': 'Mon, 11 Nov 2024 03:57:45 GMT', 'content-type': 'application/x-amz-json-1.1', 'content-length': '59', 'connection': 'keep-alive', 'x-amzn-requestid': 'f596f2b4-84b7-4655-b0c8-13fc3521f063'}, 'RetryAttempts': 0}}\n",
      "[2024-11-11 03:57:45,881] p537 {1553365550.py:3} INFO - Waiting for query to complete...\n",
      "[2024-11-11 03:57:52,316] p537 {1553365550.py:19} INFO - Downloading results from data/results/51a02f1a-c5dd-48d3-924f-db59f721656d.csv to local file athena_query_results.csv\n",
      "[2024-11-11 03:57:52,404] p537 {1553365550.py:26} INFO - Results loaded, DataFrame shape: (184, 17)\n",
      "[2024-11-11 03:57:52,415] p537 {1344576528.py:27} INFO - Results saved to Query_A3a.csv\n",
      "[2024-11-11 03:57:52,415] p537 {1344576528.py:28} INFO - Data fetched and committed in 6.67172646522522s\n"
     ]
    },
    {
     "name": "stdout",
     "output_type": "stream",
     "text": [
      "                 author author_flair_css_class author_flair_text  \\\n",
      "0         tropical_moss                    NaN               NaN   \n",
      "1         AutoModerator                    NaN               NaN   \n",
      "2   Green_DREAM-lizards                    NaN               NaN   \n",
      "3      Low-Addendum9282                    NaN               NaN   \n",
      "4  Reinmaindiewithglory                    NaN               NaN   \n",
      "\n",
      "                                                body  controversiality  \\\n",
      "0  This pisses me off so much. I’m a stage IV can...                 0   \n",
      "1  We're sorry to hear that you need to visit thi...                 0   \n",
      "2  No. It is your opinion.  Vegans NEED to supple...                 0   \n",
      "3  Science has long been our go-to for unraveling...                 0   \n",
      "4  I set aside half in case of taxes then I move ...                 0   \n",
      "\n",
      "   created_utc distinguished  edited  gilded       id     link_id   parent_id  \\\n",
      "0   1719801439           NaN     NaN       0  lb2l5k0  t3_1drvfz5  t1_layjsjd   \n",
      "1   1719801443     moderator     NaN       0  lb2l5wi  t3_1dsibe7  t3_1dsibe7   \n",
      "2   1719801632           NaN     NaN       0  lb2llds  t3_1dppdgz  t1_lb1hbzu   \n",
      "3   1719802089           NaN     NaN       0  lb2mmwd  t3_1dseqza  t1_lb2la3k   \n",
      "4   1719802421           NaN     NaN       0  lb2ndy1  t3_1drzkt8  t3_1drzkt8   \n",
      "\n",
      "   retrieved_on  score  stickied              subreddit subreddit_id  \n",
      "0    1719801455      4     False     MedicalCannabisAus    t5_2ojf76  \n",
      "1    1719801459      1      True    doihavebreastcancer    t5_6v6lvj  \n",
      "2    1719801647      1     False               exvegans    t5_109235  \n",
      "3    1719802104      3     False                   GenZ     t5_2tz25  \n",
      "4    1719802441      1     False  hypotheticalsituation     t5_2uccy  \n"
     ]
    }
   ],
   "source": [
    "# Query to get comments containing \"cancer\" and either \"doctors\" or \"trust\"\n",
    "q = '''\n",
    "SELECT * \n",
    "FROM \"AwsDataCatalog\".\"a05\".\"a05\"\n",
    "WHERE LOWER(\"body\") LIKE '%cancer%' \n",
    "  AND (LOWER(\"body\") LIKE '%doctors%' OR LOWER(\"body\") LIKE '%trust%')\n",
    "'''\n",
    "\n",
    "# Start the query execution\n",
    "start_time = time.time()\n",
    "response = athena_client.start_query_execution(\n",
    "    QueryString=q,\n",
    "    QueryExecutionContext={\"Database\": SCHEMA_NAME},\n",
    "    ResultConfiguration={\n",
    "        \"OutputLocation\": S3_STAGING_DIR,\n",
    "        \"EncryptionConfiguration\": {\"EncryptionOption\": \"SSE_S3\"},\n",
    "    },\n",
    ")\n",
    "\n",
    "# Fetch and load the results\n",
    "logger.info(response)\n",
    "df_filtered_comments = download_and_load_query_results(athena_client, response)\n",
    "\n",
    "# Save the filtered comments to a CSV file\n",
    "output_file = \"Query_A3a.csv\"\n",
    "df_filtered_comments.to_csv(output_file, index=False)\n",
    "logger.info(f\"Results saved to {output_file}\")\n",
    "logger.info(f\"Data fetched and committed in {time.time() - start_time}s\")\n",
    "\n",
    "# Preview the filtered DataFrame\n",
    "print(df_filtered_comments.head())\n"
   ]
  },
  {
   "cell_type": "code",
   "execution_count": 64,
   "id": "795d06f6-57d3-4e75-9269-0c7e999b91f1",
   "metadata": {},
   "outputs": [
    {
     "name": "stderr",
     "output_type": "stream",
     "text": [
      "[2024-11-11 03:58:03,302] p537 {1649558915.py:33} INFO - {'QueryExecutionId': '50520700-e02b-4b38-85f4-fb24b7a368d9', 'ResponseMetadata': {'RequestId': '84624bc4-35a3-4800-9e88-ee68b8039c6e', 'HTTPStatusCode': 200, 'HTTPHeaders': {'date': 'Mon, 11 Nov 2024 03:58:03 GMT', 'content-type': 'application/x-amz-json-1.1', 'content-length': '59', 'connection': 'keep-alive', 'x-amzn-requestid': '84624bc4-35a3-4800-9e88-ee68b8039c6e'}, 'RetryAttempts': 0}}\n",
      "[2024-11-11 03:58:03,303] p537 {1553365550.py:3} INFO - Waiting for query to complete...\n",
      "[2024-11-11 03:58:09,360] p537 {1553365550.py:19} INFO - Downloading results from data/results/50520700-e02b-4b38-85f4-fb24b7a368d9.csv to local file athena_query_results.csv\n",
      "[2024-11-11 03:58:09,455] p537 {1553365550.py:26} INFO - Results loaded, DataFrame shape: (884, 17)\n",
      "[2024-11-11 03:58:09,493] p537 {1649558915.py:39} INFO - Results saved to Query_A3b.csv\n",
      "[2024-11-11 03:58:09,494] p537 {1649558915.py:40} INFO - Data fetched and committed in 6.271023750305176s\n"
     ]
    },
    {
     "name": "stdout",
     "output_type": "stream",
     "text": [
      "                 author author_flair_css_class author_flair_text  \\\n",
      "0   Spare-Patience-6195                    NaN               NaN   \n",
      "1  Street_Hedgehog_9595                   cath          Catholic   \n",
      "2     got_knee_gas_enit                    NaN               NaN   \n",
      "3  Spiritual-Freedom-71                    NaN               NaN   \n",
      "4    Infamous-Area-2964                    NaN          DMs open   \n",
      "\n",
      "                                                body  controversiality  \\\n",
      "0  Oh wow! You might be right. I didn’t think abo...                 0   \n",
      "1  To win, you need to make it your number one go...                 0   \n",
      "2  Thanks so much.... that's kind.  Sometimes you...                 0   \n",
      "3  Thank you so much for your comment and support...                 0   \n",
      "4  hang yourself n1gger 😛 if that's not working t...                 0   \n",
      "\n",
      "   created_utc distinguished  edited  gilded       id     link_id   parent_id  \\\n",
      "0   1719792014           NaN     NaN       0  lb1ylx2  t3_1dsbt6r  t1_lb1uv92   \n",
      "1   1719792034           NaN     NaN       0  lb1ynpf  t3_1dseiwd  t3_1dseiwd   \n",
      "2   1719792065           NaN     NaN       0  lb1yqef  t3_1ds9oid  t1_lb1xqzb   \n",
      "3   1719792153           NaN     NaN       0  lb1yxvo  t3_1ds0a0h  t1_lb11h71   \n",
      "4   1719792175           NaN     NaN       0  lb1yzsy  t3_1dsexxj  t3_1dsexxj   \n",
      "\n",
      "   retrieved_on  score  stickied          subreddit subreddit_id  \n",
      "0    1719792031      2     False          AskReddit     t5_2qh1i  \n",
      "1    1719792049      1     False       Christianity     t5_2qh6c  \n",
      "2    1719792081      3     False   VaxRecoveryGroup    t5_6htcnz  \n",
      "3    1719792170      1     False  endometrialcancer    t5_6z1tmw  \n",
      "4    1719792189      1     False     JerkOffToAnime    t5_423j4p  \n"
     ]
    }
   ],
   "source": [
    "# Query to get comments containing \"cancer\" and any of the specified family-related terms or \"trust\"\n",
    "q = '''\n",
    "SELECT * \n",
    "FROM \"AwsDataCatalog\".\"a05\".\"a05\"\n",
    "WHERE LOWER(\"body\") LIKE '%cancer%' \n",
    "  AND (\n",
    "      LOWER(\"body\") LIKE '%family%' \n",
    "      OR LOWER(\"body\") LIKE '%friends%' \n",
    "      OR LOWER(\"body\") LIKE '%sister%' \n",
    "      OR LOWER(\"body\") LIKE '%brother%' \n",
    "      OR LOWER(\"body\") LIKE '%mother%' \n",
    "      OR LOWER(\"body\") LIKE '%mom%' \n",
    "      OR LOWER(\"body\") LIKE '%father%' \n",
    "      OR LOWER(\"body\") LIKE '%cousin%' \n",
    "      OR LOWER(\"body\") LIKE '%aunt%' \n",
    "      OR LOWER(\"body\") LIKE '%uncle%' \n",
    "      OR LOWER(\"body\") LIKE '%trust%'\n",
    "  )\n",
    "'''\n",
    "\n",
    "# Start the query execution\n",
    "start_time = time.time()\n",
    "response = athena_client.start_query_execution(\n",
    "    QueryString=q,\n",
    "    QueryExecutionContext={\"Database\": SCHEMA_NAME},\n",
    "    ResultConfiguration={\n",
    "        \"OutputLocation\": S3_STAGING_DIR,\n",
    "        \"EncryptionConfiguration\": {\"EncryptionOption\": \"SSE_S3\"},\n",
    "    },\n",
    ")\n",
    "\n",
    "# Fetch and load the results\n",
    "logger.info(response)\n",
    "df_filtered_comments = download_and_load_query_results(athena_client, response)\n",
    "\n",
    "# Save the filtered comments to a CSV file\n",
    "output_file = \"Query_A3b.csv\"\n",
    "df_filtered_comments.to_csv(output_file, index=False)\n",
    "logger.info(f\"Results saved to {output_file}\")\n",
    "logger.info(f\"Data fetched and committed in {time.time() - start_time}s\")\n",
    "\n",
    "# Preview the filtered DataFrame\n",
    "print(df_filtered_comments.head())\n"
   ]
  }
 ],
 "metadata": {
  "kernelspec": {
   "display_name": "Python 3 (ipykernel)",
   "language": "python",
   "name": "python3"
  },
  "language_info": {
   "codemirror_mode": {
    "name": "ipython",
    "version": 3
   },
   "file_extension": ".py",
   "mimetype": "text/x-python",
   "name": "python",
   "nbconvert_exporter": "python",
   "pygments_lexer": "ipython3",
   "version": "3.11.10"
  }
 },
 "nbformat": 4,
 "nbformat_minor": 5
}
